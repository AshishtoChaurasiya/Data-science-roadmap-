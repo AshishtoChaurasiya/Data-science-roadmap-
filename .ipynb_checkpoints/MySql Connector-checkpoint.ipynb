{
 "cells": [
  {
   "cell_type": "code",
   "execution_count": 1,
   "id": "02abbe75",
   "metadata": {},
   "outputs": [],
   "source": [
    "import mysql.connector"
   ]
  },
  {
   "cell_type": "code",
   "execution_count": 2,
   "id": "799feb8a",
   "metadata": {},
   "outputs": [],
   "source": [
    "class DBhepler:\n",
    "    def __init__(self):\n",
    "        try:\n",
    "            \n",
    "            self.conn= mysql.connector.connect(host=\"localhost\",username=\"root\", password =\"Root@123\",database=\"youngman\")\n",
    "            self.mycursor = self.conn.cursor()\n",
    "        except:\n",
    "            print(\"Connected the Database\")\n",
    "        else:\n",
    "            print(\"Some occured. Could not connect to database\")\n",
    "    "
   ]
  },
  {
   "cell_type": "code",
   "execution_count": null,
   "id": "4b2bb48d",
   "metadata": {},
   "outputs": [],
   "source": []
  }
 ],
 "metadata": {
  "kernelspec": {
   "display_name": "Python 3 (ipykernel)",
   "language": "python",
   "name": "python3"
  },
  "language_info": {
   "codemirror_mode": {
    "name": "ipython",
    "version": 3
   },
   "file_extension": ".py",
   "mimetype": "text/x-python",
   "name": "python",
   "nbconvert_exporter": "python",
   "pygments_lexer": "ipython3",
   "version": "3.8.10"
  }
 },
 "nbformat": 4,
 "nbformat_minor": 5
}
