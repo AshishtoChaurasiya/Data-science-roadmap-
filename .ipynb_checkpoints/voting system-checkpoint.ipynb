{
 "cells": [
  {
   "cell_type": "code",
   "execution_count": 1,
   "id": "81ccd30c",
   "metadata": {},
   "outputs": [],
   "source": [
    "# first we will take input of what nominee what we want to keep"
   ]
  },
  {
   "cell_type": "code",
   "execution_count": 2,
   "id": "38c221e7",
   "metadata": {},
   "outputs": [
    {
     "name": "stdout",
     "output_type": "stream",
     "text": [
      "Enter the name of 1st nominee: 1\n"
     ]
    }
   ],
   "source": [
    "nominee1 = input(\"Enter the name of 1st nominee: \")"
   ]
  },
  {
   "cell_type": "markdown",
   "id": "f9c17eaf",
   "metadata": {},
   "source": [
    "#### nominee2 = input(\"Enter the name of 2nd nominee: \")"
   ]
  },
  {
   "cell_type": "code",
   "execution_count": 3,
   "id": "7e31136c",
   "metadata": {},
   "outputs": [],
   "source": [
    "# initially vote count for both must be 0\n",
    "nm1_votes = 0\n",
    "nm2_votes = 0"
   ]
  },
  {
   "cell_type": "code",
   "execution_count": 4,
   "id": "50a9e56c",
   "metadata": {},
   "outputs": [],
   "source": [
    "voter_id = [1,2,3,4,5,6,7,8,9,10]"
   ]
  },
  {
   "cell_type": "code",
   "execution_count": 5,
   "id": "c4e7f8a0",
   "metadata": {},
   "outputs": [],
   "source": [
    "no_of_voter = len(voter_id)"
   ]
  },
  {
   "cell_type": "code",
   "execution_count": 7,
   "id": "b3ad3e41",
   "metadata": {},
   "outputs": [
    {
     "name": "stdout",
     "output_type": "stream",
     "text": [
      "Enter the name of 1st nominee: Ashish\n",
      "Enter the name of 2nd nominee: Aman\n",
      "Enter your voter id : 12312\n",
      "Enter your voter id : 12121\n",
      "Enter your voter id : 23232\n",
      "Enter your voter id : 23123\n",
      "Enter your voter id : 123123\n",
      "Enter your voter id : 12313\n",
      "Enter your voter id : 123132\n",
      "Enter your voter id : 453242\n",
      "Enter your voter id : 23424\n",
      "Enter your voter id : 3452432\n",
      "Enter your voter id : 234243\n",
      "Enter your voter id : 234243\n",
      "Enter your voter id : 234\n",
      "Enter your voter id : 42\n",
      "Enter your voter id : 432\n",
      "Enter your voter id : 32\n",
      "Enter your voter id : 24324324\n",
      "Enter your voter id : 2342\n",
      "Enter your voter id : 342\n",
      "Enter your voter id : 32432\n",
      "Enter your voter id : 4324\n",
      "Enter your voter id : 42\n",
      "Enter your voter id : 423432\n",
      "Enter your voter id : 432\n",
      "Enter your voter id : 324\n",
      "Enter your voter id : 32432\n",
      "Enter your voter id : 4324324\n",
      "Enter your voter id : 2342\n",
      "Enter your voter id : 423423423\n",
      "Enter your voter id : 234234234\n",
      "Enter your voter id : 234243\n",
      "Enter your voter id : 234234234\n",
      "Enter your voter id : 2342342\n",
      "Enter your voter id : 234243234\n",
      "Enter your voter id : 23423423\n",
      "Enter your voter id : 234243234\n",
      "Enter your voter id : 2342432\n",
      "Enter your voter id : 2342432\n",
      "Enter your voter id : 2342432\n",
      "Enter your voter id : 234243\n",
      "Enter your voter id : 12312\n",
      "Enter your voter id : 12312\n",
      "Enter your voter id : 12312\n",
      "Enter your voter id : 12312\n",
      "Enter your voter id : 12312\n",
      "Enter your voter id : 12312\n",
      "Enter your voter id : 12312\n",
      "Enter your voter id : 12312\n",
      "Enter your voter id : 12312\n",
      "Enter your voter id : 12312\n",
      "Enter your voter id : 12312\n"
     ]
    },
    {
     "ename": "KeyboardInterrupt",
     "evalue": "Interrupted by user",
     "output_type": "error",
     "traceback": [
      "\u001b[0;31m---------------------------------------------------------------------------\u001b[0m",
      "\u001b[0;31mKeyboardInterrupt\u001b[0m                         Traceback (most recent call last)",
      "Input \u001b[0;32mIn [7]\u001b[0m, in \u001b[0;36m<cell line: 8>\u001b[0;34m()\u001b[0m\n\u001b[1;32m     19\u001b[0m         \u001b[38;5;28mprint\u001b[39m(\u001b[38;5;124m\"\u001b[39m\u001b[38;5;124mBoth have equal number of votes !!! Government will decided who will rule\u001b[39m\u001b[38;5;124m\"\u001b[39m)\n\u001b[1;32m     20\u001b[0m         \u001b[38;5;28;01mbreak\u001b[39;00m\n\u001b[0;32m---> 23\u001b[0m voter \u001b[38;5;241m=\u001b[39m \u001b[38;5;28mint\u001b[39m(\u001b[38;5;28;43minput\u001b[39;49m\u001b[43m(\u001b[49m\u001b[38;5;124;43m\"\u001b[39;49m\u001b[38;5;124;43mEnter your voter id : \u001b[39;49m\u001b[38;5;124;43m\"\u001b[39;49m\u001b[43m)\u001b[49m)\n\u001b[1;32m     24\u001b[0m \u001b[38;5;28;01mif\u001b[39;00m voter \u001b[38;5;129;01min\u001b[39;00m voter_id:\n\u001b[1;32m     25\u001b[0m     \u001b[38;5;28mprint\u001b[39m(\u001b[38;5;124m\"\u001b[39m\u001b[38;5;124mYou are a voter\u001b[39m\u001b[38;5;124m\"\u001b[39m)\n",
      "File \u001b[0;32m~/.local/lib/python3.8/site-packages/ipykernel/kernelbase.py:1161\u001b[0m, in \u001b[0;36mKernel.raw_input\u001b[0;34m(self, prompt)\u001b[0m\n\u001b[1;32m   1157\u001b[0m \u001b[38;5;28;01mif\u001b[39;00m \u001b[38;5;129;01mnot\u001b[39;00m \u001b[38;5;28mself\u001b[39m\u001b[38;5;241m.\u001b[39m_allow_stdin:\n\u001b[1;32m   1158\u001b[0m     \u001b[38;5;28;01mraise\u001b[39;00m StdinNotImplementedError(\n\u001b[1;32m   1159\u001b[0m         \u001b[38;5;124m\"\u001b[39m\u001b[38;5;124mraw_input was called, but this frontend does not support input requests.\u001b[39m\u001b[38;5;124m\"\u001b[39m\n\u001b[1;32m   1160\u001b[0m     )\n\u001b[0;32m-> 1161\u001b[0m \u001b[38;5;28;01mreturn\u001b[39;00m \u001b[38;5;28;43mself\u001b[39;49m\u001b[38;5;241;43m.\u001b[39;49m\u001b[43m_input_request\u001b[49m\u001b[43m(\u001b[49m\n\u001b[1;32m   1162\u001b[0m \u001b[43m    \u001b[49m\u001b[38;5;28;43mstr\u001b[39;49m\u001b[43m(\u001b[49m\u001b[43mprompt\u001b[49m\u001b[43m)\u001b[49m\u001b[43m,\u001b[49m\n\u001b[1;32m   1163\u001b[0m \u001b[43m    \u001b[49m\u001b[38;5;28;43mself\u001b[39;49m\u001b[38;5;241;43m.\u001b[39;49m\u001b[43m_parent_ident\u001b[49m\u001b[43m[\u001b[49m\u001b[38;5;124;43m\"\u001b[39;49m\u001b[38;5;124;43mshell\u001b[39;49m\u001b[38;5;124;43m\"\u001b[39;49m\u001b[43m]\u001b[49m\u001b[43m,\u001b[49m\n\u001b[1;32m   1164\u001b[0m \u001b[43m    \u001b[49m\u001b[38;5;28;43mself\u001b[39;49m\u001b[38;5;241;43m.\u001b[39;49m\u001b[43mget_parent\u001b[49m\u001b[43m(\u001b[49m\u001b[38;5;124;43m\"\u001b[39;49m\u001b[38;5;124;43mshell\u001b[39;49m\u001b[38;5;124;43m\"\u001b[39;49m\u001b[43m)\u001b[49m\u001b[43m,\u001b[49m\n\u001b[1;32m   1165\u001b[0m \u001b[43m    \u001b[49m\u001b[43mpassword\u001b[49m\u001b[38;5;241;43m=\u001b[39;49m\u001b[38;5;28;43;01mFalse\u001b[39;49;00m\u001b[43m,\u001b[49m\n\u001b[1;32m   1166\u001b[0m \u001b[43m\u001b[49m\u001b[43m)\u001b[49m\n",
      "File \u001b[0;32m~/.local/lib/python3.8/site-packages/ipykernel/kernelbase.py:1205\u001b[0m, in \u001b[0;36mKernel._input_request\u001b[0;34m(self, prompt, ident, parent, password)\u001b[0m\n\u001b[1;32m   1202\u001b[0m             \u001b[38;5;28;01mbreak\u001b[39;00m\n\u001b[1;32m   1203\u001b[0m \u001b[38;5;28;01mexcept\u001b[39;00m \u001b[38;5;167;01mKeyboardInterrupt\u001b[39;00m:\n\u001b[1;32m   1204\u001b[0m     \u001b[38;5;66;03m# re-raise KeyboardInterrupt, to truncate traceback\u001b[39;00m\n\u001b[0;32m-> 1205\u001b[0m     \u001b[38;5;28;01mraise\u001b[39;00m \u001b[38;5;167;01mKeyboardInterrupt\u001b[39;00m(\u001b[38;5;124m\"\u001b[39m\u001b[38;5;124mInterrupted by user\u001b[39m\u001b[38;5;124m\"\u001b[39m) \u001b[38;5;28;01mfrom\u001b[39;00m \u001b[38;5;28mNone\u001b[39m\n\u001b[1;32m   1206\u001b[0m \u001b[38;5;28;01mexcept\u001b[39;00m \u001b[38;5;167;01mException\u001b[39;00m:\n\u001b[1;32m   1207\u001b[0m     \u001b[38;5;28mself\u001b[39m\u001b[38;5;241m.\u001b[39mlog\u001b[38;5;241m.\u001b[39mwarning(\u001b[38;5;124m\"\u001b[39m\u001b[38;5;124mInvalid Message:\u001b[39m\u001b[38;5;124m\"\u001b[39m, exc_info\u001b[38;5;241m=\u001b[39m\u001b[38;5;28;01mTrue\u001b[39;00m)\n",
      "\u001b[0;31mKeyboardInterrupt\u001b[0m: Interrupted by user"
     ]
    }
   ],
   "source": [
    "nominee1 = input(\"Enter the name of 1st nominee: \")\n",
    "nominee2 = input(\"Enter the name of 2nd nominee: \")\n",
    "nm1_votes = 0\n",
    "nm2_votes = 0\n",
    "voter_id = [1,2,3,4,5,6,7,8,9,10]\n",
    "no_of_voter = len(voter_id)\n",
    "while True:\n",
    "    if voter_id == []: # to check when voter list is completed\n",
    "        print(\"Voting session is over !!!\")\n",
    "        if nm1_votes>nm2_votes:\n",
    "            percent = (nm1_votes/no_of_voter)*100\n",
    "            print(nominee1,\"has won the election with \",percent,\"% of votes\")\n",
    "            break\n",
    "        elif nm2_votes>nm1_votes:\n",
    "            percent=(nm2_votes/no_of_voter)*100\n",
    "            print(nominee2,\"has won the election with\", percent, \"% of votes\")\n",
    "            break\n",
    "        else:\n",
    "            print(\"Both have equal number of votes !!! Government will decided who will rule\")\n",
    "            break\n",
    "            \n",
    "            \n",
    "    voter = int(input(\"Enter your voter id : \"))\n",
    "    if voter in voter_id:\n",
    "        print(\"You are a voter\")\n",
    "        voter_id.remove(voter) #we will remove so that again same voter can't vote\n",
    "        print(\"................................\")\n",
    "        print(\"To give vote to \",nominee1, \"Press 1\")\n",
    "        print(\"To give vote to \",nominee2, \"Press 2\")\n",
    "        vote = int(input(\"Enter your precios vote : \"))\n",
    "        if vote == 1:\n",
    "            nm1_votes +=1\n",
    "            print(nominee1,\"Thanks you to give your important vote to them !!\")\n",
    "        elif vote == 2:\n",
    "            nm2_votes +=1\n",
    "            print(nominee2,\"Thanks you to give your important vote to them !!\")\n",
    "        elif vote > 2:\n",
    "            print(\"Check your pressed key !!\")\n",
    "        else:\n",
    "            print(\"You are not a voter OR You have already voted\")\n",
    "                "
   ]
  },
  {
   "cell_type": "code",
   "execution_count": null,
   "id": "62168249",
   "metadata": {},
   "outputs": [],
   "source": []
  },
  {
   "cell_type": "code",
   "execution_count": null,
   "id": "c5d5fb4c",
   "metadata": {},
   "outputs": [],
   "source": []
  }
 ],
 "metadata": {
  "kernelspec": {
   "display_name": "Python 3 (ipykernel)",
   "language": "python",
   "name": "python3"
  },
  "language_info": {
   "codemirror_mode": {
    "name": "ipython",
    "version": 3
   },
   "file_extension": ".py",
   "mimetype": "text/x-python",
   "name": "python",
   "nbconvert_exporter": "python",
   "pygments_lexer": "ipython3",
   "version": "3.8.10"
  }
 },
 "nbformat": 4,
 "nbformat_minor": 5
}
