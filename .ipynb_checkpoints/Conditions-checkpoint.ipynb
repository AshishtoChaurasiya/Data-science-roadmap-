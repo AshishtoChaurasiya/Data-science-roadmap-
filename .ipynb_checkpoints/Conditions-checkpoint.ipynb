{
 "cells": [
  {
   "cell_type": "code",
   "execution_count": 2,
   "id": "91cf4862",
   "metadata": {},
   "outputs": [
    {
     "name": "stdout",
     "output_type": "stream",
     "text": [
      "Enter the number4\n",
      "Even Number\n"
     ]
    }
   ],
   "source": [
    "# Take a variable x and print \"Even\" if the number is divisible by 2, otherwise print \"Odd\".\n",
    "x = int(input(\"Enter the number\"))\n",
    "if x%2 == 0:\n",
    "    print(\"Even Number\")\n",
    "else:\n",
    "    print(\"Odd Number\")"
   ]
  },
  {
   "cell_type": "code",
   "execution_count": 20,
   "id": "3ab23f1f",
   "metadata": {},
   "outputs": [
    {
     "name": "stdout",
     "output_type": "stream",
     "text": [
      "Enter the number90\n",
      "Grade A\n"
     ]
    }
   ],
   "source": [
    "# Take a variable y and print \"Grade A\" if y is greater than 90, \"Grade \n",
    "y= int(input(\"Enter the number\"))\n",
    "if y >= 90:\n",
    "    print(\"Grade A\")\n",
    "elif y>=60 and y <=90:\n",
    "    print(\"Grade B\")\n",
    "else:\n",
    "    print(\"Grade F\")"
   ]
  },
  {
   "cell_type": "code",
   "execution_count": 21,
   "id": "537a5d95",
   "metadata": {},
   "outputs": [
    {
     "name": "stdout",
     "output_type": "stream",
     "text": [
      "glass\n"
     ]
    }
   ],
   "source": [
    "if 5 > 10:\n",
    "    print(\"fan\")\n",
    "elif 8!=9:\n",
    "    print(\"glass\")\n",
    "else:\n",
    "    print(\"cream\")"
   ]
  },
  {
   "cell_type": "code",
   "execution_count": 23,
   "id": "0561ddde",
   "metadata": {},
   "outputs": [
    {
     "name": "stdout",
     "output_type": "stream",
     "text": [
      "m\n",
      "a\n",
      "r\n",
      "g\n",
      "a\n",
      "r\n",
      "a\n",
      "m\n",
      "a\n",
      "r\n",
      "g\n",
      "a\n",
      "r\n",
      "a\n",
      "m\n",
      "a\n",
      "r\n",
      "g\n",
      "a\n",
      "r\n",
      "a\n",
      "m\n",
      "a\n",
      "r\n",
      "g\n",
      "a\n",
      "r\n",
      "a\n",
      "m\n",
      "a\n",
      "r\n",
      "g\n",
      "a\n",
      "r\n",
      "a\n",
      "m\n",
      "a\n",
      "r\n",
      "g\n",
      "a\n",
      "r\n",
      "a\n"
     ]
    }
   ],
   "source": [
    "a = \"anagra\"\n",
    "b= \"margara\"\n",
    "\n",
    "for i in a:\n",
    "    print(i)\n",
    "    for j in b:"
   ]
  }
 ],
 "metadata": {
  "kernelspec": {
   "display_name": "Python 3 (ipykernel)",
   "language": "python",
   "name": "python3"
  },
  "language_info": {
   "codemirror_mode": {
    "name": "ipython",
    "version": 3
   },
   "file_extension": ".py",
   "mimetype": "text/x-python",
   "name": "python",
   "nbconvert_exporter": "python",
   "pygments_lexer": "ipython3",
   "version": "3.8.10"
  }
 },
 "nbformat": 4,
 "nbformat_minor": 5
}
