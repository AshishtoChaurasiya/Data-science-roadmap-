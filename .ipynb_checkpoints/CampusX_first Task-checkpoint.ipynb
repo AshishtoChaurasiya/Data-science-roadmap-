{
 "cells": [
  {
   "cell_type": "code",
   "execution_count": 1,
   "id": "0b8b9e0f",
   "metadata": {},
   "outputs": [
    {
     "name": "stdout",
     "output_type": "stream",
     "text": [
      "Data-Science-Mentorship-Program-started-By-CampusX\n"
     ]
    }
   ],
   "source": [
    "#Write your code here\n",
    "print(\"Data\",\"Science\",\"Mentorship\",\"Program\",sep='-',end='-started-')\n",
    "print(\"By\",\"CampusX\",sep='-')"
   ]
  },
  {
   "cell_type": "code",
   "execution_count": 2,
   "id": "bcbe53e8",
   "metadata": {},
   "outputs": [
    {
     "name": "stdout",
     "output_type": "stream",
     "text": [
      "enter the temp in celcius43\n",
      "109.4\n"
     ]
    }
   ],
   "source": [
    "# Write a program that will convert celsius value to fahrenheit\n",
    "celcius = float(input('enter the temp in celcius'))\n",
    "faren = celcius * (9/5)+32\n",
    "print(faren)"
   ]
  },
  {
   "cell_type": "code",
   "execution_count": 3,
   "id": "b6b63c24",
   "metadata": {},
   "outputs": [
    {
     "name": "stdout",
     "output_type": "stream",
     "text": [
      "5\n",
      "3\n"
     ]
    }
   ],
   "source": [
    "# Take 2 numbers as input from the user.Write a program to swap the numbers without using any special python syntax\n",
    "a = 3\n",
    "b = 5\n",
    "temp = a\n",
    "a=b\n",
    "b = temp\n",
    "print(a)\n",
    "print(b)"
   ]
  },
  {
   "cell_type": "code",
   "execution_count": 5,
   "id": "303c7b3e",
   "metadata": {},
   "outputs": [
    {
     "name": "stdout",
     "output_type": "stream",
     "text": [
      "enter x coordinate of 1st point4\n",
      "enter y coordinate of 1nd point3\n",
      "enter x coordinate of 2nd point2\n",
      "enter y coordinate of 2nd pint5\n",
      "2.83\n"
     ]
    }
   ],
   "source": [
    "# Write a program to find the eucliden distance between two coordinates. Take both the coordinates from the user as input\n",
    "p1x=int(input('enter x coordinate of 1st point'))\n",
    "p1y = int(input('enter y coordinate of 1nd point'))\n",
    "p2x = int(input('enter x coordinate of 2nd point'))\n",
    "p2y = int(input('enter y coordinate of 2nd pint'))\n",
    "distance = ((p2x - p1x)**2 + (p2y - p1y)**2)**0.5\n",
    "print(round(distance,2))"
   ]
  },
  {
   "cell_type": "code",
   "execution_count": 6,
   "id": "a03c56af",
   "metadata": {},
   "outputs": [
    {
     "name": "stdout",
     "output_type": "stream",
     "text": [
      "Enter amount10000\n",
      "Enter time period2\n",
      "Enter rate18\n",
      "The inteerst is 3600.0\n"
     ]
    }
   ],
   "source": [
    "#Write a program to find the simple interest when the value of principle, rate of interest and time period is provided  by the user.\n",
    "# Hint:si=(p*t*r)/100\n",
    "p = int(input('Enter amount'))\n",
    "t = int(input('Enter time period'))\n",
    "r = float(input('Enter rate'))\n",
    "\n",
    "interest = (p*t*r)/100\n",
    "print(\"The inteerst is\", interest)"
   ]
  },
  {
   "cell_type": "code",
   "execution_count": null,
   "id": "559cfae1",
   "metadata": {},
   "outputs": [],
   "source": [
    "# Write a program that will tell the number of dogs and chicken are there when the user will provide the value of total heads and legs.\n",
    "# for example: Input:heads-> 4 legs -> 12\n",
    "# Outputs: dogs-> 2 chicken -> 2"
   ]
  },
  {
   "cell_type": "code",
   "execution_count": 7,
   "id": "6f34f70a",
   "metadata": {},
   "outputs": [
    {
     "name": "stdout",
     "output_type": "stream",
     "text": [
      "enter the number5\n",
      "55.0\n"
     ]
    }
   ],
   "source": [
    "#write a program to find the sum of sequares of first n natural numbers where n will be provided by the user.\n",
    "# Hint: Thus the sum of the sequence of first n natural numbers = n(n+1)(2n+1)/6\n",
    "n = int(input('enter the number'))\n",
    "result =(n*(n+1)*(2*n+1))/6\n",
    "print(result)"
   ]
  },
  {
   "cell_type": "code",
   "execution_count": 8,
   "id": "dd314aca",
   "metadata": {},
   "outputs": [
    {
     "name": "stdout",
     "output_type": "stream",
     "text": [
      "enter 1st term3\n",
      "enter 2nd term5\n",
      "enter the value of n5\n",
      "11\n"
     ]
    }
   ],
   "source": [
    "# Given the first 2 terms of an Arithmetic Series.Find the Nth term of the series. Assume  all inputs  are privided by the user\n",
    "# Hint: an = a+(n-1)d\n",
    "first_term = int(input('enter 1st term'))\n",
    "second_term = int(input('enter 2nd term'))\n",
    "n = int(input('enter the value of n'))\n",
    "d = second_term -first_term\n",
    "an = first_term+(n-1)*d\n",
    "print(an)"
   ]
  },
  {
   "cell_type": "code",
   "execution_count": 9,
   "id": "81fca405",
   "metadata": {},
   "outputs": [
    {
     "name": "stdout",
     "output_type": "stream",
     "text": [
      "Numerator113\n",
      "Denominator115\n",
      "Numerator213\n",
      "Demoniator213\n",
      "364/195\n"
     ]
    }
   ],
   "source": [
    "# Given 2 fractions, find the sum of those 2 fractions. Take the numerator  and denominator values of the fractions from users\n",
    "n1 = int(input(\"Numerator1\"))\n",
    "d1 = int(input(\"Denominator1\"))\n",
    "n2 = int(input(\"Numerator2\"))\n",
    "d2 = int(input(\"Demoniator2\"))\n",
    "rn = n1*d2 + n2*d1\n",
    "rd = d1*d2\n",
    "\n",
    "print('{}/{}'.format(rn,rd))"
   ]
  },
  {
   "cell_type": "code",
   "execution_count": 10,
   "id": "7d8533e9",
   "metadata": {},
   "outputs": [
    {
     "name": "stdout",
     "output_type": "stream",
     "text": [
      "height10\n",
      "breadth19\n",
      "length10\n",
      "height of glass5\n",
      "radius of the glass5\n",
      "no of glasses 4\n"
     ]
    }
   ],
   "source": [
    "# Given the height, width and breadth of a milk tank, you have to find out how many glasses of milk can be obtained? Assume all the inputs are provoided by th user\n",
    "# Dimensions of the milk tank\n",
    "# H = 20cm, L = 20cm, B = 20cm\n",
    "# Dimensions of the glass\n",
    "# h = 3cm, r = 1cm\n",
    "import math\n",
    "h_t = float(input('height'))\n",
    "b_t = float(input('breadth'))\n",
    "l_t = float(input('length'))\n",
    "\n",
    "h_g = float(input('height of glass'))\n",
    "r_g = float(input('radius of the glass'))\n",
    "\n",
    "vol_tank = h_t*b_t*l_t\n",
    "vol_glass = 3.14*r_g*r_g*h_g\n",
    "print('no of glasses',math.floor(vol_tank/vol_glass))\n",
    "\n",
    "\n"
   ]
  }
 ],
 "metadata": {
  "kernelspec": {
   "display_name": "Python 3 (ipykernel)",
   "language": "python",
   "name": "python3"
  },
  "language_info": {
   "codemirror_mode": {
    "name": "ipython",
    "version": 3
   },
   "file_extension": ".py",
   "mimetype": "text/x-python",
   "name": "python",
   "nbconvert_exporter": "python",
   "pygments_lexer": "ipython3",
   "version": "3.8.10"
  }
 },
 "nbformat": 4,
 "nbformat_minor": 5
}
