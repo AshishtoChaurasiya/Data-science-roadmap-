{
 "cells": [
  {
   "cell_type": "code",
   "execution_count": 2,
   "id": "7d6f748f",
   "metadata": {},
   "outputs": [
    {
     "name": "stdout",
     "output_type": "stream",
     "text": [
      "Enter the number10\n",
      "10\n",
      "20\n",
      "30\n",
      "40\n",
      "50\n",
      "60\n",
      "70\n",
      "80\n",
      "90\n",
      "100\n"
     ]
    }
   ],
   "source": [
    "num=int(input(\"Enter the number\"))\n",
    "i=1\n",
    "while(i<=10):\n",
    "    print(num*i)\n",
    "    i+=1"
   ]
  },
  {
   "cell_type": "code",
   "execution_count": 1,
   "id": "d27b89bc",
   "metadata": {},
   "outputs": [
    {
     "name": "stdout",
     "output_type": "stream",
     "text": [
      "NitiN\n"
     ]
    }
   ],
   "source": [
    "def longpal(str):\n",
    "    res=\"\"\n",
    "    for i in range(len(str)):\n",
    "        temp=check(str,i,i)\n",
    "        if len(temp)>len(res):\n",
    "            res=temp\n",
    "        temp=check(str, i, i+1)\n",
    "        if len(temp) > len(res):\n",
    "            res = temp\n",
    "    return res\n",
    "def check(str,l,r):\n",
    "    while l>=0 and r<len(str) and str[l]==str[r]:\n",
    "        l-=1\n",
    "        r+=1\n",
    "    return str[l+1:r]\n",
    "str=\"NitiN\"\n",
    "print(longpal(str))"
   ]
  },
  {
   "cell_type": "code",
   "execution_count": 11,
   "id": "3c2b056e",
   "metadata": {},
   "outputs": [
    {
     "name": "stdout",
     "output_type": "stream",
     "text": [
      "MCMXCIV Roman to integer 2216\n"
     ]
    }
   ],
   "source": [
    "# Leetcode Roman To Integer Solution Python || Leetcode 13 || Amazon Apple Interview Question\n",
    "dis={\"I\":1,\"V\":5,\"X\":10,\"L\":50,\"C\":100,\"D\":500,\"M\":1000}\n",
    "str=\"MCMXCIV\"\n",
    "prev=0\n",
    "cur=0\n",
    "res=0\n",
    "for i in range(len(str)-1,-1,-1):\n",
    "    cur=dis[str[i]]\n",
    "# print(cur)\n",
    "    if(cur<prev):\n",
    "        res=res-cur\n",
    "    else:\n",
    "        res=res+cur\n",
    "#     print(res)\n",
    "    pre=cur\n",
    "#     print(pre)\n",
    "print(str,\"Roman to integer\",res)"
   ]
  },
  {
   "cell_type": "code",
   "execution_count": 29,
   "id": "c1040718",
   "metadata": {},
   "outputs": [
    {
     "name": "stdout",
     "output_type": "stream",
     "text": [
      "First Unique char n Index 7\n"
     ]
    }
   ],
   "source": [
    "# First unique character in a string Python | Leetcode 387 \n",
    "str=\"Youngman\"\n",
    "c=0\n",
    "unique=\"\"\n",
    "flag = 0\n",
    "for i in range(len(str)):\n",
    "    c =0\n",
    "    for j in range(len(str)):\n",
    "        if str[i]==str[j]:\n",
    "            c =c+1\n",
    "        if c == 1:\n",
    "            flag = 1\n",
    "            unique = str[i]\n",
    "            index = i\n",
    "if flag == 1:\n",
    "    print(\"First Unique char\",unique,\"Index\", index)\n",
    "else:\n",
    "    print(-1)"
   ]
  },
  {
   "cell_type": "code",
   "execution_count": 33,
   "id": "871306ec",
   "metadata": {},
   "outputs": [
    {
     "name": "stdout",
     "output_type": "stream",
     "text": [
      "A\n"
     ]
    }
   ],
   "source": [
    "str=\"Ashish\"\n",
    "res={}\n",
    "for i in str:\n",
    "    if i in res:\n",
    "        res[i]+=1\n",
    "    else:\n",
    "        res[i]=1\n",
    "# print(res)\n",
    "for key,value in res.items():\n",
    "    if value == 1:\n",
    "        print(key)\n",
    "        break\n",
    "        "
   ]
  },
  {
   "cell_type": "code",
   "execution_count": 35,
   "id": "c19dcde9",
   "metadata": {},
   "outputs": [],
   "source": [
    "str=\"Ashish\"\n",
    "res={}\n",
    "for i in str:\n",
    "    if i in res:\n",
    "        res[i]+=1\n",
    "    else:\n",
    "        res[i]=1\n",
    "# print(res)\n",
    "for key,value in enumerate(str):\n",
    "    if res[value]==i:\n",
    "        print(value,\" \", key)\n",
    "        break"
   ]
  },
  {
   "cell_type": "code",
   "execution_count": 37,
   "id": "5638862c",
   "metadata": {},
   "outputs": [
    {
     "name": "stdout",
     "output_type": "stream",
     "text": [
      "EnterLVIII\n",
      "LVIII Roman to integer 58\n"
     ]
    }
   ],
   "source": [
    "dis={\"I\":1,\"V\":5,\"X\":10,\"L\":50,\"C\":100,\"D\":500,\"M\":1000}\n",
    "str=input(\"Enter\")\n",
    "prev=0\n",
    "cur=0\n",
    "res=0\n",
    "for i in range(len(str)-1,-1,-1):\n",
    "    cur=dis[str[i]]\n",
    "    if(cur<prev):\n",
    "        res=res-cur\n",
    "    else:\n",
    "        res=res+cur\n",
    "    pre=cur\n",
    "print(str,\"Roman to integer\",res)"
   ]
  },
  {
   "cell_type": "code",
   "execution_count": null,
   "id": "2e0e3294",
   "metadata": {},
   "outputs": [],
   "source": [
    "# String is palindrome\n",
    "def palindrome(a):\n",
    "    #finding mid,start and last index of the string\n",
    "    mid = (len(a)-1)//2 #you can remove the -1 or you add <= sign in line 21\n",
    "    start =0 #so that you can compare the middle elements also.\n",
    "    last = len(a)-1\n",
    "    flag =0\n",
    "    \n",
    "    #A loop till the mid of the\n",
    "    #string\n",
    "    while(start <= mid):\n",
    "        \n",
    "        #comparing letters from right\n",
    "        # from the letters from left\n",
    "        if (a[start]== a[last]):\n",
    "            \n",
    "            start += 1\n",
    "            last -= 1\n",
    "        else:\n",
    "            flag = 1\n",
    "            break;\n",
    "    #check the flag variable to\n",
    "    #check if the string is palindrome\n",
    "    #or not\n",
    "    if flag == 0:\n",
    "        print(\"The entered string is palindrome:\")\n",
    "    else:\n",
    "        print(\"The entered string is not palindrome:\")\n",
    "\n",
    "string = 'ashish'\n",
    "palindrome(string)"
   ]
  }
 ],
 "metadata": {
  "kernelspec": {
   "display_name": "Python 3 (ipykernel)",
   "language": "python",
   "name": "python3"
  },
  "language_info": {
   "codemirror_mode": {
    "name": "ipython",
    "version": 3
   },
   "file_extension": ".py",
   "mimetype": "text/x-python",
   "name": "python",
   "nbconvert_exporter": "python",
   "pygments_lexer": "ipython3",
   "version": "3.8.10"
  }
 },
 "nbformat": 4,
 "nbformat_minor": 5
}
