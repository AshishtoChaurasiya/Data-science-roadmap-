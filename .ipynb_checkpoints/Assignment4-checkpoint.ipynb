{
 "cells": [
  {
   "cell_type": "raw",
   "id": "9e009c7b",
   "metadata": {},
   "source": [
    "# What exactly is []?\n",
    " [] is used to denote list in python."
   ]
  },
  {
   "cell_type": "raw",
   "id": "6c94a310",
   "metadata": {},
   "source": [
    "In a list of values stored in a variable called spam, how would you assign the value 'hello' as the\n",
    "third value? (Assume [2, 4, 6, 8, 10] are in spam.)"
   ]
  },
  {
   "cell_type": "code",
   "execution_count": 4,
   "id": "17337982",
   "metadata": {},
   "outputs": [],
   "source": [
    "spam = [2,4,6,8,10]\n",
    "spam.insert(2,\"hello\")"
   ]
  },
  {
   "cell_type": "code",
   "execution_count": 5,
   "id": "b5684c83",
   "metadata": {},
   "outputs": [
    {
     "data": {
      "text/plain": [
       "[2, 4, 'hello', 6, 8, 10]"
      ]
     },
     "execution_count": 5,
     "metadata": {},
     "output_type": "execute_result"
    }
   ],
   "source": [
    "spam"
   ]
  },
  {
   "cell_type": "raw",
   "id": "f52bf9fd",
   "metadata": {},
   "source": [
    "Lets pretend the spam includes the list ['a','b','c','d'] for the next three queries."
   ]
  },
  {
   "cell_type": "code",
   "execution_count": 6,
   "id": "4574d2bf",
   "metadata": {},
   "outputs": [
    {
     "data": {
      "text/plain": [
       "'d'"
      ]
     },
     "execution_count": 6,
     "metadata": {},
     "output_type": "execute_result"
    }
   ],
   "source": [
    "# What is the value of spam[int(int('3'* 2 )/ 11)]?:\n",
    "'d'"
   ]
  },
  {
   "cell_type": "code",
   "execution_count": 7,
   "id": "b277f716",
   "metadata": {},
   "outputs": [
    {
     "data": {
      "text/plain": [
       "'d'"
      ]
     },
     "execution_count": 7,
     "metadata": {},
     "output_type": "execute_result"
    }
   ],
   "source": [
    "# What is the value of spam[-1]?\n",
    "'d'"
   ]
  },
  {
   "cell_type": "code",
   "execution_count": 8,
   "id": "5aac33e1",
   "metadata": {},
   "outputs": [
    {
     "data": {
      "text/plain": [
       "['a', 'b']"
      ]
     },
     "execution_count": 8,
     "metadata": {},
     "output_type": "execute_result"
    }
   ],
   "source": [
    "# What is the value of spam[:2]?\n",
    "['a','b']"
   ]
  },
  {
   "cell_type": "code",
   "execution_count": 9,
   "id": "86e6f2b5",
   "metadata": {},
   "outputs": [],
   "source": [
    "# Lets pretend bacon has the list [3.14,'cat',11, 'cat',True] for the next three questions."
   ]
  },
  {
   "cell_type": "code",
   "execution_count": 10,
   "id": "739090d2",
   "metadata": {},
   "outputs": [
    {
     "data": {
      "text/plain": [
       "1"
      ]
     },
     "execution_count": 10,
     "metadata": {},
     "output_type": "execute_result"
    }
   ],
   "source": [
    "# What is the value of bacon.index('cat')?\n",
    "bacon = [3.14,'cat',11,'cat',True]\n",
    "bacon.index('cat')"
   ]
  },
  {
   "cell_type": "code",
   "execution_count": 12,
   "id": "dd406df9",
   "metadata": {},
   "outputs": [
    {
     "data": {
      "text/plain": [
       "[3.14, 'cat', 11, 'cat', True, 99, 99]"
      ]
     },
     "execution_count": 12,
     "metadata": {},
     "output_type": "execute_result"
    }
   ],
   "source": [
    "# How does bacon.append(99) change the look of the list value in bacon?\n",
    "bacon.append(99)\n",
    "bacon"
   ]
  },
  {
   "cell_type": "code",
   "execution_count": 14,
   "id": "4970ad1b",
   "metadata": {},
   "outputs": [
    {
     "data": {
      "text/plain": [
       "[3.14, 11, True, 99, 99]"
      ]
     },
     "execution_count": 14,
     "metadata": {},
     "output_type": "execute_result"
    }
   ],
   "source": [
    "# How does bacon.remove('cat') change the look of the list in bacon?\n",
    "bacon.remove('cat')\n",
    "bacon"
   ]
  },
  {
   "cell_type": "code",
   "execution_count": 15,
   "id": "fdf7897e",
   "metadata": {},
   "outputs": [],
   "source": [
    "# What are the list concatenation and list replication operators?\n",
    "The operator for list concatenatin is \"+\" and replication operatores is \"*\""
   ]
  },
  {
   "cell_type": "code",
   "execution_count": 16,
   "id": "9fea2037",
   "metadata": {},
   "outputs": [],
   "source": [
    "# What is difference between the list methods append() and insert()?\n",
    "append: if we will use append method then add last indexing position add in list\n",
    "insert: if we will use insert method anywhere insert values according to indexing position in list."
   ]
  },
  {
   "cell_type": "code",
   "execution_count": 17,
   "id": "3ed1bf18",
   "metadata": {},
   "outputs": [],
   "source": [
    "# What are the two methods for removing items from a list?\n",
    "list.pop(), list.remove(),list.delete()"
   ]
  },
  {
   "cell_type": "code",
   "execution_count": 19,
   "id": "83f2bcc6",
   "metadata": {},
   "outputs": [],
   "source": [
    "# Describe how list values and string values are identical.\n",
    "list:It is group of elements store in square[], comma saprated.\n",
    "string: it is a collection of alphabets, symbols, numbers and enclosed in '',\"\",\"\"\"\"\"\"."
   ]
  },
  {
   "cell_type": "code",
   "execution_count": 20,
   "id": "698388bb",
   "metadata": {},
   "outputs": [],
   "source": [
    "# What's the difference between tuples and lists?\n",
    "list:It is group of elements store in square[], comma saprated.mutable and slow.\n",
    "tuple:It is group of elements store in parenthesis(), comma saprated.immutable and fast."
   ]
  },
  {
   "cell_type": "code",
   "execution_count": 22,
   "id": "0f37d6d9",
   "metadata": {},
   "outputs": [],
   "source": [
    "# How do you type a tuple value that only contains the integer 42?\n",
    "a=(42,)"
   ]
  },
  {
   "cell_type": "code",
   "execution_count": 23,
   "id": "86d6fb3b",
   "metadata": {},
   "outputs": [],
   "source": [
    "# How do you get a list value's tuple form? How do you get a tuple value's list form?\n",
    "By using respective function."
   ]
  },
  {
   "cell_type": "code",
   "execution_count": 24,
   "id": "44f8bf18",
   "metadata": {},
   "outputs": [],
   "source": [
    "# Variables that 'contain' list values are not necessarily lists themselves. Instead, what do they contain?\n",
    "Variables will contain references to list values rather than list values themselves. But for strings and integer\n",
    "values,\n",
    "variables simply contain the string or integer value."
   ]
  },
  {
   "cell_type": "code",
   "execution_count": null,
   "id": "8c30c6ec",
   "metadata": {},
   "outputs": [],
   "source": [
    "# How do you distinguish between copy.copy() and copy.deepcopy()?\n",
    "copy() create reference to original object. If you change copied object you change the original object.\n",
    "deepcopy() creates new object and does real copying of original object to new one."
   ]
  }
 ],
 "metadata": {
  "kernelspec": {
   "display_name": "Python 3 (ipykernel)",
   "language": "python",
   "name": "python3"
  },
  "language_info": {
   "codemirror_mode": {
    "name": "ipython",
    "version": 3
   },
   "file_extension": ".py",
   "mimetype": "text/x-python",
   "name": "python",
   "nbconvert_exporter": "python",
   "pygments_lexer": "ipython3",
   "version": "3.8.10"
  }
 },
 "nbformat": 4,
 "nbformat_minor": 5
}
