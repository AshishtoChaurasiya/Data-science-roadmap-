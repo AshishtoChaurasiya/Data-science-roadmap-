{
 "cells": [
  {
   "cell_type": "code",
   "execution_count": 4,
   "id": "85bb70fa",
   "metadata": {},
   "outputs": [
    {
     "name": "stdout",
     "output_type": "stream",
     "text": [
      "Enter your anual CTC:400000\n",
      "You in hand monthly salary will be- 27333.33\n"
     ]
    }
   ],
   "source": [
    "# Write a program that will give you in hand monthly salary after deduction on CTC-HRA(10%), DA(5%),PF(3%) and taxes deduction as below:\n",
    "# Salry(Lakhs):Tax(%)\n",
    "# Below 5:0%\n",
    "#5-10:10%\n",
    "#10-20:20%\n",
    "# above 20:30%\n",
    "\n",
    "ctc = int(input('Enter your anual CTC:'))\n",
    "\n",
    "if ctc < 5000000:\n",
    "    salary=ctc*.82\n",
    "elif ctc<1000000:\n",
    "    salary=ctc*.72\n",
    "elif ctc<2000000:\n",
    "    salary=ctc*.62\n",
    "else:\n",
    "    salary=ctc*.52\n",
    "print(\"You in hand monthly salary will be-\",round(salary/12,2))"
   ]
  },
  {
   "cell_type": "code",
   "execution_count": 5,
   "id": "829b16df",
   "metadata": {},
   "outputs": [
    {
     "name": "stdout",
     "output_type": "stream",
     "text": [
      "enter the 1st angle30\n",
      "enter the 2nd angle180\n",
      "enter the 3rd angle43\n",
      "does not form a triangle\n"
     ]
    }
   ],
   "source": [
    "# Write a program that take user input of three angles and will find out whether it can form a triangle or not?\n",
    "# Hint: Sum of all angles is 180 and all angles are positive\n",
    "first = int(input('enter the 1st angle'))\n",
    "second = int(input('enter the 2nd angle'))\n",
    "third = int(input('enter the 3rd angle'))\n",
    "\n",
    "if (first+second+third) == 180 and first>0 and second>0 and third>0:\n",
    "    print('forms a triangle')\n",
    "else:\n",
    "    print('does not form a triangle')"
   ]
  },
  {
   "cell_type": "code",
   "execution_count": 6,
   "id": "0c3f5c35",
   "metadata": {},
   "outputs": [
    {
     "name": "stdout",
     "output_type": "stream",
     "text": [
      "Enter cost price-2000\n",
      "Enter selling price-4000\n",
      "Profit\n"
     ]
    }
   ],
   "source": [
    "# Write a program that will take user input of cost price and selling price and determines whether its a loss or a profit.\n",
    "cost_price = int(input('Enter cost price-'))\n",
    "selling_price = int(input('Enter selling price-'))\n",
    "if cost_price < selling_price:\n",
    "    print('Profit')\n",
    "elif cost_price > selling_price:\n",
    "    print('Loss')\n",
    "else:\n",
    "    print('No Loss No Gain')"
   ]
  },
  {
   "cell_type": "code",
   "execution_count": 8,
   "id": "28997e0a",
   "metadata": {},
   "outputs": [
    {
     "name": "stdout",
     "output_type": "stream",
     "text": [
      "\n",
      "Hi select an option\n",
      "1. cms to ft\n",
      "2. km to miles\n",
      "3. USD to INR\n",
      "4. Exit\n",
      "4\n"
     ]
    }
   ],
   "source": [
    "# Write a menu-driven program-\n",
    "# 1.cm to ft\n",
    "# 2.km to miles\n",
    "# 3.USD to INR\n",
    "# 4. exit\n",
    "# Hint:\n",
    "#     1 cm = 0.032ft\n",
    "#     1km = 0.62\n",
    "#     1 USD = 81 INR\n",
    "\n",
    "menu=input(\"\"\"\n",
    "Hi select an option\n",
    "1. cms to ft\n",
    "2. km to miles\n",
    "3. USD to INR\n",
    "4. Exit\n",
    "\"\"\")\n",
    "\n",
    "if menu == '1':\n",
    "    cm = float(input('enter the cm value'))\n",
    "    print('ft value is',0.032*cm)\n",
    "elif menu == '2':\n",
    "    km = float(input('enter the km value'))\n",
    "    print('miles value is',km*0.62)\n",
    "elif menu == '3':\n",
    "    usd=float(input('enter usd'))\n",
    "    print('inr',usd*80)\n",
    "else:\n",
    "    exit()"
   ]
  },
  {
   "cell_type": "code",
   "execution_count": 2,
   "id": "333795f7",
   "metadata": {},
   "outputs": [
    {
     "name": "stdout",
     "output_type": "stream",
     "text": [
      "0\n",
      "1\n",
      "1\n",
      "2\n",
      "3\n",
      "5\n",
      "8\n",
      "13\n",
      "21\n",
      "34\n"
     ]
    }
   ],
   "source": [
    "# Display Fibonacii series up to 10 terms\n",
    "num1,num2 = 0,1\n",
    "for i in range(10):\n",
    "    print(num1)\n",
    "    \n",
    "    next = num1 + num2\n",
    "    num1 = num2\n",
    "    num2  = next"
   ]
  },
  {
   "cell_type": "code",
   "execution_count": 6,
   "id": "4bbad714",
   "metadata": {},
   "outputs": [
    {
     "name": "stdout",
     "output_type": "stream",
     "text": [
      "enter the number :5\n",
      "Factorial is 120\n"
     ]
    }
   ],
   "source": [
    "# Find the factorial of given number\n",
    "num = int(input('enter the number :'))\n",
    "fac = 1\n",
    "for i in range(1,num+1):\n",
    "    fac = fac*i\n",
    "print(\"Factorial is {}\".format(fac))"
   ]
  },
  {
   "cell_type": "code",
   "execution_count": 7,
   "id": "f00b8362",
   "metadata": {},
   "outputs": [
    {
     "name": "stdout",
     "output_type": "stream",
     "text": [
      "enter the number :332\n",
      "233\n"
     ]
    }
   ],
   "source": [
    "# Reverse a given integer number\n",
    "number = int(input('enter the number :'))\n",
    "rev = 0\n",
    "while number>0:\n",
    "    last = number%10\n",
    "    rev = rev*10 + last\n",
    "    number = number//10\n",
    "print(rev)"
   ]
  },
  {
   "cell_type": "code",
   "execution_count": 8,
   "id": "4e126262",
   "metadata": {},
   "outputs": [
    {
     "name": "stdout",
     "output_type": "stream",
     "text": [
      "enter the number51\n",
      "276\n"
     ]
    }
   ],
   "source": [
    "# Take a user input as integer N. Find out the sum from 1 to N. if any number if divisible by 5, then skip that number. And if the sum is greater than 300, don't need to calculate the sum further more. Print the final result.And don't use for loop to solve this problem.\n",
    "N= int(input('enter the number'))\n",
    "sum =0\n",
    "for i in range(1,N+1):\n",
    "    if i%5 ==0:\n",
    "        continue\n",
    "    sum +=i\n",
    "    \n",
    "    if sum>300:\n",
    "        sum -= i\n",
    "        break\n",
    "print(sum)"
   ]
  },
  {
   "cell_type": "code",
   "execution_count": null,
   "id": "6b7126d3",
   "metadata": {},
   "outputs": [],
   "source": [
    "N= int(input('enter the number'))\n",
    "sum =0\n",
    "i=1\n",
    "while i<N+1:\n",
    "    if i%5 ==0:\n",
    "        i+=1\n",
    "        continue\n",
    "    sum +=i\n",
    "    \n",
    "    if sum>300:\n",
    "        sum -= i\n",
    "        break\n",
    "    i=i+1\n",
    "print(sum)"
   ]
  },
  {
   "cell_type": "code",
   "execution_count": 16,
   "id": "2e95caf3",
   "metadata": {},
   "outputs": [
    {
     "name": "stdout",
     "output_type": "stream",
     "text": [
      "enter number445\n",
      "enter number876\n",
      "enter number455\n",
      "enter number876\n",
      "enter number678\n",
      "enter number8765\n",
      "enter number76\n",
      "enter number76\n",
      "enter number1\n",
      "enter number2\n",
      "enter number3\n",
      "enter number4\n",
      "enter number0\n",
      "sum 12257\n",
      "avg 1021.4166666666666\n"
     ]
    }
   ],
   "source": [
    "# Write a program that keeps on accepting a number from user until the user enters Zero. Display the sum and average of all the numbers.\n",
    "sum =0\n",
    "count = 0\n",
    "while True:\n",
    "    num = int(input('enter number'))\n",
    "    if num ==0:\n",
    "        break\n",
    "    sum = sum + num\n",
    "    count = count + 1\n",
    "print('sum',sum)\n",
    "print('avg',sum/count)"
   ]
  },
  {
   "cell_type": "code",
   "execution_count": 17,
   "id": "8ac295cd",
   "metadata": {},
   "outputs": [
    {
     "name": "stdout",
     "output_type": "stream",
     "text": [
      "2002,2009,2016,2023,2037,2044,2051,2058,2072,2079,2086,2093,2107,2114,2121,2128,2142,2149,2156,2163,2177,2184,2191,2198,2212,2219,2226,2233,2247,2254,2261,2268,2282,2289,2296,2303,2317,2324,2331,2338,2352,2359,2366,2373,2387,2394,2401,2408,2422,2429,2436,2443,2457,2464,2471,2478,2492,2499,2506,2513,2527,2534,2541,2548,2562,2569,2576,2583,2597,2604,2611,2618,2632,2639,2646,2653,2667,2674,2681,2688,2702,2709,2716,2723,2737,2744,2751,2758,2772,2779,2786,2793,2807,2814,2821,2828,2842,2849,2856,2863,2877,2884,2891,2898,2912,2919,2926,2933,2947,2954,2961,2968,2982,2989,2996,3003,3017,3024,3031,3038,3052,3059,3066,3073,3087,3094,3101,3108,3122,3129,3136,3143,3157,3164,3171,3178,3192,3199\n"
     ]
    }
   ],
   "source": [
    "# Write a program which will find all such numbers which are divisible by 7 but are not a multiple\n",
    "# of 5, between 2000 and 3200 (both included). The numbers obtained should be printed in a comma-separated sequence on a single line.\n",
    "L = []\n",
    "for i in range(2000,3200):\n",
    "    if i % 7 == 0 and i % 5 != 0:\n",
    "        L.append(str(i))\n",
    "print(\",\".join(L))"
   ]
  },
  {
   "cell_type": "code",
   "execution_count": 20,
   "id": "27ba0aa7",
   "metadata": {},
   "outputs": [
    {
     "name": "stdout",
     "output_type": "stream",
     "text": [
      "0,2,4,6,8,20,22,24,26,28,40,42,44,46,48,60,62,64,66,68,80,82,84,86,88,200,202,204,206,208,220,222,224,226,228,240,242,244,246,248,260,262,264,266,268,280,282,284,286,288,400,402,404,406,408,420,422,424,426,428,440,442,444,446,448,460,462,464,466,468,480,482,484,486,488,600,602,604,606,608,620,622,624,626,628,640,642,644,646,648,660,662,664,666,668,680,682,684,686,688,800,802,804,806,808,820,822,824,826,828,840,842,844,846,848,860,862,864,866,868,880,882,884,886,888,2000,2002,2004,2006,2008,2020,2022,2024,2026,2028,2040,2042,2044,2046,2048,2060,2062,2064,2066,2068,2080,2082,2084,2086,2088,2200,2202,2204,2206,2208,2220,2222,2224,2226,2228,2240,2242,2244,2246,2248,2260,2262,2264,2266,2268,2280,2282,2284,2286,2288,2400,2402,2404,2406,2408,2420,2422,2424,2426,2428,2440,2442,2444,2446,2448,2460,2462,2464,2466,2468,2480,2482,2484,2486,2488,2600,2602,2604,2606,2608,2620,2622,2624,2626,2628,2640,2642,2644,2646,2648,2660,2662,2664,2666,2668,2680,2682,2684,2686,2688,2800,2802,2804,2806,2808,2820,2822,2824,2826,2828,2840,2842,2844,2846,2848,2860,2862,2864,2866,2868,2880,2882,2884,2886,2888\n"
     ]
    }
   ],
   "source": [
    "# Write a program, which will find all such numbers between 1000 and 3000(both included) such that each digit of the number is an even number.The numbers obtained should be printed in a space-seprated sequence on a single line.\n",
    "L = []\n",
    "for i in range(0,3001):\n",
    "    flag = True\n",
    "    \n",
    "    curr = i\n",
    "    \n",
    "    while curr > 0:\n",
    "        last = curr % 10\n",
    "        if last %2 !=0:\n",
    "            flag = False\n",
    "            break\n",
    "        curr = curr//10\n",
    "    if flag:\n",
    "        L.append(str(i))\n",
    "print(\",\".join(L))"
   ]
  },
  {
   "cell_type": "raw",
   "id": "8e9affc8",
   "metadata": {},
   "source": [
    "Problem 11: A robot moves in a plane starting from the original point (0,0). The robot can move toward UP, DOWN, LEFT and RIGHT with a given steps.\n",
    "The trace of robot movement is shown as the following:\n",
    "\n",
    "UP 5\n",
    "DOWN 3\n",
    "LEFT 3\n",
    "RIGHT 2\n",
    "!\n",
    "The numbers after the direction are steps.\n",
    "\n",
    "! means robot stop there.\n",
    "\n",
    "Please write a program to compute the distance from current position after a sequence of movement and original point.\n",
    "\n",
    "If the distance is a float, then just print the nearest integer.\n",
    "\n",
    "Example:\n",
    "\n",
    "Input:\n",
    "\n",
    "UP 5\n",
    "DOWN 3\n",
    "LEFT 3\n",
    "RIGHT 2\n",
    "!"
   ]
  },
  {
   "cell_type": "code",
   "execution_count": 22,
   "id": "3488301c",
   "metadata": {},
   "outputs": [
    {
     "name": "stdout",
     "output_type": "stream",
     "text": [
      "Enter the robot path10\n"
     ]
    },
    {
     "ename": "IndexError",
     "evalue": "list index out of range",
     "output_type": "error",
     "traceback": [
      "\u001b[0;31m---------------------------------------------------------------------------\u001b[0m",
      "\u001b[0;31mIndexError\u001b[0m                                Traceback (most recent call last)",
      "Input \u001b[0;32mIn [22]\u001b[0m, in \u001b[0;36m<cell line: 3>\u001b[0;34m()\u001b[0m\n\u001b[1;32m      5\u001b[0m   \u001b[38;5;28;01mbreak\u001b[39;00m\n\u001b[1;32m      6\u001b[0m direction \u001b[38;5;241m=\u001b[39m s\u001b[38;5;241m.\u001b[39msplit()[\u001b[38;5;241m0\u001b[39m]\n\u001b[0;32m----> 7\u001b[0m steps \u001b[38;5;241m=\u001b[39m \u001b[38;5;28mint\u001b[39m(\u001b[43ms\u001b[49m\u001b[38;5;241;43m.\u001b[39;49m\u001b[43msplit\u001b[49m\u001b[43m(\u001b[49m\u001b[43m)\u001b[49m\u001b[43m[\u001b[49m\u001b[38;5;241;43m1\u001b[39;49m\u001b[43m]\u001b[49m)\n\u001b[1;32m      9\u001b[0m \u001b[38;5;28;01mif\u001b[39;00m direction \u001b[38;5;241m==\u001b[39m \u001b[38;5;124m'\u001b[39m\u001b[38;5;124mUP\u001b[39m\u001b[38;5;124m'\u001b[39m:\n\u001b[1;32m     10\u001b[0m   pos[\u001b[38;5;241m1\u001b[39m] \u001b[38;5;241m=\u001b[39m pos[\u001b[38;5;241m1\u001b[39m] \u001b[38;5;241m+\u001b[39m steps\n",
      "\u001b[0;31mIndexError\u001b[0m: list index out of range"
     ]
    }
   ],
   "source": [
    "pos = [0,0]\n",
    "while True:\n",
    "  s = input('Enter the robot path')\n",
    "  if s == '!':\n",
    "    break\n",
    "  direction = s.split()[0]\n",
    "  steps = int(s.split()[1])\n",
    "\n",
    "  if direction == 'UP':\n",
    "    pos[1] = pos[1] + steps\n",
    "  elif direction == 'DOWN':\n",
    "    pos[1] = pos[1] - steps\n",
    "  elif direction == 'LEFT':\n",
    "    pos[0] = pos[0] - steps\n",
    "  elif direction == 'RIGHT':\n",
    "    pos[0] = pos[0] + steps\n",
    "  else:\n",
    "    pass\n",
    "\n",
    "print('new pos',pos)\n",
    "print((pos[0]**2 + pos[1]**2)**0.5)"
   ]
  },
  {
   "cell_type": "code",
   "execution_count": 23,
   "id": "16facc9d",
   "metadata": {},
   "outputs": [
    {
     "name": "stdout",
     "output_type": "stream",
     "text": [
      "enter the num3\n",
      "Prime\n"
     ]
    }
   ],
   "source": [
    "# Problem 12:Write a program to print whether a given number is a prime number or not\n",
    "num = int(input('enter the num'))\n",
    "\n",
    "flag = True\n",
    "for i in range(2,num):\n",
    "  if num%i == 0:\n",
    "    flag = False\n",
    "    break\n",
    "\n",
    "if flag == True:\n",
    "  print('Prime')\n",
    "else:\n",
    "  print('Not Prime')\n"
   ]
  },
  {
   "cell_type": "code",
   "execution_count": null,
   "id": "ebea9297",
   "metadata": {},
   "outputs": [],
   "source": [
    "# Problem 13:Print all the Armstrong numbers in a given range.\n",
    "# Range will be provided by the user\n",
    "# Armstrong number is a number that is equal to the sum of cubes of its digits. For example 0, 1, 153, 370, 371 and 407 are the Armstrong numbers."
   ]
  },
  {
   "cell_type": "code",
   "execution_count": null,
   "id": "c122eee7",
   "metadata": {},
   "outputs": [],
   "source": [
    "# Calculate the angle between the hour hand and minute hand.\n",
    "# Note: There can be two angles between hands; we need to print a minimum of two. Also, we need to print the floor of the final result angle. For example, if the final angle is 10.61, we need to print 10.\n",
    "\n",
    "# Input:\n",
    "# H = 9 , M = 0"
   ]
  },
  {
   "cell_type": "code",
   "execution_count": null,
   "id": "90acacfb",
   "metadata": {},
   "outputs": [],
   "source": [
    "# Given two rectangles, find if the given two rectangles overlap or not. A rectangle is denoted by providing the x and y coordinates of two points: the left top corner and the right bottom corner of the rectangle. Two rectangles sharing a side are considered overlapping. (L1 and R1 are the extreme points of the first rectangle and L2 and R2 are the extreme points of the second rectangle).\n",
    "# Note: It may be assumed that the rectangles are parallel to the coordinate axis.\n",
    "\n"
   ]
  },
  {
   "cell_type": "code",
   "execution_count": null,
   "id": "275c499e",
   "metadata": {},
   "outputs": [],
   "source": []
  },
  {
   "cell_type": "code",
   "execution_count": null,
   "id": "337d5c06",
   "metadata": {},
   "outputs": [],
   "source": []
  }
 ],
 "metadata": {
  "kernelspec": {
   "display_name": "Python 3 (ipykernel)",
   "language": "python",
   "name": "python3"
  },
  "language_info": {
   "codemirror_mode": {
    "name": "ipython",
    "version": 3
   },
   "file_extension": ".py",
   "mimetype": "text/x-python",
   "name": "python",
   "nbconvert_exporter": "python",
   "pygments_lexer": "ipython3",
   "version": "3.8.10"
  }
 },
 "nbformat": 4,
 "nbformat_minor": 5
}
