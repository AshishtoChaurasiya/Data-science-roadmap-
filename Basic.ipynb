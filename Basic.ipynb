{
 "cells": [
  {
   "cell_type": "code",
   "execution_count": 5,
   "id": "b5957261",
   "metadata": {},
   "outputs": [
    {
     "name": "stdout",
     "output_type": "stream",
     "text": [
      "Enter the number5\n"
     ]
    },
    {
     "data": {
      "text/plain": [
       "120"
      ]
     },
     "execution_count": 5,
     "metadata": {},
     "output_type": "execute_result"
    }
   ],
   "source": [
    "def factorial(num):\n",
    "    if num<0:\n",
    "        return 0\n",
    "    elif num == 0 or num ==1:\n",
    "        return 1\n",
    "    else:\n",
    "        fact = 1\n",
    "        while(num>1):\n",
    "            fact = fact*num\n",
    "            num-=1\n",
    "        return fact\n",
    "num = int(input(\"Enter the number\"))\n",
    "factorial(num)"
   ]
  },
  {
   "cell_type": "code",
   "execution_count": 7,
   "id": "a0411d98",
   "metadata": {},
   "outputs": [
    {
     "name": "stdout",
     "output_type": "stream",
     "text": [
      "Enter the number10\n"
     ]
    },
    {
     "data": {
      "text/plain": [
       "3628800"
      ]
     },
     "execution_count": 7,
     "metadata": {},
     "output_type": "execute_result"
    }
   ],
   "source": [
    "def factorial(n):\n",
    "    return 1 if (n==1 or n==0) else n*factorial(n-1);\n",
    "num = int(input(\"Enter the number\"))\n",
    "factorial(num)"
   ]
  },
  {
   "cell_type": "code",
   "execution_count": 8,
   "id": "68155ca8",
   "metadata": {},
   "outputs": [
    {
     "name": "stdout",
     "output_type": "stream",
     "text": [
      "Enter the number5\n"
     ]
    },
    {
     "data": {
      "text/plain": [
       "120"
      ]
     },
     "execution_count": 8,
     "metadata": {},
     "output_type": "execute_result"
    }
   ],
   "source": [
    "def factorial(n):\n",
    "    res = 1\n",
    "    for i in range(2,n+1):\n",
    "        res *=i\n",
    "    return res\n",
    "num = int(input(\"Enter the number\"))\n",
    "factorial(num)"
   ]
  },
  {
   "cell_type": "code",
   "execution_count": 9,
   "id": "747098c8",
   "metadata": {},
   "outputs": [
    {
     "name": "stdout",
     "output_type": "stream",
     "text": [
      "Enter the number5\n",
      "120\n"
     ]
    }
   ],
   "source": [
    "import numpy as np\n",
    "n = int(input(\"Enter the number\"))\n",
    "x = np.prod([i for i in range(1,n+1)])\n",
    "print(x)"
   ]
  },
  {
   "cell_type": "code",
   "execution_count": 13,
   "id": "8f2eb22b",
   "metadata": {},
   "outputs": [
    {
     "name": "stdout",
     "output_type": "stream",
     "text": [
      "The principle is 5\n",
      "The time period is 6\n",
      "The rate of interest is\n"
     ]
    },
    {
     "data": {
      "text/plain": [
       "2.1"
      ]
     },
     "execution_count": 13,
     "metadata": {},
     "output_type": "execute_result"
    }
   ],
   "source": [
    "# Simple interest\n",
    "def simple_interest(p,t,r):\n",
    "    print('The principle is',p)\n",
    "    print('The time period is',t)\n",
    "    print('The rate of interest is',)\n",
    "# formula si = (p*t*r)/100\n",
    "    si =(p*t*r)/100\n",
    "    return si\n",
    "simple_interest(5,6,7)"
   ]
  },
  {
   "cell_type": "code",
   "execution_count": 14,
   "id": "e90d9d26",
   "metadata": {},
   "outputs": [
    {
     "name": "stdout",
     "output_type": "stream",
     "text": [
      "Checkerboard pattern:\n",
      "0 1 0 1 0 1 0 1 \n",
      "1 0 1 0 1 0 1 0 \n",
      "0 1 0 1 0 1 0 1 \n",
      "1 0 1 0 1 0 1 0 \n",
      "0 1 0 1 0 1 0 1 \n",
      "1 0 1 0 1 0 1 0 \n",
      "0 1 0 1 0 1 0 1 \n",
      "1 0 1 0 1 0 1 0 \n"
     ]
    }
   ],
   "source": [
    "# 0 1 0 1 0 1 0 1 \n",
    "# 1 0 1 0 1 0 1 0 \n",
    "# 0 1 0 1 0 1 0 1 \n",
    "# 1 0 1 0 1 0 1 0 \n",
    "# 0 1 0 1 0 1 0 1 \n",
    "# 1 0 1 0 1 0 1 0 \n",
    "# 0 1 0 1 0 1 0 1 \n",
    "# 1 0 1 0 1 0 1 0\n",
    "import numpy as np\n",
    " \n",
    "# function to print Checkerboard pattern\n",
    "def printcheckboard(n):\n",
    "     \n",
    "    print(\"Checkerboard pattern:\")\n",
    " \n",
    "    # create a n * n matrix\n",
    "    x = np.zeros((n, n), dtype = int)\n",
    " \n",
    "    # fill with 1 the alternate rows and columns\n",
    "    x[1::2, ::2] = 1\n",
    "    x[::2, 1::2] = 1\n",
    "     \n",
    "    # print the pattern\n",
    "    for i in range(n):\n",
    "        for j in range(n):\n",
    "            print(x[i][j], end =\" \")\n",
    "        print()\n",
    " \n",
    " \n",
    "# driver code\n",
    "n = 8\n",
    "printcheckboard(n)"
   ]
  },
  {
   "cell_type": "code",
   "execution_count": 15,
   "id": "e78b004b",
   "metadata": {},
   "outputs": [
    {
     "name": "stdout",
     "output_type": "stream",
     "text": [
      "[[0 1 0 1 0 1 0 1]\n",
      " [1 0 1 0 1 0 1 0]\n",
      " [0 1 0 1 0 1 0 1]\n",
      " [1 0 1 0 1 0 1 0]\n",
      " [0 1 0 1 0 1 0 1]\n",
      " [1 0 1 0 1 0 1 0]\n",
      " [0 1 0 1 0 1 0 1]\n",
      " [1 0 1 0 1 0 1 0]]\n"
     ]
    }
   ],
   "source": [
    "import numpy as np\n",
    "def printcheckboard(n):\n",
    "    final = []\n",
    "    for i in range(n):\n",
    "        final.append(list(np.tile([0,1],int(n/2))) if i%2==0 else list(np.tile([1,0],int(n/2))))\n",
    "    print(np.array(final))\n",
    " \n",
    " \n",
    "# driver code\n",
    "n = 8\n",
    "printcheckboard(n)"
   ]
  },
  {
   "cell_type": "code",
   "execution_count": 16,
   "id": "98cf95f0",
   "metadata": {},
   "outputs": [
    {
     "name": "stdout",
     "output_type": "stream",
     "text": [
      "               \n",
      "              *\n",
      "             ***\n",
      "            *****\n",
      "           *******\n",
      "          *********\n",
      "         ***********\n",
      "        *************\n",
      "       ***************\n",
      "      *****************\n",
      "     *******************\n",
      "    *********************\n",
      "   ***********************\n",
      "  *************************\n",
      " ***************************\n",
      "*****************************\n",
      " *************  ************\n",
      "  ***********    **********\n",
      "   *********      ********\n",
      "    *******        ******\n"
     ]
    }
   ],
   "source": [
    "# determining the size of the heart\n",
    "size = 15\n",
    " \n",
    "# printing the inverted triangle\n",
    "for a in range(0, size):\n",
    "    for b in range(a, size):\n",
    "        print(\" \", end = \"\")\n",
    "    for b in range(1, (a * 2)):\n",
    "        print(\"*\", end = \"\")\n",
    "    print(\"\")\n",
    " \n",
    "# printing rest of the heart\n",
    "for a in range(size, int(size / 2) - 1 , -2):\n",
    " \n",
    "    # printing the white space right-triangle\n",
    "    for b in range(1, size - a, 2): \n",
    "        print(\" \", end = \"\")\n",
    " \n",
    "    # printing the first trapezium\n",
    "    for b in range(1, a + 1):\n",
    "        print(\"*\", end = \"\")\n",
    " \n",
    "    # printing the white space triangle\n",
    "    for b in range(1, (size - a) + 1):\n",
    "        print(\" \", end = \"\")\n",
    " \n",
    "    # printing the second trapezium\n",
    "    for b in range(1, a):\n",
    "        print(\"*\", end = \"\")\n",
    " \n",
    "    # new line\n",
    "    print(\"\")"
   ]
  },
  {
   "cell_type": "code",
   "execution_count": 17,
   "id": "43ceab0b",
   "metadata": {},
   "outputs": [
    {
     "name": "stdout",
     "output_type": "stream",
     "text": [
      "|****\n",
      "|*\n",
      "|***\n",
      "|**\n",
      "|*****\n"
     ]
    }
   ],
   "source": [
    "def pattern(n):\n",
    " \n",
    "    # traverse through the elements\n",
    "    # in n assuming it as a string\n",
    "    for i in n:\n",
    " \n",
    "        # print | for every line\n",
    "        print(\"|\", end = \"\")\n",
    " \n",
    "        # print i number of * s in\n",
    "        # each line\n",
    "        print(\"*\" * int(i))\n",
    " \n",
    "# get the input as string        \n",
    "n = \"41325\"\n",
    "pattern(n)"
   ]
  },
  {
   "cell_type": "code",
   "execution_count": 18,
   "id": "9f971879",
   "metadata": {},
   "outputs": [
    {
     "name": "stdout",
     "output_type": "stream",
     "text": [
      "|****\n",
      "|*\n",
      "|***\n",
      "|**\n",
      "|*****\n"
     ]
    }
   ],
   "source": [
    "n = 41325\n",
    "x = []\n",
    "while n>0:\n",
    "    x.append(n%10)\n",
    "    n //= 10\n",
    "for i in range(len(x)-1,-1,-1):\n",
    "    print('|'+x[i]*'*')"
   ]
  },
  {
   "cell_type": "code",
   "execution_count": 19,
   "id": "89e74999",
   "metadata": {},
   "outputs": [
    {
     "name": "stdout",
     "output_type": "stream",
     "text": [
      "Compound interest is 6288.946267774416\n"
     ]
    }
   ],
   "source": [
    "# Compund interest\n",
    "# A = P(1 + R/100) t \n",
    "\n",
    "# Compound Interest = A – P \n",
    "\n",
    "# Where, \n",
    "# A is amount \n",
    "# P is the principal amount \n",
    "# R is the rate and \n",
    "# T is the time span\n",
    "\n",
    "def compound_interest(principle, rate, time):\n",
    " \n",
    "    # Calculates compound interest\n",
    "    Amount = principle * (pow((1 + rate / 100), time))\n",
    "    CI = Amount - principle\n",
    "    print(\"Compound interest is\", CI)\n",
    " \n",
    " \n",
    "# Driver Code\n",
    "compound_interest(10000, 10.25, 5)"
   ]
  },
  {
   "cell_type": "code",
   "execution_count": 20,
   "id": "73340c3e",
   "metadata": {},
   "outputs": [
    {
     "name": "stdout",
     "output_type": "stream",
     "text": [
      "True\n",
      "False\n"
     ]
    }
   ],
   "source": [
    "# # Armstrong number:\n",
    "# Input : 153\n",
    "# Output : Yes\n",
    "# 153 is an Armstrong number.\n",
    "# 1*1*1 + 5*5*5 + 3*3*3 = 153\n",
    "# abcd... = pow(a,n) + pow(b,n) + pow(c,n) + pow(d,n) + .... \n",
    "def power(x, y):\n",
    "     \n",
    "    if y == 0:\n",
    "        return 1\n",
    "    if y % 2 == 0:\n",
    "        return power(x, y // 2) * power(x, y // 2)\n",
    "         \n",
    "    return x * power(x, y // 2) * power(x, y // 2)\n",
    " \n",
    "# Function to calculate order of the number\n",
    "def order(x):\n",
    " \n",
    "    # Variable to store of the number\n",
    "    n = 0\n",
    "    while (x != 0):\n",
    "        n = n + 1\n",
    "        x = x // 10\n",
    "         \n",
    "    return n\n",
    " \n",
    "# Function to check whether the given\n",
    "# number is Armstrong number or not\n",
    "def isArmstrong(x):\n",
    "     \n",
    "    n = order(x)\n",
    "    temp = x\n",
    "    sum1 = 0\n",
    "     \n",
    "    while (temp != 0):\n",
    "        r = temp % 10\n",
    "        sum1 = sum1 + power(r, n)\n",
    "        temp = temp // 10\n",
    " \n",
    "    # If condition satisfies\n",
    "    return (sum1 == x)\n",
    " \n",
    "# Driver code\n",
    "x = 153\n",
    "print(isArmstrong(x))\n",
    " \n",
    "x = 1253\n",
    "print(isArmstrong(x))"
   ]
  },
  {
   "cell_type": "code",
   "execution_count": 21,
   "id": "9d816d3c",
   "metadata": {},
   "outputs": [
    {
     "name": "stdout",
     "output_type": "stream",
     "text": [
      "The given number 153 is armstrong number\n"
     ]
    }
   ],
   "source": [
    "n = 153  # or n=int(input()) -> taking input from user\n",
    "s = n  # assigning input value to the s variable\n",
    "b = len(str(n))\n",
    "sum1 = 0\n",
    "while n != 0:\n",
    "    r = n % 10\n",
    "    sum1 = sum1+(r**b)\n",
    "    n = n//10\n",
    "if s == sum1:\n",
    "    print(\"The given number\", s, \"is armstrong number\")\n",
    "else:\n",
    "    print(\"The given number\", s, \"is not armstrong number\")\n",
    " "
   ]
  },
  {
   "cell_type": "code",
   "execution_count": null,
   "id": "40c44560",
   "metadata": {},
   "outputs": [],
   "source": []
  }
 ],
 "metadata": {
  "kernelspec": {
   "display_name": "Python 3 (ipykernel)",
   "language": "python",
   "name": "python3"
  },
  "language_info": {
   "codemirror_mode": {
    "name": "ipython",
    "version": 3
   },
   "file_extension": ".py",
   "mimetype": "text/x-python",
   "name": "python",
   "nbconvert_exporter": "python",
   "pygments_lexer": "ipython3",
   "version": "3.8.10"
  }
 },
 "nbformat": 4,
 "nbformat_minor": 5
}
