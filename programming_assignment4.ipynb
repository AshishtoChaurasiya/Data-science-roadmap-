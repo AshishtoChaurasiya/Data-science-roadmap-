{
 "cells": [
  {
   "cell_type": "code",
   "execution_count": 2,
   "id": "ca597df0",
   "metadata": {},
   "outputs": [
    {
     "name": "stdout",
     "output_type": "stream",
     "text": [
      "enter the number6\n",
      "720\n"
     ]
    }
   ],
   "source": [
    "# Write a Python Program to Find the Factorial of a Number?\n",
    "num = int(input(\"enter the number\"))\n",
    "fab = 1\n",
    "for i in range(num,1,-1):\n",
    "    fab= fab*i\n",
    "print(fab)"
   ]
  },
  {
   "cell_type": "code",
   "execution_count": 3,
   "id": "2787a12c",
   "metadata": {},
   "outputs": [
    {
     "name": "stdout",
     "output_type": "stream",
     "text": [
      "enter the number5\n"
     ]
    },
    {
     "data": {
      "text/plain": [
       "120"
      ]
     },
     "execution_count": 3,
     "metadata": {},
     "output_type": "execute_result"
    }
   ],
   "source": [
    "def fact(num):\n",
    "    fab=1\n",
    "    for i in range(num,1,-1):\n",
    "        fab = fab*i\n",
    "    return fab\n",
    "num = int(input(\"enter the number\"))\n",
    "fact(num)"
   ]
  },
  {
   "cell_type": "code",
   "execution_count": 6,
   "id": "07b1d951",
   "metadata": {},
   "outputs": [
    {
     "data": {
      "text/plain": [
       "120"
      ]
     },
     "execution_count": 6,
     "metadata": {},
     "output_type": "execute_result"
    }
   ],
   "source": [
    "def func(num):\n",
    "    if num == 1:\n",
    "        return 1\n",
    "    else:\n",
    "        return num*func(num-1)\n",
    "func(5)"
   ]
  },
  {
   "cell_type": "code",
   "execution_count": 2,
   "id": "f817eb48",
   "metadata": {},
   "outputs": [
    {
     "name": "stdout",
     "output_type": "stream",
     "text": [
      "120\n"
     ]
    }
   ],
   "source": [
    "num = 5\n",
    "fac=1\n",
    "for i in range(num,1,-1):\n",
    "    fac = fac*i\n",
    "print(fac)"
   ]
  },
  {
   "cell_type": "code",
   "execution_count": 16,
   "id": "e8426079",
   "metadata": {},
   "outputs": [
    {
     "name": "stdout",
     "output_type": "stream",
     "text": [
      "Enter the number: 6\n"
     ]
    },
    {
     "data": {
      "text/plain": [
       "720"
      ]
     },
     "execution_count": 16,
     "metadata": {},
     "output_type": "execute_result"
    }
   ],
   "source": [
    "def fac(num):\n",
    "    fac = 1\n",
    "    for i in range(num,1,-1):\n",
    "        fac=fac*i\n",
    "    return fac\n",
    "num = int(input(\"Enter the number: \"))\n",
    "fac(num)"
   ]
  },
  {
   "cell_type": "code",
   "execution_count": null,
   "id": "3a3ea096",
   "metadata": {},
   "outputs": [],
   "source": [
    "# Write a Python Program to Display the multiplication Table?\n"
   ]
  },
  {
   "cell_type": "code",
   "execution_count": null,
   "id": "f9fd3c6d",
   "metadata": {},
   "outputs": [],
   "source": []
  },
  {
   "cell_type": "code",
   "execution_count": null,
   "id": "84574281",
   "metadata": {},
   "outputs": [],
   "source": []
  },
  {
   "cell_type": "code",
   "execution_count": null,
   "id": "1426f8c2",
   "metadata": {},
   "outputs": [],
   "source": []
  },
  {
   "cell_type": "code",
   "execution_count": null,
   "id": "7cbe138a",
   "metadata": {},
   "outputs": [],
   "source": []
  },
  {
   "cell_type": "code",
   "execution_count": null,
   "id": "92ca1f34",
   "metadata": {},
   "outputs": [],
   "source": []
  }
 ],
 "metadata": {
  "kernelspec": {
   "display_name": "Python 3 (ipykernel)",
   "language": "python",
   "name": "python3"
  },
  "language_info": {
   "codemirror_mode": {
    "name": "ipython",
    "version": 3
   },
   "file_extension": ".py",
   "mimetype": "text/x-python",
   "name": "python",
   "nbconvert_exporter": "python",
   "pygments_lexer": "ipython3",
   "version": "3.8.10"
  }
 },
 "nbformat": 4,
 "nbformat_minor": 5
}
