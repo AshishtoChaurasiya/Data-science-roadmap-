{
 "cells": [
  {
   "cell_type": "code",
   "execution_count": 5,
   "id": "b55917a6",
   "metadata": {},
   "outputs": [],
   "source": [
    "import pymongo"
   ]
  },
  {
   "cell_type": "code",
   "execution_count": 7,
   "id": "61f39fdf",
   "metadata": {},
   "outputs": [],
   "source": [
    "client = pymongo.MongoClient(\"mongodb://127.0.0.1:27017\")"
   ]
  },
  {
   "cell_type": "code",
   "execution_count": 8,
   "id": "093ccc57",
   "metadata": {
    "scrolled": true
   },
   "outputs": [
    {
     "name": "stdout",
     "output_type": "stream",
     "text": [
      "MongoClient(host=['127.0.0.1:27017'], document_class=dict, tz_aware=False, connect=True)\n"
     ]
    }
   ],
   "source": [
    "print(client)"
   ]
  },
  {
   "cell_type": "code",
   "execution_count": 11,
   "id": "3701e6e6",
   "metadata": {},
   "outputs": [],
   "source": [
    "mydb = client[\"customers\"]"
   ]
  },
  {
   "cell_type": "code",
   "execution_count": 12,
   "id": "24882f7f",
   "metadata": {},
   "outputs": [
    {
     "name": "stdout",
     "output_type": "stream",
     "text": [
      "Database(MongoClient(host=['127.0.0.1:27017'], document_class=dict, tz_aware=False, connect=True), 'customers')\n"
     ]
    }
   ],
   "source": [
    "print(mydb)"
   ]
  },
  {
   "cell_type": "code",
   "execution_count": 13,
   "id": "84df948b",
   "metadata": {},
   "outputs": [],
   "source": [
    "mycol = mydb[\"customers\"]"
   ]
  },
  {
   "cell_type": "code",
   "execution_count": 14,
   "id": "79cd0c2a",
   "metadata": {},
   "outputs": [
    {
     "name": "stdout",
     "output_type": "stream",
     "text": [
      "Collection(Database(MongoClient(host=['127.0.0.1:27017'], document_class=dict, tz_aware=False, connect=True), 'customers'), 'customers')\n"
     ]
    }
   ],
   "source": [
    "print(mycol)"
   ]
  },
  {
   "cell_type": "code",
   "execution_count": 15,
   "id": "24ace262",
   "metadata": {},
   "outputs": [],
   "source": [
    "# Insert Into Collection\n",
    "# To insert a record, or document as it is called in MongoDB, into a collection, we use the insert_one() method.\n",
    "# The first parameter of the insert_one() method is a dictionary containing the name(s) and value(s) of each field in the document you want to insert.\n",
    "\n",
    "mydict = {\"name\":\"John\",\"address\":\"Highway 37\"}"
   ]
  },
  {
   "cell_type": "code",
   "execution_count": 16,
   "id": "d967931d",
   "metadata": {},
   "outputs": [],
   "source": [
    "x = mycol.insert_one(mydict)"
   ]
  },
  {
   "cell_type": "code",
   "execution_count": 17,
   "id": "97d7d3ef",
   "metadata": {},
   "outputs": [
    {
     "name": "stdout",
     "output_type": "stream",
     "text": [
      "<pymongo.results.InsertOneResult object at 0x7fb61b19ab80>\n"
     ]
    }
   ],
   "source": [
    "print(x)"
   ]
  },
  {
   "cell_type": "code",
   "execution_count": 18,
   "id": "582ae827",
   "metadata": {},
   "outputs": [
    {
     "name": "stdout",
     "output_type": "stream",
     "text": [
      "63933d73da8c580189711c2f\n"
     ]
    }
   ],
   "source": [
    "mydict = {\"name\":\"Peter\", \"address\":\"Lowstreet 27\"}\n",
    "x = mycol.insert_one(mydict)\n",
    "# Return the _id Field\n",
    "# The insert_one() method returns a InsertOneResult object, which has a property, inserted_id, that holds the id of the inserted document.\n",
    "print(x.inserted_id)"
   ]
  },
  {
   "cell_type": "code",
   "execution_count": null,
   "id": "ac162eeb",
   "metadata": {},
   "outputs": [],
   "source": [
    "# Insert Multiple Documents\n",
    "# To insert multiple documents into a collection in MongoDB, we use the insert_many() method."
   ]
  },
  {
   "cell_type": "code",
   "execution_count": null,
   "id": "db150952",
   "metadata": {},
   "outputs": [],
   "source": [
    "# The first parameter of the insert_many() method is a list containing dictionaries with the data you want to insert:"
   ]
  },
  {
   "cell_type": "code",
   "execution_count": 19,
   "id": "d40bd23c",
   "metadata": {},
   "outputs": [],
   "source": [
    "mylist = [\n",
    "    {\"name\":\"Amy\",\"address\":\"Apple st 652\"},\n",
    "    {\"name\":\"Ashish\",\"address\":\"Noida Sector 44\"},\n",
    "    {\"name\":\"Abhishek\",\"address\":\"Kanpur UP\"},\n",
    "    {\"name\":\"Ajay\",\"address\":\"Delhi\"},\n",
    "    {\"name\":\"Shubham\",\"address\":\"MandiHouse\"},\n",
    "    {\"name\":\"Vishal\",\"address\":\"Gorakhpur\"}\n",
    "]"
   ]
  },
  {
   "cell_type": "code",
   "execution_count": 20,
   "id": "b51b331b",
   "metadata": {},
   "outputs": [],
   "source": [
    "x = mycol.insert_many(mylist)"
   ]
  },
  {
   "cell_type": "code",
   "execution_count": 21,
   "id": "d5d679b8",
   "metadata": {},
   "outputs": [
    {
     "name": "stdout",
     "output_type": "stream",
     "text": [
      "[ObjectId('63933eb3da8c580189711c30'), ObjectId('63933eb3da8c580189711c31'), ObjectId('63933eb3da8c580189711c32'), ObjectId('63933eb3da8c580189711c33'), ObjectId('63933eb3da8c580189711c34'), ObjectId('63933eb3da8c580189711c35')]\n"
     ]
    }
   ],
   "source": [
    "print(x.inserted_ids)"
   ]
  },
  {
   "cell_type": "code",
   "execution_count": 22,
   "id": "aff8f879",
   "metadata": {},
   "outputs": [],
   "source": [
    "# Insert Multiple Documents, with Specified IDs\n",
    "# The insert_many() method returns a InsertManyResult object, which has a property, inserted_ids, that holds the ids of the inserted documents."
   ]
  },
  {
   "cell_type": "code",
   "execution_count": 23,
   "id": "96912160",
   "metadata": {},
   "outputs": [],
   "source": [
    "# If you do not want MongoDB to assign unique ids for you document, you can specify the _id field when you insert the document(s)."
   ]
  },
  {
   "cell_type": "code",
   "execution_count": 24,
   "id": "25a57e12",
   "metadata": {},
   "outputs": [],
   "source": [
    "mylist = [\n",
    "  { \"_id\": 1, \"name\": \"John\", \"address\": \"Highway 37\"},\n",
    "  { \"_id\": 2, \"name\": \"Peter\", \"address\": \"Lowstreet 27\"},\n",
    "  { \"_id\": 3, \"name\": \"Amy\", \"address\": \"Apple st 652\"},\n",
    "  { \"_id\": 4, \"name\": \"Hannah\", \"address\": \"Mountain 21\"},\n",
    "  { \"_id\": 5, \"name\": \"Michael\", \"address\": \"Valley 345\"},\n",
    "  { \"_id\": 6, \"name\": \"Sandy\", \"address\": \"Ocean blvd 2\"},\n",
    "  { \"_id\": 7, \"name\": \"Betty\", \"address\": \"Green Grass 1\"},\n",
    "  { \"_id\": 8, \"name\": \"Richard\", \"address\": \"Sky st 331\"},\n",
    "  { \"_id\": 9, \"name\": \"Susan\", \"address\": \"One way 98\"},\n",
    "  { \"_id\": 10, \"name\": \"Vicky\", \"address\": \"Yellow Garden 2\"},\n",
    "  { \"_id\": 11, \"name\": \"Ben\", \"address\": \"Park Lane 38\"},\n",
    "  { \"_id\": 12, \"name\": \"William\", \"address\": \"Central st 954\"},\n",
    "  { \"_id\": 13, \"name\": \"Chuck\", \"address\": \"Main Road 989\"},\n",
    "  { \"_id\": 14, \"name\": \"Viola\", \"address\": \"Sideway 1633\"}\n",
    "]"
   ]
  },
  {
   "cell_type": "code",
   "execution_count": 25,
   "id": "032033fa",
   "metadata": {},
   "outputs": [],
   "source": [
    "x = mycol.insert_many(mylist)"
   ]
  },
  {
   "cell_type": "code",
   "execution_count": 26,
   "id": "397febe9",
   "metadata": {},
   "outputs": [
    {
     "name": "stdout",
     "output_type": "stream",
     "text": [
      "[1, 2, 3, 4, 5, 6, 7, 8, 9, 10, 11, 12, 13, 14]\n"
     ]
    }
   ],
   "source": [
    "print(x.inserted_ids)"
   ]
  },
  {
   "cell_type": "code",
   "execution_count": 27,
   "id": "6f64af86",
   "metadata": {},
   "outputs": [],
   "source": [
    "# MongoDB use find() and find_one() methods to find data in a collection\n",
    "# As like Select statement is used to find data in a table in a mysql database"
   ]
  },
  {
   "cell_type": "code",
   "execution_count": 28,
   "id": "f17232c0",
   "metadata": {},
   "outputs": [],
   "source": [
    "# find \n",
    "# select data from a table in mongodb, we can also use the find() method,\n",
    "# find() methods returns all occurrences in the selection"
   ]
  },
  {
   "cell_type": "code",
   "execution_count": 29,
   "id": "034841ce",
   "metadata": {},
   "outputs": [
    {
     "name": "stdout",
     "output_type": "stream",
     "text": [
      "{'_id': ObjectId('63933d22da8c580189711c2e'), 'name': 'John', 'address': 'Highway 37'}\n",
      "{'_id': ObjectId('63933d73da8c580189711c2f'), 'name': 'Peter', 'address': 'Lowstreet 27'}\n",
      "{'_id': ObjectId('63933eb3da8c580189711c30'), 'name': 'Amy', 'address': 'Apple st 652'}\n",
      "{'_id': ObjectId('63933eb3da8c580189711c31'), 'name': 'Ashish', 'address': 'Noida Sector 44'}\n",
      "{'_id': ObjectId('63933eb3da8c580189711c32'), 'name': 'Abhishek', 'address': 'Kanpur UP'}\n",
      "{'_id': ObjectId('63933eb3da8c580189711c33'), 'name': 'Ajay', 'address': 'Delhi'}\n",
      "{'_id': ObjectId('63933eb3da8c580189711c34'), 'name': 'Shubham', 'address': 'MandiHouse'}\n",
      "{'_id': ObjectId('63933eb3da8c580189711c35'), 'name': 'Vishal', 'address': 'Gorakhpur'}\n",
      "{'_id': 1, 'name': 'John', 'address': 'Highway 37'}\n",
      "{'_id': 2, 'name': 'Peter', 'address': 'Lowstreet 27'}\n",
      "{'_id': 3, 'name': 'Amy', 'address': 'Apple st 652'}\n",
      "{'_id': 4, 'name': 'Hannah', 'address': 'Mountain 21'}\n",
      "{'_id': 5, 'name': 'Michael', 'address': 'Valley 345'}\n",
      "{'_id': 6, 'name': 'Sandy', 'address': 'Ocean blvd 2'}\n",
      "{'_id': 7, 'name': 'Betty', 'address': 'Green Grass 1'}\n",
      "{'_id': 8, 'name': 'Richard', 'address': 'Sky st 331'}\n",
      "{'_id': 9, 'name': 'Susan', 'address': 'One way 98'}\n",
      "{'_id': 10, 'name': 'Vicky', 'address': 'Yellow Garden 2'}\n",
      "{'_id': 11, 'name': 'Ben', 'address': 'Park Lane 38'}\n",
      "{'_id': 12, 'name': 'William', 'address': 'Central st 954'}\n",
      "{'_id': 13, 'name': 'Chuck', 'address': 'Main Road 989'}\n",
      "{'_id': 14, 'name': 'Viola', 'address': 'Sideway 1633'}\n"
     ]
    }
   ],
   "source": [
    "for x in mycol.find():\n",
    "    print(x)"
   ]
  },
  {
   "cell_type": "code",
   "execution_count": 30,
   "id": "9ed31c0a",
   "metadata": {
    "scrolled": true
   },
   "outputs": [
    {
     "name": "stdout",
     "output_type": "stream",
     "text": [
      "{'name': 'John', 'address': 'Highway 37'}\n",
      "{'name': 'Peter', 'address': 'Lowstreet 27'}\n",
      "{'name': 'Amy', 'address': 'Apple st 652'}\n",
      "{'name': 'Ashish', 'address': 'Noida Sector 44'}\n",
      "{'name': 'Abhishek', 'address': 'Kanpur UP'}\n",
      "{'name': 'Ajay', 'address': 'Delhi'}\n",
      "{'name': 'Shubham', 'address': 'MandiHouse'}\n",
      "{'name': 'Vishal', 'address': 'Gorakhpur'}\n",
      "{'name': 'John', 'address': 'Highway 37'}\n",
      "{'name': 'Peter', 'address': 'Lowstreet 27'}\n",
      "{'name': 'Amy', 'address': 'Apple st 652'}\n",
      "{'name': 'Hannah', 'address': 'Mountain 21'}\n",
      "{'name': 'Michael', 'address': 'Valley 345'}\n",
      "{'name': 'Sandy', 'address': 'Ocean blvd 2'}\n",
      "{'name': 'Betty', 'address': 'Green Grass 1'}\n",
      "{'name': 'Richard', 'address': 'Sky st 331'}\n",
      "{'name': 'Susan', 'address': 'One way 98'}\n",
      "{'name': 'Vicky', 'address': 'Yellow Garden 2'}\n",
      "{'name': 'Ben', 'address': 'Park Lane 38'}\n",
      "{'name': 'William', 'address': 'Central st 954'}\n",
      "{'name': 'Chuck', 'address': 'Main Road 989'}\n",
      "{'name': 'Viola', 'address': 'Sideway 1633'}\n"
     ]
    }
   ],
   "source": [
    "# Returns only some fields\n",
    "for x in mycol.find({},{\"_id\":0, \"name\": 1, \"address\":1}):\n",
    "    print(x)"
   ]
  },
  {
   "cell_type": "code",
   "execution_count": null,
   "id": "6adc7e62",
   "metadata": {},
   "outputs": [],
   "source": [
    "# You are not allowed to specify both 0 and 1 values in the same object. If you specify a field with the value 0,all other fields get the value 1,and vice versa:"
   ]
  },
  {
   "cell_type": "code",
   "execution_count": 31,
   "id": "f401e9d6",
   "metadata": {},
   "outputs": [
    {
     "name": "stdout",
     "output_type": "stream",
     "text": [
      "{'_id': ObjectId('63933d22da8c580189711c2e'), 'name': 'John'}\n",
      "{'_id': ObjectId('63933d73da8c580189711c2f'), 'name': 'Peter'}\n",
      "{'_id': ObjectId('63933eb3da8c580189711c30'), 'name': 'Amy'}\n",
      "{'_id': ObjectId('63933eb3da8c580189711c31'), 'name': 'Ashish'}\n",
      "{'_id': ObjectId('63933eb3da8c580189711c32'), 'name': 'Abhishek'}\n",
      "{'_id': ObjectId('63933eb3da8c580189711c33'), 'name': 'Ajay'}\n",
      "{'_id': ObjectId('63933eb3da8c580189711c34'), 'name': 'Shubham'}\n",
      "{'_id': ObjectId('63933eb3da8c580189711c35'), 'name': 'Vishal'}\n",
      "{'_id': 1, 'name': 'John'}\n",
      "{'_id': 2, 'name': 'Peter'}\n",
      "{'_id': 3, 'name': 'Amy'}\n",
      "{'_id': 4, 'name': 'Hannah'}\n",
      "{'_id': 5, 'name': 'Michael'}\n",
      "{'_id': 6, 'name': 'Sandy'}\n",
      "{'_id': 7, 'name': 'Betty'}\n",
      "{'_id': 8, 'name': 'Richard'}\n",
      "{'_id': 9, 'name': 'Susan'}\n",
      "{'_id': 10, 'name': 'Vicky'}\n",
      "{'_id': 11, 'name': 'Ben'}\n",
      "{'_id': 12, 'name': 'William'}\n",
      "{'_id': 13, 'name': 'Chuck'}\n",
      "{'_id': 14, 'name': 'Viola'}\n"
     ]
    }
   ],
   "source": [
    "for x in mycol.find({},{\"address\":0}):\n",
    "    print(x)"
   ]
  },
  {
   "cell_type": "code",
   "execution_count": 32,
   "id": "332a20ad",
   "metadata": {},
   "outputs": [],
   "source": [
    "# find_one()\n",
    "# To select data from a collection in MongoDB, we can use the find_one() method\n",
    "# The find_one() method returns the first occurrence in the selection."
   ]
  },
  {
   "cell_type": "code",
   "execution_count": 33,
   "id": "65db6bb4",
   "metadata": {},
   "outputs": [],
   "source": [
    "x = mycol.find_one()"
   ]
  },
  {
   "cell_type": "code",
   "execution_count": 34,
   "id": "77953010",
   "metadata": {},
   "outputs": [
    {
     "data": {
      "text/plain": [
       "{'_id': ObjectId('63933d22da8c580189711c2e'),\n",
       " 'name': 'John',\n",
       " 'address': 'Highway 37'}"
      ]
     },
     "execution_count": 34,
     "metadata": {},
     "output_type": "execute_result"
    }
   ],
   "source": [
    "x"
   ]
  },
  {
   "cell_type": "code",
   "execution_count": 35,
   "id": "9eefff56",
   "metadata": {},
   "outputs": [],
   "source": [
    "# Filter\n",
    "myquery = {\"address\":\"Park Lane 38\"}\n",
    "mydoc = mycol.find(myquery)"
   ]
  },
  {
   "cell_type": "code",
   "execution_count": 36,
   "id": "8675b19c",
   "metadata": {},
   "outputs": [
    {
     "name": "stdout",
     "output_type": "stream",
     "text": [
      "{'_id': ObjectId('63933d22da8c580189711c2e'), 'name': 'John', 'address': 'Highway 37'}\n"
     ]
    }
   ],
   "source": [
    "for i in mydoc:\n",
    "    print(x)"
   ]
  },
  {
   "cell_type": "code",
   "execution_count": 37,
   "id": "85107df5",
   "metadata": {},
   "outputs": [
    {
     "name": "stdout",
     "output_type": "stream",
     "text": [
      "0\n"
     ]
    }
   ],
   "source": [
    "print(mydoc.cursor_id)"
   ]
  },
  {
   "cell_type": "code",
   "execution_count": 38,
   "id": "2c1c5520",
   "metadata": {},
   "outputs": [],
   "source": [
    "# Advanced Query\n",
    "# Find documents where the address starts with the letter \"S\" or higher\n",
    "myquery = { \"address\":{ \"$gt\":\"S\" } }\n",
    "mydoc=mycol.find(myquery)"
   ]
  },
  {
   "cell_type": "code",
   "execution_count": 39,
   "id": "e5549c60",
   "metadata": {},
   "outputs": [
    {
     "name": "stdout",
     "output_type": "stream",
     "text": [
      "{'_id': 5, 'name': 'Michael', 'address': 'Valley 345'}\n",
      "{'_id': 8, 'name': 'Richard', 'address': 'Sky st 331'}\n",
      "{'_id': 10, 'name': 'Vicky', 'address': 'Yellow Garden 2'}\n",
      "{'_id': 14, 'name': 'Viola', 'address': 'Sideway 1633'}\n"
     ]
    }
   ],
   "source": [
    "for i in mydoc:\n",
    "    print(i)"
   ]
  },
  {
   "cell_type": "code",
   "execution_count": 40,
   "id": "179d4d5e",
   "metadata": {},
   "outputs": [],
   "source": [
    "# Filter With Regular Expressions\n",
    "# Regular expressions can only be used to query strings.\n",
    "# The find only the documents where the \"address\" field starts with the letter \"S\", use the regular experssion {\"$reges\":\"^S\"}:\n",
    "# Find documents where the address starts with the letter \"S\":"
   ]
  },
  {
   "cell_type": "code",
   "execution_count": 41,
   "id": "4137cb37",
   "metadata": {},
   "outputs": [
    {
     "name": "stdout",
     "output_type": "stream",
     "text": [
      "{'_id': 8, 'name': 'Richard', 'address': 'Sky st 331'}\n",
      "{'_id': 14, 'name': 'Viola', 'address': 'Sideway 1633'}\n"
     ]
    }
   ],
   "source": [
    "myquery = {\"address\":{ \"$regex\": \"^S\" }}\n",
    "\n",
    "mydoc = mycol.find(myquery)\n",
    "for x in mydoc:\n",
    "    print(x)"
   ]
  },
  {
   "cell_type": "code",
   "execution_count": 43,
   "id": "6d927304",
   "metadata": {},
   "outputs": [
    {
     "name": "stdout",
     "output_type": "stream",
     "text": [
      "{'_id': ObjectId('63933eb3da8c580189711c30'), 'name': 'Amy', 'address': 'Apple st 652'}\n",
      "{'_id': 3, 'name': 'Amy', 'address': 'Apple st 652'}\n"
     ]
    }
   ],
   "source": [
    "myquery = {\"address\":{\"$regex\": \"^A\"}}\n",
    "\n",
    "mydoc = mycol.find(myquery)\n",
    "for x in mydoc:\n",
    "    print(x)"
   ]
  },
  {
   "cell_type": "code",
   "execution_count": 44,
   "id": "eb002ac3",
   "metadata": {},
   "outputs": [],
   "source": [
    "# Sort the Result\n",
    "# sort() method to sort the result in asceding or descending order\n",
    "# sort() method takes one parameter for \"filedname\" and one parameter for \"direction\" (ascending is the default direction)."
   ]
  },
  {
   "cell_type": "code",
   "execution_count": 45,
   "id": "61fc50a4",
   "metadata": {},
   "outputs": [],
   "source": [
    "mydoc = mycol.find().sort(\"name\")"
   ]
  },
  {
   "cell_type": "code",
   "execution_count": 46,
   "id": "3fa1f260",
   "metadata": {},
   "outputs": [
    {
     "name": "stdout",
     "output_type": "stream",
     "text": [
      "{'_id': ObjectId('63933eb3da8c580189711c32'), 'name': 'Abhishek', 'address': 'Kanpur UP'}\n",
      "{'_id': ObjectId('63933eb3da8c580189711c33'), 'name': 'Ajay', 'address': 'Delhi'}\n",
      "{'_id': ObjectId('63933eb3da8c580189711c30'), 'name': 'Amy', 'address': 'Apple st 652'}\n",
      "{'_id': 3, 'name': 'Amy', 'address': 'Apple st 652'}\n",
      "{'_id': ObjectId('63933eb3da8c580189711c31'), 'name': 'Ashish', 'address': 'Noida Sector 44'}\n",
      "{'_id': 11, 'name': 'Ben', 'address': 'Park Lane 38'}\n",
      "{'_id': 7, 'name': 'Betty', 'address': 'Green Grass 1'}\n",
      "{'_id': 13, 'name': 'Chuck', 'address': 'Main Road 989'}\n",
      "{'_id': 4, 'name': 'Hannah', 'address': 'Mountain 21'}\n",
      "{'_id': ObjectId('63933d22da8c580189711c2e'), 'name': 'John', 'address': 'Highway 37'}\n",
      "{'_id': 1, 'name': 'John', 'address': 'Highway 37'}\n",
      "{'_id': 5, 'name': 'Michael', 'address': 'Valley 345'}\n",
      "{'_id': ObjectId('63933d73da8c580189711c2f'), 'name': 'Peter', 'address': 'Lowstreet 27'}\n",
      "{'_id': 2, 'name': 'Peter', 'address': 'Lowstreet 27'}\n",
      "{'_id': 8, 'name': 'Richard', 'address': 'Sky st 331'}\n",
      "{'_id': 6, 'name': 'Sandy', 'address': 'Ocean blvd 2'}\n",
      "{'_id': ObjectId('63933eb3da8c580189711c34'), 'name': 'Shubham', 'address': 'MandiHouse'}\n",
      "{'_id': 9, 'name': 'Susan', 'address': 'One way 98'}\n",
      "{'_id': 10, 'name': 'Vicky', 'address': 'Yellow Garden 2'}\n",
      "{'_id': 14, 'name': 'Viola', 'address': 'Sideway 1633'}\n",
      "{'_id': ObjectId('63933eb3da8c580189711c35'), 'name': 'Vishal', 'address': 'Gorakhpur'}\n",
      "{'_id': 12, 'name': 'William', 'address': 'Central st 954'}\n"
     ]
    }
   ],
   "source": [
    "for x in mydoc:\n",
    "    print(x)"
   ]
  },
  {
   "cell_type": "code",
   "execution_count": null,
   "id": "e2b36c08",
   "metadata": {},
   "outputs": [],
   "source": [
    "# Sort descending\n",
    "# Use the value -1 as the second parameter to sort descending.\n",
    "# sort(\"name\", 1) #ascending\n",
    "# sort(\"name\", -1) #descending"
   ]
  },
  {
   "cell_type": "code",
   "execution_count": 47,
   "id": "745e2934",
   "metadata": {},
   "outputs": [
    {
     "name": "stdout",
     "output_type": "stream",
     "text": [
      "{'_id': 12, 'name': 'William', 'address': 'Central st 954'}\n",
      "{'_id': ObjectId('63933eb3da8c580189711c35'), 'name': 'Vishal', 'address': 'Gorakhpur'}\n",
      "{'_id': 14, 'name': 'Viola', 'address': 'Sideway 1633'}\n",
      "{'_id': 10, 'name': 'Vicky', 'address': 'Yellow Garden 2'}\n",
      "{'_id': 9, 'name': 'Susan', 'address': 'One way 98'}\n",
      "{'_id': ObjectId('63933eb3da8c580189711c34'), 'name': 'Shubham', 'address': 'MandiHouse'}\n",
      "{'_id': 6, 'name': 'Sandy', 'address': 'Ocean blvd 2'}\n",
      "{'_id': 8, 'name': 'Richard', 'address': 'Sky st 331'}\n",
      "{'_id': ObjectId('63933d73da8c580189711c2f'), 'name': 'Peter', 'address': 'Lowstreet 27'}\n",
      "{'_id': 2, 'name': 'Peter', 'address': 'Lowstreet 27'}\n",
      "{'_id': 5, 'name': 'Michael', 'address': 'Valley 345'}\n",
      "{'_id': ObjectId('63933d22da8c580189711c2e'), 'name': 'John', 'address': 'Highway 37'}\n",
      "{'_id': 1, 'name': 'John', 'address': 'Highway 37'}\n",
      "{'_id': 4, 'name': 'Hannah', 'address': 'Mountain 21'}\n",
      "{'_id': 13, 'name': 'Chuck', 'address': 'Main Road 989'}\n",
      "{'_id': 7, 'name': 'Betty', 'address': 'Green Grass 1'}\n",
      "{'_id': 11, 'name': 'Ben', 'address': 'Park Lane 38'}\n",
      "{'_id': ObjectId('63933eb3da8c580189711c31'), 'name': 'Ashish', 'address': 'Noida Sector 44'}\n",
      "{'_id': ObjectId('63933eb3da8c580189711c30'), 'name': 'Amy', 'address': 'Apple st 652'}\n",
      "{'_id': 3, 'name': 'Amy', 'address': 'Apple st 652'}\n",
      "{'_id': ObjectId('63933eb3da8c580189711c33'), 'name': 'Ajay', 'address': 'Delhi'}\n",
      "{'_id': ObjectId('63933eb3da8c580189711c32'), 'name': 'Abhishek', 'address': 'Kanpur UP'}\n"
     ]
    }
   ],
   "source": [
    "# Sort the result reverse alphabetically by name:\n",
    "mydoc = mycol.find().sort(\"name\", -1)\n",
    "for x in mydoc:\n",
    "    print(x)"
   ]
  },
  {
   "cell_type": "code",
   "execution_count": null,
   "id": "e24fe8ae",
   "metadata": {},
   "outputs": [],
   "source": [
    "# Python MongoDB Delete Document\n",
    "# To delete one document, we can use the delete_one() method\n",
    "# The first parameter of the delete_one() method"
   ]
  },
  {
   "cell_type": "code",
   "execution_count": null,
   "id": "97cb7d32",
   "metadata": {},
   "outputs": [],
   "source": []
  },
  {
   "cell_type": "code",
   "execution_count": null,
   "id": "ff3f7608",
   "metadata": {},
   "outputs": [],
   "source": []
  },
  {
   "cell_type": "code",
   "execution_count": null,
   "id": "77d33945",
   "metadata": {},
   "outputs": [],
   "source": []
  },
  {
   "cell_type": "code",
   "execution_count": null,
   "id": "0ad8f3ae",
   "metadata": {},
   "outputs": [],
   "source": []
  }
 ],
 "metadata": {
  "kernelspec": {
   "display_name": "Python 3 (ipykernel)",
   "language": "python",
   "name": "python3"
  },
  "language_info": {
   "codemirror_mode": {
    "name": "ipython",
    "version": 3
   },
   "file_extension": ".py",
   "mimetype": "text/x-python",
   "name": "python",
   "nbconvert_exporter": "python",
   "pygments_lexer": "ipython3",
   "version": "3.8.10"
  }
 },
 "nbformat": 4,
 "nbformat_minor": 5
}
