{
 "cells": [
  {
   "cell_type": "code",
   "execution_count": 1,
   "id": "00b14ace",
   "metadata": {},
   "outputs": [],
   "source": [
    "import pandas as pd"
   ]
  },
  {
   "cell_type": "code",
   "execution_count": 2,
   "id": "288f840e",
   "metadata": {},
   "outputs": [],
   "source": [
    "# string\n",
    "country = ['India','Pakistan','USA','Nepal','Srilanka']"
   ]
  },
  {
   "cell_type": "code",
   "execution_count": 3,
   "id": "8fce5401",
   "metadata": {},
   "outputs": [
    {
     "data": {
      "text/plain": [
       "0       India\n",
       "1    Pakistan\n",
       "2         USA\n",
       "3       Nepal\n",
       "4    Srilanka\n",
       "dtype: object"
      ]
     },
     "execution_count": 3,
     "metadata": {},
     "output_type": "execute_result"
    }
   ],
   "source": [
    "pd.Series(country)"
   ]
  },
  {
   "cell_type": "code",
   "execution_count": 4,
   "id": "ffed8dd5",
   "metadata": {},
   "outputs": [
    {
     "data": {
      "text/plain": [
       "0     12\n",
       "1     24\n",
       "2     56\n",
       "3     78\n",
       "4    100\n",
       "dtype: int64"
      ]
     },
     "execution_count": 4,
     "metadata": {},
     "output_type": "execute_result"
    }
   ],
   "source": [
    "# integers\n",
    "runs = [12,24,56,78,100]\n",
    "pd.Series(runs)"
   ]
  },
  {
   "cell_type": "code",
   "execution_count": 5,
   "id": "0d44555a",
   "metadata": {},
   "outputs": [
    {
     "data": {
      "text/plain": [
       "maths       67\n",
       "english     57\n",
       "science     89\n",
       "hindi      100\n",
       "dtype: int64"
      ]
     },
     "execution_count": 5,
     "metadata": {},
     "output_type": "execute_result"
    }
   ],
   "source": [
    "# custom index\n",
    "marks = [67,57,89,100]\n",
    "subjects = ['maths','english','science','hindi']\n",
    "pd.Series(marks,index=subjects)"
   ]
  },
  {
   "cell_type": "code",
   "execution_count": 8,
   "id": "5d3ab4ae",
   "metadata": {},
   "outputs": [
    {
     "data": {
      "text/plain": [
       "maths       67\n",
       "english     57\n",
       "science     89\n",
       "hindi      100\n",
       "Name: Nitesh ke marks, dtype: int64"
      ]
     },
     "execution_count": 8,
     "metadata": {},
     "output_type": "execute_result"
    }
   ],
   "source": [
    "# setting a name in series\n",
    "marks=pd.Series(marks,index=subjects, name = 'Nitesh ke marks')\n",
    "marks"
   ]
  },
  {
   "cell_type": "markdown",
   "id": "e04c2bc4",
   "metadata": {},
   "source": [
    "#### Series from dict"
   ]
  },
  {
   "cell_type": "code",
   "execution_count": 12,
   "id": "7b804959",
   "metadata": {},
   "outputs": [
    {
     "data": {
      "text/plain": [
       "math        67\n",
       "english     57\n",
       "science     89\n",
       "hindi      100\n",
       "Name: ashish ke marks, dtype: int64"
      ]
     },
     "execution_count": 12,
     "metadata": {},
     "output_type": "execute_result"
    }
   ],
   "source": [
    "marks ={\n",
    "    'math':67,\n",
    "    'english':57,\n",
    "    'science':89,\n",
    "    'hindi':100\n",
    "}\n",
    "marks_series = pd.Series(marks,name='ashish ke marks')\n",
    "marks_series"
   ]
  },
  {
   "cell_type": "code",
   "execution_count": null,
   "id": "5122897d",
   "metadata": {},
   "outputs": [],
   "source": []
  },
  {
   "cell_type": "markdown",
   "id": "eb8bbf90",
   "metadata": {},
   "source": [
    "#### Series Attributes"
   ]
  },
  {
   "cell_type": "code",
   "execution_count": 14,
   "id": "8212b09e",
   "metadata": {},
   "outputs": [
    {
     "data": {
      "text/plain": [
       "4"
      ]
     },
     "execution_count": 14,
     "metadata": {},
     "output_type": "execute_result"
    }
   ],
   "source": [
    "marks_series.size"
   ]
  },
  {
   "cell_type": "code",
   "execution_count": 15,
   "id": "fc769263",
   "metadata": {},
   "outputs": [
    {
     "data": {
      "text/plain": [
       "dtype('int64')"
      ]
     },
     "execution_count": 15,
     "metadata": {},
     "output_type": "execute_result"
    }
   ],
   "source": [
    "marks_series.dtype"
   ]
  },
  {
   "cell_type": "code",
   "execution_count": 16,
   "id": "4b2a8230",
   "metadata": {},
   "outputs": [
    {
     "data": {
      "text/plain": [
       "'ashish ke marks'"
      ]
     },
     "execution_count": 16,
     "metadata": {},
     "output_type": "execute_result"
    }
   ],
   "source": [
    "# name\n",
    "marks_series.name"
   ]
  },
  {
   "cell_type": "code",
   "execution_count": 19,
   "id": "7f4a0023",
   "metadata": {},
   "outputs": [
    {
     "data": {
      "text/plain": [
       "False"
      ]
     },
     "execution_count": 19,
     "metadata": {},
     "output_type": "execute_result"
    }
   ],
   "source": [
    "# is_unique\n",
    "# Every item unique or not\n",
    "marks_series.is_unique\n",
    "\n",
    "pd.Series([1,1,2,3,4,5]).is_unique"
   ]
  },
  {
   "cell_type": "code",
   "execution_count": 21,
   "id": "c057c039",
   "metadata": {},
   "outputs": [
    {
     "data": {
      "text/plain": [
       "Index(['math', 'english', 'science', 'hindi'], dtype='object')"
      ]
     },
     "execution_count": 21,
     "metadata": {},
     "output_type": "execute_result"
    }
   ],
   "source": [
    "# index\n",
    "marks_series.index\n"
   ]
  },
  {
   "cell_type": "code",
   "execution_count": 23,
   "id": "9c8c1e8d",
   "metadata": {},
   "outputs": [
    {
     "data": {
      "text/plain": [
       "array([ 67,  57,  89, 100])"
      ]
     },
     "execution_count": 23,
     "metadata": {},
     "output_type": "execute_result"
    }
   ],
   "source": [
    "# values\n",
    "marks_series.values"
   ]
  },
  {
   "cell_type": "markdown",
   "id": "d2260b51",
   "metadata": {},
   "source": [
    "#### Series using read_csv"
   ]
  },
  {
   "cell_type": "code",
   "execution_count": 27,
   "id": "0978338b",
   "metadata": {},
   "outputs": [
    {
     "name": "stderr",
     "output_type": "stream",
     "text": [
      "/tmp/ipykernel_476999/2845473688.py:3: FutureWarning: The squeeze argument has been deprecated and will be removed in a future version. Append .squeeze(\"columns\") to the call to squeeze.\n",
      "\n",
      "\n",
      "  subs=pd.read_csv('subs.csv',squeeze=True)\n"
     ]
    },
    {
     "data": {
      "text/plain": [
       "0       48\n",
       "1       57\n",
       "2       40\n",
       "3       43\n",
       "4       44\n",
       "      ... \n",
       "360    231\n",
       "361    226\n",
       "362    155\n",
       "363    144\n",
       "364    172\n",
       "Name: Subscribers gained, Length: 365, dtype: int64"
      ]
     },
     "execution_count": 27,
     "metadata": {},
     "output_type": "execute_result"
    }
   ],
   "source": [
    "# with one col\n",
    "# By default data is return Dataframe if I have return series then use squeexe= True\n",
    "subs=pd.read_csv('subs.csv',squeeze=True)\n",
    "subs"
   ]
  },
  {
   "cell_type": "code",
   "execution_count": 50,
   "id": "c47d5e21",
   "metadata": {},
   "outputs": [
    {
     "name": "stderr",
     "output_type": "stream",
     "text": [
      "/tmp/ipykernel_476999/572266696.py:1: FutureWarning: The squeeze argument has been deprecated and will be removed in a future version. Append .squeeze(\"columns\") to the call to squeeze.\n",
      "\n",
      "\n",
      "  vk = pd.read_csv('kohli_ipl.csv',index_col='movies',squeeze=True)\n"
     ]
    },
    {
     "ename": "ValueError",
     "evalue": "Index movies invalid",
     "output_type": "error",
     "traceback": [
      "\u001b[0;31m---------------------------------------------------------------------------\u001b[0m",
      "\u001b[0;31mValueError\u001b[0m                                Traceback (most recent call last)",
      "Input \u001b[0;32mIn [50]\u001b[0m, in \u001b[0;36m<cell line: 1>\u001b[0;34m()\u001b[0m\n\u001b[0;32m----> 1\u001b[0m vk \u001b[38;5;241m=\u001b[39m \u001b[43mpd\u001b[49m\u001b[38;5;241;43m.\u001b[39;49m\u001b[43mread_csv\u001b[49m\u001b[43m(\u001b[49m\u001b[38;5;124;43m'\u001b[39;49m\u001b[38;5;124;43mkohli_ipl.csv\u001b[39;49m\u001b[38;5;124;43m'\u001b[39;49m\u001b[43m,\u001b[49m\u001b[43mindex_col\u001b[49m\u001b[38;5;241;43m=\u001b[39;49m\u001b[38;5;124;43m'\u001b[39;49m\u001b[38;5;124;43mmovies\u001b[39;49m\u001b[38;5;124;43m'\u001b[39;49m\u001b[43m,\u001b[49m\u001b[43msqueeze\u001b[49m\u001b[38;5;241;43m=\u001b[39;49m\u001b[38;5;28;43;01mTrue\u001b[39;49;00m\u001b[43m)\u001b[49m\n",
      "File \u001b[0;32m~/.local/lib/python3.8/site-packages/pandas/util/_decorators.py:311\u001b[0m, in \u001b[0;36mdeprecate_nonkeyword_arguments.<locals>.decorate.<locals>.wrapper\u001b[0;34m(*args, **kwargs)\u001b[0m\n\u001b[1;32m    305\u001b[0m \u001b[38;5;28;01mif\u001b[39;00m \u001b[38;5;28mlen\u001b[39m(args) \u001b[38;5;241m>\u001b[39m num_allow_args:\n\u001b[1;32m    306\u001b[0m     warnings\u001b[38;5;241m.\u001b[39mwarn(\n\u001b[1;32m    307\u001b[0m         msg\u001b[38;5;241m.\u001b[39mformat(arguments\u001b[38;5;241m=\u001b[39marguments),\n\u001b[1;32m    308\u001b[0m         \u001b[38;5;167;01mFutureWarning\u001b[39;00m,\n\u001b[1;32m    309\u001b[0m         stacklevel\u001b[38;5;241m=\u001b[39mstacklevel,\n\u001b[1;32m    310\u001b[0m     )\n\u001b[0;32m--> 311\u001b[0m \u001b[38;5;28;01mreturn\u001b[39;00m \u001b[43mfunc\u001b[49m\u001b[43m(\u001b[49m\u001b[38;5;241;43m*\u001b[39;49m\u001b[43margs\u001b[49m\u001b[43m,\u001b[49m\u001b[43m \u001b[49m\u001b[38;5;241;43m*\u001b[39;49m\u001b[38;5;241;43m*\u001b[39;49m\u001b[43mkwargs\u001b[49m\u001b[43m)\u001b[49m\n",
      "File \u001b[0;32m~/.local/lib/python3.8/site-packages/pandas/io/parsers/readers.py:680\u001b[0m, in \u001b[0;36mread_csv\u001b[0;34m(filepath_or_buffer, sep, delimiter, header, names, index_col, usecols, squeeze, prefix, mangle_dupe_cols, dtype, engine, converters, true_values, false_values, skipinitialspace, skiprows, skipfooter, nrows, na_values, keep_default_na, na_filter, verbose, skip_blank_lines, parse_dates, infer_datetime_format, keep_date_col, date_parser, dayfirst, cache_dates, iterator, chunksize, compression, thousands, decimal, lineterminator, quotechar, quoting, doublequote, escapechar, comment, encoding, encoding_errors, dialect, error_bad_lines, warn_bad_lines, on_bad_lines, delim_whitespace, low_memory, memory_map, float_precision, storage_options)\u001b[0m\n\u001b[1;32m    665\u001b[0m kwds_defaults \u001b[38;5;241m=\u001b[39m _refine_defaults_read(\n\u001b[1;32m    666\u001b[0m     dialect,\n\u001b[1;32m    667\u001b[0m     delimiter,\n\u001b[0;32m   (...)\u001b[0m\n\u001b[1;32m    676\u001b[0m     defaults\u001b[38;5;241m=\u001b[39m{\u001b[38;5;124m\"\u001b[39m\u001b[38;5;124mdelimiter\u001b[39m\u001b[38;5;124m\"\u001b[39m: \u001b[38;5;124m\"\u001b[39m\u001b[38;5;124m,\u001b[39m\u001b[38;5;124m\"\u001b[39m},\n\u001b[1;32m    677\u001b[0m )\n\u001b[1;32m    678\u001b[0m kwds\u001b[38;5;241m.\u001b[39mupdate(kwds_defaults)\n\u001b[0;32m--> 680\u001b[0m \u001b[38;5;28;01mreturn\u001b[39;00m \u001b[43m_read\u001b[49m\u001b[43m(\u001b[49m\u001b[43mfilepath_or_buffer\u001b[49m\u001b[43m,\u001b[49m\u001b[43m \u001b[49m\u001b[43mkwds\u001b[49m\u001b[43m)\u001b[49m\n",
      "File \u001b[0;32m~/.local/lib/python3.8/site-packages/pandas/io/parsers/readers.py:581\u001b[0m, in \u001b[0;36m_read\u001b[0;34m(filepath_or_buffer, kwds)\u001b[0m\n\u001b[1;32m    578\u001b[0m     \u001b[38;5;28;01mreturn\u001b[39;00m parser\n\u001b[1;32m    580\u001b[0m \u001b[38;5;28;01mwith\u001b[39;00m parser:\n\u001b[0;32m--> 581\u001b[0m     \u001b[38;5;28;01mreturn\u001b[39;00m \u001b[43mparser\u001b[49m\u001b[38;5;241;43m.\u001b[39;49m\u001b[43mread\u001b[49m\u001b[43m(\u001b[49m\u001b[43mnrows\u001b[49m\u001b[43m)\u001b[49m\n",
      "File \u001b[0;32m~/.local/lib/python3.8/site-packages/pandas/io/parsers/readers.py:1254\u001b[0m, in \u001b[0;36mTextFileReader.read\u001b[0;34m(self, nrows)\u001b[0m\n\u001b[1;32m   1252\u001b[0m nrows \u001b[38;5;241m=\u001b[39m validate_integer(\u001b[38;5;124m\"\u001b[39m\u001b[38;5;124mnrows\u001b[39m\u001b[38;5;124m\"\u001b[39m, nrows)\n\u001b[1;32m   1253\u001b[0m \u001b[38;5;28;01mtry\u001b[39;00m:\n\u001b[0;32m-> 1254\u001b[0m     index, columns, col_dict \u001b[38;5;241m=\u001b[39m \u001b[38;5;28;43mself\u001b[39;49m\u001b[38;5;241;43m.\u001b[39;49m\u001b[43m_engine\u001b[49m\u001b[38;5;241;43m.\u001b[39;49m\u001b[43mread\u001b[49m\u001b[43m(\u001b[49m\u001b[43mnrows\u001b[49m\u001b[43m)\u001b[49m\n\u001b[1;32m   1255\u001b[0m \u001b[38;5;28;01mexcept\u001b[39;00m \u001b[38;5;167;01mException\u001b[39;00m:\n\u001b[1;32m   1256\u001b[0m     \u001b[38;5;28mself\u001b[39m\u001b[38;5;241m.\u001b[39mclose()\n",
      "File \u001b[0;32m~/.local/lib/python3.8/site-packages/pandas/io/parsers/c_parser_wrapper.py:311\u001b[0m, in \u001b[0;36mCParserWrapper.read\u001b[0;34m(self, nrows)\u001b[0m\n\u001b[1;32m    308\u001b[0m     data \u001b[38;5;241m=\u001b[39m {k: v \u001b[38;5;28;01mfor\u001b[39;00m k, (i, v) \u001b[38;5;129;01min\u001b[39;00m \u001b[38;5;28mzip\u001b[39m(names, data_tups)}\n\u001b[1;32m    310\u001b[0m     names, date_data \u001b[38;5;241m=\u001b[39m \u001b[38;5;28mself\u001b[39m\u001b[38;5;241m.\u001b[39m_do_date_conversions(names, data)\n\u001b[0;32m--> 311\u001b[0m     index, names \u001b[38;5;241m=\u001b[39m \u001b[38;5;28;43mself\u001b[39;49m\u001b[38;5;241;43m.\u001b[39;49m\u001b[43m_make_index\u001b[49m\u001b[43m(\u001b[49m\u001b[43mdate_data\u001b[49m\u001b[43m,\u001b[49m\u001b[43m \u001b[49m\u001b[43malldata\u001b[49m\u001b[43m,\u001b[49m\u001b[43m \u001b[49m\u001b[43mnames\u001b[49m\u001b[43m)\u001b[49m\n\u001b[1;32m    313\u001b[0m \u001b[38;5;66;03m# maybe create a mi on the columns\u001b[39;00m\n\u001b[1;32m    314\u001b[0m conv_names \u001b[38;5;241m=\u001b[39m \u001b[38;5;28mself\u001b[39m\u001b[38;5;241m.\u001b[39m_maybe_make_multi_index_columns(names, \u001b[38;5;28mself\u001b[39m\u001b[38;5;241m.\u001b[39mcol_names)\n",
      "File \u001b[0;32m~/.local/lib/python3.8/site-packages/pandas/io/parsers/base_parser.py:389\u001b[0m, in \u001b[0;36mParserBase._make_index\u001b[0;34m(self, data, alldata, columns, indexnamerow)\u001b[0m\n\u001b[1;32m    386\u001b[0m     index \u001b[38;5;241m=\u001b[39m \u001b[38;5;28;01mNone\u001b[39;00m\n\u001b[1;32m    388\u001b[0m \u001b[38;5;28;01melif\u001b[39;00m \u001b[38;5;129;01mnot\u001b[39;00m \u001b[38;5;28mself\u001b[39m\u001b[38;5;241m.\u001b[39m_has_complex_date_col:\n\u001b[0;32m--> 389\u001b[0m     index \u001b[38;5;241m=\u001b[39m \u001b[38;5;28;43mself\u001b[39;49m\u001b[38;5;241;43m.\u001b[39;49m\u001b[43m_get_simple_index\u001b[49m\u001b[43m(\u001b[49m\u001b[43malldata\u001b[49m\u001b[43m,\u001b[49m\u001b[43m \u001b[49m\u001b[43mcolumns\u001b[49m\u001b[43m)\u001b[49m\n\u001b[1;32m    390\u001b[0m     index \u001b[38;5;241m=\u001b[39m \u001b[38;5;28mself\u001b[39m\u001b[38;5;241m.\u001b[39m_agg_index(index)\n\u001b[1;32m    391\u001b[0m \u001b[38;5;28;01melif\u001b[39;00m \u001b[38;5;28mself\u001b[39m\u001b[38;5;241m.\u001b[39m_has_complex_date_col:\n",
      "File \u001b[0;32m~/.local/lib/python3.8/site-packages/pandas/io/parsers/base_parser.py:421\u001b[0m, in \u001b[0;36mParserBase._get_simple_index\u001b[0;34m(self, data, columns)\u001b[0m\n\u001b[1;32m    419\u001b[0m index \u001b[38;5;241m=\u001b[39m []\n\u001b[1;32m    420\u001b[0m \u001b[38;5;28;01mfor\u001b[39;00m idx \u001b[38;5;129;01min\u001b[39;00m \u001b[38;5;28mself\u001b[39m\u001b[38;5;241m.\u001b[39mindex_col:\n\u001b[0;32m--> 421\u001b[0m     i \u001b[38;5;241m=\u001b[39m \u001b[43mix\u001b[49m\u001b[43m(\u001b[49m\u001b[43midx\u001b[49m\u001b[43m)\u001b[49m\n\u001b[1;32m    422\u001b[0m     to_remove\u001b[38;5;241m.\u001b[39mappend(i)\n\u001b[1;32m    423\u001b[0m     index\u001b[38;5;241m.\u001b[39mappend(data[i])\n",
      "File \u001b[0;32m~/.local/lib/python3.8/site-packages/pandas/io/parsers/base_parser.py:416\u001b[0m, in \u001b[0;36mParserBase._get_simple_index.<locals>.ix\u001b[0;34m(col)\u001b[0m\n\u001b[1;32m    414\u001b[0m \u001b[38;5;28;01mif\u001b[39;00m \u001b[38;5;129;01mnot\u001b[39;00m \u001b[38;5;28misinstance\u001b[39m(col, \u001b[38;5;28mstr\u001b[39m):\n\u001b[1;32m    415\u001b[0m     \u001b[38;5;28;01mreturn\u001b[39;00m col\n\u001b[0;32m--> 416\u001b[0m \u001b[38;5;28;01mraise\u001b[39;00m \u001b[38;5;167;01mValueError\u001b[39;00m(\u001b[38;5;124mf\u001b[39m\u001b[38;5;124m\"\u001b[39m\u001b[38;5;124mIndex \u001b[39m\u001b[38;5;132;01m{\u001b[39;00mcol\u001b[38;5;132;01m}\u001b[39;00m\u001b[38;5;124m invalid\u001b[39m\u001b[38;5;124m\"\u001b[39m)\n",
      "\u001b[0;31mValueError\u001b[0m: Index movies invalid"
     ]
    }
   ],
   "source": [
    "vk = pd.read_csv('kohli_ipl.csv',index_col='movies',squeeze=True)"
   ]
  },
  {
   "cell_type": "code",
   "execution_count": 51,
   "id": "e9b92b21",
   "metadata": {},
   "outputs": [
    {
     "data": {
      "text/html": [
       "<div>\n",
       "<style scoped>\n",
       "    .dataframe tbody tr th:only-of-type {\n",
       "        vertical-align: middle;\n",
       "    }\n",
       "\n",
       "    .dataframe tbody tr th {\n",
       "        vertical-align: top;\n",
       "    }\n",
       "\n",
       "    .dataframe thead th {\n",
       "        text-align: right;\n",
       "    }\n",
       "</style>\n",
       "<table border=\"1\" class=\"dataframe\">\n",
       "  <thead>\n",
       "    <tr style=\"text-align: right;\">\n",
       "      <th></th>\n",
       "      <th>match_no</th>\n",
       "      <th>runs</th>\n",
       "    </tr>\n",
       "  </thead>\n",
       "  <tbody>\n",
       "    <tr>\n",
       "      <th>0</th>\n",
       "      <td>1</td>\n",
       "      <td>1</td>\n",
       "    </tr>\n",
       "    <tr>\n",
       "      <th>1</th>\n",
       "      <td>2</td>\n",
       "      <td>23</td>\n",
       "    </tr>\n",
       "    <tr>\n",
       "      <th>2</th>\n",
       "      <td>3</td>\n",
       "      <td>13</td>\n",
       "    </tr>\n",
       "    <tr>\n",
       "      <th>3</th>\n",
       "      <td>4</td>\n",
       "      <td>12</td>\n",
       "    </tr>\n",
       "    <tr>\n",
       "      <th>4</th>\n",
       "      <td>5</td>\n",
       "      <td>1</td>\n",
       "    </tr>\n",
       "    <tr>\n",
       "      <th>...</th>\n",
       "      <td>...</td>\n",
       "      <td>...</td>\n",
       "    </tr>\n",
       "    <tr>\n",
       "      <th>210</th>\n",
       "      <td>211</td>\n",
       "      <td>0</td>\n",
       "    </tr>\n",
       "    <tr>\n",
       "      <th>211</th>\n",
       "      <td>212</td>\n",
       "      <td>20</td>\n",
       "    </tr>\n",
       "    <tr>\n",
       "      <th>212</th>\n",
       "      <td>213</td>\n",
       "      <td>73</td>\n",
       "    </tr>\n",
       "    <tr>\n",
       "      <th>213</th>\n",
       "      <td>214</td>\n",
       "      <td>25</td>\n",
       "    </tr>\n",
       "    <tr>\n",
       "      <th>214</th>\n",
       "      <td>215</td>\n",
       "      <td>7</td>\n",
       "    </tr>\n",
       "  </tbody>\n",
       "</table>\n",
       "<p>215 rows × 2 columns</p>\n",
       "</div>"
      ],
      "text/plain": [
       "     match_no  runs\n",
       "0           1     1\n",
       "1           2    23\n",
       "2           3    13\n",
       "3           4    12\n",
       "4           5     1\n",
       "..        ...   ...\n",
       "210       211     0\n",
       "211       212    20\n",
       "212       213    73\n",
       "213       214    25\n",
       "214       215     7\n",
       "\n",
       "[215 rows x 2 columns]"
      ]
     },
     "execution_count": 51,
     "metadata": {},
     "output_type": "execute_result"
    }
   ],
   "source": [
    "vk"
   ]
  },
  {
   "cell_type": "code",
   "execution_count": 32,
   "id": "ac772f0a",
   "metadata": {},
   "outputs": [
    {
     "name": "stderr",
     "output_type": "stream",
     "text": [
      "/tmp/ipykernel_476999/3168866283.py:1: FutureWarning: The squeeze argument has been deprecated and will be removed in a future version. Append .squeeze(\"columns\") to the call to squeeze.\n",
      "\n",
      "\n",
      "  movies=pd.read_csv('bollywood.csv',index_col='movie',squeeze=True)\n"
     ]
    }
   ],
   "source": [
    " movies=pd.read_csv('bollywood.csv',index_col='movie',squeeze=True)"
   ]
  },
  {
   "cell_type": "code",
   "execution_count": 33,
   "id": "caf44f4c",
   "metadata": {},
   "outputs": [
    {
     "data": {
      "text/plain": [
       "movie\n",
       "Uri: The Surgical Strike                   Vicky Kaushal\n",
       "Battalion 609                                Vicky Ahuja\n",
       "The Accidental Prime Minister (film)         Anupam Kher\n",
       "Why Cheat India                            Emraan Hashmi\n",
       "Evening Shadows                         Mona Ambegaonkar\n",
       "                                              ...       \n",
       "Hum Tumhare Hain Sanam                    Shah Rukh Khan\n",
       "Aankhen (2002 film)                     Amitabh Bachchan\n",
       "Saathiya (film)                             Vivek Oberoi\n",
       "Company (film)                                Ajay Devgn\n",
       "Awara Paagal Deewana                        Akshay Kumar\n",
       "Name: lead, Length: 1500, dtype: object"
      ]
     },
     "execution_count": 33,
     "metadata": {},
     "output_type": "execute_result"
    }
   ],
   "source": [
    "movies\n",
    "# read_csv default beahaviour store in dataframe using squeeze then return in series"
   ]
  },
  {
   "cell_type": "code",
   "execution_count": 34,
   "id": "56859c21",
   "metadata": {},
   "outputs": [
    {
     "data": {
      "text/plain": [
       "0    48\n",
       "1    57\n",
       "2    40\n",
       "3    43\n",
       "4    44\n",
       "Name: Subscribers gained, dtype: int64"
      ]
     },
     "execution_count": 34,
     "metadata": {},
     "output_type": "execute_result"
    }
   ],
   "source": [
    "# Series methods\n",
    "# head and tail\n",
    "subs.head()"
   ]
  },
  {
   "cell_type": "code",
   "execution_count": 35,
   "id": "ac45c0d4",
   "metadata": {},
   "outputs": [
    {
     "data": {
      "text/html": [
       "<div>\n",
       "<style scoped>\n",
       "    .dataframe tbody tr th:only-of-type {\n",
       "        vertical-align: middle;\n",
       "    }\n",
       "\n",
       "    .dataframe tbody tr th {\n",
       "        vertical-align: top;\n",
       "    }\n",
       "\n",
       "    .dataframe thead th {\n",
       "        text-align: right;\n",
       "    }\n",
       "</style>\n",
       "<table border=\"1\" class=\"dataframe\">\n",
       "  <thead>\n",
       "    <tr style=\"text-align: right;\">\n",
       "      <th></th>\n",
       "      <th>match_no</th>\n",
       "      <th>runs</th>\n",
       "    </tr>\n",
       "  </thead>\n",
       "  <tbody>\n",
       "    <tr>\n",
       "      <th>210</th>\n",
       "      <td>211</td>\n",
       "      <td>0</td>\n",
       "    </tr>\n",
       "    <tr>\n",
       "      <th>211</th>\n",
       "      <td>212</td>\n",
       "      <td>20</td>\n",
       "    </tr>\n",
       "    <tr>\n",
       "      <th>212</th>\n",
       "      <td>213</td>\n",
       "      <td>73</td>\n",
       "    </tr>\n",
       "    <tr>\n",
       "      <th>213</th>\n",
       "      <td>214</td>\n",
       "      <td>25</td>\n",
       "    </tr>\n",
       "    <tr>\n",
       "      <th>214</th>\n",
       "      <td>215</td>\n",
       "      <td>7</td>\n",
       "    </tr>\n",
       "  </tbody>\n",
       "</table>\n",
       "</div>"
      ],
      "text/plain": [
       "     match_no  runs\n",
       "210       211     0\n",
       "211       212    20\n",
       "212       213    73\n",
       "213       214    25\n",
       "214       215     7"
      ]
     },
     "execution_count": 35,
     "metadata": {},
     "output_type": "execute_result"
    }
   ],
   "source": [
    "# tail \n",
    "# last Five matches records\n",
    "vk.tail()"
   ]
  },
  {
   "cell_type": "code",
   "execution_count": 38,
   "id": "76dd7c19",
   "metadata": {},
   "outputs": [
    {
     "data": {
      "text/plain": [
       "movie\n",
       "Shikhar (film)                      Ajay Devgn\n",
       "Kahin Hai Mera Pyar              Eesha Agarwal\n",
       "Tanu Weds Manu: Returns         Kangana Ranaut\n",
       "Out of Control (2003 film)    Riteish Deshmukh\n",
       "City of Gold (2010 film)       Sachin Khedekar\n",
       "Name: lead, dtype: object"
      ]
     },
     "execution_count": 38,
     "metadata": {},
     "output_type": "execute_result"
    }
   ],
   "source": [
    "# sample\n",
    "# returns randomlly one row\n",
    "# \n",
    "movies.sample(5)"
   ]
  },
  {
   "cell_type": "code",
   "execution_count": 39,
   "id": "076a1dae",
   "metadata": {},
   "outputs": [
    {
     "data": {
      "text/plain": [
       "Akshay Kumar        48\n",
       "Amitabh Bachchan    45\n",
       "Ajay Devgn          38\n",
       "Salman Khan         31\n",
       "Sanjay Dutt         26\n",
       "                    ..\n",
       "Diganth              1\n",
       "Parveen Kaur         1\n",
       "Seema Azmi           1\n",
       "Akanksha Puri        1\n",
       "Edwin Fernandes      1\n",
       "Name: lead, Length: 566, dtype: int64"
      ]
     },
     "execution_count": 39,
     "metadata": {},
     "output_type": "execute_result"
    }
   ],
   "source": [
    "# value_counts -> movies\n",
    "# simply show frequency in ascending order\n",
    "movies.value_counts()"
   ]
  },
  {
   "cell_type": "code",
   "execution_count": 46,
   "id": "7798493e",
   "metadata": {},
   "outputs": [
    {
     "ename": "TypeError",
     "evalue": "sort_values() missing 1 required positional argument: 'by'",
     "output_type": "error",
     "traceback": [
      "\u001b[0;31m---------------------------------------------------------------------------\u001b[0m",
      "\u001b[0;31mTypeError\u001b[0m                                 Traceback (most recent call last)",
      "Input \u001b[0;32mIn [46]\u001b[0m, in \u001b[0;36m<cell line: 2>\u001b[0;34m()\u001b[0m\n\u001b[1;32m      1\u001b[0m \u001b[38;5;66;03m# sort_values -> inplace\u001b[39;00m\n\u001b[0;32m----> 2\u001b[0m \u001b[43mvk\u001b[49m\u001b[38;5;241;43m.\u001b[39;49m\u001b[43msort_values\u001b[49m\u001b[43m(\u001b[49m\u001b[43mascending\u001b[49m\u001b[38;5;241;43m=\u001b[39;49m\u001b[38;5;28;43;01mFalse\u001b[39;49;00m\u001b[43m)\u001b[49m\u001b[38;5;241m.\u001b[39mhead(\u001b[38;5;241m1\u001b[39m)\u001b[38;5;241m.\u001b[39mvalues[\u001b[38;5;241m0\u001b[39m]\n",
      "File \u001b[0;32m~/.local/lib/python3.8/site-packages/pandas/util/_decorators.py:311\u001b[0m, in \u001b[0;36mdeprecate_nonkeyword_arguments.<locals>.decorate.<locals>.wrapper\u001b[0;34m(*args, **kwargs)\u001b[0m\n\u001b[1;32m    305\u001b[0m \u001b[38;5;28;01mif\u001b[39;00m \u001b[38;5;28mlen\u001b[39m(args) \u001b[38;5;241m>\u001b[39m num_allow_args:\n\u001b[1;32m    306\u001b[0m     warnings\u001b[38;5;241m.\u001b[39mwarn(\n\u001b[1;32m    307\u001b[0m         msg\u001b[38;5;241m.\u001b[39mformat(arguments\u001b[38;5;241m=\u001b[39marguments),\n\u001b[1;32m    308\u001b[0m         \u001b[38;5;167;01mFutureWarning\u001b[39;00m,\n\u001b[1;32m    309\u001b[0m         stacklevel\u001b[38;5;241m=\u001b[39mstacklevel,\n\u001b[1;32m    310\u001b[0m     )\n\u001b[0;32m--> 311\u001b[0m \u001b[38;5;28;01mreturn\u001b[39;00m \u001b[43mfunc\u001b[49m\u001b[43m(\u001b[49m\u001b[38;5;241;43m*\u001b[39;49m\u001b[43margs\u001b[49m\u001b[43m,\u001b[49m\u001b[43m \u001b[49m\u001b[38;5;241;43m*\u001b[39;49m\u001b[38;5;241;43m*\u001b[39;49m\u001b[43mkwargs\u001b[49m\u001b[43m)\u001b[49m\n",
      "\u001b[0;31mTypeError\u001b[0m: sort_values() missing 1 required positional argument: 'by'"
     ]
    }
   ],
   "source": [
    "# sort_values -> inplace\n",
    "vk.sort_values(ascending=False).head(1).values[0]"
   ]
  },
  {
   "cell_type": "code",
   "execution_count": 60,
   "id": "345c3611",
   "metadata": {},
   "outputs": [
    {
     "data": {
      "text/plain": [
       "<bound method Series.sort_index of movie\n",
       "1920 (film)                   Rajniesh Duggall\n",
       "1920: London                     Sharman Joshi\n",
       "1920: The Evil Returns             Vicky Ahuja\n",
       "1971 (2007 film)                Manoj Bajpayee\n",
       "2 States (2014 film)              Arjun Kapoor\n",
       "                                   ...        \n",
       "Zindagi 50-50                      Veena Malik\n",
       "Zindagi Na Milegi Dobara        Hrithik Roshan\n",
       "Zindagi Tere Naam           Mithun Chakraborty\n",
       "Zokkomon                       Darsheel Safary\n",
       "Zor Lagaa Ke...Haiya!            Meghan Jadhav\n",
       "Name: lead, Length: 1500, dtype: object>"
      ]
     },
     "execution_count": 60,
     "metadata": {},
     "output_type": "execute_result"
    }
   ],
   "source": [
    "# sort_index -> inplace -> movies\n",
    "# vk.sort_values(inplace=True)\n",
    "movies.sort_index"
   ]
  },
  {
   "cell_type": "code",
   "execution_count": 61,
   "id": "39d426e3",
   "metadata": {},
   "outputs": [
    {
     "data": {
      "text/plain": [
       "match_no    215\n",
       "runs        215\n",
       "dtype: int64"
      ]
     },
     "execution_count": 61,
     "metadata": {},
     "output_type": "execute_result"
    }
   ],
   "source": [
    "# count\n",
    "# count is not count missing values\n",
    "vk.count()"
   ]
  },
  {
   "cell_type": "code",
   "execution_count": 65,
   "id": "783bf238",
   "metadata": {},
   "outputs": [
    {
     "data": {
      "text/plain": [
       "49510"
      ]
     },
     "execution_count": 65,
     "metadata": {},
     "output_type": "execute_result"
    }
   ],
   "source": [
    "# sum -> product\n",
    "subs.sum()\n",
    "# subs.product()"
   ]
  },
  {
   "cell_type": "code",
   "execution_count": 66,
   "id": "e561cf46",
   "metadata": {},
   "outputs": [
    {
     "data": {
      "text/plain": [
       "135.64383561643837"
      ]
     },
     "execution_count": 66,
     "metadata": {},
     "output_type": "execute_result"
    }
   ],
   "source": [
    "# mean -> median -> mode -> std -> var\n",
    "subs.mean()"
   ]
  },
  {
   "cell_type": "code",
   "execution_count": 67,
   "id": "3aee9b8a",
   "metadata": {},
   "outputs": [
    {
     "data": {
      "text/plain": [
       "match_no    108.0\n",
       "runs         24.0\n",
       "dtype: float64"
      ]
     },
     "execution_count": 67,
     "metadata": {},
     "output_type": "execute_result"
    }
   ],
   "source": [
    "vk.median()"
   ]
  },
  {
   "cell_type": "code",
   "execution_count": 69,
   "id": "c836762b",
   "metadata": {},
   "outputs": [
    {
     "data": {
      "text/plain": [
       "0    Akshay Kumar\n",
       "Name: lead, dtype: object"
      ]
     },
     "execution_count": 69,
     "metadata": {},
     "output_type": "execute_result"
    }
   ],
   "source": [
    "movies.mode()"
   ]
  },
  {
   "cell_type": "code",
   "execution_count": 70,
   "id": "1ad2f49d",
   "metadata": {},
   "outputs": [
    {
     "data": {
      "text/plain": [
       "62.6750230372527"
      ]
     },
     "execution_count": 70,
     "metadata": {},
     "output_type": "execute_result"
    }
   ],
   "source": [
    "subs.std()"
   ]
  },
  {
   "cell_type": "code",
   "execution_count": 71,
   "id": "4ede0d0d",
   "metadata": {},
   "outputs": [
    {
     "data": {
      "text/plain": [
       "match_no    3870.000000\n",
       "runs         688.002478\n",
       "dtype: float64"
      ]
     },
     "execution_count": 71,
     "metadata": {},
     "output_type": "execute_result"
    }
   ],
   "source": [
    "vk.var()"
   ]
  },
  {
   "cell_type": "code",
   "execution_count": 72,
   "id": "08739e3c",
   "metadata": {},
   "outputs": [
    {
     "data": {
      "text/plain": [
       "33"
      ]
     },
     "execution_count": 72,
     "metadata": {},
     "output_type": "execute_result"
    }
   ],
   "source": [
    "# min/max\n",
    "subs.min()"
   ]
  },
  {
   "cell_type": "code",
   "execution_count": 73,
   "id": "4b551948",
   "metadata": {},
   "outputs": [
    {
     "data": {
      "text/html": [
       "<div>\n",
       "<style scoped>\n",
       "    .dataframe tbody tr th:only-of-type {\n",
       "        vertical-align: middle;\n",
       "    }\n",
       "\n",
       "    .dataframe tbody tr th {\n",
       "        vertical-align: top;\n",
       "    }\n",
       "\n",
       "    .dataframe thead th {\n",
       "        text-align: right;\n",
       "    }\n",
       "</style>\n",
       "<table border=\"1\" class=\"dataframe\">\n",
       "  <thead>\n",
       "    <tr style=\"text-align: right;\">\n",
       "      <th></th>\n",
       "      <th>match_no</th>\n",
       "      <th>runs</th>\n",
       "    </tr>\n",
       "  </thead>\n",
       "  <tbody>\n",
       "    <tr>\n",
       "      <th>count</th>\n",
       "      <td>215.000000</td>\n",
       "      <td>215.000000</td>\n",
       "    </tr>\n",
       "    <tr>\n",
       "      <th>mean</th>\n",
       "      <td>108.000000</td>\n",
       "      <td>30.855814</td>\n",
       "    </tr>\n",
       "    <tr>\n",
       "      <th>std</th>\n",
       "      <td>62.209324</td>\n",
       "      <td>26.229801</td>\n",
       "    </tr>\n",
       "    <tr>\n",
       "      <th>min</th>\n",
       "      <td>1.000000</td>\n",
       "      <td>0.000000</td>\n",
       "    </tr>\n",
       "    <tr>\n",
       "      <th>25%</th>\n",
       "      <td>54.500000</td>\n",
       "      <td>9.000000</td>\n",
       "    </tr>\n",
       "    <tr>\n",
       "      <th>50%</th>\n",
       "      <td>108.000000</td>\n",
       "      <td>24.000000</td>\n",
       "    </tr>\n",
       "    <tr>\n",
       "      <th>75%</th>\n",
       "      <td>161.500000</td>\n",
       "      <td>48.000000</td>\n",
       "    </tr>\n",
       "    <tr>\n",
       "      <th>max</th>\n",
       "      <td>215.000000</td>\n",
       "      <td>113.000000</td>\n",
       "    </tr>\n",
       "  </tbody>\n",
       "</table>\n",
       "</div>"
      ],
      "text/plain": [
       "         match_no        runs\n",
       "count  215.000000  215.000000\n",
       "mean   108.000000   30.855814\n",
       "std     62.209324   26.229801\n",
       "min      1.000000    0.000000\n",
       "25%     54.500000    9.000000\n",
       "50%    108.000000   24.000000\n",
       "75%    161.500000   48.000000\n",
       "max    215.000000  113.000000"
      ]
     },
     "execution_count": 73,
     "metadata": {},
     "output_type": "execute_result"
    }
   ],
   "source": [
    "# describe\n",
    "# provide the all summery\n",
    "vk.describe()"
   ]
  },
  {
   "cell_type": "code",
   "execution_count": 74,
   "id": "1a06f824",
   "metadata": {},
   "outputs": [
    {
     "data": {
      "text/plain": [
       "13"
      ]
     },
     "execution_count": 74,
     "metadata": {},
     "output_type": "execute_result"
    }
   ],
   "source": [
    "# Series indexing\n",
    "x = pd.Series([12,13,14,15,16,43,3423,45])\n",
    "x[1]"
   ]
  },
  {
   "cell_type": "code",
   "execution_count": 75,
   "id": "4b17c792",
   "metadata": {},
   "outputs": [
    {
     "ename": "KeyError",
     "evalue": "-1",
     "output_type": "error",
     "traceback": [
      "\u001b[0;31m---------------------------------------------------------------------------\u001b[0m",
      "\u001b[0;31mValueError\u001b[0m                                Traceback (most recent call last)",
      "File \u001b[0;32m~/.local/lib/python3.8/site-packages/pandas/core/indexes/range.py:385\u001b[0m, in \u001b[0;36mRangeIndex.get_loc\u001b[0;34m(self, key, method, tolerance)\u001b[0m\n\u001b[1;32m    384\u001b[0m \u001b[38;5;28;01mtry\u001b[39;00m:\n\u001b[0;32m--> 385\u001b[0m     \u001b[38;5;28;01mreturn\u001b[39;00m \u001b[38;5;28;43mself\u001b[39;49m\u001b[38;5;241;43m.\u001b[39;49m\u001b[43m_range\u001b[49m\u001b[38;5;241;43m.\u001b[39;49m\u001b[43mindex\u001b[49m\u001b[43m(\u001b[49m\u001b[43mnew_key\u001b[49m\u001b[43m)\u001b[49m\n\u001b[1;32m    386\u001b[0m \u001b[38;5;28;01mexcept\u001b[39;00m \u001b[38;5;167;01mValueError\u001b[39;00m \u001b[38;5;28;01mas\u001b[39;00m err:\n",
      "\u001b[0;31mValueError\u001b[0m: -1 is not in range",
      "\nThe above exception was the direct cause of the following exception:\n",
      "\u001b[0;31mKeyError\u001b[0m                                  Traceback (most recent call last)",
      "Input \u001b[0;32mIn [75]\u001b[0m, in \u001b[0;36m<cell line: 2>\u001b[0;34m()\u001b[0m\n\u001b[1;32m      1\u001b[0m \u001b[38;5;66;03m# negative indexa\u001b[39;00m\n\u001b[0;32m----> 2\u001b[0m \u001b[43mx\u001b[49m\u001b[43m[\u001b[49m\u001b[38;5;241;43m-\u001b[39;49m\u001b[38;5;241;43m1\u001b[39;49m\u001b[43m]\u001b[49m\n",
      "File \u001b[0;32m~/.local/lib/python3.8/site-packages/pandas/core/series.py:958\u001b[0m, in \u001b[0;36mSeries.__getitem__\u001b[0;34m(self, key)\u001b[0m\n\u001b[1;32m    955\u001b[0m     \u001b[38;5;28;01mreturn\u001b[39;00m \u001b[38;5;28mself\u001b[39m\u001b[38;5;241m.\u001b[39m_values[key]\n\u001b[1;32m    957\u001b[0m \u001b[38;5;28;01melif\u001b[39;00m key_is_scalar:\n\u001b[0;32m--> 958\u001b[0m     \u001b[38;5;28;01mreturn\u001b[39;00m \u001b[38;5;28;43mself\u001b[39;49m\u001b[38;5;241;43m.\u001b[39;49m\u001b[43m_get_value\u001b[49m\u001b[43m(\u001b[49m\u001b[43mkey\u001b[49m\u001b[43m)\u001b[49m\n\u001b[1;32m    960\u001b[0m \u001b[38;5;28;01mif\u001b[39;00m is_hashable(key):\n\u001b[1;32m    961\u001b[0m     \u001b[38;5;66;03m# Otherwise index.get_value will raise InvalidIndexError\u001b[39;00m\n\u001b[1;32m    962\u001b[0m     \u001b[38;5;28;01mtry\u001b[39;00m:\n\u001b[1;32m    963\u001b[0m         \u001b[38;5;66;03m# For labels that don't resolve as scalars like tuples and frozensets\u001b[39;00m\n",
      "File \u001b[0;32m~/.local/lib/python3.8/site-packages/pandas/core/series.py:1069\u001b[0m, in \u001b[0;36mSeries._get_value\u001b[0;34m(self, label, takeable)\u001b[0m\n\u001b[1;32m   1066\u001b[0m     \u001b[38;5;28;01mreturn\u001b[39;00m \u001b[38;5;28mself\u001b[39m\u001b[38;5;241m.\u001b[39m_values[label]\n\u001b[1;32m   1068\u001b[0m \u001b[38;5;66;03m# Similar to Index.get_value, but we do not fall back to positional\u001b[39;00m\n\u001b[0;32m-> 1069\u001b[0m loc \u001b[38;5;241m=\u001b[39m \u001b[38;5;28;43mself\u001b[39;49m\u001b[38;5;241;43m.\u001b[39;49m\u001b[43mindex\u001b[49m\u001b[38;5;241;43m.\u001b[39;49m\u001b[43mget_loc\u001b[49m\u001b[43m(\u001b[49m\u001b[43mlabel\u001b[49m\u001b[43m)\u001b[49m\n\u001b[1;32m   1070\u001b[0m \u001b[38;5;28;01mreturn\u001b[39;00m \u001b[38;5;28mself\u001b[39m\u001b[38;5;241m.\u001b[39mindex\u001b[38;5;241m.\u001b[39m_get_values_for_loc(\u001b[38;5;28mself\u001b[39m, loc, label)\n",
      "File \u001b[0;32m~/.local/lib/python3.8/site-packages/pandas/core/indexes/range.py:387\u001b[0m, in \u001b[0;36mRangeIndex.get_loc\u001b[0;34m(self, key, method, tolerance)\u001b[0m\n\u001b[1;32m    385\u001b[0m         \u001b[38;5;28;01mreturn\u001b[39;00m \u001b[38;5;28mself\u001b[39m\u001b[38;5;241m.\u001b[39m_range\u001b[38;5;241m.\u001b[39mindex(new_key)\n\u001b[1;32m    386\u001b[0m     \u001b[38;5;28;01mexcept\u001b[39;00m \u001b[38;5;167;01mValueError\u001b[39;00m \u001b[38;5;28;01mas\u001b[39;00m err:\n\u001b[0;32m--> 387\u001b[0m         \u001b[38;5;28;01mraise\u001b[39;00m \u001b[38;5;167;01mKeyError\u001b[39;00m(key) \u001b[38;5;28;01mfrom\u001b[39;00m \u001b[38;5;21;01merr\u001b[39;00m\n\u001b[1;32m    388\u001b[0m \u001b[38;5;28mself\u001b[39m\u001b[38;5;241m.\u001b[39m_check_indexing_error(key)\n\u001b[1;32m    389\u001b[0m \u001b[38;5;28;01mraise\u001b[39;00m \u001b[38;5;167;01mKeyError\u001b[39;00m(key)\n",
      "\u001b[0;31mKeyError\u001b[0m: -1"
     ]
    }
   ],
   "source": [
    "# negative indexa\n",
    "# series is not working negative indexing\n",
    "x[-1]"
   ]
  },
  {
   "cell_type": "code",
   "execution_count": 79,
   "id": "3305da61",
   "metadata": {},
   "outputs": [
    {
     "data": {
      "text/plain": [
       "'Rajniesh Duggall'"
      ]
     },
     "execution_count": 79,
     "metadata": {},
     "output_type": "execute_result"
    }
   ],
   "source": [
    "movies[0]"
   ]
  },
  {
   "cell_type": "code",
   "execution_count": 81,
   "id": "ff70ebb2",
   "metadata": {},
   "outputs": [
    {
     "ename": "KeyError",
     "evalue": "-1",
     "output_type": "error",
     "traceback": [
      "\u001b[0;31m---------------------------------------------------------------------------\u001b[0m",
      "\u001b[0;31mKeyError\u001b[0m                                  Traceback (most recent call last)",
      "File \u001b[0;32m~/.local/lib/python3.8/site-packages/pandas/core/indexes/base.py:3621\u001b[0m, in \u001b[0;36mIndex.get_loc\u001b[0;34m(self, key, method, tolerance)\u001b[0m\n\u001b[1;32m   3620\u001b[0m \u001b[38;5;28;01mtry\u001b[39;00m:\n\u001b[0;32m-> 3621\u001b[0m     \u001b[38;5;28;01mreturn\u001b[39;00m \u001b[38;5;28;43mself\u001b[39;49m\u001b[38;5;241;43m.\u001b[39;49m\u001b[43m_engine\u001b[49m\u001b[38;5;241;43m.\u001b[39;49m\u001b[43mget_loc\u001b[49m\u001b[43m(\u001b[49m\u001b[43mcasted_key\u001b[49m\u001b[43m)\u001b[49m\n\u001b[1;32m   3622\u001b[0m \u001b[38;5;28;01mexcept\u001b[39;00m \u001b[38;5;167;01mKeyError\u001b[39;00m \u001b[38;5;28;01mas\u001b[39;00m err:\n",
      "File \u001b[0;32m~/.local/lib/python3.8/site-packages/pandas/_libs/index.pyx:136\u001b[0m, in \u001b[0;36mpandas._libs.index.IndexEngine.get_loc\u001b[0;34m()\u001b[0m\n",
      "File \u001b[0;32m~/.local/lib/python3.8/site-packages/pandas/_libs/index.pyx:163\u001b[0m, in \u001b[0;36mpandas._libs.index.IndexEngine.get_loc\u001b[0;34m()\u001b[0m\n",
      "File \u001b[0;32mpandas/_libs/hashtable_class_helper.pxi:5198\u001b[0m, in \u001b[0;36mpandas._libs.hashtable.PyObjectHashTable.get_item\u001b[0;34m()\u001b[0m\n",
      "File \u001b[0;32mpandas/_libs/hashtable_class_helper.pxi:5206\u001b[0m, in \u001b[0;36mpandas._libs.hashtable.PyObjectHashTable.get_item\u001b[0;34m()\u001b[0m\n",
      "\u001b[0;31mKeyError\u001b[0m: -1",
      "\nThe above exception was the direct cause of the following exception:\n",
      "\u001b[0;31mKeyError\u001b[0m                                  Traceback (most recent call last)",
      "Input \u001b[0;32mIn [81]\u001b[0m, in \u001b[0;36m<cell line: 1>\u001b[0;34m()\u001b[0m\n\u001b[0;32m----> 1\u001b[0m \u001b[43mvk\u001b[49m\u001b[43m[\u001b[49m\u001b[38;5;241;43m-\u001b[39;49m\u001b[38;5;241;43m1\u001b[39;49m\u001b[43m]\u001b[49m\n",
      "File \u001b[0;32m~/.local/lib/python3.8/site-packages/pandas/core/frame.py:3505\u001b[0m, in \u001b[0;36mDataFrame.__getitem__\u001b[0;34m(self, key)\u001b[0m\n\u001b[1;32m   3503\u001b[0m \u001b[38;5;28;01mif\u001b[39;00m \u001b[38;5;28mself\u001b[39m\u001b[38;5;241m.\u001b[39mcolumns\u001b[38;5;241m.\u001b[39mnlevels \u001b[38;5;241m>\u001b[39m \u001b[38;5;241m1\u001b[39m:\n\u001b[1;32m   3504\u001b[0m     \u001b[38;5;28;01mreturn\u001b[39;00m \u001b[38;5;28mself\u001b[39m\u001b[38;5;241m.\u001b[39m_getitem_multilevel(key)\n\u001b[0;32m-> 3505\u001b[0m indexer \u001b[38;5;241m=\u001b[39m \u001b[38;5;28;43mself\u001b[39;49m\u001b[38;5;241;43m.\u001b[39;49m\u001b[43mcolumns\u001b[49m\u001b[38;5;241;43m.\u001b[39;49m\u001b[43mget_loc\u001b[49m\u001b[43m(\u001b[49m\u001b[43mkey\u001b[49m\u001b[43m)\u001b[49m\n\u001b[1;32m   3506\u001b[0m \u001b[38;5;28;01mif\u001b[39;00m is_integer(indexer):\n\u001b[1;32m   3507\u001b[0m     indexer \u001b[38;5;241m=\u001b[39m [indexer]\n",
      "File \u001b[0;32m~/.local/lib/python3.8/site-packages/pandas/core/indexes/base.py:3623\u001b[0m, in \u001b[0;36mIndex.get_loc\u001b[0;34m(self, key, method, tolerance)\u001b[0m\n\u001b[1;32m   3621\u001b[0m     \u001b[38;5;28;01mreturn\u001b[39;00m \u001b[38;5;28mself\u001b[39m\u001b[38;5;241m.\u001b[39m_engine\u001b[38;5;241m.\u001b[39mget_loc(casted_key)\n\u001b[1;32m   3622\u001b[0m \u001b[38;5;28;01mexcept\u001b[39;00m \u001b[38;5;167;01mKeyError\u001b[39;00m \u001b[38;5;28;01mas\u001b[39;00m err:\n\u001b[0;32m-> 3623\u001b[0m     \u001b[38;5;28;01mraise\u001b[39;00m \u001b[38;5;167;01mKeyError\u001b[39;00m(key) \u001b[38;5;28;01mfrom\u001b[39;00m \u001b[38;5;21;01merr\u001b[39;00m\n\u001b[1;32m   3624\u001b[0m \u001b[38;5;28;01mexcept\u001b[39;00m \u001b[38;5;167;01mTypeError\u001b[39;00m:\n\u001b[1;32m   3625\u001b[0m     \u001b[38;5;66;03m# If we have a listlike key, _check_indexing_error will raise\u001b[39;00m\n\u001b[1;32m   3626\u001b[0m     \u001b[38;5;66;03m#  InvalidIndexError. Otherwise we fall through and re-raise\u001b[39;00m\n\u001b[1;32m   3627\u001b[0m     \u001b[38;5;66;03m#  the TypeError.\u001b[39;00m\n\u001b[1;32m   3628\u001b[0m     \u001b[38;5;28mself\u001b[39m\u001b[38;5;241m.\u001b[39m_check_indexing_error(key)\n",
      "\u001b[0;31mKeyError\u001b[0m: -1"
     ]
    }
   ],
   "source": [
    "vk[-1]"
   ]
  },
  {
   "cell_type": "code",
   "execution_count": 82,
   "id": "4ca47207",
   "metadata": {},
   "outputs": [
    {
     "data": {
      "text/plain": [
       "movie\n",
       "1920 (film)                   Rajniesh Duggall\n",
       "1920: London                     Sharman Joshi\n",
       "1920: The Evil Returns             Vicky Ahuja\n",
       "1971 (2007 film)                Manoj Bajpayee\n",
       "2 States (2014 film)              Arjun Kapoor\n",
       "                                   ...        \n",
       "Zindagi 50-50                      Veena Malik\n",
       "Zindagi Na Milegi Dobara        Hrithik Roshan\n",
       "Zindagi Tere Naam           Mithun Chakraborty\n",
       "Zokkomon                       Darsheel Safary\n",
       "Zor Lagaa Ke...Haiya!            Meghan Jadhav\n",
       "Name: lead, Length: 1500, dtype: object"
      ]
     },
     "execution_count": 82,
     "metadata": {},
     "output_type": "execute_result"
    }
   ],
   "source": [
    "movies"
   ]
  },
  {
   "cell_type": "code",
   "execution_count": 83,
   "id": "1e9aed96",
   "metadata": {},
   "outputs": [
    {
     "data": {
      "text/plain": [
       "100"
      ]
     },
     "execution_count": 83,
     "metadata": {},
     "output_type": "execute_result"
    }
   ],
   "source": [
    "marks_series[-1]"
   ]
  },
  {
   "cell_type": "code",
   "execution_count": 84,
   "id": "5fa3f0a8",
   "metadata": {},
   "outputs": [
    {
     "data": {
      "text/html": [
       "<div>\n",
       "<style scoped>\n",
       "    .dataframe tbody tr th:only-of-type {\n",
       "        vertical-align: middle;\n",
       "    }\n",
       "\n",
       "    .dataframe tbody tr th {\n",
       "        vertical-align: top;\n",
       "    }\n",
       "\n",
       "    .dataframe thead th {\n",
       "        text-align: right;\n",
       "    }\n",
       "</style>\n",
       "<table border=\"1\" class=\"dataframe\">\n",
       "  <thead>\n",
       "    <tr style=\"text-align: right;\">\n",
       "      <th></th>\n",
       "      <th>match_no</th>\n",
       "      <th>runs</th>\n",
       "    </tr>\n",
       "  </thead>\n",
       "  <tbody>\n",
       "    <tr>\n",
       "      <th>5</th>\n",
       "      <td>6</td>\n",
       "      <td>9</td>\n",
       "    </tr>\n",
       "    <tr>\n",
       "      <th>6</th>\n",
       "      <td>7</td>\n",
       "      <td>34</td>\n",
       "    </tr>\n",
       "    <tr>\n",
       "      <th>7</th>\n",
       "      <td>8</td>\n",
       "      <td>0</td>\n",
       "    </tr>\n",
       "    <tr>\n",
       "      <th>8</th>\n",
       "      <td>9</td>\n",
       "      <td>21</td>\n",
       "    </tr>\n",
       "    <tr>\n",
       "      <th>9</th>\n",
       "      <td>10</td>\n",
       "      <td>3</td>\n",
       "    </tr>\n",
       "    <tr>\n",
       "      <th>10</th>\n",
       "      <td>11</td>\n",
       "      <td>10</td>\n",
       "    </tr>\n",
       "    <tr>\n",
       "      <th>11</th>\n",
       "      <td>12</td>\n",
       "      <td>38</td>\n",
       "    </tr>\n",
       "    <tr>\n",
       "      <th>12</th>\n",
       "      <td>13</td>\n",
       "      <td>3</td>\n",
       "    </tr>\n",
       "    <tr>\n",
       "      <th>13</th>\n",
       "      <td>14</td>\n",
       "      <td>11</td>\n",
       "    </tr>\n",
       "    <tr>\n",
       "      <th>14</th>\n",
       "      <td>15</td>\n",
       "      <td>50</td>\n",
       "    </tr>\n",
       "    <tr>\n",
       "      <th>15</th>\n",
       "      <td>16</td>\n",
       "      <td>2</td>\n",
       "    </tr>\n",
       "  </tbody>\n",
       "</table>\n",
       "</div>"
      ],
      "text/plain": [
       "    match_no  runs\n",
       "5          6     9\n",
       "6          7    34\n",
       "7          8     0\n",
       "8          9    21\n",
       "9         10     3\n",
       "10        11    10\n",
       "11        12    38\n",
       "12        13     3\n",
       "13        14    11\n",
       "14        15    50\n",
       "15        16     2"
      ]
     },
     "execution_count": 84,
     "metadata": {},
     "output_type": "execute_result"
    }
   ],
   "source": [
    "# slicing\n",
    "vk[5:16]"
   ]
  },
  {
   "cell_type": "code",
   "execution_count": 85,
   "id": "a64c1e0b",
   "metadata": {},
   "outputs": [
    {
     "data": {
      "text/html": [
       "<div>\n",
       "<style scoped>\n",
       "    .dataframe tbody tr th:only-of-type {\n",
       "        vertical-align: middle;\n",
       "    }\n",
       "\n",
       "    .dataframe tbody tr th {\n",
       "        vertical-align: top;\n",
       "    }\n",
       "\n",
       "    .dataframe thead th {\n",
       "        text-align: right;\n",
       "    }\n",
       "</style>\n",
       "<table border=\"1\" class=\"dataframe\">\n",
       "  <thead>\n",
       "    <tr style=\"text-align: right;\">\n",
       "      <th></th>\n",
       "      <th>match_no</th>\n",
       "      <th>runs</th>\n",
       "    </tr>\n",
       "  </thead>\n",
       "  <tbody>\n",
       "    <tr>\n",
       "      <th>210</th>\n",
       "      <td>211</td>\n",
       "      <td>0</td>\n",
       "    </tr>\n",
       "    <tr>\n",
       "      <th>211</th>\n",
       "      <td>212</td>\n",
       "      <td>20</td>\n",
       "    </tr>\n",
       "    <tr>\n",
       "      <th>212</th>\n",
       "      <td>213</td>\n",
       "      <td>73</td>\n",
       "    </tr>\n",
       "    <tr>\n",
       "      <th>213</th>\n",
       "      <td>214</td>\n",
       "      <td>25</td>\n",
       "    </tr>\n",
       "    <tr>\n",
       "      <th>214</th>\n",
       "      <td>215</td>\n",
       "      <td>7</td>\n",
       "    </tr>\n",
       "  </tbody>\n",
       "</table>\n",
       "</div>"
      ],
      "text/plain": [
       "     match_no  runs\n",
       "210       211     0\n",
       "211       212    20\n",
       "212       213    73\n",
       "213       214    25\n",
       "214       215     7"
      ]
     },
     "execution_count": 85,
     "metadata": {},
     "output_type": "execute_result"
    }
   ],
   "source": [
    "# negative slicing\n",
    "vk[-5:]"
   ]
  },
  {
   "cell_type": "code",
   "execution_count": 86,
   "id": "48d9fb58",
   "metadata": {},
   "outputs": [
    {
     "data": {
      "text/plain": [
       "movie\n",
       "Zindagi 50-50                      Veena Malik\n",
       "Zindagi Na Milegi Dobara        Hrithik Roshan\n",
       "Zindagi Tere Naam           Mithun Chakraborty\n",
       "Zokkomon                       Darsheel Safary\n",
       "Zor Lagaa Ke...Haiya!            Meghan Jadhav\n",
       "Name: lead, dtype: object"
      ]
     },
     "execution_count": 86,
     "metadata": {},
     "output_type": "execute_result"
    }
   ],
   "source": [
    "movies[-5:]"
   ]
  },
  {
   "cell_type": "code",
   "execution_count": 87,
   "id": "3d24b873",
   "metadata": {},
   "outputs": [
    {
     "data": {
      "text/plain": [
       "movie\n",
       "1920 (film)                 Rajniesh Duggall\n",
       "1920: The Evil Returns           Vicky Ahuja\n",
       "2 States (2014 film)            Arjun Kapoor\n",
       "3 A.M. (2014 film)             Salil Acharya\n",
       "3 Idiots                          Aamir Khan\n",
       "                                  ...       \n",
       "Zero (2018 film)              Shah Rukh Khan\n",
       "Zila Ghaziabad                  Vivek Oberoi\n",
       "Zindaggi Rocks                  Sushmita Sen\n",
       "Zindagi Na Milegi Dobara      Hrithik Roshan\n",
       "Zokkomon                     Darsheel Safary\n",
       "Name: lead, Length: 750, dtype: object"
      ]
     },
     "execution_count": 87,
     "metadata": {},
     "output_type": "execute_result"
    }
   ],
   "source": [
    "movies[::2]"
   ]
  },
  {
   "cell_type": "code",
   "execution_count": 88,
   "id": "99f40bf5",
   "metadata": {},
   "outputs": [
    {
     "ename": "KeyError",
     "evalue": "\"None of [Int64Index([1, 3, 4, 5], dtype='int64')] are in the [columns]\"",
     "output_type": "error",
     "traceback": [
      "\u001b[0;31m---------------------------------------------------------------------------\u001b[0m",
      "\u001b[0;31mKeyError\u001b[0m                                  Traceback (most recent call last)",
      "Input \u001b[0;32mIn [88]\u001b[0m, in \u001b[0;36m<cell line: 2>\u001b[0;34m()\u001b[0m\n\u001b[1;32m      1\u001b[0m \u001b[38;5;66;03m# fancey indexing\u001b[39;00m\n\u001b[0;32m----> 2\u001b[0m \u001b[43mvk\u001b[49m\u001b[43m[\u001b[49m\u001b[43m[\u001b[49m\u001b[38;5;241;43m1\u001b[39;49m\u001b[43m,\u001b[49m\u001b[38;5;241;43m3\u001b[39;49m\u001b[43m,\u001b[49m\u001b[38;5;241;43m4\u001b[39;49m\u001b[43m,\u001b[49m\u001b[38;5;241;43m5\u001b[39;49m\u001b[43m]\u001b[49m\u001b[43m]\u001b[49m\n",
      "File \u001b[0;32m~/.local/lib/python3.8/site-packages/pandas/core/frame.py:3511\u001b[0m, in \u001b[0;36mDataFrame.__getitem__\u001b[0;34m(self, key)\u001b[0m\n\u001b[1;32m   3509\u001b[0m     \u001b[38;5;28;01mif\u001b[39;00m is_iterator(key):\n\u001b[1;32m   3510\u001b[0m         key \u001b[38;5;241m=\u001b[39m \u001b[38;5;28mlist\u001b[39m(key)\n\u001b[0;32m-> 3511\u001b[0m     indexer \u001b[38;5;241m=\u001b[39m \u001b[38;5;28;43mself\u001b[39;49m\u001b[38;5;241;43m.\u001b[39;49m\u001b[43mcolumns\u001b[49m\u001b[38;5;241;43m.\u001b[39;49m\u001b[43m_get_indexer_strict\u001b[49m\u001b[43m(\u001b[49m\u001b[43mkey\u001b[49m\u001b[43m,\u001b[49m\u001b[43m \u001b[49m\u001b[38;5;124;43m\"\u001b[39;49m\u001b[38;5;124;43mcolumns\u001b[39;49m\u001b[38;5;124;43m\"\u001b[39;49m\u001b[43m)\u001b[49m[\u001b[38;5;241m1\u001b[39m]\n\u001b[1;32m   3513\u001b[0m \u001b[38;5;66;03m# take() does not accept boolean indexers\u001b[39;00m\n\u001b[1;32m   3514\u001b[0m \u001b[38;5;28;01mif\u001b[39;00m \u001b[38;5;28mgetattr\u001b[39m(indexer, \u001b[38;5;124m\"\u001b[39m\u001b[38;5;124mdtype\u001b[39m\u001b[38;5;124m\"\u001b[39m, \u001b[38;5;28;01mNone\u001b[39;00m) \u001b[38;5;241m==\u001b[39m \u001b[38;5;28mbool\u001b[39m:\n",
      "File \u001b[0;32m~/.local/lib/python3.8/site-packages/pandas/core/indexes/base.py:5782\u001b[0m, in \u001b[0;36mIndex._get_indexer_strict\u001b[0;34m(self, key, axis_name)\u001b[0m\n\u001b[1;32m   5779\u001b[0m \u001b[38;5;28;01melse\u001b[39;00m:\n\u001b[1;32m   5780\u001b[0m     keyarr, indexer, new_indexer \u001b[38;5;241m=\u001b[39m \u001b[38;5;28mself\u001b[39m\u001b[38;5;241m.\u001b[39m_reindex_non_unique(keyarr)\n\u001b[0;32m-> 5782\u001b[0m \u001b[38;5;28;43mself\u001b[39;49m\u001b[38;5;241;43m.\u001b[39;49m\u001b[43m_raise_if_missing\u001b[49m\u001b[43m(\u001b[49m\u001b[43mkeyarr\u001b[49m\u001b[43m,\u001b[49m\u001b[43m \u001b[49m\u001b[43mindexer\u001b[49m\u001b[43m,\u001b[49m\u001b[43m \u001b[49m\u001b[43maxis_name\u001b[49m\u001b[43m)\u001b[49m\n\u001b[1;32m   5784\u001b[0m keyarr \u001b[38;5;241m=\u001b[39m \u001b[38;5;28mself\u001b[39m\u001b[38;5;241m.\u001b[39mtake(indexer)\n\u001b[1;32m   5785\u001b[0m \u001b[38;5;28;01mif\u001b[39;00m \u001b[38;5;28misinstance\u001b[39m(key, Index):\n\u001b[1;32m   5786\u001b[0m     \u001b[38;5;66;03m# GH 42790 - Preserve name from an Index\u001b[39;00m\n",
      "File \u001b[0;32m~/.local/lib/python3.8/site-packages/pandas/core/indexes/base.py:5842\u001b[0m, in \u001b[0;36mIndex._raise_if_missing\u001b[0;34m(self, key, indexer, axis_name)\u001b[0m\n\u001b[1;32m   5840\u001b[0m     \u001b[38;5;28;01mif\u001b[39;00m use_interval_msg:\n\u001b[1;32m   5841\u001b[0m         key \u001b[38;5;241m=\u001b[39m \u001b[38;5;28mlist\u001b[39m(key)\n\u001b[0;32m-> 5842\u001b[0m     \u001b[38;5;28;01mraise\u001b[39;00m \u001b[38;5;167;01mKeyError\u001b[39;00m(\u001b[38;5;124mf\u001b[39m\u001b[38;5;124m\"\u001b[39m\u001b[38;5;124mNone of [\u001b[39m\u001b[38;5;132;01m{\u001b[39;00mkey\u001b[38;5;132;01m}\u001b[39;00m\u001b[38;5;124m] are in the [\u001b[39m\u001b[38;5;132;01m{\u001b[39;00maxis_name\u001b[38;5;132;01m}\u001b[39;00m\u001b[38;5;124m]\u001b[39m\u001b[38;5;124m\"\u001b[39m)\n\u001b[1;32m   5844\u001b[0m not_found \u001b[38;5;241m=\u001b[39m \u001b[38;5;28mlist\u001b[39m(ensure_index(key)[missing_mask\u001b[38;5;241m.\u001b[39mnonzero()[\u001b[38;5;241m0\u001b[39m]]\u001b[38;5;241m.\u001b[39munique())\n\u001b[1;32m   5845\u001b[0m \u001b[38;5;28;01mraise\u001b[39;00m \u001b[38;5;167;01mKeyError\u001b[39;00m(\u001b[38;5;124mf\u001b[39m\u001b[38;5;124m\"\u001b[39m\u001b[38;5;132;01m{\u001b[39;00mnot_found\u001b[38;5;132;01m}\u001b[39;00m\u001b[38;5;124m not in index\u001b[39m\u001b[38;5;124m\"\u001b[39m)\n",
      "\u001b[0;31mKeyError\u001b[0m: \"None of [Int64Index([1, 3, 4, 5], dtype='int64')] are in the [columns]\""
     ]
    }
   ],
   "source": [
    "# fancey indexing\n",
    "vk[[1,3,4,5]]"
   ]
  },
  {
   "cell_type": "code",
   "execution_count": 89,
   "id": "41803731",
   "metadata": {},
   "outputs": [
    {
     "data": {
      "text/plain": [
       "movie\n",
       "1920 (film)                   Rajniesh Duggall\n",
       "1920: London                     Sharman Joshi\n",
       "1920: The Evil Returns             Vicky Ahuja\n",
       "1971 (2007 film)                Manoj Bajpayee\n",
       "2 States (2014 film)              Arjun Kapoor\n",
       "                                   ...        \n",
       "Zindagi 50-50                      Veena Malik\n",
       "Zindagi Na Milegi Dobara        Hrithik Roshan\n",
       "Zindagi Tere Naam           Mithun Chakraborty\n",
       "Zokkomon                       Darsheel Safary\n",
       "Zor Lagaa Ke...Haiya!            Meghan Jadhav\n",
       "Name: lead, Length: 1500, dtype: object"
      ]
     },
     "execution_count": 89,
     "metadata": {},
     "output_type": "execute_result"
    }
   ],
   "source": [
    "movies"
   ]
  },
  {
   "cell_type": "code",
   "execution_count": 93,
   "id": "4273d08f",
   "metadata": {},
   "outputs": [
    {
     "data": {
      "text/plain": [
       "'Arjun Kapoor'"
      ]
     },
     "execution_count": 93,
     "metadata": {},
     "output_type": "execute_result"
    }
   ],
   "source": [
    "movies['2 States (2014 film)']"
   ]
  },
  {
   "cell_type": "markdown",
   "id": "7043090c",
   "metadata": {},
   "source": [
    "### Editing Series"
   ]
  },
  {
   "cell_type": "code",
   "execution_count": 96,
   "id": "27319850",
   "metadata": {},
   "outputs": [
    {
     "data": {
      "text/plain": [
       "math        67\n",
       "english    100\n",
       "science     89\n",
       "hindi      100\n",
       "Name: ashish ke marks, dtype: int64"
      ]
     },
     "execution_count": 96,
     "metadata": {},
     "output_type": "execute_result"
    }
   ],
   "source": [
    "# Using indexing\n",
    "marks_series[1] = 100\n",
    "marks_series"
   ]
  },
  {
   "cell_type": "code",
   "execution_count": 97,
   "id": "b00b648d",
   "metadata": {},
   "outputs": [],
   "source": [
    "# what if an index does not exist\n",
    "marks_series['sst'] = 90"
   ]
  },
  {
   "cell_type": "code",
   "execution_count": 98,
   "id": "7a07950b",
   "metadata": {},
   "outputs": [
    {
     "data": {
      "text/plain": [
       "math        67\n",
       "english    100\n",
       "science     89\n",
       "hindi      100\n",
       "sst         90\n",
       "Name: ashish ke marks, dtype: int64"
      ]
     },
     "execution_count": 98,
     "metadata": {},
     "output_type": "execute_result"
    }
   ],
   "source": [
    "marks_series"
   ]
  },
  {
   "cell_type": "code",
   "execution_count": 99,
   "id": "ddb75abe",
   "metadata": {},
   "outputs": [
    {
     "data": {
      "text/plain": [
       "[12, 24, 56, 78, 100]"
      ]
     },
     "execution_count": 99,
     "metadata": {},
     "output_type": "execute_result"
    }
   ],
   "source": [
    "# slicing\n",
    "runs"
   ]
  },
  {
   "cell_type": "code",
   "execution_count": 100,
   "id": "42718e10",
   "metadata": {},
   "outputs": [],
   "source": [
    "marks_series[2:4]=[100,100]"
   ]
  },
  {
   "cell_type": "code",
   "execution_count": 101,
   "id": "a1269d68",
   "metadata": {},
   "outputs": [
    {
     "data": {
      "text/plain": [
       "math        67\n",
       "english    100\n",
       "science    100\n",
       "hindi      100\n",
       "sst         90\n",
       "Name: ashish ke marks, dtype: int64"
      ]
     },
     "execution_count": 101,
     "metadata": {},
     "output_type": "execute_result"
    }
   ],
   "source": [
    "marks_series"
   ]
  },
  {
   "cell_type": "code",
   "execution_count": 103,
   "id": "254e297d",
   "metadata": {},
   "outputs": [],
   "source": [
    "# fancy indexing\n",
    "marks_series[[0,3,4]]=[0,0,0]"
   ]
  },
  {
   "cell_type": "code",
   "execution_count": 104,
   "id": "792f9642",
   "metadata": {},
   "outputs": [
    {
     "data": {
      "text/plain": [
       "math         0\n",
       "english    100\n",
       "science    100\n",
       "hindi        0\n",
       "sst          0\n",
       "Name: ashish ke marks, dtype: int64"
      ]
     },
     "execution_count": 104,
     "metadata": {},
     "output_type": "execute_result"
    }
   ],
   "source": [
    "marks_series"
   ]
  },
  {
   "cell_type": "code",
   "execution_count": 106,
   "id": "dcc1a359",
   "metadata": {},
   "outputs": [],
   "source": [
    "# using index label\n",
    "movies['2 States (2014 film)'] = 'Alia Bhatt'"
   ]
  },
  {
   "cell_type": "code",
   "execution_count": 108,
   "id": "d2699ac0",
   "metadata": {},
   "outputs": [
    {
     "data": {
      "text/plain": [
       "movie\n",
       "1920 (film)                   Rajniesh Duggall\n",
       "1920: London                     Sharman Joshi\n",
       "1920: The Evil Returns             Vicky Ahuja\n",
       "1971 (2007 film)                Manoj Bajpayee\n",
       "2 States (2014 film)                Alia Bhatt\n",
       "                                   ...        \n",
       "Zindagi 50-50                      Veena Malik\n",
       "Zindagi Na Milegi Dobara        Hrithik Roshan\n",
       "Zindagi Tere Naam           Mithun Chakraborty\n",
       "Zokkomon                       Darsheel Safary\n",
       "Zor Lagaa Ke...Haiya!            Meghan Jadhav\n",
       "Name: lead, Length: 1500, dtype: object"
      ]
     },
     "execution_count": 108,
     "metadata": {},
     "output_type": "execute_result"
    }
   ],
   "source": [
    "movies"
   ]
  },
  {
   "cell_type": "markdown",
   "id": "8a684414",
   "metadata": {},
   "source": [
    "#### Series with Python Functionalites"
   ]
  },
  {
   "cell_type": "code",
   "execution_count": 114,
   "id": "8c6f312c",
   "metadata": {},
   "outputs": [
    {
     "name": "stdout",
     "output_type": "stream",
     "text": [
      "365\n",
      "<class 'pandas.core.series.Series'>\n",
      "['T', '_AXIS_LEN', '_AXIS_ORDERS', '_AXIS_TO_AXIS_NUMBER', '_HANDLED_TYPES', '__abs__', '__add__', '__and__', '__annotations__', '__array__', '__array_priority__', '__array_ufunc__', '__array_wrap__', '__bool__', '__class__', '__contains__', '__copy__', '__deepcopy__', '__delattr__', '__delitem__', '__dict__', '__dir__', '__divmod__', '__doc__', '__eq__', '__finalize__', '__float__', '__floordiv__', '__format__', '__ge__', '__getattr__', '__getattribute__', '__getitem__', '__getstate__', '__gt__', '__hash__', '__iadd__', '__iand__', '__ifloordiv__', '__imod__', '__imul__', '__init__', '__init_subclass__', '__int__', '__invert__', '__ior__', '__ipow__', '__isub__', '__iter__', '__itruediv__', '__ixor__', '__le__', '__len__', '__long__', '__lt__', '__matmul__', '__mod__', '__module__', '__mul__', '__ne__', '__neg__', '__new__', '__nonzero__', '__or__', '__pos__', '__pow__', '__radd__', '__rand__', '__rdivmod__', '__reduce__', '__reduce_ex__', '__repr__', '__rfloordiv__', '__rmatmul__', '__rmod__', '__rmul__', '__ror__', '__round__', '__rpow__', '__rsub__', '__rtruediv__', '__rxor__', '__setattr__', '__setitem__', '__setstate__', '__sizeof__', '__str__', '__sub__', '__subclasshook__', '__truediv__', '__weakref__', '__xor__', '_accessors', '_accum_func', '_add_numeric_operations', '_agg_by_level', '_agg_examples_doc', '_agg_see_also_doc', '_align_frame', '_align_series', '_append', '_arith_method', '_as_manager', '_attrs', '_binop', '_can_hold_na', '_check_inplace_and_allows_duplicate_labels', '_check_inplace_setting', '_check_is_chained_assignment_possible', '_check_label_or_level_ambiguity', '_check_setitem_copy', '_clear_item_cache', '_clip_with_one_bound', '_clip_with_scalar', '_cmp_method', '_consolidate', '_consolidate_inplace', '_construct_axes_dict', '_construct_axes_from_arguments', '_construct_result', '_constructor', '_constructor_expanddim', '_convert', '_convert_dtypes', '_data', '_dir_additions', '_dir_deletions', '_drop_axis', '_drop_labels_or_levels', '_duplicated', '_find_valid_index', '_flags', '_from_mgr', '_get_axis', '_get_axis_name', '_get_axis_number', '_get_axis_resolvers', '_get_block_manager_axis', '_get_bool_data', '_get_cacher', '_get_cleaned_column_resolvers', '_get_index_resolvers', '_get_label_or_level_values', '_get_numeric_data', '_get_value', '_get_values', '_get_values_tuple', '_get_with', '_gotitem', '_hidden_attrs', '_indexed_same', '_info_axis', '_info_axis_name', '_info_axis_number', '_init_dict', '_init_mgr', '_inplace_method', '_internal_names', '_internal_names_set', '_is_cached', '_is_copy', '_is_label_or_level_reference', '_is_label_reference', '_is_level_reference', '_is_mixed_type', '_is_view', '_item_cache', '_ixs', '_logical_func', '_logical_method', '_map_values', '_maybe_update_cacher', '_memory_usage', '_metadata', '_mgr', '_min_count_stat_function', '_name', '_needs_reindex_multi', '_protect_consolidate', '_reduce', '_reindex_axes', '_reindex_indexer', '_reindex_multi', '_reindex_with_indexers', '_rename', '_replace_single', '_repr_data_resource_', '_repr_latex_', '_reset_cache', '_reset_cacher', '_set_as_cached', '_set_axis', '_set_axis_name', '_set_axis_nocheck', '_set_is_copy', '_set_labels', '_set_name', '_set_value', '_set_values', '_set_with', '_set_with_engine', '_slice', '_stat_axis', '_stat_axis_name', '_stat_axis_number', '_stat_function', '_stat_function_ddof', '_take_with_is_copy', '_typ', '_update_inplace', '_validate_dtype', '_values', '_where', 'abs', 'add', 'add_prefix', 'add_suffix', 'agg', 'aggregate', 'align', 'all', 'any', 'append', 'apply', 'argmax', 'argmin', 'argsort', 'array', 'asfreq', 'asof', 'astype', 'at', 'at_time', 'attrs', 'autocorr', 'axes', 'backfill', 'between', 'between_time', 'bfill', 'bool', 'clip', 'combine', 'combine_first', 'compare', 'convert_dtypes', 'copy', 'corr', 'count', 'cov', 'cummax', 'cummin', 'cumprod', 'cumsum', 'describe', 'diff', 'div', 'divide', 'divmod', 'dot', 'drop', 'drop_duplicates', 'droplevel', 'dropna', 'dtype', 'dtypes', 'duplicated', 'empty', 'eq', 'equals', 'ewm', 'expanding', 'explode', 'factorize', 'ffill', 'fillna', 'filter', 'first', 'first_valid_index', 'flags', 'floordiv', 'ge', 'get', 'groupby', 'gt', 'hasnans', 'head', 'hist', 'iat', 'idxmax', 'idxmin', 'iloc', 'index', 'infer_objects', 'info', 'interpolate', 'is_monotonic', 'is_monotonic_decreasing', 'is_monotonic_increasing', 'is_unique', 'isin', 'isna', 'isnull', 'item', 'items', 'iteritems', 'keys', 'kurt', 'kurtosis', 'last', 'last_valid_index', 'le', 'loc', 'lt', 'mad', 'map', 'mask', 'max', 'mean', 'median', 'memory_usage', 'min', 'mod', 'mode', 'mul', 'multiply', 'name', 'nbytes', 'ndim', 'ne', 'nlargest', 'notna', 'notnull', 'nsmallest', 'nunique', 'pad', 'pct_change', 'pipe', 'plot', 'pop', 'pow', 'prod', 'product', 'quantile', 'radd', 'rank', 'ravel', 'rdiv', 'rdivmod', 'reindex', 'reindex_like', 'rename', 'rename_axis', 'reorder_levels', 'repeat', 'replace', 'resample', 'reset_index', 'rfloordiv', 'rmod', 'rmul', 'rolling', 'round', 'rpow', 'rsub', 'rtruediv', 'sample', 'searchsorted', 'sem', 'set_axis', 'set_flags', 'shape', 'shift', 'size', 'skew', 'slice_shift', 'sort_index', 'sort_values', 'squeeze', 'std', 'sub', 'subtract', 'sum', 'swapaxes', 'swaplevel', 'tail', 'take', 'to_clipboard', 'to_csv', 'to_dict', 'to_excel', 'to_frame', 'to_hdf', 'to_json', 'to_latex', 'to_list', 'to_markdown', 'to_numpy', 'to_period', 'to_pickle', 'to_sql', 'to_string', 'to_timestamp', 'to_xarray', 'transform', 'transpose', 'truediv', 'truncate', 'tz_convert', 'tz_localize', 'unique', 'unstack', 'update', 'value_counts', 'values', 'var', 'view', 'where', 'xs']\n",
      "[33, 33, 35, 37, 39, 40, 40, 40, 40, 42, 42, 43, 44, 44, 44, 45, 46, 46, 48, 49, 49, 49, 49, 50, 50, 50, 51, 54, 56, 56, 56, 56, 57, 61, 62, 64, 65, 65, 66, 66, 66, 66, 67, 68, 70, 70, 70, 71, 71, 72, 72, 72, 72, 72, 73, 74, 74, 75, 76, 76, 76, 76, 77, 77, 78, 78, 78, 79, 79, 80, 80, 80, 81, 81, 82, 82, 83, 83, 83, 84, 84, 84, 85, 86, 86, 86, 87, 87, 87, 87, 88, 88, 88, 88, 88, 89, 89, 89, 90, 90, 90, 90, 91, 92, 92, 92, 93, 93, 93, 93, 95, 95, 96, 96, 96, 96, 97, 97, 98, 98, 99, 99, 100, 100, 100, 101, 101, 101, 102, 102, 103, 103, 104, 104, 104, 105, 105, 105, 105, 105, 105, 105, 105, 105, 108, 108, 108, 108, 108, 108, 109, 109, 110, 110, 110, 111, 111, 112, 113, 113, 113, 114, 114, 114, 114, 115, 115, 115, 115, 117, 117, 117, 118, 118, 119, 119, 119, 119, 120, 122, 123, 123, 123, 123, 123, 124, 125, 126, 127, 128, 128, 129, 130, 131, 131, 132, 132, 134, 134, 134, 135, 135, 136, 136, 136, 137, 138, 138, 138, 139, 140, 144, 145, 146, 146, 146, 146, 147, 149, 150, 150, 150, 150, 151, 152, 152, 152, 153, 153, 153, 154, 154, 154, 155, 155, 156, 156, 156, 156, 157, 157, 157, 157, 158, 158, 159, 159, 160, 160, 160, 160, 162, 164, 166, 167, 167, 168, 170, 170, 170, 170, 171, 172, 172, 173, 173, 173, 174, 174, 175, 175, 176, 176, 177, 178, 179, 179, 180, 180, 180, 182, 183, 183, 183, 184, 184, 184, 185, 185, 185, 185, 186, 186, 186, 188, 189, 190, 190, 192, 192, 192, 196, 196, 196, 197, 197, 202, 202, 202, 203, 204, 206, 207, 209, 210, 210, 211, 212, 213, 214, 216, 219, 220, 221, 221, 222, 222, 224, 225, 225, 226, 227, 228, 229, 230, 231, 233, 236, 236, 237, 241, 243, 244, 245, 247, 249, 254, 254, 258, 259, 259, 261, 261, 265, 267, 268, 269, 276, 276, 290, 295, 301, 306, 312, 396]\n",
      "33\n",
      "396\n"
     ]
    }
   ],
   "source": [
    "# len/type/dir/sorted/max/min\n",
    "print(len(subs))\n",
    "print(type(subs))\n",
    "print(dir(subs))\n",
    "print(sorted(subs))\n",
    "print(min(subs))\n",
    "print(max(subs))"
   ]
  },
  {
   "cell_type": "code",
   "execution_count": 115,
   "id": "ca16c56f",
   "metadata": {},
   "outputs": [
    {
     "data": {
      "text/plain": [
       "math         0\n",
       "english    100\n",
       "science    100\n",
       "hindi        0\n",
       "sst          0\n",
       "Name: ashish ke marks, dtype: int64"
      ]
     },
     "execution_count": 115,
     "metadata": {},
     "output_type": "execute_result"
    }
   ],
   "source": [
    "# type conversions\n",
    "marks_series"
   ]
  },
  {
   "cell_type": "code",
   "execution_count": 116,
   "id": "cf4e4ba9",
   "metadata": {},
   "outputs": [
    {
     "data": {
      "text/plain": [
       "[0, 100, 100, 0, 0]"
      ]
     },
     "execution_count": 116,
     "metadata": {},
     "output_type": "execute_result"
    }
   ],
   "source": [
    "list(marks_series)"
   ]
  },
  {
   "cell_type": "code",
   "execution_count": 117,
   "id": "e861a514",
   "metadata": {},
   "outputs": [
    {
     "data": {
      "text/plain": [
       "{'math': 0, 'english': 100, 'science': 100, 'hindi': 0, 'sst': 0}"
      ]
     },
     "execution_count": 117,
     "metadata": {},
     "output_type": "execute_result"
    }
   ],
   "source": [
    "dict(marks_series)"
   ]
  },
  {
   "cell_type": "code",
   "execution_count": 118,
   "id": "8dd33c4a",
   "metadata": {},
   "outputs": [
    {
     "data": {
      "text/plain": [
       "movie\n",
       "1920 (film)                   Rajniesh Duggall\n",
       "1920: London                     Sharman Joshi\n",
       "1920: The Evil Returns             Vicky Ahuja\n",
       "1971 (2007 film)                Manoj Bajpayee\n",
       "2 States (2014 film)                Alia Bhatt\n",
       "                                   ...        \n",
       "Zindagi 50-50                      Veena Malik\n",
       "Zindagi Na Milegi Dobara        Hrithik Roshan\n",
       "Zindagi Tere Naam           Mithun Chakraborty\n",
       "Zokkomon                       Darsheel Safary\n",
       "Zor Lagaa Ke...Haiya!            Meghan Jadhav\n",
       "Name: lead, Length: 1500, dtype: object"
      ]
     },
     "execution_count": 118,
     "metadata": {},
     "output_type": "execute_result"
    }
   ],
   "source": [
    "# membership operator\n",
    "movies"
   ]
  },
  {
   "cell_type": "code",
   "execution_count": 119,
   "id": "60bc34c9",
   "metadata": {},
   "outputs": [
    {
     "data": {
      "text/plain": [
       "True"
      ]
     },
     "execution_count": 119,
     "metadata": {},
     "output_type": "execute_result"
    }
   ],
   "source": [
    "'2 States (2014 film)' in movies"
   ]
  },
  {
   "cell_type": "code",
   "execution_count": 121,
   "id": "13b1bf4f",
   "metadata": {},
   "outputs": [
    {
     "data": {
      "text/plain": [
       "True"
      ]
     },
     "execution_count": 121,
     "metadata": {},
     "output_type": "execute_result"
    }
   ],
   "source": [
    "'Alia Bhatt' in movies.values"
   ]
  },
  {
   "cell_type": "code",
   "execution_count": 122,
   "id": "d7d37b71",
   "metadata": {},
   "outputs": [
    {
     "name": "stdout",
     "output_type": "stream",
     "text": [
      "1920 (film)\n",
      "1920: London\n",
      "1920: The Evil Returns\n",
      "1971 (2007 film)\n",
      "2 States (2014 film)\n",
      "22 Yards\n",
      "3 A.M. (2014 film)\n",
      "3 Deewarein\n",
      "3 Idiots\n",
      "3 Storeys\n",
      "31st October (film)\n",
      "36 China Town\n",
      "3G (film)\n",
      "404 (film)\n",
      "5 Weddings\n",
      "68 Pages\n",
      "7 Hours to Go\n",
      "7 Khoon Maaf\n",
      "7½ Phere\n",
      "88 Antop Hill\n",
      "99 (2009 film)\n",
      "99.9 FM (film)\n",
      "?: A Question Mark\n",
      "A Decent Arrangement\n",
      "A Flat (film)\n",
      "A Flying Jatt\n",
      "A Gentleman\n",
      "ABCD 2\n",
      "Aa Dekhen Zara\n",
      "Aa Gaya Hero\n",
      "Aabra Ka Daabra\n",
      "Aag (2007 film)\n",
      "Aagey Se Right\n",
      "Aaj Ka Andha Kanoon\n",
      "Aaja Nachle\n",
      "Aakhari Decision\n",
      "Aakrosh (2010 film)\n",
      "Aalaap (film)\n",
      "Aan: Men at Work\n",
      "Aanch\n",
      "Aankhen (2002 film)\n",
      "Aap Kaa Surroor\n",
      "Aap Ki Khatir (2006 film)\n",
      "Aapko Pehle Bhi Kahin Dekha Hai\n",
      "Aarakshan\n",
      "Aashayein\n",
      "Aashiq Banaya Aapne\n",
      "Aashiqui 2\n",
      "Aashiqui.in\n",
      "Aasma: The Sky Is the Limit\n",
      "Aazaan\n",
      "Ab Tak Chhappan 2\n",
      "Ab Tumhare Hawale Watan Saathiyo\n",
      "Accident on Hill Road\n",
      "Acid Factory\n",
      "Action Jackson (2014 film)\n",
      "Action Replayy\n",
      "Adharm (2006 film)\n",
      "Ae Dil Hai Mushkil\n",
      "Aetbaar\n",
      "Agent Vinod (2012 film)\n",
      "Aggar (film)\n",
      "Agneepath (2012 film)\n",
      "Agnipankh\n",
      "Ahista Ahista (2006 film)\n",
      "Airlift (film)\n",
      "Aisa Kyon Hota Hai?\n",
      "Aisa Yeh Jahaan\n",
      "Aitraaz\n",
      "Aiyaary\n",
      "Aiyyaa\n",
      "Ajab Gazabb Love\n",
      "Ajab Prem Ki Ghazab Kahani\n",
      "Ajji\n",
      "Akaash Vani\n",
      "Aksar\n",
      "Aksar 2\n",
      "Aladin (film)\n",
      "Alag\n",
      "Albert Pinto Ko Gussa Kyun Aata Hai?\n",
      "Aligarh (film)\n",
      "All Is Well (2015 film)\n",
      "All the Best: Fun Begins\n",
      "Allah Ke Banday\n",
      "Alone (2015 Hindi film)\n",
      "Aloo Chaat (film)\n",
      "Always Kabhi Kabhi\n",
      "Amavas\n",
      "Amit Sahni Ki List\n",
      "Anaarkali of Aarah\n",
      "Anamika (2008 film)\n",
      "Andaaz\n",
      "Andaaz\n",
      "Andhadhun\n",
      "Angel (2011 film)\n",
      "Anjaana Anjaani\n",
      "Anjaane (2005 film)\n",
      "Ankahee (2006 film)\n",
      "Ankhon Dekhi\n",
      "Ankur Arora Murder Case\n",
      "Anna (2016 film)\n",
      "Antardwand\n",
      "Anthony Kaun Hai?\n",
      "Anuradha (2014 film)\n",
      "Anwar (2007 film)\n",
      "Apaharan\n",
      "Apartment (film)\n",
      "Apna Asmaan\n",
      "Apna Sapna Money Money\n",
      "Apne\n",
      "Arjun Patiala\n",
      "Arjun: The Warrior Prince\n",
      "Armaan (2003 film)\n",
      "Article 15 (film)\n",
      "Aryan: Unbreakable\n",
      "Asambhav\n",
      "Ata Pata Laapata\n",
      "Aur Pappu Paas Ho Gaya\n",
      "Aurangzeb (film)\n",
      "Aval (2017 film)\n",
      "Awara Paagal Deewana\n",
      "Awarapan\n",
      "Azhar (film)\n",
      "B.A. Pass\n",
      "Baabarr\n",
      "Baabul (2006 film)\n",
      "Baaghi (2016 film)\n",
      "Baaghi 2\n",
      "Baar Baar Dekho\n",
      "Baat Bann Gayi\n",
      "Baaz: A Bird in Danger\n",
      "Baazaar\n",
      "Babloo Happy Hai\n",
      "Babuji Ek Ticket Bambai\n",
      "Babumoshai Bandookbaaz\n",
      "Baby (2015 Hindi film)\n",
      "Bachche Kachche Sachche\n",
      "Bachke Rehna Re Baba\n",
      "Bachna Ae Haseeno\n",
      "Badhaai Ho\n",
      "Badla (2019 film)\n",
      "Badlapur (film)\n",
      "Badlapur Boys\n",
      "Badmashiyaan\n",
      "Badrinath Ki Dulhania\n",
      "Baghban (2003 film)\n",
      "Bajatey Raho\n",
      "Bajirao Mastani\n",
      "Bajrangi Bhaijaan\n",
      "Bala (2019 film)\n",
      "Balwinder Singh Famous Ho Gaya\n",
      "Banaras (2006 film)\n",
      "Band Baaja Baaraat\n",
      "Bandook\n",
      "Bang Bang!\n",
      "Bangistan\n",
      "Banjo (2016 film)\n",
      "Bank Chor\n",
      "Barah Aana\n",
      "Bardaasht\n",
      "Bareilly Ki Barfi\n",
      "Barfi!\n",
      "Barkhaa\n",
      "Barsaat (2005 film)\n",
      "Bas Ek Pal\n",
      "Basti (film)\n",
      "Batla House\n",
      "Battalion 609\n",
      "Batti Gul Meter Chalu\n",
      "Bazaar E Husn\n",
      "Bbuddah... Hoga Terra Baap\n",
      "Befikre\n",
      "Begum Jaan\n",
      "Behen Hogi Teri\n",
      "Beiimaan Love\n",
      "Being Cyrus\n",
      "Bewafaa (2005 film)\n",
      "Bewakoofiyaan\n",
      "Beyond the Clouds (2017 film)\n",
      "Bezubaan Ishq\n",
      "Bhaag Johnny\n",
      "Bhaag Milkha Bhaag\n",
      "Bhagam Bhag\n",
      "Bhagmati (2005 film)\n",
      "Bhaiaji Superhit\n",
      "Bhanwarey\n",
      "Bhavesh Joshi Superhero\n",
      "Bheja Fry (film)\n",
      "Bheja Fry 2\n",
      "Bhola in Bollywood\n",
      "Bhool Bhulaiyaa\n",
      "Bhoomi (film)\n",
      "Bhoot (film)\n",
      "Bhoot Returns\n",
      "Bhoot Unkle\n",
      "Bhoothnath\n",
      "Bhoothnath Returns\n",
      "Bhopal: A Prayer for Rain\n",
      "Bhram\n",
      "Big Brother (2007 film)\n",
      "Billu\n",
      "Bin Bulaye Baraati\n",
      "Bioscopewala\n",
      "Bittoo Boss\n",
      "Black (2005 film)\n",
      "Black Friday (2007 film)\n",
      "Blackmail (2005 film)\n",
      "Blood Brothers (2007 Indian film)\n",
      "Blood Money (2012 film)\n",
      "Bloody Isshq\n",
      "Blue (2009 film)\n",
      "Bluffmaster!\n",
      "Bobby Jasoos\n",
      "Bodyguard (2011 Hindi film)\n",
      "Bol Bachchan\n",
      "Bollywood Diaries\n",
      "Bombairiya\n",
      "Bombay Talkies (film)\n",
      "Bombay Velvet\n",
      "Bombay to Bangkok\n",
      "Bombay to Goa (2007 film)\n",
      "Boom (film)\n",
      "Border (1997 film)\n",
      "Boss (2013 Hindi film)\n",
      "Brahman Naman\n",
      "Break Ke Baad\n",
      "Breakaway (2011 film)\n",
      "Brij Mohan Amar Rahe\n",
      "Brothers (2015 film)\n",
      "Bubble Gum (film)\n",
      "Buddha Mar Gaya\n",
      "Buddha in a Traffic Jam\n",
      "Bullet: Ek Dhamaka\n",
      "Bullett Raja\n",
      "Bumboo\n",
      "Bumm Bumm Bole\n",
      "Bumper Draw\n",
      "Bunty Aur Babli\n",
      "Bypass Road (film)\n",
      "C Kkompany\n",
      "Calapor (film)\n",
      "Calcutta Mail\n",
      "Calendar Girls (2015 film)\n",
      "Cash (2007 film)\n",
      "Chaahat – Ek Nasha\n",
      "Chaalis Chauraasi\n",
      "Chaar Din Ki Chandni\n",
      "Chaarfutiya Chhokare\n",
      "Chak De! India\n",
      "Chakravyuh (2012 film)\n",
      "Chal Chala Chal\n",
      "Chal Pichchur Banate Hain\n",
      "Chalk n Duster\n",
      "Challo Driver\n",
      "Chalo Dilli\n",
      "Chalte Chalte (2003 film)\n",
      "Chameli (film)\n",
      "Chamku\n",
      "Chance Pe Dance\n",
      "Chand Ke Paar Chalo (film)\n",
      "Chand Sa Roshan Chehra\n",
      "Chandni Chowk to China\n",
      "Charas (2004 film)\n",
      "Chargesheet (film)\n",
      "Chase (2010 film)\n",
      "Chashme Baddoor (2013 film)\n",
      "Chatur Singh Two Star\n",
      "Cheeni Kum\n",
      "Chef (2017 film)\n",
      "Chehraa\n",
      "Chennai Express\n",
      "Chetna: The Excitement\n",
      "Chhodon Naa Yaar\n",
      "Chhota Bheem and the Throne of Bali\n",
      "Chicken Curry Law\n",
      "Children of Heaven\n",
      "Children of War (2014 film)\n",
      "Chillar Party\n",
      "Chinar Daastaan-E-Ishq\n",
      "Chingaari\n",
      "Chintu Ji\n",
      "Chittagong (film)\n",
      "Chocolate (2005 film)\n",
      "Chor Chor Super Chor\n",
      "Chori Chori (2003 film)\n",
      "Chup Chup Ke\n",
      "Chura Liyaa Hai Tumne\n",
      "Cigarette Ki Tarah\n",
      "City of Gold (2010 film)\n",
      "CityLights (2014 film)\n",
      "Classic – Dance of Love\n",
      "Click (2010 film)\n",
      "Cocktail (2012 film)\n",
      "Coffee Bloom\n",
      "Coffee with D\n",
      "Commando 3 (film)\n",
      "Commando: A One Man Army\n",
      "Company (film)\n",
      "Contract (2008 film)\n",
      "Corporate (2006 film)\n",
      "Court (film)\n",
      "Crazy Cukkad Family\n",
      "Creature 3D\n",
      "Crook (film)\n",
      "D (film)\n",
      "D-Day (2013 film)\n",
      "Daas Dev\n",
      "Daawat-e-Ishq\n",
      "Dabangg\n",
      "Dabangg 2\n",
      "Dabangg 3\n",
      "Daddy (2017 film)\n",
      "Daddy Cool (2009 Hindi film)\n",
      "Damadamm!\n",
      "Dangal (film)\n",
      "Dangerous Ishhq\n",
      "Darling (2007 Indian film)\n",
      "Darna Mana Hai\n",
      "Darna Zaroori Hai\n",
      "Darr @ the Mall\n",
      "Darwaaza Bandh Rakho\n",
      "Dassehra\n",
      "Dasvidaniya\n",
      "Days of Tafree\n",
      "De Dana Dan\n",
      "De De Pyaar De\n",
      "De Taali\n",
      "Deadline: Sirf 24 Ghante\n",
      "Dear Dad (film)\n",
      "Dear Friend Hitler\n",
      "Dear Maya\n",
      "Dear Zindagi\n",
      "Dedh Ishqiya\n",
      "Deewaar (2004 film)\n",
      "Deewane Huye Paagal\n",
      "Dehraadun Diary\n",
      "Dekh Tamasha Dekh\n",
      "Delhi Belly (film)\n",
      "Delhi Safari\n",
      "Delhi-6\n",
      "Department (film)\n",
      "Deshdrohi\n",
      "Desi Boyz\n",
      "Desi Kattey\n",
      "Detective Byomkesh Bakshy!\n",
      "Dev (2004 film)\n",
      "Devaki (2005 film)\n",
      "Devdas (2002 Hindi film)\n",
      "Devi (2016 film)\n",
      "Dhadak\n",
      "Dhamaal\n",
      "Dhanak\n",
      "Dharam Sankat Mein\n",
      "Dharm (film)\n",
      "Dharti Kahe Pukar Ke (2006 film)\n",
      "Dhobi Ghat (film)\n",
      "Dhokha\n",
      "Dhol (film)\n",
      "Dhoom\n",
      "Dhoom 2\n",
      "Dhoom 3\n",
      "Dhoondte Reh Jaaoge\n",
      "Dhoop\n",
      "Dhund (2003 film)\n",
      "Dil Bechara\n",
      "Dil Bechara Pyaar Ka Maara\n",
      "Dil Bole Hadippa!\n",
      "Dil Dhadakne Do\n",
      "Dil Diya Hai\n",
      "Dil Dosti Etc\n",
      "Dil Jo Bhi Kahey...\n",
      "Dil Jo Na Keh Saka\n",
      "Dil Juunglee\n",
      "Dil Ka Rishta\n",
      "Dil Kabaddi\n",
      "Dil Maange More\n",
      "Dil Ne Jise Apna Kahaa\n",
      "Dil Pardesi Ho Gayaa\n",
      "Dil Toh Baccha Hai Ji\n",
      "Dil Toh Deewana Hai\n",
      "Dilliwali Zaalim Girlfriend\n",
      "Dilwale (2015 film)\n",
      "Direct Ishq\n",
      "Dirty Politics (film)\n",
      "Dishkiyaoon\n",
      "Dishoom\n",
      "Do Dooni Chaar\n",
      "Do Lafzon Ki Kahani (film)\n",
      "Dobaara: See Your Evil\n",
      "Dobara\n",
      "Dolly Ki Doli\n",
      "Don (2006 Hindi film)\n",
      "Don 2\n",
      "Don Muthu Swami\n",
      "Don't Stop Dreaming\n",
      "Dongari Ka Raja\n",
      "Dor (film)\n",
      "Dostana (2008 film)\n",
      "Dosti: Friends Forever\n",
      "Double Cross (2005 film)\n",
      "Double Dhamaal\n",
      "Dream Girl (2019 film)\n",
      "Dreams (2006 film)\n",
      "Drishyam (2015 film)\n",
      "Drona (2008 film)\n",
      "Dude Where's the Party?\n",
      "Dulha Mil Gaya\n",
      "Dum (2003 Hindi film)\n",
      "Dum Laga Ke Haisha\n",
      "Dum Maaro Dum (film)\n",
      "Dunno Y... Na Jaane Kyon\n",
      "Dus\n",
      "Dus Kahaniyaan\n",
      "Eight: The Power of Shani\n",
      "Ek Ajnabee\n",
      "Ek Alag Mausam\n",
      "Ek Aur Ek Gyarah\n",
      "Ek Chalis Ki Last Local\n",
      "Ek Din 24 Ghante\n",
      "Ek Haseena Thi Ek Deewana Tha\n",
      "Ek Hasina Thi (film)\n",
      "Ek Kahani Julie Ki\n",
      "Ek Khiladi Ek Haseena (film)\n",
      "Ek Main Aur Ekk Tu\n",
      "Ek Paheli Leela\n",
      "Ek Se Badhkar Ek (2004 film)\n",
      "Ek Se Bure Do\n",
      "Ek Second... Jo Zindagi Badal De?\n",
      "Ek Tha Tiger\n",
      "Ek Thi Daayan\n",
      "Ek Thi Rani Aisi Bhi\n",
      "Ek Villain\n",
      "Ek Vivaah... Aisa Bhi\n",
      "Ek: The Power of One\n",
      "Ekk Deewana Tha\n",
      "Ekkees Toppon Ki Salaami\n",
      "Eklavya: The Royal Guard\n",
      "Elaan (2005 film)\n",
      "Enemmy\n",
      "English Vinglish\n",
      "Entertainment (2014 film)\n",
      "Escape from Taliban\n",
      "Evening Shadows\n",
      "F.A.L.T.U\n",
      "Family (2006 film)\n",
      "Family of Thakurganj\n",
      "Familywala\n",
      "Fan (film)\n",
      "Fanaa (2006 film)\n",
      "Fareb (2005 film)\n",
      "Fashion (2008 film)\n",
      "Fatso!\n",
      "Ferrari Ki Sawaari\n",
      "Fever (2016 film)\n",
      "Fida\n",
      "Fight Club – Members Only\n",
      "Filmistaan\n",
      "Finding Fanny\n",
      "Firaaq\n",
      "Firangi\n",
      "Fitoor\n",
      "Flat 211\n",
      "Flavors (film)\n",
      "Fool & Final\n",
      "Footpath (2003 film)\n",
      "Force (2011 film)\n",
      "Force 2\n",
      "Fox (film)\n",
      "Fraud Saiyaan\n",
      "Freaky Ali\n",
      "Fredrick (film)\n",
      "From Sydney with Love\n",
      "Fruit and Nut (film)\n",
      "FryDay\n",
      "Fuddu\n",
      "Fugly (film)\n",
      "Fukrey\n",
      "Fukrey Returns\n",
      "Fun – Can Be Dangerous Sometimes\n",
      "Fun2shh... Dudes in the 10th Century\n",
      "G Kutta Se\n",
      "Gabbar Is Back\n",
      "Gabbar Is Back\n",
      "Gali Guleiyan\n",
      "Game (2011 film)\n",
      "Gandhi My Father\n",
      "Gang of Ghosts\n",
      "Gangaajal\n",
      "Gangoobai\n",
      "Gangs of Wasseypur\n",
      "Gangs of Wasseypur – Part 2\n",
      "Gangster (2006 film)\n",
      "Garam Masala (2005 film)\n",
      "Garv: Pride & Honour\n",
      "Gattu\n",
      "Gauri: The Unborn\n",
      "Gayab\n",
      "Genius (2018 Hindi film)\n",
      "Ghajini (2008 film)\n",
      "Ghanchakkar (film)\n",
      "Ghayal: Once Again\n",
      "Ghost (2012 film)\n",
      "Ghost (2019 film)\n",
      "Gippi\n",
      "Girlfriend (2004 film)\n",
      "Global Baba\n",
      "Go (2007 film)\n",
      "Go Goa Gone\n",
      "Goal (2007 Hindi film)\n",
      "God Tussi Great Ho\n",
      "Gold (2018 film)\n",
      "Goliyon Ki Raasleela Ram-Leela\n",
      "Gollu Aur Pappu\n",
      "Golmaal Again\n",
      "Golmaal Returns\n",
      "Golmaal: Fun Unlimited\n",
      "Gone Kesh\n",
      "Good Boy Bad Boy\n",
      "Good Newwz\n",
      "Gori Tere Pyaar Mein\n",
      "Gour Hari Dastaan\n",
      "Grand Masti\n",
      "Great Grand Masti\n",
      "Green Card Fever\n",
      "Guddu Ki Gun\n",
      "Guddu Rangeela\n",
      "Guest iin London\n",
      "Gulaab Gang\n",
      "Gulaal (film)\n",
      "Gulabi Gang (film)\n",
      "Gully Boy\n",
      "Gumnaam – The Mystery\n",
      "Gunday\n",
      "Guru (2007 film)\n",
      "Guzaarish (film)\n",
      "Haal-e-Dil\n",
      "Haasil\n",
      "Hai Apna Dil Toh Awara\n",
      "Haider (film)\n",
      "Half Girlfriend (film)\n",
      "Halkaa\n",
      "Halla Bol\n",
      "Hamari Adhuri Kahani\n",
      "Hamid (film)\n",
      "Hanuman (2005 film)\n",
      "Happy Bhag Jayegi\n",
      "Happy Ending (film)\n",
      "Happy Husbands (2011 film)\n",
      "Happy New Year (2014 film)\n",
      "Happy Phirr Bhag Jayegi\n",
      "Haraamkhor\n",
      "Hari Puttar: A Comedy of Terrors\n",
      "Hasee Toh Phasee\n",
      "Haseena Parkar\n",
      "Hastey Hastey\n",
      "Hate Story\n",
      "Hate Story 2\n",
      "Hate Story 4\n",
      "Hattrick (film)\n",
      "Hatya (2004 film)\n",
      "Haunted – 3D\n",
      "Hava Aney Dey\n",
      "Hawa (film)\n",
      "Hawaa Hawaai\n",
      "Hawaizaada\n",
      "Hawas (2004 film)\n",
      "Hawayein\n",
      "Hazaaron Khwaishein Aisi\n",
      "Heartless (2014 film)\n",
      "Helicopter Eela\n",
      "Hello (2008 film)\n",
      "Hello Darling\n",
      "Help (film)\n",
      "Hero (2015 Hindi film)\n",
      "Heroes (2008 film)\n",
      "Heroine (2012 film)\n",
      "Heropanti\n",
      "Hey Bro\n",
      "Heyy Babyy\n",
      "Hichki\n",
      "High Jack (film)\n",
      "Highway (2014 Hindi film)\n",
      "Himmatwala (2013 film)\n",
      "Hind Ka Napak Ko Jawab: MSG Lion Heart 2\n",
      "Hindi Medium\n",
      "Hisss\n",
      "Holiday (2006 film)\n",
      "Holiday: A Soldier Is Never Off Duty\n",
      "Home Delivery\n",
      "Honeymoon Travels Pvt. Ltd.\n",
      "Honour Killing (film)\n",
      "Hope Aur Hum\n",
      "Horror Story (film)\n",
      "Hostel (2011 film)\n",
      "Hotel Salvation\n",
      "Housefull (2010 film)\n",
      "Housefull 2\n",
      "Housefull 4\n",
      "Hulchul (2004 film)\n",
      "Hum Chaar\n",
      "Hum Hai Raahi Car Ke\n",
      "Hum Tum\n",
      "Hum Tum Aur Ghost\n",
      "Hum Tum Shabana\n",
      "Hum Tumhare Hain Sanam\n",
      "Hume Tumse Pyaar Kitna\n",
      "Humko Deewana Kar Gaye\n",
      "Humko Tumse Pyaar Hai\n",
      "Humne Jeena Seekh Liya\n",
      "Humpty Sharma Ki Dulhania\n",
      "Humshakals\n",
      "Hungama (2003 film)\n",
      "Hunterrr\n",
      "Hyderabad Blues 2\n",
      "I Am (2010 Indian film)\n",
      "I Am Kalam\n",
      "I Hate Luv Storys\n",
      "I Love Desi\n",
      "I Love NY (2015 film)\n",
      "I Proud to Be an Indian\n",
      "I See You (2006 film)\n",
      "Impatient Vivek\n",
      "India's Most Wanted (film)\n",
      "Indian Babu\n",
      "Indu Sarkar\n",
      "Inkaar (2013 film)\n",
      "Insaaf: The Justice\n",
      "Insan\n",
      "Inteha (2003 film)\n",
      "Inteqam: The Perfect Game\n",
      "Iqbal (film)\n",
      "Iqraar by Chance\n",
      "Irada (2017 film)\n",
      "Irudhi Suttru\n",
      "Ishaqzaade\n",
      "Ishkq in Paris\n",
      "Ishq Click\n",
      "Ishq Forever\n",
      "Ishq Hai Tumse\n",
      "Ishq Ke Parindey\n",
      "Ishq Vishk\n",
      "Ishqedarriyaan\n",
      "Ishqeria\n",
      "Ishqiya\n",
      "Isi Life Mein\n",
      "Island City (2015 film)\n",
      "Issaq\n",
      "It's a Wonderful Afterlife\n",
      "JD (film)\n",
      "Jaal: The Trap\n",
      "Jaan-E-Mann\n",
      "Jaane Hoga Kya\n",
      "Jaane Kahan Se Aayi Hai\n",
      "Jaane Kyun De Yaaron\n",
      "Jab Harry Met Sejal\n",
      "Jab Tak Hai Jaan\n",
      "Jab We Met\n",
      "Jabariya Jodi\n",
      "Jack and Dil\n",
      "Jackpot (2013 film)\n",
      "Jagga Jasoos\n",
      "Jahan Jaaeyega Hamen Paaeyega\n",
      "Jai Chiranjeeva\n",
      "Jai Gangaajal\n",
      "Jai Ho (film)\n",
      "Jai Jawaan Jai Kisaan (film)\n",
      "Jai Veeru\n",
      "Jail (2009 film)\n",
      "Jajantaram Mamantaram\n",
      "Jal (film)\n",
      "Jalebi (film)\n",
      "Jalpari: The Desert Mermaid\n",
      "James (2005 film)\n",
      "Janasheen\n",
      "Jannat (film)\n",
      "Jattu Engineer\n",
      "Jawani Diwani: A Youthful Joyride\n",
      "Jayantabhai Ki Luv Story\n",
      "Jazbaa\n",
      "Jeena Hai Toh Thok Daal\n",
      "Jeena Isi Ka Naam Hai (film)\n",
      "Jhalki\n",
      "Jhankaar Beats\n",
      "Jhoom Barabar Jhoom\n",
      "Jhootha Hi Sahi\n",
      "Jhootha Kahin Ka\n",
      "Jia Aur Jia\n",
      "Jigariyaa\n",
      "Jigyaasa\n",
      "Jimmy (2008 film)\n",
      "Jism (2003 film)\n",
      "Jo Bole So Nihaal (film)\n",
      "Jo Hum Chahein\n",
      "Jodhaa Akbar\n",
      "Jodi Breakers\n",
      "Joggers' Park (film)\n",
      "John Day (film)\n",
      "Johnny Gaddaar\n",
      "Joker (2012 film)\n",
      "Jolly LLB\n",
      "Judgementall Hai Kya\n",
      "Judwaa 2\n",
      "Jugni (2016 film)\n",
      "Julie (2004 film)\n",
      "Julie 2\n",
      "Junglee (2019 film)\n",
      "Junooniyat\n",
      "Jurm (2005 film)\n",
      "Just Married (2007 film)\n",
      "Kaabil\n",
      "Kaagaz Ke Fools\n",
      "Kaal (2005 film)\n",
      "Kaalakaandi\n",
      "Kaalo\n",
      "Kaanchi: The Unbreakable\n",
      "Kaante\n",
      "Kaashi in Search of Ganga\n",
      "Kabhi Alvida Naa Kehna\n",
      "Kabir Singh\n",
      "Kabul Express\n",
      "Kadvi Hawa\n",
      "Kagaar: Life on the Edge\n",
      "Kahaani\n",
      "Kahin Hai Mera Pyar\n",
      "Kai Po Che!\n",
      "Kaise Kahoon Ke... Pyaar Hai\n",
      "Kal Ho Naa Ho\n",
      "Kalank\n",
      "Kalyug (2005 film)\n",
      "Kaminey\n",
      "Kapoor & Sons\n",
      "Karam (film)\n",
      "Karar: The Deal\n",
      "Karle Pyaar Karle\n",
      "Karma Aur Holi\n",
      "Karthik Calling Karthik\n",
      "Karwaan\n",
      "Karzzzz\n",
      "Kasak (2005 film)\n",
      "Kash Aap Hamare Hote\n",
      "Katti Batti\n",
      "Kaun Hai Jo Sapno Mein Aaya\n",
      "Kaun Kitne Paani Mein\n",
      "Keep Safe Distance (film)\n",
      "Kesari (film)\n",
      "Khajoor Pe Atke\n",
      "Khakee\n",
      "Khamosh Pani\n",
      "Khamoshh... Khauff Ki Raat\n",
      "Khamoshi (2019 film)\n",
      "Khamoshiyan\n",
      "Khap (film)\n",
      "Khatta Meetha (2010 film)\n",
      "Khel Toh Ab Shuru Hoga\n",
      "Khel – No Ordinary Game\n",
      "Khichdi: The Movie\n",
      "Khoobsurat (2014 film)\n",
      "Khosla Ka Ghosla\n",
      "Khoya Khoya Chand\n",
      "Khuda Kasam\n",
      "Khushi (2003 Hindi film)\n",
      "Khwaabb\n",
      "Khwahish\n",
      "Ki & Ka\n",
      "Kick (2014 film)\n",
      "Kill Dil\n",
      "Kis Kis Ki Kismat\n",
      "Kis Kisko Pyaar Karoon\n",
      "Kisaan\n",
      "Kismat (2004 film)\n",
      "Kismat Konnection\n",
      "Kismat Love Paisa Dilli\n",
      "Kisna: The Warrior Poet\n",
      "Kisse Pyaar Karoon\n",
      "Kites (film)\n",
      "Knock Out (2010 film)\n",
      "Koi Aap Sa\n",
      "Koi Mere Dil Mein Hai\n",
      "Koi... Mil Gaya\n",
      "Koyelaanchal\n",
      "Krazzy 4\n",
      "Krishna Aur Kans\n",
      "Krishna Cottage\n",
      "Krrish\n",
      "Kucch Luv Jaisaa\n",
      "Kucch To Hai\n",
      "Kuch Kuch Locha Hai\n",
      "Kuch Naa Kaho\n",
      "Kuchh Bheege Alfaaz\n",
      "Kuchh Meetha Ho Jaye\n",
      "Kudiyon Ka Hai Zamana\n",
      "Kuku Mathur Ki Jhand Ho Gayi\n",
      "Kurbaan (2009 film)\n",
      "Kushti (film)\n",
      "Kya Dilli Kya Lahore\n",
      "Kya Love Story Hai\n",
      "Kyaa Kool Hai Hum\n",
      "Kyaa Kool Hain Hum 3\n",
      "Kyaa Super Kool Hain Hum\n",
      "Kyon Ki\n",
      "Kyun! Ho Gaya Na...\n",
      "LOC Kargil\n",
      "Laaga Chunari Mein Daag\n",
      "Laal Rang\n",
      "Ladies vs Ricky Bahl\n",
      "Lafangey Parindey\n",
      "Lage Raho Munna Bhai\n",
      "Lahore (film)\n",
      "Laila Majnu (2018 film)\n",
      "Lakeer – Forbidden Lines\n",
      "Lakshmi (2014 film)\n",
      "Lakshya (film)\n",
      "Lamhaa\n",
      "Lekar Hum Deewana Dil\n",
      "Life Express (2010 film)\n",
      "Life Is Beautiful (2014 film)\n",
      "Life Ki Toh Lag Gayi\n",
      "Life Mein Kabhie Kabhiee\n",
      "Life Partner\n",
      "Life in a... Metro\n",
      "Lipstick Under My Burkha\n",
      "Listen... Amaya\n",
      "Little Zizou\n",
      "Login (film)\n",
      "Loins of Punjab Presents\n",
      "London Dreams\n",
      "Lootera\n",
      "Love Aaj Kal\n",
      "Love Breakups Zindagi\n",
      "Love Games (film)\n",
      "Love Ke Chakkar Mein\n",
      "Love Sex Aur Dhokha\n",
      "Love Shagun\n",
      "Love Sonia\n",
      "Love Story 2050\n",
      "Love U...Mr. Kalakaar!\n",
      "Love in Bombay\n",
      "Love per Square Foot\n",
      "Loveshhuda\n",
      "Luck (2009 film)\n",
      "Luck by Chance\n",
      "Luckhnowi Ishq\n",
      "Lucknow Central\n",
      "Lucky Kabootar\n",
      "Lucky: No Time for Love\n",
      "Luv U Alia\n",
      "Luv U Soniyo\n",
      "M Cream\n",
      "M.S. Dhoni: The Untold Story\n",
      "MP3: Mera Pehla Pehla Pyaar\n",
      "MSG-2 The Messenger\n",
      "MSG: The Messenger\n",
      "MSG: The Warrior Lion Heart\n",
      "Maan Gaye Mughal-e-Azam\n",
      "Maatr\n",
      "Maazii\n",
      "Machhli Jal Ki Rani Hai\n",
      "Machine (2017 film)\n",
      "Mad About Dance\n",
      "Madaari\n",
      "Made in China (2019 film)\n",
      "Madhoshi\n",
      "Madras Cafe\n",
      "Magic Magic 3D\n",
      "Mai (2013 film)\n",
      "Main Aisa Hi Hoon\n",
      "Main Aur Mr. Riight\n",
      "Main Aurr Mrs Khanna\n",
      "Main Hoon Na\n",
      "Main Hoon Part-Time Killer\n",
      "Main Krishna Hoon\n",
      "Main Madhuri Dixit Banna Chahti Hoon\n",
      "Main Meri Patni Aur Woh\n",
      "Main Prem Ki Diwani Hoon\n",
      "Main Tera Hero\n",
      "Maine Gandhi Ko Nahin Mara\n",
      "Maine Pyaar Kyun Kiya?\n",
      "Malamaal Weekly\n",
      "Malik Ek\n",
      "Mangal Pandey: The Rising\n",
      "Manikarnika: The Queen of Jhansi\n",
      "Manjhi – The Mountain Man\n",
      "Manjunath (film)\n",
      "Manmarziyaan\n",
      "Manorama Six Feet Under\n",
      "Manto (2018 film)\n",
      "Mantra (2016 film)\n",
      "Maqbool\n",
      "Mard Ko Dard Nahi Hota\n",
      "Mardaani\n",
      "Mardaani 2\n",
      "Margarita with a Straw\n",
      "Marigold (2007 film)\n",
      "Marjaavaan\n",
      "Market (2003 film)\n",
      "Married 2 America\n",
      "Mary Kom (film)\n",
      "Masaan\n",
      "Masti (2004 film)\n",
      "Mastizaade\n",
      "Mastram\n",
      "Matru Ki Bijlee Ka Mandola\n",
      "Matrubhoomi\n",
      "Mausam (2011 film)\n",
      "Maximum (film)\n",
      "Meenaxi: A Tale of Three Cities\n",
      "Meerabai Not Out\n",
      "Meeruthiya Gangsters\n",
      "Meinu Ek Ladki Chaahiye\n",
      "Memories in March\n",
      "Mercury (film)\n",
      "Mere Baap Pehle Aap\n",
      "Mere Brother Ki Dulhan\n",
      "Mere Dad Ki Maruti\n",
      "Mere Dost Picture Abhi Baki Hai\n",
      "Mere Genie Uncle\n",
      "Mere Jeevan Saathi (2006 film)\n",
      "Mere Pyare Prime Minister\n",
      "Meri Biwi Ka Jawaab Nahin\n",
      "Meri Pyaari Bindu\n",
      "Mickey Virus\n",
      "Milenge Milenge\n",
      "Miley Naa Miley Hum\n",
      "Mirch\n",
      "Mirzya (film)\n",
      "Miss Tanakpur Haazir Ho\n",
      "Missing (2018 film)\n",
      "Mission Istaanbul\n",
      "Mission Mangal\n",
      "Mitron\n",
      "Mittal v/s Mittal\n",
      "Moh Maya Money\n",
      "Mohalla Assi\n",
      "Mohenjo Daro (film)\n",
      "Mom (film)\n",
      "Money Hai Toh Honey Hai\n",
      "Monica (film)\n",
      "Monsoon Shootout\n",
      "Morning Raga\n",
      "Motichoor Chaknachoor\n",
      "Motu Patlu: King of Kings\n",
      "Mr Prime Minister\n",
      "Mr. Bhatti on Chutti\n",
      "Mr. Singh Mrs. Mehta\n",
      "Mr. X (2015 film)\n",
      "Mubarakan\n",
      "Mughal-e-Azam\n",
      "Mujhse Fraaandship Karoge\n",
      "Mujhse Shaadi Karogi\n",
      "Mukhbiir\n",
      "Mukkabaaz\n",
      "Mulk (film)\n",
      "Mumbai 125 KM\n",
      "Mumbai Can Dance Saala\n",
      "Mumbai Delhi Mumbai\n",
      "Mumbai Mast Kallander\n",
      "Mumbai Matinee\n",
      "Mumbai Meri Jaan\n",
      "Mumbai Salsa\n",
      "Mumbai Se Aaya Mera Dost\n",
      "Mumbhai Connection\n",
      "Mummy Punjabi\n",
      "Munna Bhai M.B.B.S.\n",
      "Munna Michael\n",
      "Murari the Mad Gentleman\n",
      "Murder (2004 film)\n",
      "Murder 2\n",
      "Murder 3\n",
      "Musafir (2004 film)\n",
      "Muskaan\n",
      "My Birthday Song\n",
      "My Bollywood Bride\n",
      "My Brother…Nikhil\n",
      "My Friend Pinto\n",
      "My Name Is Khan\n",
      "My Wife's Murder\n",
      "NH-8 Road to Nidhivan\n",
      "NH10 (film)\n",
      "Na Ghar Ke Na Ghaat Ke\n",
      "Naach (2004 film)\n",
      "Naam Shabana\n",
      "Naina (2005 film)\n",
      "Naksha\n",
      "Namaste England\n",
      "Namastey London\n",
      "Nanhe Jaisalmer\n",
      "Nanu Ki Jaanu\n",
      "Naqaab\n",
      "Nasha (film)\n",
      "Naughty @ 40\n",
      "Nautanki Saala!\n",
      "Nawabzaade\n",
      "Nayee Padosan\n",
      "Neal 'n' Nikki\n",
      "Neerja\n",
      "Nehlle Pe Dehlla\n",
      "Netaji Subhas Chandra Bose: The Forgotten Hero\n",
      "New York (2009 film)\n",
      "Newton (film)\n",
      "Nil Battey Sannata\n",
      "Nirdosh\n",
      "Nishabd\n",
      "No Entry\n",
      "No One Killed Jessica\n",
      "No Problem (2010 film)\n",
      "No Smoking (2007 film)\n",
      "Noor (film)\n",
      "Not a Love Story (2011 film)\n",
      "Notebook (2019 film)\n",
      "Nothing but Life\n",
      "O Teri\n",
      "OMG – Oh My God!\n",
      "October (2018 film)\n",
      "Oh My God (2008 film)\n",
      "Ok Jaanu\n",
      "Om (2003 film)\n",
      "Om Shanti Om\n",
      "Om-Dar-B-Dar\n",
      "Omerta (film)\n",
      "Omkara (2006 film)\n",
      "Once Upon a Time in Mumbaai\n",
      "Once Upon ay Time in Mumbai Dobaara!\n",
      "One Day: Justice Delivered\n",
      "One Two Three\n",
      "One by Two (2014 film)\n",
      "Out of Control (2003 film)\n",
      "Oye Lucky! Lucky Oye!\n",
      "P Se PM Tak\n",
      "P Se Pyaar F Se Faraar\n",
      "PK (film)\n",
      "PM Narendra Modi\n",
      "Paa (film)\n",
      "Paan Singh Tomar (film)\n",
      "Paanch Ghantey Mien Paanch Crore\n",
      "Paap\n",
      "Paathshaala\n",
      "Padmaavat\n",
      "Padmashree Laloo Prasad Yadav\n",
      "Pagalpanti (2019 film)\n",
      "Page 3 (film)\n",
      "Paheli\n",
      "Paisa Vasool\n",
      "Pal Pal Dil Ke Paas\n",
      "Paltan (film)\n",
      "Panchlait\n",
      "Pankh\n",
      "Paranthe Wali Gali\n",
      "Parched\n",
      "Parineeta (2005 film)\n",
      "Parmanu: The Story of Pokhran\n",
      "Partner (2007 film)\n",
      "Parwana (2003 film)\n",
      "Pataakha\n",
      "Patel Ki Punjabi Shaadi\n",
      "Pati Patni Aur Woh (2019 film)\n",
      "Patiala House (film)\n",
      "Paying Guests\n",
      "Peepli Live\n",
      "Pehchaan: The Face of Truth\n",
      "Phamous\n",
      "Phantom (2015 film)\n",
      "Phas Gaye Re Obama\n",
      "Phata Poster Nikhla Hero\n",
      "Phhir\n",
      "Phillauri (film)\n",
      "Phir Hera Pheri\n",
      "Phir Kabhi\n",
      "Phir Milenge\n",
      "Phobia (2016 film)\n",
      "Phoonk 2\n",
      "Photograph (film)\n",
      "Pihu\n",
      "Piku\n",
      "Pinjar (film)\n",
      "Pink (2016 film)\n",
      "Pizza (2014 film)\n",
      "Plan (film)\n",
      "Players (2012 film)\n",
      "Police Force: An Inside Story\n",
      "Policegiri\n",
      "Popcorn Khao! Mast Ho Jao\n",
      "Poster Boys\n",
      "Praan Jaye Par Shaan Na Jaye\n",
      "Prague (2013 film)\n",
      "Pranaam\n",
      "Prassthanam\n",
      "Prateeksha\n",
      "Prem Kaa Game\n",
      "Prem Ratan Dhan Payo\n",
      "Prince (2010 film)\n",
      "Purani Jeans\n",
      "Pyaar Impossible!\n",
      "Pyaar Ka Punchnama\n",
      "Pyaar Ka Punchnama 2\n",
      "Pyaar Ke Side Effects\n",
      "Pyaar Mein Twist\n",
      "Pyare Mohan\n",
      "Qaidi Band\n",
      "Qarib Qarib Singlle\n",
      "Qayamat: City Under Threat\n",
      "Qissa (film)\n",
      "Queen (2014 film)\n",
      "Quick Gun Murugun\n",
      "Ra.One\n",
      "Raabta (film)\n",
      "Raag Desh (film)\n",
      "Raanjhanaa\n",
      "Raat Gayi Baat Gayi?\n",
      "Raavan\n",
      "Raaz (2002 film)\n",
      "Raaz: Reboot\n",
      "Raaz: The Mystery Continues\n",
      "Raazi\n",
      "Rab Ne Bana Di Jodi\n",
      "Race (2008 film)\n",
      "Race 2\n",
      "Race 3\n",
      "Raees (film)\n",
      "Raghu Romeo\n",
      "Ragini MMS\n",
      "Ragini MMS 2\n",
      "Rahasya\n",
      "Raid (2018 film)\n",
      "Raincoat (film)\n",
      "Raja Bhaiya (film)\n",
      "Raja Natwarlal\n",
      "Rajjo\n",
      "Rajma Chawal\n",
      "Rakht\n",
      "Rakhtbeej\n",
      "Ramaa: The Saviour\n",
      "Ramaiya Vastavaiya\n",
      "Raman Raghav 2.0\n",
      "Ramayana: The Epic\n",
      "Ramji Londonwaley\n",
      "Ramprasad Ki Tehrvi\n",
      "Ranbanka\n",
      "Ranchi Diaries\n",
      "Rang De Basanti\n",
      "Rang Rasiya\n",
      "Rangoon (2017 Hindi film)\n",
      "Rangrezz\n",
      "Rann (film)\n",
      "Raqeeb\n",
      "Rascals (2011 film)\n",
      "Rebellious Flower\n",
      "Red Alert: The War Within\n",
      "Red Swastik\n",
      "Red: The Dark Side\n",
      "Revati (film)\n",
      "Revolver Rani\n",
      "Ribbon (film)\n",
      "Right Here Right Now (film)\n",
      "Right Yaaa Wrong\n",
      "Risk (2007 film)\n",
      "Risknamaa\n",
      "Riyasat (film)\n",
      "Road to Sangam\n",
      "Roadside Romeo\n",
      "Roar: Tigers of the Sundarbans\n",
      "Rock On 2\n",
      "Rock On!!\n",
      "Rocket Singh: Salesman of the Year\n",
      "Rockstar (2011 film)\n",
      "Rocky Handsome\n",
      "Rog\n",
      "Rok Sako To Rok Lo\n",
      "Rokkk\n",
      "Rough Book\n",
      "Roy (film)\n",
      "Rudraksh (film)\n",
      "Rukh (film)\n",
      "Rules: Pyaar Ka Superhit Formula\n",
      "Run (2004 film)\n",
      "Running Shaadi\n",
      "Rush (2012 film)\n",
      "Rustom (film)\n",
      "Saaho\n",
      "Saand Ki Aankh\n",
      "Saankal\n",
      "Saansein\n",
      "Saare Jahaan Se Mehnga\n",
      "Saas Bahu Aur Sensex\n",
      "Saat Uchakkey\n",
      "Saathiya (film)\n",
      "Saawan... The Love Season\n",
      "Saawariya\n",
      "Saaya (2003 film)\n",
      "Sabki Bajegi Band\n",
      "Sachin: A Billion Dreams\n",
      "Sacred Evil – A True Story\n",
      "Sadda Adda\n",
      "Sadiyaan\n",
      "Saheb Biwi Aur Gangster\n",
      "Saheb Biwi Aur Gangster 3\n",
      "Saheb Biwi Aur Gangster Returns\n",
      "Sahi Dhandhe Galat Bande\n",
      "Salaam Namaste\n",
      "Salaam-e-Ishq: A Tribute to Love\n",
      "Sallu Ki Shaadi\n",
      "Samay: When Time Strikes\n",
      "Samrat & Co.\n",
      "Sanam Re\n",
      "Sandwich (2006 film)\n",
      "Sanju\n",
      "Sankat City\n",
      "Santa Banta Pvt Ltd\n",
      "Sarbjit (film)\n",
      "Sarhad Paar\n",
      "Sarkar (2005 film)\n",
      "Sarkar 3\n",
      "Sarkar Raj\n",
      "Satellite Shankar\n",
      "Satrangee Parachute\n",
      "Satta (film)\n",
      "Satya 2\n",
      "Satyagraha (film)\n",
      "Satyameva Jayate (2018 film)\n",
      "Say Salaam India\n",
      "Second Hand Husband\n",
      "Secret Superstar\n",
      "Section 375\n",
      "Sehar\n",
      "Setters (film)\n",
      "Shaadi Ka Laddoo\n",
      "Shaadi Karke Phas Gaya Yaar\n",
      "Shaadi Ke Side Effects\n",
      "Shaadi Mein Zaroor Aana\n",
      "Shaadi No. 1\n",
      "Shaadi Se Pehle\n",
      "Shaandaar\n",
      "Shaapit\n",
      "Shab (film)\n",
      "Shabd (film)\n",
      "Shabnam Mausi\n",
      "Shabri\n",
      "Shagird (2011 film)\n",
      "Shahid (film)\n",
      "Shaitan (film)\n",
      "Shakalaka Boom Boom\n",
      "Shamitabh\n",
      "Shanghai (2012 film)\n",
      "Sharafat Gayi Tel Lene\n",
      "Shart: The Challenge\n",
      "Sheen (film)\n",
      "Sheesha (2005 film)\n",
      "Shikhar (film)\n",
      "Ship of Theseus (film)\n",
      "Shirin Farhad Ki Toh Nikal Padi\n",
      "Shiva (2006 film)\n",
      "Shivaay\n",
      "Sholay\n",
      "Shootout at Lokhandwala\n",
      "Shor in the City\n",
      "Shorgul\n",
      "Shortcut Romeo\n",
      "Shortcut Safari\n",
      "Shortkut\n",
      "Showbiz (film)\n",
      "Shubh Mangal Saavdhan\n",
      "Shuddh Desi Romance\n",
      "Shukriya: Till Death Do Us Apart\n",
      "Siddharth (2013 film)\n",
      "Sikandar (2009 film)\n",
      "Silsiilay\n",
      "Simmba\n",
      "Simran (film)\n",
      "Singh Is Bliing\n",
      "Singh Is Kinng\n",
      "Singh Saab the Great\n",
      "Singham\n",
      "Singham Returns\n",
      "Sirf (film)\n",
      "Sixteen (2013 Indian film)\n",
      "Soch Lo\n",
      "Socha Na Tha\n",
      "Son of Sardaar\n",
      "Sonali Cable\n",
      "Sonchiriya\n",
      "Soni (film)\n",
      "Sons of Ram\n",
      "Sonu Ke Titu Ki Sweety\n",
      "Sooper Se Ooper\n",
      "Sorry Bhai!\n",
      "Sorry Daddy\n",
      "Souten: The Other Woman\n",
      "Spark (2014 film)\n",
      "Special 26\n",
      "Speed (2007 film)\n",
      "Sssshhh...\n",
      "Ssukh\n",
      "Stanley Ka Dabba\n",
      "Station (2014 film)\n",
      "Staying Alive (2012 film)\n",
      "Strangers (2007 Hindi film)\n",
      "Stree (2018 film)\n",
      "Striker (2010 film)\n",
      "Strings of Passion\n",
      "Student of the Year\n",
      "Student of the Year 2\n",
      "Stumped (film)\n",
      "Sui Dhaaga\n",
      "Sukhmani: Hope for Life\n",
      "Sulemani Keeda\n",
      "Sultan (2016 film)\n",
      "Summer 2007\n",
      "Sunday (2008 film)\n",
      "Sunglass (film)\n",
      "Suno Sasurjee\n",
      "Super 30 (film)\n",
      "Super Model (film)\n",
      "Super Nani\n",
      "Swades\n",
      "Swami (2007 film)\n",
      "Sweetiee Weds NRI\n",
      "Ta Ra Rum Pum\n",
      "Taare Zameen Par\n",
      "Taarzan: The Wonder Car\n",
      "Table No. 21\n",
      "Tahaan\n",
      "Taj Mahal: An Eternal Love Story\n",
      "Take It Easy (2015 film)\n",
      "Talaash: The Answer Lies Within\n",
      "Talaash: The Hunt Begins...\n",
      "Talvar (film)\n",
      "Tamanchey\n",
      "Tango Charlie\n",
      "Tanu Weds Manu\n",
      "Tanu Weds Manu: Returns\n",
      "Tanu Weds Manu: Returns\n",
      "Tashan (film)\n",
      "Tathastu\n",
      "Taxi No. 9211\n",
      "Te3n\n",
      "Teen Patti (film)\n",
      "Teen Thay Bhai\n",
      "Tees Maar Khan (2010 film)\n",
      "Teesri Aankh: The Hidden Camera\n",
      "Tehzeeb (2003 film)\n",
      "Tell Me O Kkhuda\n",
      "Tera Kya Hoga Johnny\n",
      "Tere Bin Laden\n",
      "Tere Bin Laden: Dead or Alive\n",
      "Tere Mere Phere\n",
      "Tere Naal Love Ho Gaya\n",
      "Tere Naam\n",
      "Teri Meri Kahaani (film)\n",
      "Tevar\n",
      "Tezz\n",
      "Thackeray (film)\n",
      "Thank You (2011 film)\n",
      "Thanks Maa\n",
      "The Accidental Prime Minister (film)\n",
      "The Blue Umbrella (2005 film)\n",
      "The Blueberry Hunt\n",
      "The Bypass\n",
      "The Dirty Picture\n",
      "The Film\n",
      "The Film Emotional Atyachar\n",
      "The Final Exit\n",
      "The Ghazi Attack\n",
      "The Hero: Love Story of a Spy\n",
      "The Japanese Wife\n",
      "The Journey of Karma\n",
      "The Killer (2006 film)\n",
      "The Last Lear\n",
      "The Lunchbox\n",
      "The Namesake (film)\n",
      "The Pink Mirror\n",
      "The Shaukeens\n",
      "The Silent Heroes\n",
      "The Sky Is Pink\n",
      "The Stoneman Murders\n",
      "The Tashkent Files\n",
      "The Train (2007 film)\n",
      "The Xposé\n",
      "The Zoya Factor (film)\n",
      "Thoda Lutf Thoda Ishq\n",
      "Thoda Pyaar Thoda Magic\n",
      "Thoda Tum Badlo Thoda Hum\n",
      "Thodi Life Thoda Magic\n",
      "Thugs of Hindostan\n",
      "Tiger Zinda Hai\n",
      "Titli (2014 film)\n",
      "Titoo MBA\n",
      "Toh Baat Pakki!\n",
      "Toilet: Ek Prem Katha\n",
      "Tom Dick and Harry (2006 film)\n",
      "Toonpur Ka Super Hero\n",
      "Total Dhamaal\n",
      "Total Siyapaa\n",
      "Traffic (2016 film)\n",
      "Traffic Signal (film)\n",
      "Trapped (2016 Hindi film)\n",
      "Trump Card (film)\n",
      "Tubelight (2017 Hindi film)\n",
      "Tujhe Meri Kasam\n",
      "Tulsi (film)\n",
      "Tum Bin II\n",
      "Tum Mile\n",
      "Tum Milo Toh Sahi\n",
      "Tumbbad\n",
      "Tumhari Sulu\n",
      "Tumsa Nahin Dekha: A Love Story\n",
      "Turning 30\n",
      "U Me Aur Hum\n",
      "U R My Jaan\n",
      "Udaan (2010 film)\n",
      "Udta Punjab\n",
      "Ugly (film)\n",
      "Ujda Chaman\n",
      "Umar (film)\n",
      "Umrao Jaan (2006 film)\n",
      "Umrika\n",
      "Ungli\n",
      "Union Leader (film)\n",
      "United Six\n",
      "Uri: The Surgical Strike\n",
      "Utt Pataang\n",
      "Utthaan\n",
      "Uvaa\n",
      "Vaada (film)\n",
      "Vaada Raha\n",
      "Vaah! Life Ho Toh Aisi!\n",
      "Vaastu Shastra (film)\n",
      "Valentine's Night\n",
      "Veer (2010 film)\n",
      "Veer-Zaara\n",
      "Veerappan (2016 film)\n",
      "Veerey Ki Wedding\n",
      "Via Darjeeling\n",
      "Viceroy's House (film)\n",
      "Vicky Donor\n",
      "Victory (2009 film)\n",
      "Vidyaarthi\n",
      "Viruddh... Family Comes First\n",
      "Vishwaroopam\n",
      "Vivah\n",
      "Vodka Diaries\n",
      "W (2014 film)\n",
      "Waarrior Savitri\n",
      "Wafa: A Deadly Love Story\n",
      "Wah Taj\n",
      "Waisa Bhi Hota Hai Part II\n",
      "Waiting (2015 film)\n",
      "Wajah Tum Ho\n",
      "Wake Up India\n",
      "Wake Up Sid\n",
      "Wanted (2009 film)\n",
      "Waqt: The Race Against Time\n",
      "War Chhod Na Yaar\n",
      "Waris Shah: Ishq Daa Waaris\n",
      "Wedding Anniversary\n",
      "Wedding Pullav\n",
      "Welcome (2007 film)\n",
      "Welcome 2 Karachi\n",
      "Welcome Back (film)\n",
      "Welcome to Sajjanpur\n",
      "Well Done Abba\n",
      "What the Fish\n",
      "What's Your Raashee?\n",
      "Why Cheat India\n",
      "Woh Lamhe...\n",
      "Woodstock Villa\n",
      "Xcuse Me\n",
      "Ya Rab\n",
      "Yaaram (2019 film)\n",
      "Yadvi – The Dignified Princess\n",
      "Yakeen (2005 film)\n",
      "Yamla Pagla Deewana\n",
      "Yamla Pagla Deewana: Phir Se\n",
      "Yatra (2007 film)\n",
      "Yeh Dil\n",
      "Yeh Dooriyan\n",
      "Yeh Hai Bakrapur\n",
      "Yeh Hai India\n",
      "Yeh Jawaani Hai Deewani\n",
      "Yeh Khula Aasmaan\n",
      "Yeh Lamhe Judaai Ke\n",
      "Yeh Mera India\n",
      "Yeh Saali Aashiqui\n",
      "Youngistaan\n",
      "Yun Hota Toh Kya Hota\n",
      "Yuva\n",
      "Yuvvraaj\n",
      "Zamaanat\n",
      "Zameen (2003 film)\n",
      "Zameer: The Fire Within\n",
      "Zed Plus\n",
      "Zeher\n",
      "Zero (2018 film)\n",
      "Zid (2014 film)\n",
      "Zila Ghaziabad\n",
      "Zinda (film)\n",
      "Zindaggi Rocks\n",
      "Zindagi 50-50\n",
      "Zindagi Na Milegi Dobara\n",
      "Zindagi Tere Naam\n",
      "Zokkomon\n",
      "Zor Lagaa Ke...Haiya!\n"
     ]
    }
   ],
   "source": [
    "for i in movies.index:\n",
    "    print(i)"
   ]
  },
  {
   "cell_type": "code",
   "execution_count": 123,
   "id": "54e4396d",
   "metadata": {},
   "outputs": [
    {
     "data": {
      "text/plain": [
       "math         0\n",
       "english    100\n",
       "science    100\n",
       "hindi        0\n",
       "sst          0\n",
       "Name: ashish ke marks, dtype: int64"
      ]
     },
     "execution_count": 123,
     "metadata": {},
     "output_type": "execute_result"
    }
   ],
   "source": [
    "# some operator use in series\n",
    "marks_series"
   ]
  },
  {
   "cell_type": "code",
   "execution_count": 125,
   "id": "d1c06a60",
   "metadata": {},
   "outputs": [
    {
     "data": {
      "text/plain": [
       "math       100\n",
       "english    200\n",
       "science    200\n",
       "hindi      100\n",
       "sst        100\n",
       "Name: ashish ke marks, dtype: int64"
      ]
     },
     "execution_count": 125,
     "metadata": {},
     "output_type": "execute_result"
    }
   ],
   "source": [
    "# Arithmetic Operator (Brodcasting)\n",
    "100 + marks_series"
   ]
  },
  {
   "cell_type": "code",
   "execution_count": 126,
   "id": "7611b829",
   "metadata": {},
   "outputs": [
    {
     "data": {
      "text/html": [
       "<div>\n",
       "<style scoped>\n",
       "    .dataframe tbody tr th:only-of-type {\n",
       "        vertical-align: middle;\n",
       "    }\n",
       "\n",
       "    .dataframe tbody tr th {\n",
       "        vertical-align: top;\n",
       "    }\n",
       "\n",
       "    .dataframe thead th {\n",
       "        text-align: right;\n",
       "    }\n",
       "</style>\n",
       "<table border=\"1\" class=\"dataframe\">\n",
       "  <thead>\n",
       "    <tr style=\"text-align: right;\">\n",
       "      <th></th>\n",
       "      <th>match_no</th>\n",
       "      <th>runs</th>\n",
       "    </tr>\n",
       "  </thead>\n",
       "  <tbody>\n",
       "    <tr>\n",
       "      <th>0</th>\n",
       "      <td>False</td>\n",
       "      <td>False</td>\n",
       "    </tr>\n",
       "    <tr>\n",
       "      <th>1</th>\n",
       "      <td>False</td>\n",
       "      <td>False</td>\n",
       "    </tr>\n",
       "    <tr>\n",
       "      <th>2</th>\n",
       "      <td>False</td>\n",
       "      <td>False</td>\n",
       "    </tr>\n",
       "    <tr>\n",
       "      <th>3</th>\n",
       "      <td>False</td>\n",
       "      <td>False</td>\n",
       "    </tr>\n",
       "    <tr>\n",
       "      <th>4</th>\n",
       "      <td>False</td>\n",
       "      <td>False</td>\n",
       "    </tr>\n",
       "    <tr>\n",
       "      <th>...</th>\n",
       "      <td>...</td>\n",
       "      <td>...</td>\n",
       "    </tr>\n",
       "    <tr>\n",
       "      <th>210</th>\n",
       "      <td>True</td>\n",
       "      <td>False</td>\n",
       "    </tr>\n",
       "    <tr>\n",
       "      <th>211</th>\n",
       "      <td>True</td>\n",
       "      <td>False</td>\n",
       "    </tr>\n",
       "    <tr>\n",
       "      <th>212</th>\n",
       "      <td>True</td>\n",
       "      <td>True</td>\n",
       "    </tr>\n",
       "    <tr>\n",
       "      <th>213</th>\n",
       "      <td>True</td>\n",
       "      <td>False</td>\n",
       "    </tr>\n",
       "    <tr>\n",
       "      <th>214</th>\n",
       "      <td>True</td>\n",
       "      <td>False</td>\n",
       "    </tr>\n",
       "  </tbody>\n",
       "</table>\n",
       "<p>215 rows × 2 columns</p>\n",
       "</div>"
      ],
      "text/plain": [
       "     match_no   runs\n",
       "0       False  False\n",
       "1       False  False\n",
       "2       False  False\n",
       "3       False  False\n",
       "4       False  False\n",
       "..        ...    ...\n",
       "210      True  False\n",
       "211      True  False\n",
       "212      True   True\n",
       "213      True  False\n",
       "214      True  False\n",
       "\n",
       "[215 rows x 2 columns]"
      ]
     },
     "execution_count": 126,
     "metadata": {},
     "output_type": "execute_result"
    }
   ],
   "source": [
    "# Relational Operator\n",
    "vk >=50"
   ]
  },
  {
   "cell_type": "code",
   "execution_count": 127,
   "id": "f24cc11b",
   "metadata": {},
   "outputs": [
    {
     "data": {
      "text/plain": [
       "Akshay Kumar        48\n",
       "Amitabh Bachchan    45\n",
       "Ajay Devgn          38\n",
       "Salman Khan         31\n",
       "Sanjay Dutt         26\n",
       "Shah Rukh Khan      22\n",
       "Emraan Hashmi       21\n",
       "Name: lead, dtype: int64"
      ]
     },
     "execution_count": 127,
     "metadata": {},
     "output_type": "execute_result"
    }
   ],
   "source": [
    "num_movies= movies.value_counts()\n",
    "num_movies[num_movies>20]"
   ]
  },
  {
   "cell_type": "markdown",
   "id": "bf829886",
   "metadata": {},
   "source": [
    "##### Plotting Graphs o Series"
   ]
  },
  {
   "cell_type": "code",
   "execution_count": 128,
   "id": "1d0b8a66",
   "metadata": {},
   "outputs": [
    {
     "data": {
      "text/plain": [
       "<AxesSubplot:>"
      ]
     },
     "execution_count": 128,
     "metadata": {},
     "output_type": "execute_result"
    },
    {
     "data": {
      "image/png": "[encoded data removed]",
      "text/plain": [
       "<Figure size 432x288 with 1 Axes>"
      ]
     },
     "metadata": {
      "needs_background": "light"
     },
     "output_type": "display_data"
    }
   ],
   "source": [
    "subs.plot()"
   ]
  },
  {
   "cell_type": "code",
   "execution_count": 130,
   "id": "04194f93",
   "metadata": {},
   "outputs": [
    {
     "data": {
      "text/plain": [
       "<AxesSubplot:>"
      ]
     },
     "execution_count": 130,
     "metadata": {},
     "output_type": "execute_result"
    },
    {
     "data": {
      "image/png": "[encoded data removed]",
      "text/plain": [
       "<Figure size 432x288 with 1 Axes>"
      ]
     },
     "metadata": {
      "needs_background": "light"
     },
     "output_type": "display_data"
    }
   ],
   "source": [
    "movies.value_counts().head(20).plot(kind='bar')"
   ]
  },
  {
   "cell_type": "code",
   "execution_count": 131,
   "id": "f8a4917d",
   "metadata": {},
   "outputs": [
    {
     "data": {
      "text/plain": [
       "<AxesSubplot:ylabel='lead'>"
      ]
     },
     "execution_count": 131,
     "metadata": {},
     "output_type": "execute_result"
    },
    {
     "data": {
      "image/png": "[encoded data removed]",
      "text/plain": [
       "<Figure size 432x288 with 1 Axes>"
      ]
     },
     "metadata": {},
     "output_type": "display_data"
    }
   ],
   "source": [
    "movies.value_counts().head(20).plot(kind='pie')"
   ]
  },
  {
   "cell_type": "markdown",
   "id": "6169f069",
   "metadata": {},
   "source": [
    "#### Some Important Series Methods"
   ]
  },
  {
   "cell_type": "code",
   "execution_count": 132,
   "id": "395358dd",
   "metadata": {},
   "outputs": [
    {
     "data": {
      "text/plain": [
       "3584"
      ]
     },
     "execution_count": 132,
     "metadata": {},
     "output_type": "execute_result"
    }
   ],
   "source": [
    "# astype\n",
    "import sys\n",
    "sys.getsizeof(vk)"
   ]
  },
  {
   "cell_type": "code",
   "execution_count": 133,
   "id": "9ffe4037",
   "metadata": {},
   "outputs": [
    {
     "data": {
      "text/plain": [
       "1004"
      ]
     },
     "execution_count": 133,
     "metadata": {},
     "output_type": "execute_result"
    }
   ],
   "source": [
    "sys.getsizeof(vk.astype('int16'))"
   ]
  },
  {
   "cell_type": "code",
   "execution_count": 134,
   "id": "f89f0e25",
   "metadata": {},
   "outputs": [
    {
     "ename": "AttributeError",
     "evalue": "'DataFrame' object has no attribute 'between'",
     "output_type": "error",
     "traceback": [
      "\u001b[0;31m---------------------------------------------------------------------------\u001b[0m",
      "\u001b[0;31mAttributeError\u001b[0m                            Traceback (most recent call last)",
      "Input \u001b[0;32mIn [134]\u001b[0m, in \u001b[0;36m<cell line: 2>\u001b[0;34m()\u001b[0m\n\u001b[1;32m      1\u001b[0m \u001b[38;5;66;03m# between\u001b[39;00m\n\u001b[0;32m----> 2\u001b[0m \u001b[43mvk\u001b[49m\u001b[38;5;241;43m.\u001b[39;49m\u001b[43mbetween\u001b[49m(\u001b[38;5;241m51\u001b[39m,\u001b[38;5;241m99\u001b[39m)\n",
      "File \u001b[0;32m~/.local/lib/python3.8/site-packages/pandas/core/generic.py:5575\u001b[0m, in \u001b[0;36mNDFrame.__getattr__\u001b[0;34m(self, name)\u001b[0m\n\u001b[1;32m   5568\u001b[0m \u001b[38;5;28;01mif\u001b[39;00m (\n\u001b[1;32m   5569\u001b[0m     name \u001b[38;5;129;01mnot\u001b[39;00m \u001b[38;5;129;01min\u001b[39;00m \u001b[38;5;28mself\u001b[39m\u001b[38;5;241m.\u001b[39m_internal_names_set\n\u001b[1;32m   5570\u001b[0m     \u001b[38;5;129;01mand\u001b[39;00m name \u001b[38;5;129;01mnot\u001b[39;00m \u001b[38;5;129;01min\u001b[39;00m \u001b[38;5;28mself\u001b[39m\u001b[38;5;241m.\u001b[39m_metadata\n\u001b[1;32m   5571\u001b[0m     \u001b[38;5;129;01mand\u001b[39;00m name \u001b[38;5;129;01mnot\u001b[39;00m \u001b[38;5;129;01min\u001b[39;00m \u001b[38;5;28mself\u001b[39m\u001b[38;5;241m.\u001b[39m_accessors\n\u001b[1;32m   5572\u001b[0m     \u001b[38;5;129;01mand\u001b[39;00m \u001b[38;5;28mself\u001b[39m\u001b[38;5;241m.\u001b[39m_info_axis\u001b[38;5;241m.\u001b[39m_can_hold_identifiers_and_holds_name(name)\n\u001b[1;32m   5573\u001b[0m ):\n\u001b[1;32m   5574\u001b[0m     \u001b[38;5;28;01mreturn\u001b[39;00m \u001b[38;5;28mself\u001b[39m[name]\n\u001b[0;32m-> 5575\u001b[0m \u001b[38;5;28;01mreturn\u001b[39;00m \u001b[38;5;28;43mobject\u001b[39;49m\u001b[38;5;241;43m.\u001b[39;49m\u001b[38;5;21;43m__getattribute__\u001b[39;49m\u001b[43m(\u001b[49m\u001b[38;5;28;43mself\u001b[39;49m\u001b[43m,\u001b[49m\u001b[43m \u001b[49m\u001b[43mname\u001b[49m\u001b[43m)\u001b[49m\n",
      "\u001b[0;31mAttributeError\u001b[0m: 'DataFrame' object has no attribute 'between'"
     ]
    }
   ],
   "source": [
    "# between\n",
    "vk[vk.between_time]"
   ]
  },
  {
   "cell_type": "code",
   "execution_count": 135,
   "id": "5f85f767",
   "metadata": {},
   "outputs": [
    {
     "data": {
      "text/plain": [
       "0      100\n",
       "1      100\n",
       "2      100\n",
       "3      100\n",
       "4      100\n",
       "      ... \n",
       "360    200\n",
       "361    200\n",
       "362    155\n",
       "363    144\n",
       "364    172\n",
       "Name: Subscribers gained, Length: 365, dtype: int64"
      ]
     },
     "execution_count": 135,
     "metadata": {},
     "output_type": "execute_result"
    }
   ],
   "source": [
    "# clip\n",
    "subs.clip(100,200)"
   ]
  },
  {
   "cell_type": "code",
   "execution_count": 136,
   "id": "8fd926d4",
   "metadata": {},
   "outputs": [
    {
     "data": {
      "text/plain": [
       "0    1\n",
       "1    1\n",
       "2    2\n",
       "3    2\n",
       "4    3\n",
       "5    3\n",
       "6    4\n",
       "7    4\n",
       "dtype: int64"
      ]
     },
     "execution_count": 136,
     "metadata": {},
     "output_type": "execute_result"
    }
   ],
   "source": [
    "# drop_duplicates\n",
    "temp = pd.Series([1,1,2,2,3,3,4,4])\n",
    "temp"
   ]
  },
  {
   "cell_type": "code",
   "execution_count": 137,
   "id": "0c49d95a",
   "metadata": {},
   "outputs": [
    {
     "data": {
      "text/plain": [
       "0    1\n",
       "1    1\n",
       "2    2\n",
       "3    2\n",
       "4    3\n",
       "5    3\n",
       "6    4\n",
       "7    4\n",
       "dtype: int64"
      ]
     },
     "execution_count": 137,
     "metadata": {},
     "output_type": "execute_result"
    }
   ],
   "source": [
    "temp"
   ]
  },
  {
   "cell_type": "code",
   "execution_count": 138,
   "id": "ab920df8",
   "metadata": {},
   "outputs": [
    {
     "data": {
      "text/plain": [
       "0    1\n",
       "2    2\n",
       "4    3\n",
       "6    4\n",
       "dtype: int64"
      ]
     },
     "execution_count": 138,
     "metadata": {},
     "output_type": "execute_result"
    }
   ],
   "source": [
    "temp.drop_duplicates()"
   ]
  },
  {
   "cell_type": "code",
   "execution_count": 139,
   "id": "8c93d4df",
   "metadata": {},
   "outputs": [
    {
     "data": {
      "text/plain": [
       "1    1\n",
       "3    2\n",
       "5    3\n",
       "7    4\n",
       "dtype: int64"
      ]
     },
     "execution_count": 139,
     "metadata": {},
     "output_type": "execute_result"
    }
   ],
   "source": [
    "temp.drop_duplicates(keep='last')"
   ]
  },
  {
   "cell_type": "code",
   "execution_count": 140,
   "id": "f47504db",
   "metadata": {},
   "outputs": [
    {
     "data": {
      "text/plain": [
       "movie\n",
       "1920 (film)               Rajniesh Duggall\n",
       "1920: London                 Sharman Joshi\n",
       "1920: The Evil Returns         Vicky Ahuja\n",
       "1971 (2007 film)            Manoj Bajpayee\n",
       "2 States (2014 film)            Alia Bhatt\n",
       "                                ...       \n",
       "Yeh Saali Aashiqui            Vardhan Puri\n",
       "Zed Plus                     Vinod Acharya\n",
       "Zid (2014 film)             Mannara Chopra\n",
       "Zindagi 50-50                  Veena Malik\n",
       "Zor Lagaa Ke...Haiya!        Meghan Jadhav\n",
       "Name: lead, Length: 566, dtype: object"
      ]
     },
     "execution_count": 140,
     "metadata": {},
     "output_type": "execute_result"
    }
   ],
   "source": [
    "movies.drop_duplicates()"
   ]
  },
  {
   "cell_type": "code",
   "execution_count": 141,
   "id": "8c2d2305",
   "metadata": {},
   "outputs": [
    {
     "data": {
      "text/plain": [
       "0    False\n",
       "1     True\n",
       "2    False\n",
       "3     True\n",
       "4    False\n",
       "5     True\n",
       "6    False\n",
       "7     True\n",
       "dtype: bool"
      ]
     },
     "execution_count": 141,
     "metadata": {},
     "output_type": "execute_result"
    }
   ],
   "source": [
    "# check duplicate or nt\n",
    "temp.duplicated()"
   ]
  },
  {
   "cell_type": "code",
   "execution_count": 142,
   "id": "4ef75825",
   "metadata": {},
   "outputs": [
    {
     "data": {
      "text/plain": [
       "4"
      ]
     },
     "execution_count": 142,
     "metadata": {},
     "output_type": "execute_result"
    }
   ],
   "source": [
    "temp.duplicated().sum()"
   ]
  },
  {
   "cell_type": "code",
   "execution_count": 143,
   "id": "7ca95ac9",
   "metadata": {},
   "outputs": [
    {
     "data": {
      "text/plain": [
       "0"
      ]
     },
     "execution_count": 143,
     "metadata": {},
     "output_type": "execute_result"
    }
   ],
   "source": [
    "vk.duplicated().sum()"
   ]
  },
  {
   "cell_type": "code",
   "execution_count": 144,
   "id": "3eed2799",
   "metadata": {},
   "outputs": [
    {
     "data": {
      "text/plain": [
       "934"
      ]
     },
     "execution_count": 144,
     "metadata": {},
     "output_type": "execute_result"
    }
   ],
   "source": [
    "movies.duplicated().sum()"
   ]
  },
  {
   "cell_type": "code",
   "execution_count": 145,
   "id": "bc0046c8",
   "metadata": {},
   "outputs": [
    {
     "data": {
      "text/plain": [
       "movie\n",
       "1920 (film)               Rajniesh Duggall\n",
       "1920: London                 Sharman Joshi\n",
       "1920: The Evil Returns         Vicky Ahuja\n",
       "1971 (2007 film)            Manoj Bajpayee\n",
       "2 States (2014 film)            Alia Bhatt\n",
       "                                ...       \n",
       "Yeh Saali Aashiqui            Vardhan Puri\n",
       "Zed Plus                     Vinod Acharya\n",
       "Zid (2014 film)             Mannara Chopra\n",
       "Zindagi 50-50                  Veena Malik\n",
       "Zor Lagaa Ke...Haiya!        Meghan Jadhav\n",
       "Name: lead, Length: 566, dtype: object"
      ]
     },
     "execution_count": 145,
     "metadata": {},
     "output_type": "execute_result"
    }
   ],
   "source": [
    "movies.drop_duplicates()"
   ]
  },
  {
   "cell_type": "code",
   "execution_count": 149,
   "id": "e8e8980b",
   "metadata": {},
   "outputs": [],
   "source": [
    "import numpy as np\n",
    "temp=pd.Series([1,2,3,np.nan,5,6,np.nan,8,np.nan,10])"
   ]
  },
  {
   "cell_type": "code",
   "execution_count": 150,
   "id": "e3344f45",
   "metadata": {},
   "outputs": [
    {
     "data": {
      "text/plain": [
       "0     1.0\n",
       "1     2.0\n",
       "2     3.0\n",
       "3     NaN\n",
       "4     5.0\n",
       "5     6.0\n",
       "6     NaN\n",
       "7     8.0\n",
       "8     NaN\n",
       "9    10.0\n",
       "dtype: float64"
      ]
     },
     "execution_count": 150,
     "metadata": {},
     "output_type": "execute_result"
    }
   ],
   "source": [
    "temp"
   ]
  },
  {
   "cell_type": "code",
   "execution_count": 151,
   "id": "9383f626",
   "metadata": {},
   "outputs": [
    {
     "data": {
      "text/plain": [
       "10"
      ]
     },
     "execution_count": 151,
     "metadata": {},
     "output_type": "execute_result"
    }
   ],
   "source": [
    "temp.size"
   ]
  },
  {
   "cell_type": "code",
   "execution_count": 152,
   "id": "f77d9173",
   "metadata": {},
   "outputs": [
    {
     "data": {
      "text/plain": [
       "7"
      ]
     },
     "execution_count": 152,
     "metadata": {},
     "output_type": "execute_result"
    }
   ],
   "source": [
    "temp.count()"
   ]
  },
  {
   "cell_type": "code",
   "execution_count": 154,
   "id": "ea56a568",
   "metadata": {},
   "outputs": [
    {
     "data": {
      "text/plain": [
       "match_no    0\n",
       "runs        0\n",
       "dtype: int64"
      ]
     },
     "execution_count": 154,
     "metadata": {},
     "output_type": "execute_result"
    }
   ],
   "source": [
    "# isnull\n",
    "# how many missing values in \n",
    "vk.isnull().sum()"
   ]
  },
  {
   "cell_type": "code",
   "execution_count": 156,
   "id": "b4ac7515",
   "metadata": {},
   "outputs": [
    {
     "data": {
      "text/plain": [
       "3"
      ]
     },
     "execution_count": 156,
     "metadata": {},
     "output_type": "execute_result"
    }
   ],
   "source": [
    "temp.isnull().sum()"
   ]
  },
  {
   "cell_type": "code",
   "execution_count": 157,
   "id": "0032e96b",
   "metadata": {},
   "outputs": [
    {
     "data": {
      "text/plain": [
       "0"
      ]
     },
     "execution_count": 157,
     "metadata": {},
     "output_type": "execute_result"
    }
   ],
   "source": [
    "movies.isnull().sum()"
   ]
  },
  {
   "cell_type": "code",
   "execution_count": 158,
   "id": "cfb3c1a0",
   "metadata": {},
   "outputs": [
    {
     "data": {
      "text/plain": [
       "0     1.0\n",
       "1     2.0\n",
       "2     3.0\n",
       "4     5.0\n",
       "5     6.0\n",
       "7     8.0\n",
       "9    10.0\n",
       "dtype: float64"
      ]
     },
     "execution_count": 158,
     "metadata": {},
     "output_type": "execute_result"
    }
   ],
   "source": [
    "# misisng values remove using dropna\n",
    "temp.dropna()"
   ]
  },
  {
   "cell_type": "code",
   "execution_count": 159,
   "id": "b4f9110f",
   "metadata": {},
   "outputs": [
    {
     "data": {
      "text/plain": [
       "0     1.0\n",
       "1     2.0\n",
       "2     3.0\n",
       "3     5.0\n",
       "4     5.0\n",
       "5     6.0\n",
       "6     5.0\n",
       "7     8.0\n",
       "8     5.0\n",
       "9    10.0\n",
       "dtype: float64"
      ]
     },
     "execution_count": 159,
     "metadata": {},
     "output_type": "execute_result"
    }
   ],
   "source": [
    "# handle the missing values\n",
    "# Missing values replace by a zero\n",
    "# fillna\n",
    "temp.fillna(temp.mean())"
   ]
  },
  {
   "cell_type": "code",
   "execution_count": 161,
   "id": "9031ecd3",
   "metadata": {},
   "outputs": [
    {
     "data": {
      "text/html": [
       "<div>\n",
       "<style scoped>\n",
       "    .dataframe tbody tr th:only-of-type {\n",
       "        vertical-align: middle;\n",
       "    }\n",
       "\n",
       "    .dataframe tbody tr th {\n",
       "        vertical-align: top;\n",
       "    }\n",
       "\n",
       "    .dataframe thead th {\n",
       "        text-align: right;\n",
       "    }\n",
       "</style>\n",
       "<table border=\"1\" class=\"dataframe\">\n",
       "  <thead>\n",
       "    <tr style=\"text-align: right;\">\n",
       "      <th></th>\n",
       "      <th>match_no</th>\n",
       "      <th>runs</th>\n",
       "    </tr>\n",
       "  </thead>\n",
       "  <tbody>\n",
       "    <tr>\n",
       "      <th>0</th>\n",
       "      <td>NaN</td>\n",
       "      <td>NaN</td>\n",
       "    </tr>\n",
       "    <tr>\n",
       "      <th>1</th>\n",
       "      <td>NaN</td>\n",
       "      <td>NaN</td>\n",
       "    </tr>\n",
       "    <tr>\n",
       "      <th>2</th>\n",
       "      <td>NaN</td>\n",
       "      <td>NaN</td>\n",
       "    </tr>\n",
       "    <tr>\n",
       "      <th>3</th>\n",
       "      <td>NaN</td>\n",
       "      <td>NaN</td>\n",
       "    </tr>\n",
       "    <tr>\n",
       "      <th>4</th>\n",
       "      <td>NaN</td>\n",
       "      <td>NaN</td>\n",
       "    </tr>\n",
       "    <tr>\n",
       "      <th>...</th>\n",
       "      <td>...</td>\n",
       "      <td>...</td>\n",
       "    </tr>\n",
       "    <tr>\n",
       "      <th>210</th>\n",
       "      <td>NaN</td>\n",
       "      <td>NaN</td>\n",
       "    </tr>\n",
       "    <tr>\n",
       "      <th>211</th>\n",
       "      <td>NaN</td>\n",
       "      <td>NaN</td>\n",
       "    </tr>\n",
       "    <tr>\n",
       "      <th>212</th>\n",
       "      <td>NaN</td>\n",
       "      <td>NaN</td>\n",
       "    </tr>\n",
       "    <tr>\n",
       "      <th>213</th>\n",
       "      <td>NaN</td>\n",
       "      <td>NaN</td>\n",
       "    </tr>\n",
       "    <tr>\n",
       "      <th>214</th>\n",
       "      <td>NaN</td>\n",
       "      <td>NaN</td>\n",
       "    </tr>\n",
       "  </tbody>\n",
       "</table>\n",
       "<p>215 rows × 2 columns</p>\n",
       "</div>"
      ],
      "text/plain": [
       "     match_no  runs\n",
       "0         NaN   NaN\n",
       "1         NaN   NaN\n",
       "2         NaN   NaN\n",
       "3         NaN   NaN\n",
       "4         NaN   NaN\n",
       "..        ...   ...\n",
       "210       NaN   NaN\n",
       "211       NaN   NaN\n",
       "212       NaN   NaN\n",
       "213       NaN   NaN\n",
       "214       NaN   NaN\n",
       "\n",
       "[215 rows x 2 columns]"
      ]
     },
     "execution_count": 161,
     "metadata": {},
     "output_type": "execute_result"
    }
   ],
   "source": [
    "# isin\n",
    "# check one time multiple data set\n",
    "vk[(vk == 49) | (vk == 99)]"
   ]
  },
  {
   "cell_type": "code",
   "execution_count": 162,
   "id": "709b0392",
   "metadata": {},
   "outputs": [
    {
     "data": {
      "text/plain": [
       "movie\n",
       "1920 (film)                 False\n",
       "1920: London                False\n",
       "1920: The Evil Returns      False\n",
       "1971 (2007 film)            False\n",
       "2 States (2014 film)        False\n",
       "                            ...  \n",
       "Zindagi 50-50               False\n",
       "Zindagi Na Milegi Dobara    False\n",
       "Zindagi Tere Naam           False\n",
       "Zokkomon                    False\n",
       "Zor Lagaa Ke...Haiya!       False\n",
       "Name: lead, Length: 1500, dtype: bool"
      ]
     },
     "execution_count": 162,
     "metadata": {},
     "output_type": "execute_result"
    }
   ],
   "source": [
    "movies.isin([49,99])"
   ]
  },
  {
   "cell_type": "code",
   "execution_count": 163,
   "id": "7040f957",
   "metadata": {},
   "outputs": [
    {
     "data": {
      "text/plain": [
       "movie\n",
       "1920 (film)                   Rajniesh Duggall\n",
       "1920: London                     Sharman Joshi\n",
       "1920: The Evil Returns             Vicky Ahuja\n",
       "1971 (2007 film)                Manoj Bajpayee\n",
       "2 States (2014 film)                Alia Bhatt\n",
       "                                   ...        \n",
       "Zindagi 50-50                      Veena Malik\n",
       "Zindagi Na Milegi Dobara        Hrithik Roshan\n",
       "Zindagi Tere Naam           Mithun Chakraborty\n",
       "Zokkomon                       Darsheel Safary\n",
       "Zor Lagaa Ke...Haiya!            Meghan Jadhav\n",
       "Name: lead, Length: 1500, dtype: object"
      ]
     },
     "execution_count": 163,
     "metadata": {},
     "output_type": "execute_result"
    }
   ],
   "source": [
    "# apply\n",
    "# is a super usefull function\n",
    "movies"
   ]
  },
  {
   "cell_type": "code",
   "execution_count": 164,
   "id": "a15363a3",
   "metadata": {},
   "outputs": [
    {
     "data": {
      "text/plain": [
       "movie\n",
       "1920 (film)                 RAJNIESH\n",
       "1920: London                 SHARMAN\n",
       "1920: The Evil Returns         VICKY\n",
       "1971 (2007 film)               MANOJ\n",
       "2 States (2014 film)            ALIA\n",
       "                              ...   \n",
       "Zindagi 50-50                  VEENA\n",
       "Zindagi Na Milegi Dobara     HRITHIK\n",
       "Zindagi Tere Naam             MITHUN\n",
       "Zokkomon                    DARSHEEL\n",
       "Zor Lagaa Ke...Haiya!         MEGHAN\n",
       "Name: lead, Length: 1500, dtype: object"
      ]
     },
     "execution_count": 164,
     "metadata": {},
     "output_type": "execute_result"
    }
   ],
   "source": [
    "# I want Acter first name with first captial letter\n",
    "movies.apply(lambda x:x.split()[0].upper())\n"
   ]
  },
  {
   "cell_type": "code",
   "execution_count": 165,
   "id": "e7db29bf",
   "metadata": {},
   "outputs": [
    {
     "data": {
      "text/plain": [
       "0       48\n",
       "1       57\n",
       "2       40\n",
       "3       43\n",
       "4       44\n",
       "      ... \n",
       "360    231\n",
       "361    226\n",
       "362    155\n",
       "363    144\n",
       "364    172\n",
       "Name: Subscribers gained, Length: 365, dtype: int64"
      ]
     },
     "execution_count": 165,
     "metadata": {},
     "output_type": "execute_result"
    }
   ],
   "source": [
    "subs"
   ]
  },
  {
   "cell_type": "code",
   "execution_count": 166,
   "id": "907014a3",
   "metadata": {},
   "outputs": [
    {
     "data": {
      "text/plain": [
       "135.64383561643837"
      ]
     },
     "execution_count": 166,
     "metadata": {},
     "output_type": "execute_result"
    }
   ],
   "source": [
    "subs.mean()"
   ]
  },
  {
   "cell_type": "code",
   "execution_count": 167,
   "id": "7c58db23",
   "metadata": {},
   "outputs": [
    {
     "data": {
      "text/plain": [
       "0       bad day\n",
       "1       bad day\n",
       "2       bad day\n",
       "3       bad day\n",
       "4       bad day\n",
       "         ...   \n",
       "360    good day\n",
       "361    good day\n",
       "362    good day\n",
       "363    good day\n",
       "364    good day\n",
       "Name: Subscribers gained, Length: 365, dtype: object"
      ]
     },
     "execution_count": 167,
     "metadata": {},
     "output_type": "execute_result"
    }
   ],
   "source": [
    "subs.apply(lambda x:'good day' if x > subs.mean() else 'bad day')"
   ]
  },
  {
   "cell_type": "code",
   "execution_count": 168,
   "id": "3102eea3",
   "metadata": {},
   "outputs": [
    {
     "data": {
      "text/html": [
       "<div>\n",
       "<style scoped>\n",
       "    .dataframe tbody tr th:only-of-type {\n",
       "        vertical-align: middle;\n",
       "    }\n",
       "\n",
       "    .dataframe tbody tr th {\n",
       "        vertical-align: top;\n",
       "    }\n",
       "\n",
       "    .dataframe thead th {\n",
       "        text-align: right;\n",
       "    }\n",
       "</style>\n",
       "<table border=\"1\" class=\"dataframe\">\n",
       "  <thead>\n",
       "    <tr style=\"text-align: right;\">\n",
       "      <th></th>\n",
       "      <th>match_no</th>\n",
       "      <th>runs</th>\n",
       "    </tr>\n",
       "  </thead>\n",
       "  <tbody>\n",
       "    <tr>\n",
       "      <th>0</th>\n",
       "      <td>1</td>\n",
       "      <td>1</td>\n",
       "    </tr>\n",
       "    <tr>\n",
       "      <th>1</th>\n",
       "      <td>2</td>\n",
       "      <td>23</td>\n",
       "    </tr>\n",
       "    <tr>\n",
       "      <th>2</th>\n",
       "      <td>3</td>\n",
       "      <td>13</td>\n",
       "    </tr>\n",
       "    <tr>\n",
       "      <th>3</th>\n",
       "      <td>4</td>\n",
       "      <td>12</td>\n",
       "    </tr>\n",
       "    <tr>\n",
       "      <th>4</th>\n",
       "      <td>5</td>\n",
       "      <td>1</td>\n",
       "    </tr>\n",
       "    <tr>\n",
       "      <th>...</th>\n",
       "      <td>...</td>\n",
       "      <td>...</td>\n",
       "    </tr>\n",
       "    <tr>\n",
       "      <th>210</th>\n",
       "      <td>211</td>\n",
       "      <td>0</td>\n",
       "    </tr>\n",
       "    <tr>\n",
       "      <th>211</th>\n",
       "      <td>212</td>\n",
       "      <td>20</td>\n",
       "    </tr>\n",
       "    <tr>\n",
       "      <th>212</th>\n",
       "      <td>213</td>\n",
       "      <td>73</td>\n",
       "    </tr>\n",
       "    <tr>\n",
       "      <th>213</th>\n",
       "      <td>214</td>\n",
       "      <td>25</td>\n",
       "    </tr>\n",
       "    <tr>\n",
       "      <th>214</th>\n",
       "      <td>215</td>\n",
       "      <td>7</td>\n",
       "    </tr>\n",
       "  </tbody>\n",
       "</table>\n",
       "<p>215 rows × 2 columns</p>\n",
       "</div>"
      ],
      "text/plain": [
       "     match_no  runs\n",
       "0           1     1\n",
       "1           2    23\n",
       "2           3    13\n",
       "3           4    12\n",
       "4           5     1\n",
       "..        ...   ...\n",
       "210       211     0\n",
       "211       212    20\n",
       "212       213    73\n",
       "213       214    25\n",
       "214       215     7\n",
       "\n",
       "[215 rows x 2 columns]"
      ]
     },
     "execution_count": 168,
     "metadata": {},
     "output_type": "execute_result"
    }
   ],
   "source": [
    "# copy\n",
    "vk"
   ]
  },
  {
   "cell_type": "code",
   "execution_count": 171,
   "id": "03aab7f2",
   "metadata": {},
   "outputs": [
    {
     "data": {
      "text/html": [
       "<div>\n",
       "<style scoped>\n",
       "    .dataframe tbody tr th:only-of-type {\n",
       "        vertical-align: middle;\n",
       "    }\n",
       "\n",
       "    .dataframe tbody tr th {\n",
       "        vertical-align: top;\n",
       "    }\n",
       "\n",
       "    .dataframe thead th {\n",
       "        text-align: right;\n",
       "    }\n",
       "</style>\n",
       "<table border=\"1\" class=\"dataframe\">\n",
       "  <thead>\n",
       "    <tr style=\"text-align: right;\">\n",
       "      <th></th>\n",
       "      <th>match_no</th>\n",
       "      <th>runs</th>\n",
       "    </tr>\n",
       "  </thead>\n",
       "  <tbody>\n",
       "    <tr>\n",
       "      <th>0</th>\n",
       "      <td>1</td>\n",
       "      <td>1</td>\n",
       "    </tr>\n",
       "    <tr>\n",
       "      <th>1</th>\n",
       "      <td>2</td>\n",
       "      <td>23</td>\n",
       "    </tr>\n",
       "    <tr>\n",
       "      <th>2</th>\n",
       "      <td>3</td>\n",
       "      <td>13</td>\n",
       "    </tr>\n",
       "    <tr>\n",
       "      <th>3</th>\n",
       "      <td>4</td>\n",
       "      <td>12</td>\n",
       "    </tr>\n",
       "    <tr>\n",
       "      <th>4</th>\n",
       "      <td>5</td>\n",
       "      <td>1</td>\n",
       "    </tr>\n",
       "  </tbody>\n",
       "</table>\n",
       "</div>"
      ],
      "text/plain": [
       "   match_no  runs\n",
       "0         1     1\n",
       "1         2    23\n",
       "2         3    13\n",
       "3         4    12\n",
       "4         5     1"
      ]
     },
     "execution_count": 171,
     "metadata": {},
     "output_type": "execute_result"
    }
   ],
   "source": [
    "new=vk.head()\n",
    "new"
   ]
  },
  {
   "cell_type": "code",
   "execution_count": 172,
   "id": "dafeefea",
   "metadata": {},
   "outputs": [
    {
     "name": "stderr",
     "output_type": "stream",
     "text": [
      "/tmp/ipykernel_476999/3348571978.py:1: SettingWithCopyWarning: \n",
      "A value is trying to be set on a copy of a slice from a DataFrame.\n",
      "Try using .loc[row_indexer,col_indexer] = value instead\n",
      "\n",
      "See the caveats in the documentation: https://pandas.pydata.org/pandas-docs/stable/user_guide/indexing.html#returning-a-view-versus-a-copy\n",
      "  new[1]=1\n"
     ]
    }
   ],
   "source": [
    "new[1]=1"
   ]
  },
  {
   "cell_type": "code",
   "execution_count": 173,
   "id": "42c0f21d",
   "metadata": {},
   "outputs": [],
   "source": [
    "new = vk.head()"
   ]
  },
  {
   "cell_type": "code",
   "execution_count": 174,
   "id": "afd9c0cf",
   "metadata": {},
   "outputs": [
    {
     "data": {
      "text/html": [
       "<div>\n",
       "<style scoped>\n",
       "    .dataframe tbody tr th:only-of-type {\n",
       "        vertical-align: middle;\n",
       "    }\n",
       "\n",
       "    .dataframe tbody tr th {\n",
       "        vertical-align: top;\n",
       "    }\n",
       "\n",
       "    .dataframe thead th {\n",
       "        text-align: right;\n",
       "    }\n",
       "</style>\n",
       "<table border=\"1\" class=\"dataframe\">\n",
       "  <thead>\n",
       "    <tr style=\"text-align: right;\">\n",
       "      <th></th>\n",
       "      <th>match_no</th>\n",
       "      <th>runs</th>\n",
       "    </tr>\n",
       "  </thead>\n",
       "  <tbody>\n",
       "    <tr>\n",
       "      <th>0</th>\n",
       "      <td>1</td>\n",
       "      <td>1</td>\n",
       "    </tr>\n",
       "    <tr>\n",
       "      <th>1</th>\n",
       "      <td>2</td>\n",
       "      <td>23</td>\n",
       "    </tr>\n",
       "    <tr>\n",
       "      <th>2</th>\n",
       "      <td>3</td>\n",
       "      <td>13</td>\n",
       "    </tr>\n",
       "    <tr>\n",
       "      <th>3</th>\n",
       "      <td>4</td>\n",
       "      <td>12</td>\n",
       "    </tr>\n",
       "    <tr>\n",
       "      <th>4</th>\n",
       "      <td>5</td>\n",
       "      <td>1</td>\n",
       "    </tr>\n",
       "  </tbody>\n",
       "</table>\n",
       "</div>"
      ],
      "text/plain": [
       "   match_no  runs\n",
       "0         1     1\n",
       "1         2    23\n",
       "2         3    13\n",
       "3         4    12\n",
       "4         5     1"
      ]
     },
     "execution_count": 174,
     "metadata": {},
     "output_type": "execute_result"
    }
   ],
   "source": [
    "new"
   ]
  },
  {
   "cell_type": "code",
   "execution_count": null,
   "id": "467255f9",
   "metadata": {},
   "outputs": [],
   "source": []
  }
 ],
 "metadata": {
  "kernelspec": {
   "display_name": "Python 3 (ipykernel)",
   "language": "python",
   "name": "python3"
  },
  "language_info": {
   "codemirror_mode": {
    "name": "ipython",
    "version": 3
   },
   "file_extension": ".py",
   "mimetype": "text/x-python",
   "name": "python",
   "nbconvert_exporter": "python",
   "pygments_lexer": "ipython3",
   "version": "3.8.10"
  }
 },
 "nbformat": 4,
 "nbformat_minor": 5
}
