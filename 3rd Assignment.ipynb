{
 "cells": [
  {
   "cell_type": "markdown",
   "id": "d010089d",
   "metadata": {},
   "source": [
    "1. Why are functions advantageous to have in your programs?\n",
    "\n",
    "    Functions reduce the need for remove duplicate code and \n",
    "    This make easier and sorter code and easiser to read and update.\n"
   ]
  },
  {
   "cell_type": "code",
   "execution_count": 10,
   "id": "65724263",
   "metadata": {},
   "outputs": [
    {
     "name": "stdout",
     "output_type": "stream",
     "text": [
      "1 3\n"
     ]
    }
   ],
   "source": [
    "array = [1, 2, 3]\n",
    "\n",
    "val1, _, _ =  array  # initialize and value assignment to val1\n",
    "print(val1, _)          # output: 1 "
   ]
  },
  {
   "cell_type": "markdown",
   "id": "0e0df037",
   "metadata": {},
   "source": [
    "2. When does the code in a function run: when it&#39;s specified or when it&#39;s called?\n",
    "\n",
    "\n",
    "    The code in a function executes when the function is called, not when the function is defined."
   ]
  },
  {
   "cell_type": "markdown",
   "id": "401933bb",
   "metadata": {},
   "source": [
    "3. What statement creates a function?\n",
    "\n",
    "     The def statement defines, i.e. creates a function."
   ]
  },
  {
   "cell_type": "markdown",
   "id": "53a8631c",
   "metadata": {},
   "source": [
    "4. What is the difference between a function and a function call?\n",
    "\n",
    "       A function consists of the def statement and the code in its def clause. A function call is what moves  the program execution into the function, and the function call evaluates to the function's return value.\n",
    "\n"
   ]
  },
  {
   "cell_type": "markdown",
   "id": "8114532a",
   "metadata": {},
   "source": [
    "5. How many global scopes are there in a Python program? How many local scopes?\n",
    "\n",
    "       There is one global scope, and a local scope is created whenever a function is called.\n"
   ]
  },
  {
   "cell_type": "markdown",
   "id": "39a55889",
   "metadata": {},
   "source": [
    "6. What happens to variables in a local scope when the function call returns?\n",
    "\n",
    "       When a function returns, the local scope is destroyed, and all the variables in it are forgotten."
   ]
  },
  {
   "cell_type": "markdown",
   "id": "29c7da7b",
   "metadata": {},
   "source": [
    "7. What is the concept of a return value? Is it possible to have a return value in an expression?\n",
    "\n",
    "        A return value is the value that a function call evaluates to. Like any value, a return value can be \n",
    "        used as part of an expression.\n",
    "\n"
   ]
  },
  {
   "cell_type": "markdown",
   "id": "88720c5e",
   "metadata": {},
   "source": [
    "8. If a function does not have a return statement, what is the return value of a call to that function?\n",
    "\n",
    "       If there is no return statement for a function, its return value is None."
   ]
  },
  {
   "cell_type": "markdown",
   "id": "e2f43747",
   "metadata": {},
   "source": [
    "9. How do you make a function variable refer to the global variable?\n",
    "\n",
    "    A global statement will force a variable in a function to refer to the global variable.\n",
    "\n"
   ]
  },
  {
   "cell_type": "markdown",
   "id": "9ca2facc",
   "metadata": {},
   "source": [
    "10. What is the data type of None?\n",
    "\n",
    "    The data type of None is NoneType"
   ]
  },
  {
   "cell_type": "markdown",
   "id": "6d192407",
   "metadata": {},
   "source": [
    "11. What does the sentence import areallyourpetsnamederic do?\n",
    "\n",
    "\n",
    "    That import statement imports a module named areallyourpetsnamederic."
   ]
  },
  {
   "cell_type": "markdown",
   "id": "f655c126",
   "metadata": {},
   "source": [
    "12. If you had a bacon() feature in a spam module, what would you call it after importing spam?\n",
    "\n",
    "\n",
    "      This function can be called with spam.bacon().\n",
    "\n"
   ]
  },
  {
   "cell_type": "markdown",
   "id": "3fe5cb9f",
   "metadata": {},
   "source": [
    "13. What can you do to save a programme from crashing if it encounters an error?\n",
    "\n",
    "\n",
    "       Place the line of code that might cause an error in a try clause."
   ]
  },
  {
   "cell_type": "markdown",
   "id": "e661e666",
   "metadata": {},
   "source": [
    "14. What is the purpose of the try clause? What is the purpose of the except clause?\n",
    "      \n",
    "      The code that could potentially cause an error goes in the try clause. \n",
    "      -The code that executes if an error happens goes in the except clause.\n"
   ]
  }
 ],
 "metadata": {
  "kernelspec": {
   "display_name": "Python 3 (ipykernel)",
   "language": "python",
   "name": "python3"
  },
  "language_info": {
   "codemirror_mode": {
    "name": "ipython",
    "version": 3
   },
   "file_extension": ".py",
   "mimetype": "text/x-python",
   "name": "python",
   "nbconvert_exporter": "python",
   "pygments_lexer": "ipython3",
   "version": "3.8.10"
  }
 },
 "nbformat": 4,
 "nbformat_minor": 5
}
