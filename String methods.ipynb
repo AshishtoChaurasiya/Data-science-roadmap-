{
 "cells": [
  {
   "cell_type": "code",
   "execution_count": 1,
   "id": "34838972",
   "metadata": {},
   "outputs": [
    {
     "data": {
      "text/plain": [
       "['a', 'b', 'c', 'd', 'e']"
      ]
     },
     "execution_count": 1,
     "metadata": {},
     "output_type": "execute_result"
    }
   ],
   "source": [
    "org_str = 'cebad'\n",
    "new_str_list = sorted(org_str)\n",
    "new_str_list"
   ]
  },
  {
   "cell_type": "markdown",
   "id": "a5228fcd",
   "metadata": {},
   "source": [
    "###### The current population of a town is 10000. The population of the town is increasing at the rate of 10% per year. You have to write a program to find out the population at the end of each of the last 10 years."
   ]
  },
  {
   "cell_type": "code",
   "execution_count": 3,
   "id": "4f007cc4",
   "metadata": {},
   "outputs": [
    {
     "name": "stdout",
     "output_type": "stream",
     "text": [
      "10 10000\n",
      "9 9090.90909090909\n",
      "8 8264.462809917353\n",
      "7 7513.148009015775\n",
      "6 6830.134553650703\n",
      "5 6209.213230591548\n",
      "4 5644.739300537771\n",
      "3 5131.5811823070635\n",
      "2 4665.07380209733\n",
      "1 4240.976183724845\n"
     ]
    }
   ],
   "source": [
    "curr_pop=10000\n",
    "for i in range(10,0,-1):\n",
    "    print(i,curr_pop)\n",
    "    curr_pop = curr_pop/1.1"
   ]
  },
  {
   "cell_type": "code",
   "execution_count": 5,
   "id": "7db7b8a0",
   "metadata": {},
   "outputs": [
    {
     "name": "stdout",
     "output_type": "stream",
     "text": [
      "enter the number4\n",
      "2.6666666666666665\n"
     ]
    }
   ],
   "source": [
    "# Sequence sum\n",
    "# 1/1! + 2/2! + 3/3! + ...\n",
    "n=int(input(\"enter the number\"))\n",
    "result=0\n",
    "fact=1\n",
    "for i in range(1,n+1):\n",
    "    fact=fact*i\n",
    "    result = result + i/fact\n",
    "print(result)"
   ]
  },
  {
   "cell_type": "code",
   "execution_count": 10,
   "id": "94a92ccd",
   "metadata": {},
   "outputs": [
    {
     "name": "stdout",
     "output_type": "stream",
     "text": [
      "*\n",
      "**\n",
      "***\n",
      "****\n"
     ]
    }
   ],
   "source": [
    "# nexted loop\n",
    "for i in range(1,5):\n",
    "    for j in range(1,i+1):\n",
    "        print(\"*\",end='')\n",
    "    print()\n",
    "\n",
    "        "
   ]
  },
  {
   "cell_type": "code",
   "execution_count": 15,
   "id": "b5d775b7",
   "metadata": {},
   "outputs": [
    {
     "name": "stdout",
     "output_type": "stream",
     "text": [
      "enter the number4\n",
      "1\n",
      "121\n",
      "12321\n",
      "1234321\n"
     ]
    }
   ],
   "source": [
    "rows= int(input(\"enter the number\"))\n",
    "for i in range(1,rows+1):\n",
    "    for j in range(1,i+1):\n",
    "        print(j,end='')\n",
    "    for k in range(i-1,0,-1):\n",
    "        print(k,end='')\n",
    "    print()"
   ]
  },
  {
   "cell_type": "code",
   "execution_count": 16,
   "id": "28bcc420",
   "metadata": {},
   "outputs": [
    {
     "name": "stdout",
     "output_type": "stream",
     "text": [
      "1\n",
      "2\n",
      "3\n",
      "4\n"
     ]
    }
   ],
   "source": [
    "# break\n",
    "for i in range(1,10):\n",
    "    if i == 5:\n",
    "        break\n",
    "    print(i)"
   ]
  },
  {
   "cell_type": "code",
   "execution_count": 18,
   "id": "b320e605",
   "metadata": {},
   "outputs": [
    {
     "name": "stdout",
     "output_type": "stream",
     "text": [
      "enter the number2\n",
      "enter upper range100\n",
      "2\n",
      "3\n",
      "5\n",
      "7\n",
      "11\n",
      "13\n",
      "17\n",
      "19\n",
      "23\n",
      "29\n",
      "31\n",
      "37\n",
      "41\n",
      "43\n",
      "47\n",
      "53\n",
      "59\n",
      "61\n",
      "67\n",
      "71\n",
      "73\n",
      "79\n",
      "83\n",
      "89\n",
      "97\n"
     ]
    }
   ],
   "source": [
    "lower_range= int(input(\"enter the number\"))\n",
    "upper_range= int(input(\"enter upper range\"))\n",
    "for i in range(lower_range,upper_range+1):\n",
    "    for j in range(2,i):\n",
    "        if i%j==0:\n",
    "            break\n",
    "    else:\n",
    "        print(i)"
   ]
  },
  {
   "cell_type": "code",
   "execution_count": 19,
   "id": "fdb3af9e",
   "metadata": {},
   "outputs": [],
   "source": [
    "# String are sequence of Characters\n",
    "# In python specifically, string are a sequence of Unicode Characters\n",
    "# Creating String\n",
    "# Accessing String\n",
    "# Adding Chars to Strings\n",
    "# Editing Strings\n",
    "# Deleting Strings\n",
    "# Operations on stirings\n",
    "# String Fucntions"
   ]
  },
  {
   "cell_type": "code",
   "execution_count": 20,
   "id": "f658be21",
   "metadata": {},
   "outputs": [
    {
     "name": "stdout",
     "output_type": "stream",
     "text": [
      "hello\n"
     ]
    }
   ],
   "source": [
    "s='hello'\n",
    "s = \"hello\"\n",
    "# multiline strings\n",
    "s = '''hello'''\n",
    "s = \"\"\"hello\"\"\"\n",
    "s = str('hello')\n",
    "print(s)"
   ]
  },
  {
   "cell_type": "code",
   "execution_count": 22,
   "id": "acafb132",
   "metadata": {},
   "outputs": [
    {
     "name": "stdout",
     "output_type": "stream",
     "text": [
      "o\n"
     ]
    }
   ],
   "source": [
    "# Accessing Substrings from a String\n",
    "# Positive String\n",
    "s = 'hello world'\n",
    "print(s[4])\n",
    "\n"
   ]
  },
  {
   "cell_type": "code",
   "execution_count": 23,
   "id": "76131203",
   "metadata": {},
   "outputs": [
    {
     "name": "stdout",
     "output_type": "stream",
     "text": [
      "r\n"
     ]
    }
   ],
   "source": [
    "# Negative Indexing\n",
    "s = 'hello world'\n",
    "print(s[-3])"
   ]
  },
  {
   "cell_type": "code",
   "execution_count": 26,
   "id": "93a191f0",
   "metadata": {},
   "outputs": [
    {
     "name": "stdout",
     "output_type": "stream",
     "text": [
      "hello\n",
      "l\n",
      "hel\n"
     ]
    }
   ],
   "source": [
    "# Slicing\n",
    "s = 'hello world'\n",
    "print(s[0:5])\n",
    "print(s[2:3])\n",
    "print(s[:3])"
   ]
  },
  {
   "cell_type": "code",
   "execution_count": 28,
   "id": "297cfdff",
   "metadata": {},
   "outputs": [
    {
     "name": "stdout",
     "output_type": "stream",
     "text": [
      "w olle\n"
     ]
    }
   ],
   "source": [
    "s = 'hello world'\n",
    "print(s[6:0:-1])"
   ]
  },
  {
   "cell_type": "code",
   "execution_count": 29,
   "id": "39262280",
   "metadata": {},
   "outputs": [
    {
     "name": "stdout",
     "output_type": "stream",
     "text": [
      "wol\n"
     ]
    }
   ],
   "source": [
    "s = 'hello world'\n",
    "print(s[6:0:-2])"
   ]
  },
  {
   "cell_type": "code",
   "execution_count": 30,
   "id": "bc33ce9f",
   "metadata": {},
   "outputs": [
    {
     "name": "stdout",
     "output_type": "stream",
     "text": [
      "dlrow olleh\n"
     ]
    }
   ],
   "source": [
    "print(s[::-1])"
   ]
  },
  {
   "cell_type": "code",
   "execution_count": 36,
   "id": "48c33bb9",
   "metadata": {},
   "outputs": [
    {
     "name": "stdout",
     "output_type": "stream",
     "text": [
      "dlrow\n"
     ]
    }
   ],
   "source": [
    "# when use negative indexing then use always first number is larage\n",
    "s = 'hello world'\n",
    "print(s[-1:-6:-1])"
   ]
  },
  {
   "cell_type": "code",
   "execution_count": 41,
   "id": "564f6c1d",
   "metadata": {},
   "outputs": [
    {
     "ename": "TypeError",
     "evalue": "'str' object does not support item deletion",
     "output_type": "error",
     "traceback": [
      "\u001b[0;31m---------------------------------------------------------------------------\u001b[0m",
      "\u001b[0;31mTypeError\u001b[0m                                 Traceback (most recent call last)",
      "Input \u001b[0;32mIn [41]\u001b[0m, in \u001b[0;36m<cell line: 7>\u001b[0;34m()\u001b[0m\n\u001b[1;32m      1\u001b[0m \u001b[38;5;66;03m# Editing and Deleting in Strings\u001b[39;00m\n\u001b[1;32m      2\u001b[0m \u001b[38;5;66;03m# when have created string then don't change\u001b[39;00m\n\u001b[1;32m      3\u001b[0m \u001b[38;5;66;03m# It's immutabe dont change able\u001b[39;00m\n\u001b[1;32m      4\u001b[0m \u001b[38;5;66;03m# It can't be muteted\u001b[39;00m\n\u001b[1;32m      5\u001b[0m \u001b[38;5;66;03m# It's not working does not support deletion object\u001b[39;00m\n\u001b[1;32m      6\u001b[0m s \u001b[38;5;241m=\u001b[39m \u001b[38;5;124m\"\u001b[39m\u001b[38;5;124mhello workd\u001b[39m\u001b[38;5;124m\"\u001b[39m\n\u001b[0;32m----> 7\u001b[0m \u001b[38;5;28;01mdel\u001b[39;00m s[\u001b[38;5;241m-\u001b[39m\u001b[38;5;241m1\u001b[39m:\u001b[38;5;241m-\u001b[39m\u001b[38;5;241m5\u001b[39m:\u001b[38;5;241m2\u001b[39m]\n\u001b[1;32m      8\u001b[0m \u001b[38;5;28mprint\u001b[39m(s)\n",
      "\u001b[0;31mTypeError\u001b[0m: 'str' object does not support item deletion"
     ]
    }
   ],
   "source": [
    "# Editing and Deleting in Strings\n",
    "# when have created string then don't change\n",
    "# It's immutabe dont change able\n",
    "# It can't be muteted\n",
    "# It's not working does not support deletion object\n",
    "s = \"hello workd\"\n",
    "del s[-1:-5:2]\n",
    "print(s)"
   ]
  },
  {
   "cell_type": "code",
   "execution_count": null,
   "id": "56cdaeb2",
   "metadata": {},
   "outputs": [],
   "source": [
    "# Operations On Strings\n",
    "# Arithmetic Operations\n",
    "# Relationl Operations\n",
    "# Logical Operations\n",
    "# Loops on Strings\n",
    "# Membership Operations"
   ]
  },
  {
   "cell_type": "code",
   "execution_count": 43,
   "id": "2bc0529d",
   "metadata": {},
   "outputs": [
    {
     "name": "stdout",
     "output_type": "stream",
     "text": [
      "delhi mumbai\n"
     ]
    }
   ],
   "source": [
    "# Arithmetic Operations\n",
    "# Python work on two operations +,*\n",
    "print('delhi' + ' '+ 'mumbai')"
   ]
  },
  {
   "cell_type": "code",
   "execution_count": 44,
   "id": "6bb9e86f",
   "metadata": {},
   "outputs": [
    {
     "name": "stdout",
     "output_type": "stream",
     "text": [
      "delhidelhidelhidelhidelhi\n"
     ]
    }
   ],
   "source": [
    "print('delhi'*5)"
   ]
  },
  {
   "cell_type": "code",
   "execution_count": 45,
   "id": "4db7814b",
   "metadata": {},
   "outputs": [
    {
     "data": {
      "text/plain": [
       "False"
      ]
     },
     "execution_count": 45,
     "metadata": {},
     "output_type": "execute_result"
    }
   ],
   "source": [
    "# Relational Operations\n",
    "'delhi' == 'mumbai'"
   ]
  },
  {
   "cell_type": "code",
   "execution_count": 46,
   "id": "d9a36e70",
   "metadata": {},
   "outputs": [
    {
     "data": {
      "text/plain": [
       "True"
      ]
     },
     "execution_count": 46,
     "metadata": {},
     "output_type": "execute_result"
    }
   ],
   "source": [
    "'delhi' != \"Mumbai\""
   ]
  },
  {
   "cell_type": "code",
   "execution_count": 47,
   "id": "200fdb9c",
   "metadata": {},
   "outputs": [
    {
     "data": {
      "text/plain": [
       "False"
      ]
     },
     "execution_count": 47,
     "metadata": {},
     "output_type": "execute_result"
    }
   ],
   "source": [
    "'mumbai' > 'pune'\n",
    "# lexiographically use in alphabets"
   ]
  },
  {
   "cell_type": "code",
   "execution_count": 48,
   "id": "bc7502b0",
   "metadata": {},
   "outputs": [
    {
     "data": {
      "text/plain": [
       "False"
      ]
     },
     "execution_count": 48,
     "metadata": {},
     "output_type": "execute_result"
    }
   ],
   "source": [
    "'Pune'> 'pune'"
   ]
  },
  {
   "cell_type": "code",
   "execution_count": 49,
   "id": "c4bdeb8c",
   "metadata": {},
   "outputs": [
    {
     "data": {
      "text/plain": [
       "'world'"
      ]
     },
     "execution_count": 49,
     "metadata": {},
     "output_type": "execute_result"
    }
   ],
   "source": [
    "'hello' and 'world'"
   ]
  },
  {
   "cell_type": "code",
   "execution_count": 50,
   "id": "e90b8fd8",
   "metadata": {},
   "outputs": [
    {
     "data": {
      "text/plain": [
       "'hello'"
      ]
     },
     "execution_count": 50,
     "metadata": {},
     "output_type": "execute_result"
    }
   ],
   "source": [
    "'hello' or 'world'"
   ]
  },
  {
   "cell_type": "code",
   "execution_count": 52,
   "id": "64aef59f",
   "metadata": {},
   "outputs": [
    {
     "data": {
      "text/plain": [
       "'world'"
      ]
     },
     "execution_count": 52,
     "metadata": {},
     "output_type": "execute_result"
    }
   ],
   "source": [
    "# If stirng is empty python understand false value\n",
    "'hello' and 'world'"
   ]
  },
  {
   "cell_type": "code",
   "execution_count": 53,
   "id": "1880b379",
   "metadata": {},
   "outputs": [
    {
     "data": {
      "text/plain": [
       "'world'"
      ]
     },
     "execution_count": 53,
     "metadata": {},
     "output_type": "execute_result"
    }
   ],
   "source": [
    "'' or 'world'"
   ]
  },
  {
   "cell_type": "code",
   "execution_count": 56,
   "id": "65e8e95d",
   "metadata": {},
   "outputs": [
    {
     "data": {
      "text/plain": [
       "False"
      ]
     },
     "execution_count": 56,
     "metadata": {},
     "output_type": "execute_result"
    }
   ],
   "source": [
    "not 'hello'"
   ]
  },
  {
   "cell_type": "code",
   "execution_count": 57,
   "id": "e9e13372",
   "metadata": {},
   "outputs": [
    {
     "name": "stdout",
     "output_type": "stream",
     "text": [
      "h\n",
      "e\n",
      "e\n",
      "l\n",
      "o\n"
     ]
    }
   ],
   "source": [
    "# loops membership operatos\n",
    "for i in 'heelo':\n",
    "    print(i)"
   ]
  },
  {
   "cell_type": "code",
   "execution_count": 58,
   "id": "b28976e6",
   "metadata": {},
   "outputs": [
    {
     "name": "stdout",
     "output_type": "stream",
     "text": [
      "pune\n",
      "pune\n",
      "pune\n",
      "pune\n",
      "pune\n"
     ]
    }
   ],
   "source": [
    "for i in 'delhi':\n",
    "    print('pune')"
   ]
  },
  {
   "cell_type": "code",
   "execution_count": 59,
   "id": "6fe6775b",
   "metadata": {},
   "outputs": [
    {
     "data": {
      "text/plain": [
       "True"
      ]
     },
     "execution_count": 59,
     "metadata": {},
     "output_type": "execute_result"
    }
   ],
   "source": [
    "# membership operatos\n",
    "'D' in 'Delhi'"
   ]
  },
  {
   "cell_type": "code",
   "execution_count": 61,
   "id": "4766e9b9",
   "metadata": {},
   "outputs": [
    {
     "data": {
      "text/plain": [
       "False"
      ]
     },
     "execution_count": 61,
     "metadata": {},
     "output_type": "execute_result"
    }
   ],
   "source": [
    "'D' not in 'Delhi'"
   ]
  },
  {
   "cell_type": "code",
   "execution_count": 62,
   "id": "c8990a30",
   "metadata": {},
   "outputs": [
    {
     "data": {
      "text/plain": [
       "11"
      ]
     },
     "execution_count": 62,
     "metadata": {},
     "output_type": "execute_result"
    }
   ],
   "source": [
    "# Strings Functions\n",
    "# Common functions\n",
    "# len, max,min,sorted\n",
    "len('hello world')"
   ]
  },
  {
   "cell_type": "code",
   "execution_count": 63,
   "id": "02b5704c",
   "metadata": {},
   "outputs": [
    {
     "data": {
      "text/plain": [
       "'w'"
      ]
     },
     "execution_count": 63,
     "metadata": {},
     "output_type": "execute_result"
    }
   ],
   "source": [
    "max('hello world')"
   ]
  },
  {
   "cell_type": "code",
   "execution_count": 65,
   "id": "5c070457",
   "metadata": {},
   "outputs": [
    {
     "data": {
      "text/plain": [
       "' '"
      ]
     },
     "execution_count": 65,
     "metadata": {},
     "output_type": "execute_result"
    }
   ],
   "source": [
    "min('hello world')"
   ]
  },
  {
   "cell_type": "code",
   "execution_count": 67,
   "id": "0096bb71",
   "metadata": {},
   "outputs": [
    {
     "data": {
      "text/plain": [
       "['w', 'r', 'o', 'o', 'l', 'l', 'l', 'h', 'e', 'd', ' ']"
      ]
     },
     "execution_count": 67,
     "metadata": {},
     "output_type": "execute_result"
    }
   ],
   "source": [
    "sorted('hello world',reverse=True)\n",
    "# sorted output provide in list"
   ]
  },
  {
   "cell_type": "code",
   "execution_count": 68,
   "id": "e6f4f0ae",
   "metadata": {},
   "outputs": [
    {
     "data": {
      "text/plain": [
       "'Hello world'"
      ]
     },
     "execution_count": 68,
     "metadata": {},
     "output_type": "execute_result"
    }
   ],
   "source": [
    "# Strings Functions\n",
    "# Capitalize\n",
    "s = 'hello world'\n",
    "s.capitalize()"
   ]
  },
  {
   "cell_type": "code",
   "execution_count": 70,
   "id": "c85a0c06",
   "metadata": {},
   "outputs": [
    {
     "data": {
      "text/plain": [
       "'Hello World'"
      ]
     },
     "execution_count": 70,
     "metadata": {},
     "output_type": "execute_result"
    }
   ],
   "source": [
    "s.title()"
   ]
  },
  {
   "cell_type": "code",
   "execution_count": 71,
   "id": "7fdb7685",
   "metadata": {},
   "outputs": [
    {
     "data": {
      "text/plain": [
       "'HELLO WORLD'"
      ]
     },
     "execution_count": 71,
     "metadata": {},
     "output_type": "execute_result"
    }
   ],
   "source": [
    "s.upper()"
   ]
  },
  {
   "cell_type": "code",
   "execution_count": 72,
   "id": "ee01c129",
   "metadata": {},
   "outputs": [
    {
     "data": {
      "text/plain": [
       "'hello world'"
      ]
     },
     "execution_count": 72,
     "metadata": {},
     "output_type": "execute_result"
    }
   ],
   "source": [
    "s.lower()"
   ]
  },
  {
   "cell_type": "code",
   "execution_count": 73,
   "id": "75d71852",
   "metadata": {},
   "outputs": [
    {
     "data": {
      "text/plain": [
       "'hELLO wORLD'"
      ]
     },
     "execution_count": 73,
     "metadata": {},
     "output_type": "execute_result"
    }
   ],
   "source": [
    "# swap case\n",
    "'Hello World'.swapcase()"
   ]
  },
  {
   "cell_type": "code",
   "execution_count": 74,
   "id": "77549c51",
   "metadata": {},
   "outputs": [
    {
     "data": {
      "text/plain": [
       "2"
      ]
     },
     "execution_count": 74,
     "metadata": {},
     "output_type": "execute_result"
    }
   ],
   "source": [
    "# Count/Find/Index\n",
    "# Count use for frequency count\n",
    "'my name is Ashish'.count('i')"
   ]
  },
  {
   "cell_type": "code",
   "execution_count": 75,
   "id": "f837effd",
   "metadata": {},
   "outputs": [
    {
     "data": {
      "text/plain": [
       "8"
      ]
     },
     "execution_count": 75,
     "metadata": {},
     "output_type": "execute_result"
    }
   ],
   "source": [
    "'my name is Ashish'.find('is')\n"
   ]
  },
  {
   "cell_type": "code",
   "execution_count": 78,
   "id": "8d5f4c7a",
   "metadata": {},
   "outputs": [
    {
     "ename": "ValueError",
     "evalue": "substring not found",
     "output_type": "error",
     "traceback": [
      "\u001b[0;31m---------------------------------------------------------------------------\u001b[0m",
      "\u001b[0;31mValueError\u001b[0m                                Traceback (most recent call last)",
      "Input \u001b[0;32mIn [78]\u001b[0m, in \u001b[0;36m<cell line: 1>\u001b[0;34m()\u001b[0m\n\u001b[0;32m----> 1\u001b[0m \u001b[38;5;124;43m'\u001b[39;49m\u001b[38;5;124;43mmy name is Ashish\u001b[39;49m\u001b[38;5;124;43m'\u001b[39;49m\u001b[38;5;241;43m.\u001b[39;49m\u001b[43mindex\u001b[49m\u001b[43m(\u001b[49m\u001b[38;5;124;43m'\u001b[39;49m\u001b[38;5;124;43mfds\u001b[39;49m\u001b[38;5;124;43m'\u001b[39;49m\u001b[43m)\u001b[49m\n",
      "\u001b[0;31mValueError\u001b[0m: substring not found"
     ]
    }
   ],
   "source": [
    "'my name is Ashish'.index('fds')"
   ]
  },
  {
   "cell_type": "code",
   "execution_count": 79,
   "id": "e3467123",
   "metadata": {},
   "outputs": [
    {
     "data": {
      "text/plain": [
       "False"
      ]
     },
     "execution_count": 79,
     "metadata": {},
     "output_type": "execute_result"
    }
   ],
   "source": [
    "# endswith/startwith\n",
    "'my name is nitish'.endswith('sho')"
   ]
  },
  {
   "cell_type": "code",
   "execution_count": 80,
   "id": "003b7886",
   "metadata": {},
   "outputs": [
    {
     "data": {
      "text/plain": [
       "True"
      ]
     },
     "execution_count": 80,
     "metadata": {},
     "output_type": "execute_result"
    }
   ],
   "source": [
    "'my name is ashish'.startswith('my')"
   ]
  },
  {
   "cell_type": "code",
   "execution_count": 81,
   "id": "be577f56",
   "metadata": {},
   "outputs": [
    {
     "data": {
      "text/plain": [
       "'Hi my name is ashish'"
      ]
     },
     "execution_count": 81,
     "metadata": {},
     "output_type": "execute_result"
    }
   ],
   "source": [
    "  # Format\n",
    "name= 'ashish'\n",
    "gender = 'male'\n",
    "'Hi my name is{} ashish'"
   ]
  },
  {
   "cell_type": "code",
   "execution_count": 97,
   "id": "e8a37d04",
   "metadata": {},
   "outputs": [
    {
     "name": "stdout",
     "output_type": "stream",
     "text": [
      "Hi my name is Ashish,Chaurasiya\n"
     ]
    }
   ],
   "source": [
    "first_name = \"Ashish\"\n",
    "last_name = \"Chaurasiya\"\n",
    "print(\"Hi my name is {0},{1}\".format(first_name,last_name))"
   ]
  },
  {
   "cell_type": "code",
   "execution_count": null,
   "id": "39c8c025",
   "metadata": {},
   "outputs": [],
   "source": [
    "# isalnum = check string alphanumeric  alphabets and numeric\n",
    "# isalpha = check alphabets\n",
    "# isdigit = check only digits\n",
    "# identifires = check valid identifires"
   ]
  },
  {
   "cell_type": "code",
   "execution_count": 92,
   "id": "73404016",
   "metadata": {},
   "outputs": [
    {
     "name": "stdout",
     "output_type": "stream",
     "text": [
      "ashish kumar chaurasiya\n"
     ]
    }
   ],
   "source": [
    "# split/join\n",
    "# spilt = its break word by word convert the python list\n",
    "a = 'ashish kumar chaurasiya'\n",
    "a.split()\n",
    "print(\"\".join(a))"
   ]
  },
  {
   "cell_type": "code",
   "execution_count": null,
   "id": "99513f05",
   "metadata": {},
   "outputs": [],
   "source": [
    "# join = the reverse of the spilt\n"
   ]
  },
  {
   "cell_type": "code",
   "execution_count": 93,
   "id": "a9cae27a",
   "metadata": {},
   "outputs": [
    {
     "data": {
      "text/plain": [
       "'abhishek kumar chaurasiya'"
      ]
     },
     "execution_count": 93,
     "metadata": {},
     "output_type": "execute_result"
    }
   ],
   "source": [
    "# Replace\n",
    "a = \"ashish kumar chaurasiya\"\n",
    "a.replace('ashish','abhishek')"
   ]
  },
  {
   "cell_type": "code",
   "execution_count": 95,
   "id": "b2320b1a",
   "metadata": {},
   "outputs": [
    {
     "data": {
      "text/plain": [
       "'nitesh'"
      ]
     },
     "execution_count": 95,
     "metadata": {},
     "output_type": "execute_result"
    }
   ],
   "source": [
    "# Strip\n",
    "# Remove the all the spaces\n",
    "a ='nitesh          '.strip()\n",
    "a"
   ]
  },
  {
   "cell_type": "code",
   "execution_count": null,
   "id": "e72f2913",
   "metadata": {},
   "outputs": [],
   "source": [
    "# # Find the length of a given string without using the len() function"
   ]
  },
  {
   "cell_type": "code",
   "execution_count": null,
   "id": "585216c0",
   "metadata": {},
   "outputs": [],
   "source": [
    "# # Extract username from a given email. \n",
    "# Eg if the email is nitish24singh@gmail.com \n",
    "# then the username should be nitish24singh"
   ]
  },
  {
   "cell_type": "code",
   "execution_count": null,
   "id": "23bc7bba",
   "metadata": {},
   "outputs": [],
   "source": [
    "# # Count the frequency of a particular character in a provided string. \n",
    "# Eg 'hello how are you' is the string, the frequency of h in this string is 2.\n"
   ]
  },
  {
   "cell_type": "code",
   "execution_count": null,
   "id": "f4d29264",
   "metadata": {},
   "outputs": [],
   "source": [
    "# # Write a program which can remove a particular character from a string.\n"
   ]
  },
  {
   "cell_type": "code",
   "execution_count": null,
   "id": "d3190a79",
   "metadata": {},
   "outputs": [],
   "source": [
    "# Write a program that can check whether a given string is palindrome or not.\n",
    "# abba\n",
    "# malayalam"
   ]
  },
  {
   "cell_type": "code",
   "execution_count": null,
   "id": "32f8ccef",
   "metadata": {},
   "outputs": [],
   "source": [
    "# Write a program to count the number of words in a string without split()\n"
   ]
  },
  {
   "cell_type": "code",
   "execution_count": null,
   "id": "a0e5935e",
   "metadata": {},
   "outputs": [],
   "source": [
    "# Write a python program to convert a string to title case without using the title()\n"
   ]
  },
  {
   "cell_type": "code",
   "execution_count": null,
   "id": "23481894",
   "metadata": {},
   "outputs": [],
   "source": [
    "# Write a program that can convert an integer to string.\n"
   ]
  },
  {
   "cell_type": "code",
   "execution_count": null,
   "id": "b5d182ae",
   "metadata": {},
   "outputs": [],
   "source": [
    "# You have given a string v = 'elephant'\n",
    "# Replace all 'e' with 'y'"
   ]
  },
  {
   "cell_type": "code",
   "execution_count": null,
   "id": "33dac849",
   "metadata": {},
   "outputs": [],
   "source": [
    "# Calculate the number vowels and consonents for val = 'Alan Walker'\n",
    "# output=V = 4 C= 6"
   ]
  },
  {
   "cell_type": "code",
   "execution_count": null,
   "id": "7b75c019",
   "metadata": {},
   "outputs": [],
   "source": [
    "# Create a program which will create a string from A-Z\n"
   ]
  },
  {
   "cell_type": "code",
   "execution_count": null,
   "id": "7065b34c",
   "metadata": {},
   "outputs": [],
   "source": [
    "# Given a string below\n",
    "# Temp = 'this is my cat and I love it'\n",
    "# output:'thiS iS mY caT anD I lovE iT'\n",
    "# output:'Siht si ym tac dna I evol ti'\n",
    "# output : 'Is this cat my I and it love'"
   ]
  },
  {
   "cell_type": "code",
   "execution_count": null,
   "id": "53ad1fdd",
   "metadata": {},
   "outputs": [],
   "source": [
    "# given a string val1 = 'walker' & val2 = 'ramesh'\n",
    "# output : 'wraalmkeesrh'\n"
   ]
  },
  {
   "cell_type": "code",
   "execution_count": null,
   "id": "29ed537c",
   "metadata": {},
   "outputs": [],
   "source": [
    "# Input a string from user and display the count of each unique character\n",
    "# output str = 'nitin'\n",
    "# n=2\n",
    "# i=2\n",
    "# T=1"
   ]
  },
  {
   "cell_type": "code",
   "execution_count": null,
   "id": "8af100d9",
   "metadata": {},
   "outputs": [],
   "source": [
    "# You have given a string val = 'a7j2v4k5'\n",
    "# output:'aaaaaaajjvvvvkkkkk'"
   ]
  },
  {
   "cell_type": "code",
   "execution_count": null,
   "id": "0d73958d",
   "metadata": {},
   "outputs": [],
   "source": [
    "# you have given a string val = 'elephant'\n",
    "# output:'elleeepppphhhhhaaaaaannnnnnntttttttt'"
   ]
  },
  {
   "cell_type": "code",
   "execution_count": null,
   "id": "614b152c",
   "metadata": {},
   "outputs": [],
   "source": [
    "# val = '1,2,3,,4,,5,,,6,,,,7 ,,8,9,,10'\n",
    "# Calculate the summation of the numbers\n",
    "# output:'questions'"
   ]
  },
  {
   "cell_type": "code",
   "execution_count": null,
   "id": "5f3e683a",
   "metadata": {},
   "outputs": [],
   "source": [
    "# Without using any inbuilt functions arrange the given string in ascending order\n",
    "# output: new = 'einoqsstu'"
   ]
  },
  {
   "cell_type": "code",
   "execution_count": null,
   "id": "db957764",
   "metadata": {},
   "outputs": [],
   "source": [
    "# Write a program to check whether a given string is consecutive or not\n",
    "# output: val='abcdeg' not consecutive\n",
    "# val = 'mnopqrst' is consecutive"
   ]
  },
  {
   "cell_type": "code",
   "execution_count": null,
   "id": "a43b31ba",
   "metadata": {},
   "outputs": [],
   "source": [
    "# input a string from user & with using while loop calculate the length without  using len function\n"
   ]
  },
  {
   "cell_type": "code",
   "execution_count": null,
   "id": "6f3f17ad",
   "metadata": {},
   "outputs": [],
   "source": []
  },
  {
   "cell_type": "code",
   "execution_count": null,
   "id": "e7b04dc4",
   "metadata": {},
   "outputs": [],
   "source": []
  },
  {
   "cell_type": "code",
   "execution_count": null,
   "id": "03d3a0ab",
   "metadata": {},
   "outputs": [],
   "source": []
  }
 ],
 "metadata": {
  "kernelspec": {
   "display_name": "Python 3 (ipykernel)",
   "language": "python",
   "name": "python3"
  },
  "language_info": {
   "codemirror_mode": {
    "name": "ipython",
    "version": 3
   },
   "file_extension": ".py",
   "mimetype": "text/x-python",
   "name": "python",
   "nbconvert_exporter": "python",
   "pygments_lexer": "ipython3",
   "version": "3.8.10"
  }
 },
 "nbformat": 4,
 "nbformat_minor": 5
}
