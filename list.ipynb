{
 "cells": [
  {
   "cell_type": "code",
   "execution_count": 1,
   "id": "45c4f19f",
   "metadata": {},
   "outputs": [
    {
     "data": {
      "text/plain": [
       "[5, 10, 15, 20, 25, 30, 35, 40, 45, 50]"
      ]
     },
     "execution_count": 1,
     "metadata": {},
     "output_type": "execute_result"
    }
   ],
   "source": [
    "lists=[]\n",
    "for i in range(5,51,5):\n",
    "    lists.append(i)\n",
    "lists"
   ]
  },
  {
   "cell_type": "code",
   "execution_count": 2,
   "id": "abc841b9",
   "metadata": {},
   "outputs": [
    {
     "data": {
      "text/plain": [
       "['a',\n",
       " 'b',\n",
       " 'c',\n",
       " 'd',\n",
       " 'e',\n",
       " 'f',\n",
       " 'g',\n",
       " 'h',\n",
       " 'i',\n",
       " 'j',\n",
       " 'k',\n",
       " 'l',\n",
       " 'm',\n",
       " 'n',\n",
       " 'o',\n",
       " 'p',\n",
       " 'q',\n",
       " 'r',\n",
       " 's',\n",
       " 't',\n",
       " 'u',\n",
       " 'v',\n",
       " 'w',\n",
       " 'x',\n",
       " 'y',\n",
       " 'z']"
      ]
     },
     "execution_count": 2,
     "metadata": {},
     "output_type": "execute_result"
    }
   ],
   "source": [
    "lists=[]\n",
    "for i in range(97,123):\n",
    "    lists.append(chr(i))\n",
    "lists"
   ]
  },
  {
   "cell_type": "code",
   "execution_count": 3,
   "id": "443b72b0",
   "metadata": {},
   "outputs": [
    {
     "name": "stdout",
     "output_type": "stream",
     "text": [
      "['rishabh', 'vidhi', 'poorva', 'shivi', 'tripti']\n"
     ]
    }
   ],
   "source": [
    "X=['rishabh','vidhi','poorva','shivi','tripti']\n",
    "a=[]\n",
    "for i in X:\n",
    "    a.append(i)\n",
    "print(a)"
   ]
  },
  {
   "cell_type": "code",
   "execution_count": 4,
   "id": "a75905e1",
   "metadata": {},
   "outputs": [
    {
     "name": "stdout",
     "output_type": "stream",
     "text": [
      "['__class__', '__delattr__', '__dict__', '__dir__', '__doc__', '__eq__', '__format__', '__ge__', '__getattribute__', '__gt__', '__hash__', '__init__', '__init_subclass__', '__le__', '__lt__', '__module__', '__ne__', '__new__', '__reduce__', '__reduce_ex__', '__repr__', '__setattr__', '__sizeof__', '__str__', '__subclasshook__', '__weakref__', 'fullname', 'name', 'surname']\n"
     ]
    }
   ],
   "source": [
    "class Person:\n",
    "    def __init__(self, name, surname):\n",
    "        self.name = name\n",
    "        self.surname = surname\n",
    "\n",
    "    def fullname(self):\n",
    "        return \"%s %s\" % (self.name, self.surname)\n",
    "\n",
    "jane = Person(\"Jane\", \"Smith\")\n",
    "\n",
    "print(dir(jane))"
   ]
  },
  {
   "cell_type": "code",
   "execution_count": 5,
   "id": "7d5428c1",
   "metadata": {},
   "outputs": [
    {
     "name": "stdout",
     "output_type": "stream",
     "text": [
      "['Agra', 'Aligarh', 'Allahabad', 'Ambedkar Nagar', 'Amethi (Chatrapati Sahuji Mahraj Nagar)', 'Amroha (J.P. Nagar)', 'Auraiya', 'Azamgarh', 'Baghpat', 'Bahraich', 'Ballia', 'Balrampur', 'Banda', 'Barabanki', 'Bareilly', 'Basti', 'Bhadohi', 'Bijnor', 'Budaun', 'Bulandshahr', 'Chandauli', 'Chitrakoot', 'Deoria', 'Etah', 'Etawah', 'Faizabad', 'Farrukhabad', 'Fatehpur', 'Firozabad', 'Gautam Buddha Nagar', 'Ghaziabad', 'Ghazipur', 'Gonda', 'Gorakhpur', 'Hamirpur', 'Hapur (Panchsheel Nagar)', 'Hardoi', 'Hathras', 'Jalaun', 'Jaunpur', 'Jhansi', 'Kannauj', 'Kanpur Dehat', 'Kanpur Nagar', 'Kanshiram Nagar (Kasganj)', 'Kaushambi', 'Kushinagar (Padrauna)', 'Lakhimpur - Kheri', 'Lalitpur', 'Lucknow', 'Maharajganj', 'Mahoba', 'Mainpuri', 'Mathura', 'Mau', 'Meerut', 'Mirzapur', 'Moradabad', 'Muzaffarnagar', 'Pilibhit', 'Pratapgarh', 'RaeBareli', 'Rampur', 'Saharanpur', 'Sambhal (Bhim Nagar)', 'Sant Kabir Nagar', 'Shahjahanpur', 'Shamali (Prabuddh Nagar)', 'Shravasti', 'Siddharth Nagar', 'Sitapur', 'Sonbhadra', 'Sultanpur', 'Unnao', 'Varanasi']\n"
     ]
    }
   ],
   "source": [
    "print([j[\"districts\"] for i,j in enumerate(eval(open('/home/youngmanit/Downloads/State.txt').read())[\"states\"]) if j[\"state\"]==\"Uttar Pradesh\"][0])"
   ]
  },
  {
   "cell_type": "code",
   "execution_count": 7,
   "id": "1c1f0d59",
   "metadata": {},
   "outputs": [
    {
     "name": "stdout",
     "output_type": "stream",
     "text": [
      "10\n"
     ]
    }
   ],
   "source": [
    "# Sum all the items in a list\n",
    "a = [1,2,3,4]\n",
    "b =0\n",
    "for i in a:\n",
    "    b = b+i\n",
    "print(b)"
   ]
  },
  {
   "cell_type": "code",
   "execution_count": 8,
   "id": "ef097a62",
   "metadata": {},
   "outputs": [
    {
     "data": {
      "text/plain": [
       "10"
      ]
     },
     "execution_count": 8,
     "metadata": {},
     "output_type": "execute_result"
    }
   ],
   "source": [
    "def sum_list(items):\n",
    "    sum_numbers = 0\n",
    "    for x in items:\n",
    "        sum_numbers = sum_numbers + x\n",
    "    return sum_numbers\n",
    "sum_list([1,2,3,4])"
   ]
  },
  {
   "cell_type": "code",
   "execution_count": 9,
   "id": "f6c3665d",
   "metadata": {},
   "outputs": [
    {
     "name": "stdout",
     "output_type": "stream",
     "text": [
      "120\n"
     ]
    }
   ],
   "source": [
    "# Multiply all the items in a list\n",
    "b =[1,2,3,4,5]\n",
    "c = 1\n",
    "for i in b:\n",
    "    c = c*i\n",
    "print(c)"
   ]
  },
  {
   "cell_type": "code",
   "execution_count": 10,
   "id": "aa2386bb",
   "metadata": {},
   "outputs": [
    {
     "data": {
      "text/plain": [
       "720"
      ]
     },
     "execution_count": 10,
     "metadata": {},
     "output_type": "execute_result"
    }
   ],
   "source": [
    "def Multiply(items):\n",
    "    multiply_items = 1\n",
    "    for i in items:\n",
    "        multiply_items=multiply_items * i\n",
    "    return multiply_items\n",
    "Multiply([5,6,4,3,2,1])"
   ]
  },
  {
   "cell_type": "code",
   "execution_count": 14,
   "id": "1e1b3132",
   "metadata": {},
   "outputs": [
    {
     "name": "stdout",
     "output_type": "stream",
     "text": [
      "Max Number is 5\n"
     ]
    }
   ],
   "source": [
    "# Write a Python program to get the largest number from a list\n",
    "a = [1,5,4,3]\n",
    "max = 0\n",
    "for i in a:\n",
    "    if i > max:\n",
    "        max = i\n",
    "print(\"Max Number is {}\".format(max))"
   ]
  },
  {
   "cell_type": "code",
   "execution_count": 17,
   "id": "f4e43a87",
   "metadata": {},
   "outputs": [
    {
     "data": {
      "text/plain": [
       "4"
      ]
     },
     "execution_count": 17,
     "metadata": {},
     "output_type": "execute_result"
    }
   ],
   "source": [
    "def max_num(list):\n",
    "    max=list[0]\n",
    "    for i in list:\n",
    "        if i > max:\n",
    "            max = i\n",
    "    return max\n",
    "max_num([1,2,3,4])"
   ]
  },
  {
   "cell_type": "code",
   "execution_count": 22,
   "id": "4a42fcbf",
   "metadata": {},
   "outputs": [
    {
     "name": "stdout",
     "output_type": "stream",
     "text": [
      "Min Number is -5\n"
     ]
    }
   ],
   "source": [
    "# Write a Python program to get the smallest number from a list.\n",
    "a = [0,-5,2,3,4,5]\n",
    "min = 0\n",
    "for i in a:\n",
    "    if i < min:\n",
    "        min = i\n",
    "print(\"Min Number is {}\".format(min))"
   ]
  },
  {
   "cell_type": "code",
   "execution_count": 24,
   "id": "2442d85e",
   "metadata": {},
   "outputs": [
    {
     "data": {
      "text/plain": [
       "-2"
      ]
     },
     "execution_count": 24,
     "metadata": {},
     "output_type": "execute_result"
    }
   ],
   "source": [
    "def smallest_num(list):\n",
    "    min = 0\n",
    "    for i in list:\n",
    "        if i<min:\n",
    "            min = i\n",
    "    return min\n",
    "smallest_num([5,-2,3,5])"
   ]
  },
  {
   "cell_type": "code",
   "execution_count": 32,
   "id": "1970ea27",
   "metadata": {},
   "outputs": [
    {
     "name": "stdout",
     "output_type": "stream",
     "text": [
      "Count of number 2\n"
     ]
    }
   ],
   "source": [
    "# Write a Python program to count the number of strings where the string length is 2 or more and the first and last character are same from a given list of strings\n",
    "match_words=['ash','xyz','121','1221']\n",
    "count = 0\n",
    "for word in match_words:\n",
    "    if len(word) > 1 and word[0] == word[-1]:\n",
    "        count = count+1\n",
    "print(\"Count of number {}\".format(count))"
   ]
  },
  {
   "cell_type": "code",
   "execution_count": 35,
   "id": "02fade7c",
   "metadata": {},
   "outputs": [
    {
     "name": "stdout",
     "output_type": "stream",
     "text": [
      "2\n"
     ]
    }
   ],
   "source": [
    "def match_words(words):\n",
    "  ctr = 0\n",
    "\n",
    "  for word in words:\n",
    "    if len(word) > 1 and word[0] == word[-1]:\n",
    "      ctr += 1\n",
    "  return ctr\n",
    "\n",
    "print(match_words(['abc', 'xyz', 'aba', '1221']))"
   ]
  },
  {
   "cell_type": "code",
   "execution_count": 49,
   "id": "afd7e0e1",
   "metadata": {},
   "outputs": [
    {
     "name": "stdout",
     "output_type": "stream",
     "text": [
      "After Remove duplicate number list [10, 20, 30, 50, 60].\n"
     ]
    }
   ],
   "source": [
    "# Write a Python program to remove duplicates from a list.\n",
    "a = [10,20,30,20,10,50,60]\n",
    "b =[]\n",
    "for num in a:\n",
    "    if num not in b:\n",
    "        b.append(num)\n",
    "print(\"After Remove duplicate number list {}.\".format(b))"
   ]
  },
  {
   "cell_type": "code",
   "execution_count": 57,
   "id": "d46e3bb3",
   "metadata": {},
   "outputs": [
    {
     "data": {
      "text/plain": [
       "[10, 50, 20, 60, 30]"
      ]
     },
     "execution_count": 57,
     "metadata": {},
     "output_type": "execute_result"
    }
   ],
   "source": [
    "a = [10,20,30,20,10,50,60]\n",
    "list(set(a))"
   ]
  },
  {
   "cell_type": "code",
   "execution_count": 56,
   "id": "f60a6782",
   "metadata": {},
   "outputs": [
    {
     "data": {
      "text/plain": [
       "[1, 2, 3, 21, 4, 5]"
      ]
     },
     "execution_count": 56,
     "metadata": {},
     "output_type": "execute_result"
    }
   ],
   "source": [
    "def duplicate_num(lis):\n",
    "    duplicate=[]\n",
    "    for i in lis:\n",
    "        if i not in duplicate:\n",
    "            duplicate.append(i)\n",
    "    return duplicate\n",
    "lis=[1,1,1,1,2,3,21,21,4,5]\n",
    "duplicate_num(lis)"
   ]
  },
  {
   "cell_type": "code",
   "execution_count": 58,
   "id": "caa4a6d4",
   "metadata": {},
   "outputs": [
    {
     "name": "stdout",
     "output_type": "stream",
     "text": [
      "[10, 20, 30, 50, 60]\n"
     ]
    }
   ],
   "source": [
    "# Method: Using list comprehension:\n",
    "a = [10,20,30,20,10,50,60]\n",
    "mylist = [ a[i] for i in range(len(a)) if a.index(a[i]) == i]\n",
    "print(mylist)"
   ]
  },
  {
   "cell_type": "code",
   "execution_count": 59,
   "id": "69f0373d",
   "metadata": {},
   "outputs": [
    {
     "data": {
      "text/plain": [
       "[['M', 'y'], ['na', 'me'], ['i', 's'], ['Kh', 'an']]"
      ]
     },
     "execution_count": 59,
     "metadata": {},
     "output_type": "execute_result"
    }
   ],
   "source": [
    "list1 = [\"M\",\"na\",\"i\",\"Kh\"]\n",
    "list2 = [\"y\",\"me\",\"s\",\"an\"]\n",
    "[[i,j] for (i,j) in zip(list1,list2)]"
   ]
  },
  {
   "cell_type": "code",
   "execution_count": 60,
   "id": "aef3d604",
   "metadata": {},
   "outputs": [
    {
     "name": "stdout",
     "output_type": "stream",
     "text": [
      "[1, 2, 3, 4, 5, 6, 7, 8, 9, 10]\n"
     ]
    }
   ],
   "source": [
    "# List Comprasion\n",
    "L = []\n",
    "for i in range(1,11):\n",
    "    L.append(i)\n",
    "print(L)"
   ]
  },
  {
   "cell_type": "code",
   "execution_count": 61,
   "id": "50259a6d",
   "metadata": {},
   "outputs": [
    {
     "name": "stdout",
     "output_type": "stream",
     "text": [
      "[1, 2, 3, 4, 5, 6, 7, 8, 9, 10]\n"
     ]
    }
   ],
   "source": [
    "L = [i for i in range(1,11)]\n",
    "print(L)"
   ]
  },
  {
   "cell_type": "code",
   "execution_count": 67,
   "id": "9c4cb4f9",
   "metadata": {},
   "outputs": [
    {
     "name": "stdout",
     "output_type": "stream",
     "text": [
      "[[2, 4, 6, 8, 10], [2, 4, 6, 8, 10], [2, 4, 6, 8, 10], [2, 4, 6, 8, 10], [2, 4, 6, 8, 10], [2, 4, 6, 8, 10], [2, 4, 6, 8, 10], [2, 4, 6, 8, 10], [2, 4, 6, 8, 10], [2, 4, 6, 8, 10]]\n"
     ]
    }
   ],
   "source": [
    "L = [[i for i in range(2,11,2)] for j in range(1,11,1)]\n",
    "print(L)"
   ]
  },
  {
   "cell_type": "code",
   "execution_count": 68,
   "id": "ddf81916",
   "metadata": {},
   "outputs": [
    {
     "data": {
      "text/plain": [
       "[-6, -9, -12]"
      ]
     },
     "execution_count": 68,
     "metadata": {},
     "output_type": "execute_result"
    }
   ],
   "source": [
    "# Scalar multiplication on a vector\n",
    "v = [2,3,4]\n",
    "s = -3\n",
    "[s*i for i in v]"
   ]
  },
  {
   "cell_type": "code",
   "execution_count": 69,
   "id": "e9e1a352",
   "metadata": {},
   "outputs": [
    {
     "data": {
      "text/plain": [
       "[1, 4, 9, 16, 25]"
      ]
     },
     "execution_count": 69,
     "metadata": {},
     "output_type": "execute_result"
    }
   ],
   "source": [
    "#Add squares\n",
    "L = [1,2,3,4,5]\n",
    "[i**2 for i in L]"
   ]
  },
  {
   "cell_type": "code",
   "execution_count": 70,
   "id": "872e26f4",
   "metadata": {},
   "outputs": [
    {
     "data": {
      "text/plain": [
       "['python', 'php']"
      ]
     },
     "execution_count": 70,
     "metadata": {},
     "output_type": "execute_result"
    }
   ],
   "source": [
    "# # Print all numbers divisible by 5 in the range of 1 to 50\n",
    "languages = ['java','python','php','c','javascript']\n",
    "[language for language in languages if language.startswith('p')]"
   ]
  },
  {
   "cell_type": "code",
   "execution_count": 72,
   "id": "b62e5535",
   "metadata": {},
   "outputs": [
    {
     "data": {
      "text/plain": [
       "['python']"
      ]
     },
     "execution_count": 72,
     "metadata": {},
     "output_type": "execute_result"
    }
   ],
   "source": [
    "[language for language in languages if language.endswith('n')]"
   ]
  },
  {
   "cell_type": "code",
   "execution_count": 74,
   "id": "fc6ea20c",
   "metadata": {},
   "outputs": [
    {
     "data": {
      "text/plain": [
       "['apple']"
      ]
     },
     "execution_count": 74,
     "metadata": {},
     "output_type": "execute_result"
    }
   ],
   "source": [
    "# # Nested if with List Comprehension\n",
    "basket = ['apple','guava','cherry','banana']\n",
    "my_fruits = ['apple','kiwi','grapes','banana']\n",
    "[fruit for fruit in my_fruits if fruit in basket if fruit.startswith('a')]"
   ]
  },
  {
   "cell_type": "code",
   "execution_count": 78,
   "id": "71131185",
   "metadata": {},
   "outputs": [
    {
     "data": {
      "text/plain": [
       "[]"
      ]
     },
     "execution_count": 78,
     "metadata": {},
     "output_type": "execute_result"
    }
   ],
   "source": [
    "basket = ['apple','guava','cherry','banana']\n",
    "my_fruits = ['apple','kiwi','grapes','banana']\n",
    "[fruit for fruit in my_fruits if fruit in basket in basket if fruit.endswith('s')]"
   ]
  },
  {
   "cell_type": "code",
   "execution_count": 79,
   "id": "3f97d35b",
   "metadata": {},
   "outputs": [
    {
     "data": {
      "text/plain": [
       "[[1, 2, 3], [2, 4, 6], [3, 6, 9]]"
      ]
     },
     "execution_count": 79,
     "metadata": {},
     "output_type": "execute_result"
    }
   ],
   "source": [
    "# # Print a (3,3) matrix using list comprehension -> Nested List comprehension\n",
    "[[i*j for i in range(1,4)] for j in range(1,4)]"
   ]
  },
  {
   "cell_type": "code",
   "execution_count": 80,
   "id": "2cedcfdb",
   "metadata": {},
   "outputs": [
    {
     "data": {
      "text/plain": [
       "[5, 6, 7, 8, 10, 12, 14, 16, 15, 18, 21, 24, 20, 24, 28, 32]"
      ]
     },
     "execution_count": 80,
     "metadata": {},
     "output_type": "execute_result"
    }
   ],
   "source": [
    "# # cartesian products -> List comprehension on 2 lists together\n",
    "L1 = [1,2,3,4]\n",
    "L2 = [5,6,7,8]\n",
    "[i*j for i in L1 for j in L2]"
   ]
  },
  {
   "cell_type": "code",
   "execution_count": 81,
   "id": "7df196cd",
   "metadata": {},
   "outputs": [
    {
     "name": "stdout",
     "output_type": "stream",
     "text": [
      "1\n",
      "2\n",
      "3\n",
      "4\n"
     ]
    }
   ],
   "source": [
    "# 2 ways to traverse a list\n",
    "# itemwise\n",
    "# indexwise\n",
    "L = [1,2,3,4]\n",
    "\n",
    "for i in L:\n",
    "    print(i)"
   ]
  },
  {
   "cell_type": "code",
   "execution_count": 82,
   "id": "aec1a391",
   "metadata": {},
   "outputs": [
    {
     "name": "stdout",
     "output_type": "stream",
     "text": [
      "1\n",
      "2\n",
      "3\n",
      "4\n"
     ]
    }
   ],
   "source": [
    "# indexwise\n",
    "L = [1,2,3,4]\n",
    "for i in range(0,len(L)):\n",
    "    print(L[i])"
   ]
  },
  {
   "cell_type": "code",
   "execution_count": 84,
   "id": "bf2d32b2",
   "metadata": {},
   "outputs": [],
   "source": [
    "# Zip\n",
    "# zip function returns a zip object, which is an iterator of tuples where the first item in each passed iterator is paired together, and then the second item in each passed iterator are paired together.\n",
    "# If the passed iterators have different lengths, the iterator with the least items decides the length of the new iterator."
   ]
  },
  {
   "cell_type": "code",
   "execution_count": 88,
   "id": "7bc35cda",
   "metadata": {},
   "outputs": [
    {
     "data": {
      "text/plain": [
       "[-1, -4, -9, -16]"
      ]
     },
     "execution_count": 88,
     "metadata": {},
     "output_type": "execute_result"
    }
   ],
   "source": [
    "# Write a program to add items of 2 lists indexwise\n",
    "L1 = [1,2,3,4]\n",
    "L2 = [-1,-2,-3,-4]\n",
    "list(zip(L1,L2))\n",
    "[i+j for i,j in zip(L1,L2)]\n",
    "[i*j for i,j in zip(L1,L2)]"
   ]
  },
  {
   "cell_type": "code",
   "execution_count": 89,
   "id": "9a9f5f88",
   "metadata": {},
   "outputs": [
    {
     "name": "stdout",
     "output_type": "stream",
     "text": [
      "[1, 2, <built-in function print>, <class 'type'>, <bound method Kernel.raw_input of <ipykernel.ipkernel.IPythonKernel object at 0x7f9be0c0d370>>]\n"
     ]
    }
   ],
   "source": [
    "L = [1,2,print,type,input]\n",
    "print(L)"
   ]
  },
  {
   "cell_type": "code",
   "execution_count": 90,
   "id": "4f07f977",
   "metadata": {},
   "outputs": [],
   "source": [
    "# Disadvantage of Python Lists\n",
    "# slow , Risky usage, eats up more memory"
   ]
  },
  {
   "cell_type": "code",
   "execution_count": 92,
   "id": "d4fe23ba",
   "metadata": {},
   "outputs": [
    {
     "name": "stdout",
     "output_type": "stream",
     "text": [
      "[1, 2, 3]\n",
      "[1, 2, 3]\n",
      "[1, 2, 3, 4]\n",
      "[1, 2, 3]\n"
     ]
    }
   ],
   "source": [
    "a = [1,2,3]\n",
    "b = a.copy()\n",
    "print(a)\n",
    "print(b)\n",
    "a.append(4)\n",
    "print(a)\n",
    "print(b)\n",
    "# list a re mutable"
   ]
  },
  {
   "cell_type": "code",
   "execution_count": null,
   "id": "6d6b9042",
   "metadata": {},
   "outputs": [],
   "source": [
    "list1= [1,2,3,4,5,6,7]\n",
    "list2 = [2,3,4,5,6,7,8,9,10]\n",
    "[list1 if list1 ]"
   ]
  },
  {
   "cell_type": "code",
   "execution_count": null,
   "id": "4a6e42cb",
   "metadata": {},
   "outputs": [],
   "source": [
    "# Write a program to merge 2 list without using the + operator\n"
   ]
  },
  {
   "cell_type": "code",
   "execution_count": 93,
   "id": "98b6b324",
   "metadata": {},
   "outputs": [],
   "source": [
    "# Create 2 lists from a given list where \n",
    "# 1st list will contain all the odd numbers from the original list and\n",
    "# the 2nd one will contain all the even numbers \n",
    "\n",
    "L = [1,2,3,4,5,6]"
   ]
  },
  {
   "cell_type": "code",
   "execution_count": null,
   "id": "ef5e4de8",
   "metadata": {},
   "outputs": [],
   "source": [
    "# Write a program to replace an item with a different item if found in the list \n",
    "L = [1,2,3,4,5,3]\n",
    "# replace 3 with 300"
   ]
  },
  {
   "cell_type": "code",
   "execution_count": null,
   "id": "aa300406",
   "metadata": {},
   "outputs": [],
   "source": [
    "# Write a program that can convert a 2D list to 1D list"
   ]
  },
  {
   "cell_type": "code",
   "execution_count": null,
   "id": "39fca41c",
   "metadata": {},
   "outputs": [],
   "source": [
    "# Write a program to remove duplicate items from a list\n",
    "\n",
    "L = [1,2,1,2,3,4,5,3,4]"
   ]
  },
  {
   "cell_type": "code",
   "execution_count": null,
   "id": "b2181880",
   "metadata": {},
   "outputs": [],
   "source": [
    "# Write a program to check if a list is in ascending order or not"
   ]
  },
  {
   "cell_type": "code",
   "execution_count": 94,
   "id": "f3e7b65b",
   "metadata": {},
   "outputs": [
    {
     "data": {
      "text/plain": [
       "[['M', 'y'], ['na', 'me'], ['i', 's'], ['Kh', 'an']]"
      ]
     },
     "execution_count": 94,
     "metadata": {},
     "output_type": "execute_result"
    }
   ],
   "source": [
    "##`Problem 1:` Combine two lists index-wise(columns wise)\n",
    "\n",
    "# Write a program to add two lists index-wise. Create a new list that contains the 0th index item from both the list, then the 1st index item, and so on till the last element. any leftover items will get added at the end of the new list.\n",
    "\n",
    "# `Given List:`\n",
    "# ```\n",
    "list1 = [\"M\", \"na\", \"i\", \"Kh\"]\n",
    "list2 = [\"y\", \"me\", \"s\", \"an\"]\n",
    "# ```\n",
    "\n",
    "# `Output:`\n",
    "# ```\n",
    "# [['M','y'], ['na', me'], ['i', 's'], ['Kh', 'an']]\n",
    "# ```\n",
    "[[i,j] for (i,j) in zip(list1,list2)]"
   ]
  },
  {
   "cell_type": "code",
   "execution_count": 126,
   "id": "6d1bd1f6",
   "metadata": {},
   "outputs": [
    {
     "name": "stdout",
     "output_type": "stream",
     "text": [
      "[10, 20, [300, 400, [5000, 6000, 7000], 500], 30, 40]\n"
     ]
    }
   ],
   "source": [
    "# ### `Problem 2:` Add new item to list after a specified item\n",
    "# Write a program to add item 7000 after 6000 in the following Python List\n",
    "# ```\n",
    "list1 = [10, 20, [300, 400, [5000, 6000], 500], 30, 40]\n",
    "# ```\n",
    "# `Output:`\n",
    "# ```\n",
    "#      [10, 20, [300, 400, [5000, 6000, 7000], 500], 30, 40]\n",
    "# ``\n",
    "list1[2][2].append(7000)\n",
    "print(list1)\n",
    "\n",
    "        "
   ]
  },
  {
   "cell_type": "code",
   "execution_count": 127,
   "id": "9c9104f8",
   "metadata": {},
   "outputs": [
    {
     "name": "stdout",
     "output_type": "stream",
     "text": [
      "Jelly Belly - 10\n",
      "Kit Kat - 20\n",
      "Double Bubble - 34\n",
      "Milky Way - 74\n",
      "Three Musketeers - 32\n"
     ]
    }
   ],
   "source": [
    "###`Problem 3:` Update no of items available\n",
    "\n",
    "# Suppose you are given a list of candy and another list of same size representing no of items of respective candy. \n",
    "\n",
    "# i.e -  \n",
    "# ```\n",
    "candy_list = ['Jelly Belly','Kit Kat','Double Bubble','Milky Way','Three Musketeers']\n",
    "no_of_items = [10,20,34,74,32]\n",
    "# ```\n",
    "\n",
    "# Write a program to show no. of items of each candy type.\n",
    "\n",
    "# `Output:`\n",
    "\n",
    "# ```\n",
    "# Jelly Belly-10\n",
    "# Kit Kat-20\n",
    "# Double Bubble-34\n",
    "# Milky Way-74\n",
    "# Three Musketeers-32\n",
    "\n",
    "# ``\n",
    "for (i,j) in zip(candy_list, no_of_items):\n",
    "    print(i,'-',j)"
   ]
  },
  {
   "cell_type": "code",
   "execution_count": 129,
   "id": "30408848",
   "metadata": {},
   "outputs": [
    {
     "name": "stdout",
     "output_type": "stream",
     "text": [
      "[1, 3, 6, 10, 15, 21]\n"
     ]
    }
   ],
   "source": [
    "# <!-- ###`Problem 4:` Running Sum on list\n",
    "# Write a program to print a list after performing running sum on it.\n",
    "\n",
    "# i.e:\n",
    "\n",
    "# `Input:`\n",
    "# ```\n",
    "list1 = [1,2,3,4,5,6]\n",
    "# ```\n",
    "# `Output:`\n",
    "# ```\n",
    "# [1,3,6,10,15,21] -->\n",
    "# ```\n",
    "sum = 0\n",
    "result = []\n",
    "for i in list1:\n",
    "    sum = sum+i\n",
    "    result.append(sum)\n",
    "print(result)"
   ]
  },
  {
   "cell_type": "code",
   "execution_count": 130,
   "id": "ff184c87",
   "metadata": {},
   "outputs": [
    {
     "name": "stdout",
     "output_type": "stream",
     "text": [
      "[22, 20, 16, 10, 23]\n"
     ]
    }
   ],
   "source": [
    "# ###`Problem 5:` You are given a list of integers. You are asked to make a list by running through elements of the list by adding all elements greater and itself.\n",
    "\n",
    "# i.e. Say given list is `[2,4,6,10,1]`\n",
    "# resultant list will be `[22,20,10,23]`.\n",
    "\n",
    "# For 1st element `2` ->> these are greater `(4+6+10)` values and `2` itself so on adding becomes `22`.\n",
    "\n",
    "# For 2nd element `4` ->> greater elements are `(6, 10)` and `4` itself, so on adding `20`\n",
    "\n",
    "# like wise for all other elememts.\n",
    "\n",
    "# `[2,4,6,10,1]`-->`[22,20,16,10,23]`\n",
    "\n",
    "\n",
    "L = [2,4,6,10,1]\n",
    "result = []\n",
    "for i in L:\n",
    "    sum =0\n",
    "    for j in L:\n",
    "        if i <= j:\n",
    "            sum=sum+j\n",
    "    result.append(sum)\n",
    "print(result)"
   ]
  },
  {
   "cell_type": "code",
   "execution_count": 132,
   "id": "93e9a82b",
   "metadata": {},
   "outputs": [
    {
     "name": "stdout",
     "output_type": "stream",
     "text": [
      "[34, 67, 89]\n"
     ]
    }
   ],
   "source": [
    "###`Problem 6:` Find list of common unique items from two list. and show in increasing order\n",
    "\n",
    "# `Input`\n",
    "\n",
    "# ```\n",
    "num1 = [23,45,67,78,89,34]\n",
    "num2 = [34,89,55,56,39,67]\n",
    "# ```\n",
    "\n",
    "# `Output:`\n",
    "# ```\n",
    "# [34, 67, 89]\n",
    "# ```\n",
    "num1 = [23,45,67,78,89,34]\n",
    "num2 = [34,89,55,56,39,67]\n",
    "\n",
    "common =[]\n",
    "for i in num1:\n",
    "    if i in num2:\n",
    "        if i not in common:\n",
    "            common.append(i)\n",
    "print(sorted(common))"
   ]
  },
  {
   "cell_type": "code",
   "execution_count": 136,
   "id": "a0aa4f9d",
   "metadata": {},
   "outputs": [
    {
     "data": {
      "text/plain": [
       "[([[...],\n",
       "   [...],\n",
       "   [...],\n",
       "   [...],\n",
       "   [...],\n",
       "   [...],\n",
       "   [...],\n",
       "   [...],\n",
       "   [...],\n",
       "   [...],\n",
       "   [...],\n",
       "   [...],\n",
       "   [...],\n",
       "   [...],\n",
       "   [...],\n",
       "   [...],\n",
       "   [...],\n",
       "   [...],\n",
       "   [...],\n",
       "   [...]],\n",
       "  '1ac21'),\n",
       " ([[...],\n",
       "   [...],\n",
       "   [...],\n",
       "   [...],\n",
       "   [...],\n",
       "   [...],\n",
       "   [...],\n",
       "   [...],\n",
       "   [...],\n",
       "   [...],\n",
       "   [...],\n",
       "   [...],\n",
       "   [...],\n",
       "   [...],\n",
       "   [...],\n",
       "   [...],\n",
       "   [...],\n",
       "   [...],\n",
       "   [...],\n",
       "   [...]],\n",
       "  '23fg'),\n",
       " ([[...],\n",
       "   [...],\n",
       "   [...],\n",
       "   [...],\n",
       "   [...],\n",
       "   [...],\n",
       "   [...],\n",
       "   [...],\n",
       "   [...],\n",
       "   [...],\n",
       "   [...],\n",
       "   [...],\n",
       "   [...],\n",
       "   [...],\n",
       "   [...],\n",
       "   [...],\n",
       "   [...],\n",
       "   [...],\n",
       "   [...],\n",
       "   [...]],\n",
       "  '456'),\n",
       " ([[...],\n",
       "   [...],\n",
       "   [...],\n",
       "   [...],\n",
       "   [...],\n",
       "   [...],\n",
       "   [...],\n",
       "   [...],\n",
       "   [...],\n",
       "   [...],\n",
       "   [...],\n",
       "   [...],\n",
       "   [...],\n",
       "   [...],\n",
       "   [...],\n",
       "   [...],\n",
       "   [...],\n",
       "   [...],\n",
       "   [...],\n",
       "   [...]],\n",
       "  '098d'),\n",
       " ([[...],\n",
       "   [...],\n",
       "   [...],\n",
       "   [...],\n",
       "   [...],\n",
       "   [...],\n",
       "   [...],\n",
       "   [...],\n",
       "   [...],\n",
       "   [...],\n",
       "   [...],\n",
       "   [...],\n",
       "   [...],\n",
       "   [...],\n",
       "   [...],\n",
       "   [...],\n",
       "   [...],\n",
       "   [...],\n",
       "   [...],\n",
       "   [...]],\n",
       "  '1'),\n",
       " ([[...],\n",
       "   [...],\n",
       "   [...],\n",
       "   [...],\n",
       "   [...],\n",
       "   [...],\n",
       "   [...],\n",
       "   [...],\n",
       "   [...],\n",
       "   [...],\n",
       "   [...],\n",
       "   [...],\n",
       "   [...],\n",
       "   [...],\n",
       "   [...],\n",
       "   [...],\n",
       "   [...],\n",
       "   [...],\n",
       "   [...],\n",
       "   [...]],\n",
       "  'kls')]"
      ]
     },
     "execution_count": 136,
     "metadata": {},
     "output_type": "execute_result"
    }
   ],
   "source": [
    "###`Problem 7:` Sort a list of alphanumeric strings based on product value of numeric character in it. If in any string there is no numeric character take it's product value as 1.\n",
    "\n",
    "# `Input:`\n",
    "# ```\n",
    "['1ac21', '23fg', '456', '098d','1','kls']\n",
    "# ```\n",
    "\n",
    "# `Output:`\n",
    "# ```\n",
    "# ['456', '23fg', '1ac21', '1', 'kls', '098d']\n",
    "\n",
    "# ```\n",
    "L = ['1ac21', '23fg', '456', '098d','1','kls']\n",
    "prod_value = []\n",
    "for item in L:\n",
    "    product = 1\n",
    "    for char in item:\n",
    "        if char.isdigit():\n",
    "            product = product*int(char)\n",
    "        prod_value.append(prod_value)\n",
    "list(zip(prod_value,L))"
   ]
  },
  {
   "cell_type": "code",
   "execution_count": 137,
   "id": "1c3bfff7",
   "metadata": {},
   "outputs": [
    {
     "name": "stdout",
     "output_type": "stream",
     "text": [
      "['C', 'mpusX is ', ' ch', 'nnel', 'for d', 't', '-science', '', 'spir', 'nts.']\n"
     ]
    }
   ],
   "source": [
    "# `Problem 8:` Split String of list on K character.\n",
    "\n",
    "# **Example :**\n",
    "\n",
    "# Input:\n",
    "# ```bash\n",
    "L =['CampusX is a channel', 'for data-science', 'aspirants.']\n",
    "# ```\n",
    "\n",
    "# Output:\n",
    "# ```bash\n",
    "# ['CampusX', 'is', 'a', 'channel', 'for', 'data-science', 'aspirants.']\n",
    "# ```\n",
    "inp = 'a'\n",
    "result = []\n",
    "for i in L:\n",
    "    result.extend(i.split(inp))\n",
    "print(result)"
   ]
  },
  {
   "cell_type": "code",
   "execution_count": 138,
   "id": "cf1fe51e",
   "metadata": {},
   "outputs": [
    {
     "name": "stdout",
     "output_type": "stream",
     "text": [
      "campux is best channel\n"
     ]
    }
   ],
   "source": [
    "### `Problem 9:` Convert Character Matrix to single String using string comprehension.\n",
    "\n",
    "# **Example 1:** \n",
    "\n",
    "# Input:\n",
    "# ```bash\n",
    "L =[['c', 'a', 'm', 'p', 'u', 'x'], ['i', 's'], ['b', 'e', 's', 't'], ['c', 'h', 'a', 'n', 'n', 'e', 'l']]\n",
    "# ```\n",
    "\n",
    "# Output:\n",
    "# ```bash\n",
    "# campux is best channel\n",
    "# ```\n",
    "print(\" \".join([\"\".join(i) for i in L]))"
   ]
  },
  {
   "cell_type": "code",
   "execution_count": 139,
   "id": "334e9d91",
   "metadata": {},
   "outputs": [
    {
     "name": "stdout",
     "output_type": "stream",
     "text": [
      "['campusxI', 'bestFo', 'dataScientis']\n"
     ]
    }
   ],
   "source": [
    "### `Problem 10:` Add Space between Potential Words.\n",
    "\n",
    "# **Example:**\n",
    "\n",
    "# Input:\n",
    "\n",
    "# ```bash\n",
    "test_list=['campusxIs', 'bestFor', 'dataScientist']\n",
    "# ```\n",
    "\n",
    "# Output:\n",
    "# ```bash\n",
    "# ['campusx Is', 'best For', 'data Scientist']\n",
    "# ```\n",
    "res = []\n",
    "for i in test_list:\n",
    "    temp = [[]]\n",
    "    for char in i:\n",
    "        if char.isupper():\n",
    "            temp.append([])\n",
    "        temp[-1].append(char)\n",
    "    temp_string=\"\"\n",
    "    for item in temp:\n",
    "        temp_string = temp_string + \"\".join(item) + \"\"\n",
    "    res.append(temp_string[0:-1])\n",
    "print(res)"
   ]
  },
  {
   "cell_type": "code",
   "execution_count": 140,
   "id": "8cfdc826",
   "metadata": {},
   "outputs": [
    {
     "name": "stdout",
     "output_type": "stream",
     "text": [
      "[1, 2, 3, 4, 5, 7, 8]\n"
     ]
    }
   ],
   "source": [
    "### `Problem 11:` Write a program that can perform union operation on 2 lists\n",
    "\n",
    "# **Example:**\n",
    "\n",
    "# Input:\n",
    "\n",
    "# ```bash\n",
    "L1=[1,2,3,4,5,1]\n",
    "L2=[2,3,5,7,8]\n",
    "# ```\n",
    "\n",
    "# Output:\n",
    "# ```bash\n",
    "# [1,2,3,4,5,7,8]\n",
    "# ```\n",
    "union = []\n",
    "for i in L1:\n",
    "    if i not in union:\n",
    "        union.append(i)\n",
    "for j in L2:\n",
    "    if j not in union:\n",
    "        union.append(j)\n",
    "print(union)"
   ]
  },
  {
   "cell_type": "code",
   "execution_count": 151,
   "id": "8eeee0ae",
   "metadata": {},
   "outputs": [],
   "source": [
    "### `Problem 12:` Write a program that can find the max number of each row of a matrix\n",
    "\n",
    "# **Example:**\n",
    "\n",
    "# Input:\n",
    "\n",
    "# ```bash\n",
    "# ```\n",
    "\n",
    "# Output:\n",
    "# ```bash\n",
    "# [3,6,9]\n",
    "# ```"
   ]
  },
  {
   "cell_type": "code",
   "execution_count": 154,
   "id": "d58050b0",
   "metadata": {},
   "outputs": [
    {
     "name": "stdout",
     "output_type": "stream",
     "text": [
      "3\n",
      "6\n",
      "9\n"
     ]
    }
   ],
   "source": [
    "# Write code here\n",
    "def maxelement(arr):\n",
    "    no_of_rows = len(arr)\n",
    "    no_of_column = len(arr[0])\n",
    "    \n",
    "    for i in range(no_of_rows):\n",
    "        max1 = 0\n",
    "        for j in range(no_of_column):\n",
    "            if arr[i][j] >max1:\n",
    "                max1 = arr[i][j]\n",
    "        print(max1)\n",
    "arr =[[1,2,3],[4,5,6],[7,8,9]]\n",
    "maxelement(arr)"
   ]
  },
  {
   "cell_type": "code",
   "execution_count": 160,
   "id": "5c4055ec",
   "metadata": {},
   "outputs": [],
   "source": [
    "## `Problem 13:` Write a list comprehension to print the following matrix\n",
    "\n",
    "# [[0, 1, 2], [3, 4, 5], [6, 7, 8]]"
   ]
  },
  {
   "cell_type": "code",
   "execution_count": 159,
   "id": "6b1b3fb3",
   "metadata": {},
   "outputs": [
    {
     "data": {
      "text/plain": [
       "[[0, 1, 2], [3, 4, 5], [6, 7, 8]]"
      ]
     },
     "execution_count": 159,
     "metadata": {},
     "output_type": "execute_result"
    }
   ],
   "source": [
    "[[j + 3*i for j in range(0,3)] for i in range(0,3)]"
   ]
  },
  {
   "cell_type": "markdown",
   "id": "a2577aeb",
   "metadata": {},
   "source": [
    "### `Problem 14:` Write a list comprehension that can transpose a given matrix\n",
    "\n",
    "matrix = [<br>\n",
    "  [1,2,3],<br>\n",
    "          [4,5,6],<br>\n",
    "          [7,8,9]<br>]<br>\n",
    "\n",
    "[1, 4, 7]<br>\n",
    "[2, 5, 8]<br>\n",
    "[3, 6, 9]<br>"
   ]
  },
  {
   "cell_type": "code",
   "execution_count": 161,
   "id": "b88e67b3",
   "metadata": {},
   "outputs": [
    {
     "data": {
      "text/plain": [
       "[[1, 4, 7], [2, 5, 8], [3, 6, 9]]"
      ]
     },
     "execution_count": 161,
     "metadata": {},
     "output_type": "execute_result"
    }
   ],
   "source": [
    "matrix = [\n",
    "    [1,2,3],\n",
    "    [4,5,6],\n",
    "    [7,8,9]\n",
    "]\n",
    "\n",
    "[[row[i] for row in matrix] for i in range(len(matrix))]"
   ]
  },
  {
   "cell_type": "markdown",
   "id": "ac15c68c",
   "metadata": {},
   "source": [
    "### `Problem 15:` Write a list comprehension that can flatten a nested list\n",
    "\n",
    "Input<br>\n",
    "matrix = [<br>\n",
    "  [1,2,3],<br>\n",
    "          [4,5,6],<br>\n",
    "          [7,8,9]<br>]<br>\n",
    "\n",
    "Output:<br>\n",
    "[1, 2, 3, 4, 5, 6, 7, 8, 9]"
   ]
  },
  {
   "cell_type": "code",
   "execution_count": 162,
   "id": "f17d43ae",
   "metadata": {},
   "outputs": [
    {
     "name": "stdout",
     "output_type": "stream",
     "text": [
      "123456789"
     ]
    },
    {
     "data": {
      "text/plain": [
       "[1, 2, 3, 4, 5, 6, 7, 8, 9]"
      ]
     },
     "execution_count": 162,
     "metadata": {},
     "output_type": "execute_result"
    }
   ],
   "source": [
    "matrix = [\n",
    "    [1,2,3],\n",
    "    [4,5,6],\n",
    "    [7,8,9]\n",
    "]\n",
    "for row in matrix:\n",
    "    for item in row:\n",
    "        print(item, end='')\n",
    "[item for row in matrix for item in row]"
   ]
  },
  {
   "cell_type": "code",
   "execution_count": 163,
   "id": "c612d6d5",
   "metadata": {},
   "outputs": [
    {
     "name": "stdout",
     "output_type": "stream",
     "text": [
      "[5, 2, 90, 24, 10, 34]\n"
     ]
    }
   ],
   "source": [
    "# remove duplictes\n",
    "my_list_1 = [5, 2, 90, 24, 10, 2, 90, 34]\n",
    "print(list(dict.fromkeys(my_list_1)))"
   ]
  },
  {
   "cell_type": "code",
   "execution_count": 171,
   "id": "1d5ce0cf",
   "metadata": {},
   "outputs": [
    {
     "data": {
      "text/plain": [
       "[5, 2, 90, 24, 10, 34]"
      ]
     },
     "execution_count": 171,
     "metadata": {},
     "output_type": "execute_result"
    }
   ],
   "source": [
    "my_list_1 = [5, 2, 90, 24, 10, 2, 90, 34]\n",
    "b = []\n",
    "[b.append(item) for item in my_list_1 if item not in b]\n",
    "b"
   ]
  },
  {
   "cell_type": "code",
   "execution_count": 172,
   "id": "a9aac46b",
   "metadata": {},
   "outputs": [
    {
     "data": {
      "text/plain": [
       "[8,\n",
       " 16,\n",
       " 24,\n",
       " 32,\n",
       " 40,\n",
       " 48,\n",
       " 56,\n",
       " 64,\n",
       " 72,\n",
       " 80,\n",
       " 88,\n",
       " 96,\n",
       " 104,\n",
       " 112,\n",
       " 120,\n",
       " 128,\n",
       " 136,\n",
       " 144,\n",
       " 152,\n",
       " 160,\n",
       " 168,\n",
       " 176,\n",
       " 184,\n",
       " 192,\n",
       " 200,\n",
       " 208,\n",
       " 216,\n",
       " 224,\n",
       " 232,\n",
       " 240,\n",
       " 248,\n",
       " 256,\n",
       " 264,\n",
       " 272,\n",
       " 280,\n",
       " 288,\n",
       " 296,\n",
       " 304,\n",
       " 312,\n",
       " 320,\n",
       " 328,\n",
       " 336,\n",
       " 344,\n",
       " 352,\n",
       " 360,\n",
       " 368,\n",
       " 376,\n",
       " 384,\n",
       " 392,\n",
       " 400,\n",
       " 408,\n",
       " 416,\n",
       " 424,\n",
       " 432,\n",
       " 440,\n",
       " 448,\n",
       " 456,\n",
       " 464,\n",
       " 472,\n",
       " 480,\n",
       " 488,\n",
       " 496,\n",
       " 504,\n",
       " 512,\n",
       " 520,\n",
       " 528,\n",
       " 536,\n",
       " 544,\n",
       " 552,\n",
       " 560,\n",
       " 568,\n",
       " 576,\n",
       " 584,\n",
       " 592,\n",
       " 600,\n",
       " 608,\n",
       " 616,\n",
       " 624,\n",
       " 632,\n",
       " 640,\n",
       " 648,\n",
       " 656,\n",
       " 664,\n",
       " 672,\n",
       " 680,\n",
       " 688,\n",
       " 696,\n",
       " 704,\n",
       " 712,\n",
       " 720,\n",
       " 728,\n",
       " 736,\n",
       " 744,\n",
       " 752,\n",
       " 760,\n",
       " 768,\n",
       " 776,\n",
       " 784,\n",
       " 792,\n",
       " 800,\n",
       " 808,\n",
       " 816,\n",
       " 824,\n",
       " 832,\n",
       " 840,\n",
       " 848,\n",
       " 856,\n",
       " 864,\n",
       " 872,\n",
       " 880,\n",
       " 888,\n",
       " 896,\n",
       " 904,\n",
       " 912,\n",
       " 920,\n",
       " 928,\n",
       " 936,\n",
       " 944,\n",
       " 952,\n",
       " 960,\n",
       " 968,\n",
       " 976,\n",
       " 984,\n",
       " 992]"
      ]
     },
     "execution_count": 172,
     "metadata": {},
     "output_type": "execute_result"
    }
   ],
   "source": [
    "# Find all of the numbers from 1–1000 that are divisible by 8\n",
    "[i for i in range(1,1000) if i % 8 == 0]"
   ]
  },
  {
   "cell_type": "code",
   "execution_count": 176,
   "id": "4a725d42",
   "metadata": {},
   "outputs": [
    {
     "data": {
      "text/plain": [
       "[6,\n",
       " 16,\n",
       " 26,\n",
       " 36,\n",
       " 46,\n",
       " 56,\n",
       " 60,\n",
       " 61,\n",
       " 62,\n",
       " 63,\n",
       " 64,\n",
       " 65,\n",
       " 66,\n",
       " 67,\n",
       " 68,\n",
       " 69,\n",
       " 76,\n",
       " 86,\n",
       " 96,\n",
       " 106,\n",
       " 116,\n",
       " 126,\n",
       " 136,\n",
       " 146,\n",
       " 156,\n",
       " 160,\n",
       " 161,\n",
       " 162,\n",
       " 163,\n",
       " 164,\n",
       " 165,\n",
       " 166,\n",
       " 167,\n",
       " 168,\n",
       " 169,\n",
       " 176,\n",
       " 186,\n",
       " 196,\n",
       " 206,\n",
       " 216,\n",
       " 226,\n",
       " 236,\n",
       " 246,\n",
       " 256,\n",
       " 260,\n",
       " 261,\n",
       " 262,\n",
       " 263,\n",
       " 264,\n",
       " 265,\n",
       " 266,\n",
       " 267,\n",
       " 268,\n",
       " 269,\n",
       " 276,\n",
       " 286,\n",
       " 296,\n",
       " 306,\n",
       " 316,\n",
       " 326,\n",
       " 336,\n",
       " 346,\n",
       " 356,\n",
       " 360,\n",
       " 361,\n",
       " 362,\n",
       " 363,\n",
       " 364,\n",
       " 365,\n",
       " 366,\n",
       " 367,\n",
       " 368,\n",
       " 369,\n",
       " 376,\n",
       " 386,\n",
       " 396,\n",
       " 406,\n",
       " 416,\n",
       " 426,\n",
       " 436,\n",
       " 446,\n",
       " 456,\n",
       " 460,\n",
       " 461,\n",
       " 462,\n",
       " 463,\n",
       " 464,\n",
       " 465,\n",
       " 466,\n",
       " 467,\n",
       " 468,\n",
       " 469,\n",
       " 476,\n",
       " 486,\n",
       " 496,\n",
       " 506,\n",
       " 516,\n",
       " 526,\n",
       " 536,\n",
       " 546,\n",
       " 556,\n",
       " 560,\n",
       " 561,\n",
       " 562,\n",
       " 563,\n",
       " 564,\n",
       " 565,\n",
       " 566,\n",
       " 567,\n",
       " 568,\n",
       " 569,\n",
       " 576,\n",
       " 586,\n",
       " 596,\n",
       " 600,\n",
       " 601,\n",
       " 602,\n",
       " 603,\n",
       " 604,\n",
       " 605,\n",
       " 606,\n",
       " 607,\n",
       " 608,\n",
       " 609,\n",
       " 610,\n",
       " 611,\n",
       " 612,\n",
       " 613,\n",
       " 614,\n",
       " 615,\n",
       " 616,\n",
       " 617,\n",
       " 618,\n",
       " 619,\n",
       " 620,\n",
       " 621,\n",
       " 622,\n",
       " 623,\n",
       " 624,\n",
       " 625,\n",
       " 626,\n",
       " 627,\n",
       " 628,\n",
       " 629,\n",
       " 630,\n",
       " 631,\n",
       " 632,\n",
       " 633,\n",
       " 634,\n",
       " 635,\n",
       " 636,\n",
       " 637,\n",
       " 638,\n",
       " 639,\n",
       " 640,\n",
       " 641,\n",
       " 642,\n",
       " 643,\n",
       " 644,\n",
       " 645,\n",
       " 646,\n",
       " 647,\n",
       " 648,\n",
       " 649,\n",
       " 650,\n",
       " 651,\n",
       " 652,\n",
       " 653,\n",
       " 654,\n",
       " 655,\n",
       " 656,\n",
       " 657,\n",
       " 658,\n",
       " 659,\n",
       " 660,\n",
       " 661,\n",
       " 662,\n",
       " 663,\n",
       " 664,\n",
       " 665,\n",
       " 666,\n",
       " 667,\n",
       " 668,\n",
       " 669,\n",
       " 670,\n",
       " 671,\n",
       " 672,\n",
       " 673,\n",
       " 674,\n",
       " 675,\n",
       " 676,\n",
       " 677,\n",
       " 678,\n",
       " 679,\n",
       " 680,\n",
       " 681,\n",
       " 682,\n",
       " 683,\n",
       " 684,\n",
       " 685,\n",
       " 686,\n",
       " 687,\n",
       " 688,\n",
       " 689,\n",
       " 690,\n",
       " 691,\n",
       " 692,\n",
       " 693,\n",
       " 694,\n",
       " 695,\n",
       " 696,\n",
       " 697,\n",
       " 698,\n",
       " 699,\n",
       " 706,\n",
       " 716,\n",
       " 726,\n",
       " 736,\n",
       " 746,\n",
       " 756,\n",
       " 760,\n",
       " 761,\n",
       " 762,\n",
       " 763,\n",
       " 764,\n",
       " 765,\n",
       " 766,\n",
       " 767,\n",
       " 768,\n",
       " 769,\n",
       " 776,\n",
       " 786,\n",
       " 796,\n",
       " 806,\n",
       " 816,\n",
       " 826,\n",
       " 836,\n",
       " 846,\n",
       " 856,\n",
       " 860,\n",
       " 861,\n",
       " 862,\n",
       " 863,\n",
       " 864,\n",
       " 865,\n",
       " 866,\n",
       " 867,\n",
       " 868,\n",
       " 869,\n",
       " 876,\n",
       " 886,\n",
       " 896,\n",
       " 906,\n",
       " 916,\n",
       " 926,\n",
       " 936,\n",
       " 946,\n",
       " 956,\n",
       " 960,\n",
       " 961,\n",
       " 962,\n",
       " 963,\n",
       " 964,\n",
       " 965,\n",
       " 966,\n",
       " 967,\n",
       " 968,\n",
       " 969,\n",
       " 976,\n",
       " 986,\n",
       " 996]"
      ]
     },
     "execution_count": 176,
     "metadata": {},
     "output_type": "execute_result"
    }
   ],
   "source": [
    "# Find all of the numbers from 1–1000 that have a 6 in them\n",
    "[num for num in range(1,1000) if \"6\" in str(num)]"
   ]
  },
  {
   "cell_type": "code",
   "execution_count": 182,
   "id": "226dd97e",
   "metadata": {},
   "outputs": [
    {
     "data": {
      "text/plain": [
       "0"
      ]
     },
     "execution_count": 182,
     "metadata": {},
     "output_type": "execute_result"
    }
   ],
   "source": [
    "# Count the number of spaces in a string (use string above)\n",
    "string = [a, b, c]\n",
    "len([char for char in string if char == \"\"])"
   ]
  },
  {
   "cell_type": "code",
   "execution_count": 183,
   "id": "afffb4c1",
   "metadata": {},
   "outputs": [
    {
     "data": {
      "text/plain": [
       "'ashish'"
      ]
     },
     "execution_count": 183,
     "metadata": {},
     "output_type": "execute_result"
    }
   ],
   "source": [
    "# 4. Remove all of the vowels in a string\n",
    "string =[\"ashish\"]\n",
    "\"\".join([char for char in string if char not in [\"a\",\"e\",\"i\",\"o\",\"u\"]])"
   ]
  },
  {
   "cell_type": "code",
   "execution_count": 184,
   "id": "5da6badf",
   "metadata": {},
   "outputs": [
    {
     "data": {
      "text/plain": [
       "[1, 2, 4]"
      ]
     },
     "execution_count": 184,
     "metadata": {},
     "output_type": "execute_result"
    }
   ],
   "source": [
    "#  Iteration with List comprehension\n",
    "\n",
    "[char for char in [1,2,4]]"
   ]
  },
  {
   "cell_type": "code",
   "execution_count": 186,
   "id": "2775ffba",
   "metadata": {},
   "outputs": [
    {
     "data": {
      "text/plain": [
       "[0, 2, 4, 6, 8, 10]"
      ]
     },
     "execution_count": 186,
     "metadata": {},
     "output_type": "execute_result"
    }
   ],
   "source": [
    "# Even list using list comprehension\n",
    "list = [i for i in range(11) if i % 2 == 0]\n",
    "list"
   ]
  },
  {
   "cell_type": "code",
   "execution_count": 190,
   "id": "7f195b53",
   "metadata": {},
   "outputs": [
    {
     "data": {
      "text/plain": [
       "[[0, 1, 2], [0, 1, 2], [0, 1, 2], [0, 1, 2], [0, 1, 2]]"
      ]
     },
     "execution_count": 190,
     "metadata": {},
     "output_type": "execute_result"
    }
   ],
   "source": [
    "# Matrix using List comprehension\n",
    "[[j for j in range(3)] for i in range(5)]"
   ]
  },
  {
   "cell_type": "code",
   "execution_count": 192,
   "id": "daaf32ea",
   "metadata": {},
   "outputs": [
    {
     "name": "stdout",
     "output_type": "stream",
     "text": [
      "['a', 's', 'h', 'i', 's', 'h', ' ', 'k', 'u', 'm', 'a', 'r', ' ', 'c', 'h', 'a', 'u', 'r', 'a', 's', 'i', 'y', 'a']\n"
     ]
    }
   ],
   "source": [
    "# # List Comprehenloo[pions vs For Loop\n",
    "# loop\n",
    "list = []\n",
    "for char in \"ashish kumar chaurasiya\":\n",
    "    list.append(char)\n",
    "print(list)"
   ]
  },
  {
   "cell_type": "code",
   "execution_count": 193,
   "id": "478d3c9f",
   "metadata": {},
   "outputs": [
    {
     "data": {
      "text/plain": [
       "['a',\n",
       " 's',\n",
       " 'h',\n",
       " 'i',\n",
       " 's',\n",
       " ' ',\n",
       " 'c',\n",
       " 'h',\n",
       " 'a',\n",
       " 'u',\n",
       " 'r',\n",
       " 'a',\n",
       " 's',\n",
       " 'i',\n",
       " 'y',\n",
       " 'a']"
      ]
     },
     "execution_count": 193,
     "metadata": {},
     "output_type": "execute_result"
    }
   ],
   "source": [
    "[char for char in \"ashis chaurasiya\"]"
   ]
  },
  {
   "cell_type": "code",
   "execution_count": 195,
   "id": "032ba31f",
   "metadata": {},
   "outputs": [
    {
     "name": "stdout",
     "output_type": "stream",
     "text": [
      "Time taken for_loop: 0.19\n",
      "Time taken for list_comprasion: 0.17\n"
     ]
    }
   ],
   "source": [
    "# Time Analysis in List Comprehensions and Loop\n",
    "import time\n",
    "def for_loop(n):\n",
    "    result = []\n",
    "    for i in range(n):\n",
    "        result.append(i**2)\n",
    "    return result\n",
    "\n",
    "def list_comprasion(n):\n",
    "    return [i**2 for i in range(n)]\n",
    "\n",
    "begin = time.time()\n",
    "for_loop(10**6)\n",
    "end = time.time()\n",
    "print('Time taken for_loop:',round(end-begin,2))\n",
    "\n",
    "# calculate tie takens by list_comprasion\n",
    "begin = time.time()\n",
    "list_comprasion(10**6)\n",
    "end = time.time()\n",
    "\n",
    "print('Time taken for list_comprasion:',round(end-begin,2))"
   ]
  },
  {
   "cell_type": "code",
   "execution_count": 196,
   "id": "4eba4427",
   "metadata": {},
   "outputs": [
    {
     "name": "stdout",
     "output_type": "stream",
     "text": [
      "[[0, 1, 2, 3, 4], [0, 1, 2, 3, 4], [0, 1, 2, 3, 4]]\n"
     ]
    }
   ],
   "source": [
    "# Nested List Comprehensions\n",
    "matrix = []\n",
    "for i in range(3):\n",
    "    matrix.append([])\n",
    "    for j in range(5):\n",
    "        matrix[i].append(j)\n",
    "print(matrix)"
   ]
  },
  {
   "cell_type": "code",
   "execution_count": 198,
   "id": "a8b5acad",
   "metadata": {},
   "outputs": [
    {
     "data": {
      "text/plain": [
       "[[0, 1, 2, 3, 4], [0, 1, 2, 3, 4], [0, 1, 2, 3, 4]]"
      ]
     },
     "execution_count": 198,
     "metadata": {},
     "output_type": "execute_result"
    }
   ],
   "source": [
    "[[j for j in range(5)] for i in range(3)]"
   ]
  },
  {
   "cell_type": "code",
   "execution_count": 199,
   "id": "fe195605",
   "metadata": {},
   "outputs": [
    {
     "name": "stdout",
     "output_type": "stream",
     "text": [
      "[10, 20, 30, 40, 50]\n"
     ]
    }
   ],
   "source": [
    "# List Comprehensions and Lambda\n",
    "numbers = []\n",
    "for i in range(1,6):\n",
    "    numbers.append(i*10)\n",
    "print(numbers)"
   ]
  },
  {
   "cell_type": "code",
   "execution_count": 200,
   "id": "326db9ef",
   "metadata": {},
   "outputs": [
    {
     "data": {
      "text/plain": [
       "[10, 20, 30, 40, 50]"
      ]
     },
     "execution_count": 200,
     "metadata": {},
     "output_type": "execute_result"
    }
   ],
   "source": [
    "numbers = [i*10 for i in range(1,6)]\n",
    "numbers"
   ]
  },
  {
   "cell_type": "code",
   "execution_count": 205,
   "id": "afd05e7f",
   "metadata": {},
   "outputs": [
    {
     "ename": "TypeError",
     "evalue": "'list' object is not callable",
     "output_type": "error",
     "traceback": [
      "\u001b[0;31m---------------------------------------------------------------------------\u001b[0m",
      "\u001b[0;31mTypeError\u001b[0m                                 Traceback (most recent call last)",
      "Input \u001b[0;32mIn [205]\u001b[0m, in \u001b[0;36m<cell line: 2>\u001b[0;34m()\u001b[0m\n\u001b[1;32m      1\u001b[0m \u001b[38;5;66;03m# using lambda to print table of 10\u001b[39;00m\n\u001b[0;32m----> 2\u001b[0m \u001b[38;5;28;43mlist\u001b[39;49m\u001b[43m(\u001b[49m\u001b[38;5;28;43mmap\u001b[39;49m\u001b[43m(\u001b[49m\u001b[38;5;28;43;01mlambda\u001b[39;49;00m\u001b[43m \u001b[49m\u001b[43mi\u001b[49m\u001b[43m:\u001b[49m\u001b[43m \u001b[49m\u001b[43mi\u001b[49m\u001b[38;5;241;43m*\u001b[39;49m\u001b[38;5;241;43m10\u001b[39;49m\u001b[43m,\u001b[49m\u001b[43m \u001b[49m\u001b[43m[\u001b[49m\u001b[43mi\u001b[49m\u001b[43m \u001b[49m\u001b[38;5;28;43;01mfor\u001b[39;49;00m\u001b[43m \u001b[49m\u001b[43mi\u001b[49m\u001b[43m \u001b[49m\u001b[38;5;129;43;01min\u001b[39;49;00m\u001b[43m \u001b[49m\u001b[38;5;28;43mrange\u001b[39;49m\u001b[43m(\u001b[49m\u001b[38;5;241;43m1\u001b[39;49m\u001b[43m,\u001b[49m\u001b[43m \u001b[49m\u001b[38;5;241;43m6\u001b[39;49m\u001b[43m)\u001b[49m\u001b[43m]\u001b[49m\u001b[43m)\u001b[49m\u001b[43m)\u001b[49m\n",
      "\u001b[0;31mTypeError\u001b[0m: 'list' object is not callable"
     ]
    }
   ],
   "source": [
    "# using lambda to print table of 10\n",
    "list(map(lambda i: i*10, [i for i in range(1, 6)]))"
   ]
  },
  {
   "cell_type": "code",
   "execution_count": 206,
   "id": "9d6cdfcb",
   "metadata": {},
   "outputs": [
    {
     "data": {
      "text/plain": [
       "['Even number',\n",
       " 'Odd number',\n",
       " 'Even number',\n",
       " 'Odd number',\n",
       " 'Even number',\n",
       " 'Odd number',\n",
       " 'Even number',\n",
       " 'Odd number']"
      ]
     },
     "execution_count": 206,
     "metadata": {},
     "output_type": "execute_result"
    }
   ],
   "source": [
    "# Conditionals in List Comprehension\n",
    "lis = [\"Even number\" if i % 2 == 0 else \"Odd number\" for i in range(8)]\n",
    "lis"
   ]
  },
  {
   "cell_type": "code",
   "execution_count": 207,
   "id": "728ac7f9",
   "metadata": {},
   "outputs": [
    {
     "data": {
      "text/plain": [
       "[0, 10, 20, 30, 40, 50, 60, 70, 80, 90]"
      ]
     },
     "execution_count": 207,
     "metadata": {},
     "output_type": "execute_result"
    }
   ],
   "source": [
    "# Nested IF with List Comprehension\n",
    "lis = [num for num in range(100) if num % 5 == 0 if num % 10 == 0]\n",
    "lis"
   ]
  },
  {
   "cell_type": "code",
   "execution_count": 209,
   "id": "38122985",
   "metadata": {},
   "outputs": [
    {
     "data": {
      "text/plain": [
       "[1, 4, 9, 16, 25, 36, 49, 64, 81, 100]"
      ]
     },
     "execution_count": 209,
     "metadata": {},
     "output_type": "execute_result"
    }
   ],
   "source": [
    "# Example 3: Display square of numbers from 1 to 10.\n",
    "[n**2 for n in range(1,11)]"
   ]
  },
  {
   "cell_type": "code",
   "execution_count": 214,
   "id": "bc8d3899",
   "metadata": {},
   "outputs": [
    {
     "data": {
      "text/plain": [
       "[[10, 40, 70], [20, 50, 80], [30, 60, 90]]"
      ]
     },
     "execution_count": 214,
     "metadata": {},
     "output_type": "execute_result"
    }
   ],
   "source": [
    "# Display Transpose of 2D- Matrix.twoDMatrix =\n",
    "twoDMatrix = [[10, 20, 30],\n",
    "              [40, 50, 60],\n",
    "              [70, 80, 90]]\n",
    "# genrate transpose\n",
    "trans = [[i[j] for i in twoDMatrix] for j in range(len(twoDMatrix))]\n",
    "trans"
   ]
  },
  {
   "cell_type": "code",
   "execution_count": 216,
   "id": "d1754eeb",
   "metadata": {},
   "outputs": [
    {
     "ename": "TypeError",
     "evalue": "'list' object is not callable",
     "output_type": "error",
     "traceback": [
      "\u001b[0;31m---------------------------------------------------------------------------\u001b[0m",
      "\u001b[0;31mTypeError\u001b[0m                                 Traceback (most recent call last)",
      "Input \u001b[0;32mIn [216]\u001b[0m, in \u001b[0;36m<cell line: 3>\u001b[0;34m()\u001b[0m\n\u001b[1;32m      1\u001b[0m \u001b[38;5;66;03m# Toggle the case of each character in a string.\u001b[39;00m\n\u001b[1;32m      2\u001b[0m string \u001b[38;5;241m=\u001b[39m \u001b[38;5;124m'\u001b[39m\u001b[38;5;124mGeeks4Geeks\u001b[39m\u001b[38;5;124m'\u001b[39m\n\u001b[0;32m----> 3\u001b[0m List \u001b[38;5;241m=\u001b[39m \u001b[38;5;28;43mlist\u001b[39;49m\u001b[43m(\u001b[49m\u001b[38;5;28;43mmap\u001b[39;49m\u001b[43m(\u001b[49m\u001b[38;5;28;43;01mlambda\u001b[39;49;00m\u001b[43m \u001b[49m\u001b[43mi\u001b[49m\u001b[43m:\u001b[49m\u001b[43m \u001b[49m\u001b[38;5;28;43mchr\u001b[39;49m\u001b[43m(\u001b[49m\u001b[38;5;28;43mord\u001b[39;49m\u001b[43m(\u001b[49m\u001b[43mi\u001b[49m\u001b[43m)\u001b[49m\u001b[43m \u001b[49m\u001b[38;5;241;43m^\u001b[39;49m\u001b[43m \u001b[49m\u001b[38;5;241;43m32\u001b[39;49m\u001b[43m)\u001b[49m\u001b[43m,\u001b[49m\u001b[43m \u001b[49m\u001b[43mstring\u001b[49m\u001b[43m)\u001b[49m\u001b[43m)\u001b[49m\n\u001b[1;32m      4\u001b[0m List\n",
      "\u001b[0;31mTypeError\u001b[0m: 'list' object is not callable"
     ]
    }
   ],
   "source": [
    "# Toggle the case of each character in a string.\n",
    "string = 'Geeks4Geeks'\n",
    "List = list(map(lambda i: chr(ord(i) ^ 32), string))\n",
    "List"
   ]
  },
  {
   "cell_type": "code",
   "execution_count": 217,
   "id": "412ce74e",
   "metadata": {},
   "outputs": [
    {
     "data": {
      "text/plain": [
       "['skeeG', 'rof', 'skeeG']"
      ]
     },
     "execution_count": 217,
     "metadata": {},
     "output_type": "execute_result"
    }
   ],
   "source": [
    "# Reverse each string in a tuple.\n",
    "[string[::-1] for string in ('Geeks', 'for', 'Geeks')]"
   ]
  },
  {
   "cell_type": "code",
   "execution_count": 219,
   "id": "50000c7c",
   "metadata": {},
   "outputs": [
    {
     "name": "stdout",
     "output_type": "stream",
     "text": [
      "[16, 3, 18, 18]\n"
     ]
    }
   ],
   "source": [
    "# Display the sum of digits of all the odd elements in a list.\n",
    "def digitSum(n):\n",
    "    dsum = 0\n",
    "    for ele in str(n):\n",
    "        dsum += int(ele)\n",
    "    return dsum\n",
    "List = [367, 111, 562, 945, 6726, 873]\n",
    "newList = [digitSum(i) for i in List if i & 1]\n",
    "print(newList)"
   ]
  },
  {
   "cell_type": "code",
   "execution_count": null,
   "id": "d1ae1ce4",
   "metadata": {},
   "outputs": [],
   "source": []
  },
  {
   "cell_type": "code",
   "execution_count": null,
   "id": "cb583f8f",
   "metadata": {},
   "outputs": [],
   "source": []
  }
 ],
 "metadata": {
  "kernelspec": {
   "display_name": "Python 3 (ipykernel)",
   "language": "python",
   "name": "python3"
  },
  "language_info": {
   "codemirror_mode": {
    "name": "ipython",
    "version": 3
   },
   "file_extension": ".py",
   "mimetype": "text/x-python",
   "name": "python",
   "nbconvert_exporter": "python",
   "pygments_lexer": "ipython3",
   "version": "3.8.10"
  }
 },
 "nbformat": 4,
 "nbformat_minor": 5
}
