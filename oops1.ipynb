{
 "cells": [
  {
   "cell_type": "code",
   "execution_count": 1,
   "id": "24e3ec86",
   "metadata": {},
   "outputs": [],
   "source": [
    "# What is an Object?\n",
    "# And what is OOP?\n",
    "# Generality to Specificity\n",
    "# OOP Principle\n",
    "# Class\n",
    "# Object\n",
    "# Abstration\n",
    "#Inheritence\n",
    "# Encapsulation\n",
    "# Polymophism"
   ]
  },
  {
   "cell_type": "code",
   "execution_count": 2,
   "id": "18def5d3",
   "metadata": {},
   "outputs": [
    {
     "name": "stdout",
     "output_type": "stream",
     "text": [
      "<class 'list'>\n"
     ]
    }
   ],
   "source": [
    "# Class : class is a blueprint , set of rules, attribute\n",
    "# Class :: 1: Data or Types 2 functions and behaviors\n",
    "L = [1,2,3]\n",
    "print(type(L))"
   ]
  },
  {
   "cell_type": "code",
   "execution_count": 3,
   "id": "df963b53",
   "metadata": {},
   "outputs": [
    {
     "ename": "AttributeError",
     "evalue": "'list' object has no attribute 'upper'",
     "output_type": "error",
     "traceback": [
      "\u001b[0;31m---------------------------------------------------------------------------\u001b[0m",
      "\u001b[0;31mAttributeError\u001b[0m                            Traceback (most recent call last)",
      "Input \u001b[0;32mIn [3]\u001b[0m, in \u001b[0;36m<cell line: 1>\u001b[0;34m()\u001b[0m\n\u001b[0;32m----> 1\u001b[0m \u001b[43mL\u001b[49m\u001b[38;5;241;43m.\u001b[39;49m\u001b[43mupper\u001b[49m()\n",
      "\u001b[0;31mAttributeError\u001b[0m: 'list' object has no attribute 'upper'"
     ]
    }
   ],
   "source": [
    "L.upper()"
   ]
  },
  {
   "cell_type": "code",
   "execution_count": null,
   "id": "66f4abde",
   "metadata": {},
   "outputs": [],
   "source": [
    "# all datatypes is class and create a variable in python is called object"
   ]
  },
  {
   "cell_type": "code",
   "execution_count": null,
   "id": "0618a750",
   "metadata": {},
   "outputs": [],
   "source": [
    "# Object object is an istance of class\n",
    "# create an object sytax\n",
    "# objectname = classname()"
   ]
  },
  {
   "cell_type": "code",
   "execution_count": null,
   "id": "826fd892",
   "metadata": {},
   "outputs": [],
   "source": [
    "# object literal\n",
    "l = [1,2,3]\n",
    "L = list()"
   ]
  },
  {
   "cell_type": "code",
   "execution_count": null,
   "id": "5085fcf7",
   "metadata": {},
   "outputs": [],
   "source": [
    "L"
   ]
  },
  {
   "cell_type": "code",
   "execution_count": null,
   "id": "d5b16490",
   "metadata": {},
   "outputs": [],
   "source": [
    "s = str()\n",
    "s"
   ]
  },
  {
   "cell_type": "code",
   "execution_count": null,
   "id": "c65cdb77",
   "metadata": {},
   "outputs": [],
   "source": [
    "# create small banking\n",
    "# Pascal Case\n",
    "# HelloWorld"
   ]
  },
  {
   "cell_type": "code",
   "execution_count": 4,
   "id": "89a2c698",
   "metadata": {},
   "outputs": [
    {
     "ename": "KeyboardInterrupt",
     "evalue": "Interrupted by user",
     "output_type": "error",
     "traceback": [
      "\u001b[0;31m---------------------------------------------------------------------------\u001b[0m",
      "\u001b[0;31mKeyboardInterrupt\u001b[0m                         Traceback (most recent call last)",
      "Input \u001b[0;32mIn [4]\u001b[0m, in \u001b[0;36m<cell line: 64>\u001b[0;34m()\u001b[0m\n\u001b[1;32m     62\u001b[0m             \u001b[38;5;28mprint\u001b[39m(\u001b[38;5;124m'\u001b[39m\u001b[38;5;124msale chor\u001b[39m\u001b[38;5;124m'\u001b[39m)\n\u001b[1;32m     63\u001b[0m         \u001b[38;5;28mself\u001b[39m\u001b[38;5;241m.\u001b[39mmenu()\n\u001b[0;32m---> 64\u001b[0m obj \u001b[38;5;241m=\u001b[39m \u001b[43mAtm\u001b[49m\u001b[43m(\u001b[49m\u001b[43m)\u001b[49m\n\u001b[1;32m     65\u001b[0m obj\u001b[38;5;241m.\u001b[39mpin()\n",
      "Input \u001b[0;32mIn [4]\u001b[0m, in \u001b[0;36mAtm.__init__\u001b[0;34m(self)\u001b[0m\n\u001b[1;32m      5\u001b[0m \u001b[38;5;28mself\u001b[39m\u001b[38;5;241m.\u001b[39mpin \u001b[38;5;241m=\u001b[39m \u001b[38;5;124m'\u001b[39m\u001b[38;5;124m'\u001b[39m\n\u001b[1;32m      6\u001b[0m \u001b[38;5;28mself\u001b[39m\u001b[38;5;241m.\u001b[39mbalance \u001b[38;5;241m=\u001b[39m \u001b[38;5;241m0\u001b[39m\n\u001b[0;32m----> 7\u001b[0m \u001b[38;5;28;43mself\u001b[39;49m\u001b[38;5;241;43m.\u001b[39;49m\u001b[43mmenu\u001b[49m\u001b[43m(\u001b[49m\u001b[43m)\u001b[49m\n",
      "Input \u001b[0;32mIn [4]\u001b[0m, in \u001b[0;36mAtm.menu\u001b[0;34m(self)\u001b[0m\n\u001b[1;32m      9\u001b[0m \u001b[38;5;28;01mdef\u001b[39;00m \u001b[38;5;21mmenu\u001b[39m(\u001b[38;5;28mself\u001b[39m):\n\u001b[0;32m---> 10\u001b[0m     user_input \u001b[38;5;241m=\u001b[39m \u001b[38;5;28;43minput\u001b[39;49m\u001b[43m(\u001b[49m\u001b[38;5;124;43m\"\"\"\u001b[39;49m\n\u001b[1;32m     11\u001b[0m \u001b[38;5;124;43m    Hi how can I help you?\u001b[39;49m\n\u001b[1;32m     12\u001b[0m \u001b[38;5;124;43m    1. Press 1 to create pin\u001b[39;49m\n\u001b[1;32m     13\u001b[0m \u001b[38;5;124;43m    2. Press 2 to change pin\u001b[39;49m\n\u001b[1;32m     14\u001b[0m \u001b[38;5;124;43m    3. Press 3 to check balance\u001b[39;49m\n\u001b[1;32m     15\u001b[0m \u001b[38;5;124;43m    4. Press 4 to withdraw\u001b[39;49m\n\u001b[1;32m     16\u001b[0m \u001b[38;5;124;43m    5. Anything else to exit\u001b[39;49m\n\u001b[1;32m     17\u001b[0m \u001b[38;5;124;43m    \u001b[39;49m\u001b[38;5;124;43m\"\"\"\u001b[39;49m\u001b[43m)\u001b[49m\n\u001b[1;32m     18\u001b[0m     \u001b[38;5;28;01mif\u001b[39;00m user_input \u001b[38;5;241m==\u001b[39m \u001b[38;5;124m'\u001b[39m\u001b[38;5;124m1\u001b[39m\u001b[38;5;124m'\u001b[39m:\n\u001b[1;32m     19\u001b[0m         \u001b[38;5;28mself\u001b[39m\u001b[38;5;241m.\u001b[39mcreate_pin()\n",
      "File \u001b[0;32m~/.local/lib/python3.8/site-packages/ipykernel/kernelbase.py:1161\u001b[0m, in \u001b[0;36mKernel.raw_input\u001b[0;34m(self, prompt)\u001b[0m\n\u001b[1;32m   1157\u001b[0m \u001b[38;5;28;01mif\u001b[39;00m \u001b[38;5;129;01mnot\u001b[39;00m \u001b[38;5;28mself\u001b[39m\u001b[38;5;241m.\u001b[39m_allow_stdin:\n\u001b[1;32m   1158\u001b[0m     \u001b[38;5;28;01mraise\u001b[39;00m StdinNotImplementedError(\n\u001b[1;32m   1159\u001b[0m         \u001b[38;5;124m\"\u001b[39m\u001b[38;5;124mraw_input was called, but this frontend does not support input requests.\u001b[39m\u001b[38;5;124m\"\u001b[39m\n\u001b[1;32m   1160\u001b[0m     )\n\u001b[0;32m-> 1161\u001b[0m \u001b[38;5;28;01mreturn\u001b[39;00m \u001b[38;5;28;43mself\u001b[39;49m\u001b[38;5;241;43m.\u001b[39;49m\u001b[43m_input_request\u001b[49m\u001b[43m(\u001b[49m\n\u001b[1;32m   1162\u001b[0m \u001b[43m    \u001b[49m\u001b[38;5;28;43mstr\u001b[39;49m\u001b[43m(\u001b[49m\u001b[43mprompt\u001b[49m\u001b[43m)\u001b[49m\u001b[43m,\u001b[49m\n\u001b[1;32m   1163\u001b[0m \u001b[43m    \u001b[49m\u001b[38;5;28;43mself\u001b[39;49m\u001b[38;5;241;43m.\u001b[39;49m\u001b[43m_parent_ident\u001b[49m\u001b[43m[\u001b[49m\u001b[38;5;124;43m\"\u001b[39;49m\u001b[38;5;124;43mshell\u001b[39;49m\u001b[38;5;124;43m\"\u001b[39;49m\u001b[43m]\u001b[49m\u001b[43m,\u001b[49m\n\u001b[1;32m   1164\u001b[0m \u001b[43m    \u001b[49m\u001b[38;5;28;43mself\u001b[39;49m\u001b[38;5;241;43m.\u001b[39;49m\u001b[43mget_parent\u001b[49m\u001b[43m(\u001b[49m\u001b[38;5;124;43m\"\u001b[39;49m\u001b[38;5;124;43mshell\u001b[39;49m\u001b[38;5;124;43m\"\u001b[39;49m\u001b[43m)\u001b[49m\u001b[43m,\u001b[49m\n\u001b[1;32m   1165\u001b[0m \u001b[43m    \u001b[49m\u001b[43mpassword\u001b[49m\u001b[38;5;241;43m=\u001b[39;49m\u001b[38;5;28;43;01mFalse\u001b[39;49;00m\u001b[43m,\u001b[49m\n\u001b[1;32m   1166\u001b[0m \u001b[43m\u001b[49m\u001b[43m)\u001b[49m\n",
      "File \u001b[0;32m~/.local/lib/python3.8/site-packages/ipykernel/kernelbase.py:1205\u001b[0m, in \u001b[0;36mKernel._input_request\u001b[0;34m(self, prompt, ident, parent, password)\u001b[0m\n\u001b[1;32m   1202\u001b[0m             \u001b[38;5;28;01mbreak\u001b[39;00m\n\u001b[1;32m   1203\u001b[0m \u001b[38;5;28;01mexcept\u001b[39;00m \u001b[38;5;167;01mKeyboardInterrupt\u001b[39;00m:\n\u001b[1;32m   1204\u001b[0m     \u001b[38;5;66;03m# re-raise KeyboardInterrupt, to truncate traceback\u001b[39;00m\n\u001b[0;32m-> 1205\u001b[0m     \u001b[38;5;28;01mraise\u001b[39;00m \u001b[38;5;167;01mKeyboardInterrupt\u001b[39;00m(\u001b[38;5;124m\"\u001b[39m\u001b[38;5;124mInterrupted by user\u001b[39m\u001b[38;5;124m\"\u001b[39m) \u001b[38;5;28;01mfrom\u001b[39;00m \u001b[38;5;28mNone\u001b[39m\n\u001b[1;32m   1206\u001b[0m \u001b[38;5;28;01mexcept\u001b[39;00m \u001b[38;5;167;01mException\u001b[39;00m:\n\u001b[1;32m   1207\u001b[0m     \u001b[38;5;28mself\u001b[39m\u001b[38;5;241m.\u001b[39mlog\u001b[38;5;241m.\u001b[39mwarning(\u001b[38;5;124m\"\u001b[39m\u001b[38;5;124mInvalid Message:\u001b[39m\u001b[38;5;124m\"\u001b[39m, exc_info\u001b[38;5;241m=\u001b[39m\u001b[38;5;28;01mTrue\u001b[39;00m)\n",
      "\u001b[0;31mKeyboardInterrupt\u001b[0m: Interrupted by user"
     ]
    }
   ],
   "source": [
    "class Atm:\n",
    "#     constructor:(special function)->superpower->\n",
    "    def __init__(self):\n",
    "#         print(id(self))\n",
    "        self.pin = ''\n",
    "        self.balance = 0\n",
    "        self.menu()\n",
    "#         print('mai to execute ho gya')\n",
    "    def menu(self):\n",
    "        user_input = input(\"\"\"\n",
    "        Hi how can I help you?\n",
    "        1. Press 1 to create pin\n",
    "        2. Press 2 to change pin\n",
    "        3. Press 3 to check balance\n",
    "        4. Press 4 to withdraw\n",
    "        5. Anything else to exit\n",
    "        \"\"\")\n",
    "        if user_input == '1':\n",
    "            self.create_pin()\n",
    "        elif user_input == 2:\n",
    "            self.change_pin()\n",
    "        elif user_input == 3:\n",
    "            self.check_balance()\n",
    "        elif user_input == 4:\n",
    "            self.withdraw()\n",
    "        else:\n",
    "            exit()\n",
    "    def create_pin(self):\n",
    "        user_pin = input('enter pin')\n",
    "        self.pin = user_pin\n",
    "        \n",
    "        user_balance=int(input('enter balance'))\n",
    "        self.balance = user_balance\n",
    "        \n",
    "        print(\"pin created succefully\")\n",
    "    def change_pin(self):\n",
    "        old_pin = input('enter old pin')\n",
    "        if old_pin == self.pin:\n",
    "            new_pin = input('enter new pin')\n",
    "            self.pin = new_pin\n",
    "            print('pin change successful')\n",
    "            self.menu()\n",
    "        else:\n",
    "            print('nai karbe de sakta re baba')\n",
    "            self.menu()\n",
    "    def check_balance(self):\n",
    "        user_pin = input('enter your pin')\n",
    "        if user_pin == self.pin:\n",
    "            print('your balance is',self.balance)\n",
    "        else:\n",
    "            print('chal nikal yahan se')\n",
    "    def withdraw(self):\n",
    "        user_pin = input('enter the pin')\n",
    "        if user_pin == self.pin:\n",
    "            amount = int(input('enter the amount'))\n",
    "            if amount <= self.balance:\n",
    "                self.balance = self.balance - amount\n",
    "                print('withdrawn successful. balance is',self.balance)\n",
    "            else:\n",
    "                print('abe garib')\n",
    "        else:\n",
    "            print('sale chor')\n",
    "        self.menu()\n",
    "obj = Atm()\n",
    "obj.pin()"
   ]
  },
  {
   "cell_type": "code",
   "execution_count": null,
   "id": "2d440bd3",
   "metadata": {},
   "outputs": [],
   "source": [
    "obj = Atm()\n",
    "# print(type(obj))"
   ]
  },
  {
   "cell_type": "code",
   "execution_count": null,
   "id": "7b84b7fd",
   "metadata": {},
   "outputs": [],
   "source": [
    "obj.pin"
   ]
  },
  {
   "cell_type": "code",
   "execution_count": null,
   "id": "8882409c",
   "metadata": {},
   "outputs": [],
   "source": [
    "class Fraction:\n",
    "#parameterized constructor\n",
    "    def __init__(self,x,y):\n",
    "        self.num = x\n",
    "        self.den = y\n",
    "    def __str__(self):\n",
    "        return '{}/{}'.format(self.num, self.den)\n",
    "    def __add__(self,other):\n",
    "        new_num = self.num*other.den + other.num * self.den\n",
    "        new_den = self.den*other.den\n",
    "        \n",
    "        return '{}/{}'.format(new_num,new_den)\n",
    "    def __sub__(self,other):\n",
    "        new_num = self.num*other.den - other.num*self.den\n",
    "        new_den = self.den*other.den\n",
    "        \n",
    "        return '{}/{}'.format(new_num,new_den)\n",
    "    def __mul__(self,other):\n",
    "        new_num = self.num*other.den\n",
    "        new_den = self.den*other.den\n",
    "        \n",
    "        return '{}/{}'.format(new_num,new_den)\n",
    "    def __truediv__(self,other):\n",
    "        new_num = self.num*other.den\n",
    "        new_den = self.den*other.num\n",
    "        return '{}/{}'.format(new_num,new_den)\n",
    "\n",
    "    def convert_to_decimal(self):\n",
    "        return self.num/self.den"
   ]
  },
  {
   "cell_type": "code",
   "execution_count": null,
   "id": "19e027ef",
   "metadata": {},
   "outputs": [],
   "source": [
    "fr1 = Fraction(3,4)"
   ]
  },
  {
   "cell_type": "code",
   "execution_count": null,
   "id": "228acd19",
   "metadata": {},
   "outputs": [],
   "source": [
    "fr2 = Fraction(1,2)"
   ]
  },
  {
   "cell_type": "code",
   "execution_count": null,
   "id": "4b657843",
   "metadata": {},
   "outputs": [],
   "source": [
    "fr1.convert_to_decimal()\n"
   ]
  },
  {
   "cell_type": "code",
   "execution_count": null,
   "id": "14e23d86",
   "metadata": {},
   "outputs": [],
   "source": [
    "print(fr1 + fr2)\n",
    "print(fr1 - fr2)\n",
    "print(fr1 * fr2)\n",
    "print(fr1 / fr2)"
   ]
  },
  {
   "cell_type": "code",
   "execution_count": null,
   "id": "9b1edd92",
   "metadata": {},
   "outputs": [],
   "source": [
    "# write your code here\n",
    "\n",
    "class Computation:\n",
    "  def __init__(self):\n",
    "    pass\n",
    "\n",
    "\n",
    "  def Factorial(self,n):\n",
    "    f = 1\n",
    "    for i in range(1,n+1):\n",
    "      f *=i\n",
    "    return f\n",
    "\n",
    "  def naturalSum(self,n):\n",
    "    s = n*(n+1)/2\n",
    "    return int(s)\n",
    "\n",
    "  def testPrime(self,n):\n",
    "    flag = True\n",
    "    for i in range(2,n//2+1):\n",
    "      if n%i==0:\n",
    "        flag = False\n",
    "        break\n",
    "    return flag\n",
    "\n",
    "  def testPrims(self,n1,n2):\n",
    "    flag = True\n",
    "    if n1>=n2:\n",
    "      s = n2\n",
    "    else:\n",
    "      s = n1\n",
    "\n",
    "    for i in range(2,s+1):\n",
    "      if n1%i==0 and n2%i==0:\n",
    "        flag = False\n",
    "        break\n",
    "    return flag\n",
    "\n",
    "  def tableMult(self,n):\n",
    "    for i in range(1,11):\n",
    "      print(f'{n} x {i} = {n*i}')\n",
    "\n",
    "  def allTableMult(self):\n",
    "    for i in range(1,10):\n",
    "      self.tableMult(i)\n",
    "      print()\n",
    "\n",
    "  def listDiv(self,n):\n",
    "    Ldiv = list()\n",
    "    for i in range(1,n+1):\n",
    "      if n%i==0:\n",
    "        Ldiv.append(i)\n",
    "    return Ldiv\n",
    "\n",
    "  def listDivPrim(self,n):\n",
    "    Ldiv = self.listDiv(n)\n",
    "    LdivPrim = [i for i in Ldiv if self.testPrime(i)]\n",
    "    return LdivPrim\n",
    "\n",
    "a = Computation()\n",
    "print(a.Factorial(5))\n",
    "print(a.naturalSum(10))\n",
    "print(a.testPrime(11))\n",
    "print(a.testPrims(4,9))\n",
    "a.tableMult(5)\n",
    "a.allTableMult()\n",
    "print(a.listDiv(120))\n",
    "print(a.listDivPrim(120))"
   ]
  },
  {
   "cell_type": "code",
   "execution_count": 15,
   "id": "acbd57a8",
   "metadata": {},
   "outputs": [
    {
     "ename": "TypeError",
     "evalue": "'BankAccount' object is not callable",
     "output_type": "error",
     "traceback": [
      "\u001b[0;31m---------------------------------------------------------------------------\u001b[0m",
      "\u001b[0;31mTypeError\u001b[0m                                 Traceback (most recent call last)",
      "Input \u001b[0;32mIn [15]\u001b[0m, in \u001b[0;36m<cell line: 30>\u001b[0;34m()\u001b[0m\n\u001b[1;32m     27\u001b[0m         \u001b[38;5;28mprint\u001b[39m(\u001b[38;5;124m\"\u001b[39m\u001b[38;5;124mAccount Balance : \u001b[39m\u001b[38;5;124m\"\u001b[39m\u001b[38;5;241m+\u001b[39m \u001b[38;5;28mstr\u001b[39m(\u001b[38;5;28mself\u001b[39m\u001b[38;5;241m.\u001b[39mbalance) \u001b[38;5;241m+\u001b[39m \u001b[38;5;124m\"\u001b[39m\u001b[38;5;124m ₹\u001b[39m\u001b[38;5;124m\"\u001b[39m)\n\u001b[1;32m     29\u001b[0m newAccount \u001b[38;5;241m=\u001b[39m BankAccount()\n\u001b[0;32m---> 30\u001b[0m \u001b[43mnewAccount\u001b[49m\u001b[43m(\u001b[49m\u001b[43m)\u001b[49m\n",
      "\u001b[0;31mTypeError\u001b[0m: 'BankAccount' object is not callable"
     ]
    }
   ],
   "source": [
    "class BankAccount:\n",
    "    \n",
    "    def _init_(self,ac,name,bal):\n",
    "        self.accountNumber=ac\n",
    "        self.name=name\n",
    "        self.balance=bal\n",
    "\n",
    "    def Deposit(self,amt):\n",
    "        self.balance += amt\n",
    "        print(\"Your total balance is : \",self.balance)\n",
    "\n",
    "    def Withdrawal(self,amt):\n",
    "        if(self.balance >= amt):\n",
    "            self.balance -= amt\n",
    "            print(\"Your rest balance is : \",self.balance)\n",
    "\n",
    "        else:\n",
    "            print(\"balance is not sufficient\")\n",
    "\n",
    "    def bankFees(self):\n",
    "        bankFees = 0.05 * self.balance\n",
    "        return bankFees\n",
    "  \n",
    "    def display(self):\n",
    "        print(\"Account Number : \",self.accountNumber)\n",
    "        print(\"Account Name : \",self.name)\n",
    "        print(\"Account Balance : \"+ str(self.balance) + \" ₹\")\n",
    "\n",
    "newAccount = BankAccount()\n",
    "newAccount()\n"
   ]
  },
  {
   "cell_type": "code",
   "execution_count": 16,
   "id": "977c24a4",
   "metadata": {},
   "outputs": [
    {
     "ename": "AttributeError",
     "evalue": "'BankAccount' object has no attribute 'accountNumber'",
     "output_type": "error",
     "traceback": [
      "\u001b[0;31m---------------------------------------------------------------------------\u001b[0m",
      "\u001b[0;31mAttributeError\u001b[0m                            Traceback (most recent call last)",
      "Input \u001b[0;32mIn [16]\u001b[0m, in \u001b[0;36m<cell line: 1>\u001b[0;34m()\u001b[0m\n\u001b[0;32m----> 1\u001b[0m \u001b[43mnewAccount\u001b[49m\u001b[38;5;241;43m.\u001b[39;49m\u001b[43mdisplay\u001b[49m\u001b[43m(\u001b[49m\u001b[43m)\u001b[49m\n",
      "Input \u001b[0;32mIn [15]\u001b[0m, in \u001b[0;36mBankAccount.display\u001b[0;34m(self)\u001b[0m\n\u001b[1;32m     24\u001b[0m \u001b[38;5;28;01mdef\u001b[39;00m \u001b[38;5;21mdisplay\u001b[39m(\u001b[38;5;28mself\u001b[39m):\n\u001b[0;32m---> 25\u001b[0m     \u001b[38;5;28mprint\u001b[39m(\u001b[38;5;124m\"\u001b[39m\u001b[38;5;124mAccount Number : \u001b[39m\u001b[38;5;124m\"\u001b[39m,\u001b[38;5;28;43mself\u001b[39;49m\u001b[38;5;241;43m.\u001b[39;49m\u001b[43maccountNumber\u001b[49m)\n\u001b[1;32m     26\u001b[0m     \u001b[38;5;28mprint\u001b[39m(\u001b[38;5;124m\"\u001b[39m\u001b[38;5;124mAccount Name : \u001b[39m\u001b[38;5;124m\"\u001b[39m,\u001b[38;5;28mself\u001b[39m\u001b[38;5;241m.\u001b[39mname)\n\u001b[1;32m     27\u001b[0m     \u001b[38;5;28mprint\u001b[39m(\u001b[38;5;124m\"\u001b[39m\u001b[38;5;124mAccount Balance : \u001b[39m\u001b[38;5;124m\"\u001b[39m\u001b[38;5;241m+\u001b[39m \u001b[38;5;28mstr\u001b[39m(\u001b[38;5;28mself\u001b[39m\u001b[38;5;241m.\u001b[39mbalance) \u001b[38;5;241m+\u001b[39m \u001b[38;5;124m\"\u001b[39m\u001b[38;5;124m ₹\u001b[39m\u001b[38;5;124m\"\u001b[39m)\n",
      "\u001b[0;31mAttributeError\u001b[0m: 'BankAccount' object has no attribute 'accountNumber'"
     ]
    }
   ],
   "source": [
    "newAccount.display()"
   ]
  },
  {
   "cell_type": "code",
   "execution_count": null,
   "id": "22796848",
   "metadata": {},
   "outputs": [],
   "source": []
  },
  {
   "cell_type": "code",
   "execution_count": null,
   "id": "444d9e71",
   "metadata": {},
   "outputs": [],
   "source": []
  },
  {
   "cell_type": "code",
   "execution_count": null,
   "id": "fc3109cc",
   "metadata": {},
   "outputs": [],
   "source": []
  },
  {
   "cell_type": "code",
   "execution_count": null,
   "id": "42529a87",
   "metadata": {},
   "outputs": [],
   "source": []
  }
 ],
 "metadata": {
  "kernelspec": {
   "display_name": "Python 3 (ipykernel)",
   "language": "python",
   "name": "python3"
  },
  "language_info": {
   "codemirror_mode": {
    "name": "ipython",
    "version": 3
   },
   "file_extension": ".py",
   "mimetype": "text/x-python",
   "name": "python",
   "nbconvert_exporter": "python",
   "pygments_lexer": "ipython3",
   "version": "3.8.10"
  }
 },
 "nbformat": 4,
 "nbformat_minor": 5
}
