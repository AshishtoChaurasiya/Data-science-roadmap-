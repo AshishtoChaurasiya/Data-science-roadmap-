{
 "cells": [
  {
   "cell_type": "code",
   "execution_count": 1,
   "id": "4d9bcaa4",
   "metadata": {},
   "outputs": [
    {
     "name": "stdout",
     "output_type": "stream",
     "text": [
      "Hello World\n"
     ]
    }
   ],
   "source": [
    "print(\"Hello World\")"
   ]
  },
  {
   "cell_type": "code",
   "execution_count": 2,
   "id": "fc71c4bd",
   "metadata": {},
   "outputs": [
    {
     "ename": "KeyboardInterrupt",
     "evalue": "Interrupted by user",
     "output_type": "error",
     "traceback": [
      "\u001b[0;31m---------------------------------------------------------------------------\u001b[0m",
      "\u001b[0;31mKeyboardInterrupt\u001b[0m                         Traceback (most recent call last)",
      "Input \u001b[0;32mIn [2]\u001b[0m, in \u001b[0;36m<cell line: 1>\u001b[0;34m()\u001b[0m\n\u001b[0;32m----> 1\u001b[0m a\u001b[38;5;241m=\u001b[39m\u001b[38;5;28mint\u001b[39m(\u001b[38;5;28;43minput\u001b[39;49m\u001b[43m(\u001b[49m\u001b[38;5;124;43m\"\u001b[39;49m\u001b[38;5;124;43menter the number\u001b[39;49m\u001b[38;5;124;43m\"\u001b[39;49m\u001b[43m)\u001b[49m)\n\u001b[1;32m      2\u001b[0m b\u001b[38;5;241m=\u001b[39m\u001b[38;5;28mint\u001b[39m(\u001b[38;5;28minput\u001b[39m(\u001b[38;5;124m\"\u001b[39m\u001b[38;5;124menter the number\u001b[39m\u001b[38;5;124m\"\u001b[39m))\n\u001b[1;32m      3\u001b[0m c\u001b[38;5;241m=\u001b[39m\u001b[38;5;28mint\u001b[39m(\u001b[38;5;28minput\u001b[39m(\u001b[38;5;124m\"\u001b[39m\u001b[38;5;124menter the number\u001b[39m\u001b[38;5;124m\"\u001b[39m))\n",
      "File \u001b[0;32m~/.local/lib/python3.8/site-packages/ipykernel/kernelbase.py:1161\u001b[0m, in \u001b[0;36mKernel.raw_input\u001b[0;34m(self, prompt)\u001b[0m\n\u001b[1;32m   1157\u001b[0m \u001b[38;5;28;01mif\u001b[39;00m \u001b[38;5;129;01mnot\u001b[39;00m \u001b[38;5;28mself\u001b[39m\u001b[38;5;241m.\u001b[39m_allow_stdin:\n\u001b[1;32m   1158\u001b[0m     \u001b[38;5;28;01mraise\u001b[39;00m StdinNotImplementedError(\n\u001b[1;32m   1159\u001b[0m         \u001b[38;5;124m\"\u001b[39m\u001b[38;5;124mraw_input was called, but this frontend does not support input requests.\u001b[39m\u001b[38;5;124m\"\u001b[39m\n\u001b[1;32m   1160\u001b[0m     )\n\u001b[0;32m-> 1161\u001b[0m \u001b[38;5;28;01mreturn\u001b[39;00m \u001b[38;5;28;43mself\u001b[39;49m\u001b[38;5;241;43m.\u001b[39;49m\u001b[43m_input_request\u001b[49m\u001b[43m(\u001b[49m\n\u001b[1;32m   1162\u001b[0m \u001b[43m    \u001b[49m\u001b[38;5;28;43mstr\u001b[39;49m\u001b[43m(\u001b[49m\u001b[43mprompt\u001b[49m\u001b[43m)\u001b[49m\u001b[43m,\u001b[49m\n\u001b[1;32m   1163\u001b[0m \u001b[43m    \u001b[49m\u001b[38;5;28;43mself\u001b[39;49m\u001b[38;5;241;43m.\u001b[39;49m\u001b[43m_parent_ident\u001b[49m\u001b[43m[\u001b[49m\u001b[38;5;124;43m\"\u001b[39;49m\u001b[38;5;124;43mshell\u001b[39;49m\u001b[38;5;124;43m\"\u001b[39;49m\u001b[43m]\u001b[49m\u001b[43m,\u001b[49m\n\u001b[1;32m   1164\u001b[0m \u001b[43m    \u001b[49m\u001b[38;5;28;43mself\u001b[39;49m\u001b[38;5;241;43m.\u001b[39;49m\u001b[43mget_parent\u001b[49m\u001b[43m(\u001b[49m\u001b[38;5;124;43m\"\u001b[39;49m\u001b[38;5;124;43mshell\u001b[39;49m\u001b[38;5;124;43m\"\u001b[39;49m\u001b[43m)\u001b[49m\u001b[43m,\u001b[49m\n\u001b[1;32m   1165\u001b[0m \u001b[43m    \u001b[49m\u001b[43mpassword\u001b[49m\u001b[38;5;241;43m=\u001b[39;49m\u001b[38;5;28;43;01mFalse\u001b[39;49;00m\u001b[43m,\u001b[49m\n\u001b[1;32m   1166\u001b[0m \u001b[43m\u001b[49m\u001b[43m)\u001b[49m\n",
      "File \u001b[0;32m~/.local/lib/python3.8/site-packages/ipykernel/kernelbase.py:1205\u001b[0m, in \u001b[0;36mKernel._input_request\u001b[0;34m(self, prompt, ident, parent, password)\u001b[0m\n\u001b[1;32m   1202\u001b[0m             \u001b[38;5;28;01mbreak\u001b[39;00m\n\u001b[1;32m   1203\u001b[0m \u001b[38;5;28;01mexcept\u001b[39;00m \u001b[38;5;167;01mKeyboardInterrupt\u001b[39;00m:\n\u001b[1;32m   1204\u001b[0m     \u001b[38;5;66;03m# re-raise KeyboardInterrupt, to truncate traceback\u001b[39;00m\n\u001b[0;32m-> 1205\u001b[0m     \u001b[38;5;28;01mraise\u001b[39;00m \u001b[38;5;167;01mKeyboardInterrupt\u001b[39;00m(\u001b[38;5;124m\"\u001b[39m\u001b[38;5;124mInterrupted by user\u001b[39m\u001b[38;5;124m\"\u001b[39m) \u001b[38;5;28;01mfrom\u001b[39;00m \u001b[38;5;28mNone\u001b[39m\n\u001b[1;32m   1206\u001b[0m \u001b[38;5;28;01mexcept\u001b[39;00m \u001b[38;5;167;01mException\u001b[39;00m:\n\u001b[1;32m   1207\u001b[0m     \u001b[38;5;28mself\u001b[39m\u001b[38;5;241m.\u001b[39mlog\u001b[38;5;241m.\u001b[39mwarning(\u001b[38;5;124m\"\u001b[39m\u001b[38;5;124mInvalid Message:\u001b[39m\u001b[38;5;124m\"\u001b[39m, exc_info\u001b[38;5;241m=\u001b[39m\u001b[38;5;28;01mTrue\u001b[39;00m)\n",
      "\u001b[0;31mKeyboardInterrupt\u001b[0m: Interrupted by user"
     ]
    }
   ],
   "source": [
    "a=int(input(\"enter the number\"))\n",
    "b=int(input(\"enter the number\"))\n",
    "c=int(input(\"enter the number\"))\n",
    "name=input(\"Enter the name\")\n",
    "d=(a+b)/c\n",
    "z=3 + 2j\n",
    "e=d+z\n",
    "f=(\"e\"+\"hish\")\n",
    "f\n"
   ]
  },
  {
   "cell_type": "code",
   "execution_count": 3,
   "id": "57a4277f",
   "metadata": {},
   "outputs": [],
   "source": [
    "s=\"India, officially the Republic of India, is a country in South Asia. It is the seventh-largest country by area, the second-most populous country, and the most populous democracy in the world.\""
   ]
  },
  {
   "cell_type": "code",
   "execution_count": 4,
   "id": "df6a885e",
   "metadata": {},
   "outputs": [
    {
     "data": {
      "text/plain": [
       "'iNDIA, OFFICIALLY THE rEPUBLIC OF iNDIA, IS A COUNTRY IN sOUTH aSIA. iT IS THE SEVENTH-LARGEST COUNTRY BY AREA, THE SECOND-MOST POPULOUS COUNTRY, AND THE MOST POPULOUS DEMOCRACY IN THE WORLD.'"
      ]
     },
     "execution_count": 4,
     "metadata": {},
     "output_type": "execute_result"
    }
   ],
   "source": [
    "s.swapcase()"
   ]
  },
  {
   "cell_type": "code",
   "execution_count": 5,
   "id": "dfedc4f3",
   "metadata": {},
   "outputs": [
    {
     "data": {
      "text/plain": [
       "'India, Officially The Republic Of India, Is A Country In South Asia. It Is The Seventh-Largest Country By Area, The Second-Most Populous Country, And The Most Populous Democracy In The World.'"
      ]
     },
     "execution_count": 5,
     "metadata": {},
     "output_type": "execute_result"
    }
   ],
   "source": [
    "s.title()"
   ]
  },
  {
   "cell_type": "code",
   "execution_count": 6,
   "id": "3083506e",
   "metadata": {},
   "outputs": [
    {
     "data": {
      "text/plain": [
       "'.dlrow eht ni ycarcomed suolupop tsom eht dna ,yrtnuoc suolupop tsom-dnoces eht ,aera yb yrtnuoc tsegral-htneves eht si tI .aisA htuoS ni yrtnuoc a si ,aidnI fo cilbupeR eht yllaiciffo ,aidnI'"
      ]
     },
     "execution_count": 6,
     "metadata": {},
     "output_type": "execute_result"
    }
   ],
   "source": [
    "''.join(reversed(s))"
   ]
  },
  {
   "cell_type": "code",
   "execution_count": 7,
   "id": "7e4295cf",
   "metadata": {},
   "outputs": [
    {
     "data": {
      "text/plain": [
       "'.dlrow eht ni ycarcomed suolupop tsom eht dna ,yrtnuoc suolupop tsom-dnoces eht ,aera yb yrtnuoc tsegral-htneves eht si tI .aisA htuoS ni yrtnuoc a si ,aidnI fo cilbupeR eht yllaiciffo ,aidnI'"
      ]
     },
     "execution_count": 7,
     "metadata": {},
     "output_type": "execute_result"
    }
   ],
   "source": [
    "s[::-1]"
   ]
  },
  {
   "cell_type": "code",
   "execution_count": 8,
   "id": "2fc3d82a",
   "metadata": {},
   "outputs": [],
   "source": [
    "s=\"   sudh   \""
   ]
  },
  {
   "cell_type": "code",
   "execution_count": 9,
   "id": "43777f4a",
   "metadata": {},
   "outputs": [
    {
     "data": {
      "text/plain": [
       "'sudh'"
      ]
     },
     "execution_count": 9,
     "metadata": {},
     "output_type": "execute_result"
    }
   ],
   "source": [
    "s.strip()"
   ]
  },
  {
   "cell_type": "code",
   "execution_count": 10,
   "id": "d0584217",
   "metadata": {},
   "outputs": [
    {
     "data": {
      "text/plain": [
       "'   sudh   '"
      ]
     },
     "execution_count": 10,
     "metadata": {},
     "output_type": "execute_result"
    }
   ],
   "source": [
    " s"
   ]
  },
  {
   "cell_type": "code",
   "execution_count": 11,
   "id": "e83d9324",
   "metadata": {},
   "outputs": [
    {
     "data": {
      "text/plain": [
       "'sudh   '"
      ]
     },
     "execution_count": 11,
     "metadata": {},
     "output_type": "execute_result"
    }
   ],
   "source": [
    "s.lstrip()"
   ]
  },
  {
   "cell_type": "code",
   "execution_count": 12,
   "id": "b90eea07",
   "metadata": {},
   "outputs": [
    {
     "data": {
      "text/plain": [
       "'   sudh'"
      ]
     },
     "execution_count": 12,
     "metadata": {},
     "output_type": "execute_result"
    }
   ],
   "source": [
    "s.rstrip()"
   ]
  },
  {
   "cell_type": "code",
   "execution_count": 13,
   "id": "f840a6bc",
   "metadata": {},
   "outputs": [
    {
     "data": {
      "text/plain": [
       "'      s u d h      '"
      ]
     },
     "execution_count": 13,
     "metadata": {},
     "output_type": "execute_result"
    }
   ],
   "source": [
    "\" \".join(s)"
   ]
  },
  {
   "cell_type": "code",
   "execution_count": 14,
   "id": "5ce4d1f7",
   "metadata": {},
   "outputs": [
    {
     "data": {
      "text/plain": [
       "' a a asauadaha a a '"
      ]
     },
     "execution_count": 14,
     "metadata": {},
     "output_type": "execute_result"
    }
   ],
   "source": [
    "\"a\".join(s)"
   ]
  },
  {
   "cell_type": "code",
   "execution_count": 15,
   "id": "c439c6f4",
   "metadata": {},
   "outputs": [
    {
     "data": {
      "text/plain": [
       "'zzz   sudh   zz'"
      ]
     },
     "execution_count": 15,
     "metadata": {},
     "output_type": "execute_result"
    }
   ],
   "source": [
    "s.center(15, 'z')"
   ]
  },
  {
   "cell_type": "code",
   "execution_count": 16,
   "id": "35a12af7",
   "metadata": {},
   "outputs": [
    {
     "data": {
      "text/plain": [
       "'#####   sudh   #####'"
      ]
     },
     "execution_count": 16,
     "metadata": {},
     "output_type": "execute_result"
    }
   ],
   "source": [
    "s.center(20,'#')"
   ]
  },
  {
   "cell_type": "code",
   "execution_count": 17,
   "id": "80759ad7",
   "metadata": {},
   "outputs": [
    {
     "data": {
      "text/plain": [
       "False"
      ]
     },
     "execution_count": 17,
     "metadata": {},
     "output_type": "execute_result"
    }
   ],
   "source": [
    "s.isupper()"
   ]
  },
  {
   "cell_type": "code",
   "execution_count": 18,
   "id": "7f7b2bdd",
   "metadata": {},
   "outputs": [
    {
     "data": {
      "text/plain": [
       "True"
      ]
     },
     "execution_count": 18,
     "metadata": {},
     "output_type": "execute_result"
    }
   ],
   "source": [
    "s.islower()"
   ]
  },
  {
   "cell_type": "code",
   "execution_count": 19,
   "id": "5c7dd724",
   "metadata": {},
   "outputs": [
    {
     "data": {
      "text/plain": [
       "False"
      ]
     },
     "execution_count": 19,
     "metadata": {},
     "output_type": "execute_result"
    }
   ],
   "source": [
    "s.isdigit()"
   ]
  },
  {
   "cell_type": "code",
   "execution_count": 20,
   "id": "256ca704",
   "metadata": {},
   "outputs": [
    {
     "data": {
      "text/plain": [
       "True"
      ]
     },
     "execution_count": 20,
     "metadata": {},
     "output_type": "execute_result"
    }
   ],
   "source": [
    "s5=\"12345\"\n",
    "s5.isdigit()"
   ]
  },
  {
   "cell_type": "code",
   "execution_count": 21,
   "id": "476b8224",
   "metadata": {},
   "outputs": [
    {
     "data": {
      "text/plain": [
       "True"
      ]
     },
     "execution_count": 21,
     "metadata": {},
     "output_type": "execute_result"
    }
   ],
   "source": [
    "s6=\"ashis23\"\n",
    "s6.isalnum()"
   ]
  },
  {
   "cell_type": "code",
   "execution_count": 23,
   "id": "83da2352",
   "metadata": {},
   "outputs": [
    {
     "data": {
      "text/plain": [
       "False"
      ]
     },
     "execution_count": 23,
     "metadata": {},
     "output_type": "execute_result"
    }
   ],
   "source": [
    "s6.isalpha()"
   ]
  },
  {
   "cell_type": "code",
   "execution_count": 24,
   "id": "84c6c42c",
   "metadata": {},
   "outputs": [
    {
     "data": {
      "text/plain": [
       "True"
      ]
     },
     "execution_count": 24,
     "metadata": {},
     "output_type": "execute_result"
    }
   ],
   "source": [
    "s7=\"sadfsadf\"\n",
    "s7.isalpha()"
   ]
  },
  {
   "cell_type": "code",
   "execution_count": 26,
   "id": "5a78a6a8",
   "metadata": {},
   "outputs": [
    {
     "data": {
      "text/plain": [
       "True"
      ]
     },
     "execution_count": 26,
     "metadata": {},
     "output_type": "execute_result"
    }
   ],
   "source": [
    "s7.startswith('s')"
   ]
  },
  {
   "cell_type": "code",
   "execution_count": 27,
   "id": "3f082f37",
   "metadata": {},
   "outputs": [
    {
     "data": {
      "text/plain": [
       "True"
      ]
     },
     "execution_count": 27,
     "metadata": {},
     "output_type": "execute_result"
    }
   ],
   "source": [
    "s7.endswith('f')"
   ]
  },
  {
   "cell_type": "code",
   "execution_count": 28,
   "id": "2ef86b39",
   "metadata": {},
   "outputs": [
    {
     "data": {
      "text/plain": [
       "False"
      ]
     },
     "execution_count": 28,
     "metadata": {},
     "output_type": "execute_result"
    }
   ],
   "source": [
    "s7.isnumeric()"
   ]
  },
  {
   "cell_type": "code",
   "execution_count": 33,
   "id": "cd413a01",
   "metadata": {},
   "outputs": [
    {
     "data": {
      "text/plain": [
       "True"
      ]
     },
     "execution_count": 33,
     "metadata": {},
     "output_type": "execute_result"
    }
   ],
   "source": [
    "s8=\"123\"\n",
    "s8.isnumeric()"
   ]
  },
  {
   "cell_type": "code",
   "execution_count": 34,
   "id": "158d2ae3",
   "metadata": {},
   "outputs": [
    {
     "data": {
      "text/plain": [
       "True"
      ]
     },
     "execution_count": 34,
     "metadata": {},
     "output_type": "execute_result"
    }
   ],
   "source": [
    "s7.isascii()"
   ]
  },
  {
   "cell_type": "code",
   "execution_count": 39,
   "id": "64552ee0",
   "metadata": {},
   "outputs": [
    {
     "data": {
      "text/plain": [
       "True"
      ]
     },
     "execution_count": 39,
     "metadata": {},
     "output_type": "execute_result"
    }
   ],
   "source": [
    "s9=\"    \"\n",
    "s9.isspace()"
   ]
  },
  {
   "cell_type": "code",
   "execution_count": 41,
   "id": "c47a8219",
   "metadata": {},
   "outputs": [
    {
     "data": {
      "text/plain": [
       "False"
      ]
     },
     "execution_count": 41,
     "metadata": {},
     "output_type": "execute_result"
    }
   ],
   "source": [
    "s1=\"234234.342\"\n",
    "s1.isnumeric()"
   ]
  },
  {
   "cell_type": "code",
   "execution_count": 45,
   "id": "cbd71c19",
   "metadata": {},
   "outputs": [],
   "source": [
    "s= 'Ashish\\\\Kumar\\\\Chaurasiya\\\\Data Science'"
   ]
  },
  {
   "cell_type": "code",
   "execution_count": 46,
   "id": "f2dad9f2",
   "metadata": {},
   "outputs": [
    {
     "data": {
      "text/plain": [
       "'Ashish\\\\Kumar\\\\Chaurasiya\\\\Data Science'"
      ]
     },
     "execution_count": 46,
     "metadata": {},
     "output_type": "execute_result"
    }
   ],
   "source": [
    "s.expandtabs()"
   ]
  },
  {
   "cell_type": "code",
   "execution_count": 1,
   "id": "c5eeae69",
   "metadata": {},
   "outputs": [],
   "source": [
    "s= \"this is my First Python programmin class and i am leraning python string and its function\""
   ]
  },
  {
   "cell_type": "code",
   "execution_count": 1,
   "id": "21690514",
   "metadata": {},
   "outputs": [
    {
     "name": "stdout",
     "output_type": "stream",
     "text": [
      "ylyphant\n"
     ]
    }
   ],
   "source": [
    "# You have given a string v='elephant'\n",
    "v = 'elephant'\n",
    "# print(v.replace('e','y'))\n",
    "a = list(v)\n",
    "b = []\n",
    "for i in a:\n",
    "    if i == 'e':\n",
    "        i = 'y'\n",
    "    b.append(i)\n",
    "print(''.join(b))\n",
    "# a=list(v)\n",
    "# if 'e' in a:\n",
    "\n",
    "# Replace all 'e' with 'y'\n",
    "# output:'ylyphant'"
   ]
  },
  {
   "cell_type": "code",
   "execution_count": 1,
   "id": "ab4a7c35",
   "metadata": {},
   "outputs": [
    {
     "name": "stdout",
     "output_type": "stream",
     "text": [
      "V= 4  C= 6\n"
     ]
    }
   ],
   "source": [
    "# Calculate the number vowels and consonets for val='Alan Walker'\n",
    "val = 'Alan Walker'\n",
    "val=val.split(\" \")\n",
    "V=val[0]\n",
    "C=val[1]\n",
    "print(\"V=\",len(V),\" C=\",len(C))\n",
    "\n",
    "# output: V=4 C=6"
   ]
  },
  {
   "cell_type": "code",
   "execution_count": 13,
   "id": "335d114e",
   "metadata": {},
   "outputs": [
    {
     "name": "stdout",
     "output_type": "stream",
     "text": [
      "ABCDEFGHIJKLMNOPQRSTUVWXYZ"
     ]
    }
   ],
   "source": [
    "# calculate a program which will create a string from A-Z\n",
    "for i in range(65,91):\n",
    "    print(chr(i),end = '')\n",
    "# output= \n",
    "# Temp=\"ABCDEFGHIJKLMNOPQRSTUVWXYZ\""
   ]
  },
  {
   "cell_type": "code",
   "execution_count": 56,
   "id": "d2fef44a",
   "metadata": {},
   "outputs": [
    {
     "name": "stdout",
     "output_type": "stream",
     "text": [
      "String after: thiS iS mY caT anD I lovE iT\n"
     ]
    }
   ],
   "source": [
    "# Given a string below\n",
    "Temp='this is my cat and I love it'\n",
    "a = Temp.split()\n",
    "li = []\n",
    "for i in a:\n",
    "#     print()\n",
    "    x = i[0:-1]+i[-1].upper()\n",
    "    li.append(x)\n",
    "li =\" \".join(li)\n",
    "print(\"String after:\", li)\n",
    "#     result = i[:-1] + i[-1].upper()\n",
    "# print(result)"
   ]
  },
  {
   "cell_type": "code",
   "execution_count": 92,
   "id": "8745dc44",
   "metadata": {},
   "outputs": [
    {
     "name": "stdout",
     "output_type": "stream",
     "text": [
      "String after: Siht si ym tac dna i evol ti\n"
     ]
    }
   ],
   "source": [
    "# output: 'Siht si ym tac dna i evol ti'\n",
    "Temp='this is my cat and I love it'\n",
    "a = Temp.split()\n",
    "li = []\n",
    "for j in a:\n",
    "    li.append(j[::-1])\n",
    "a=' '.join([str(i) for i in li ])\n",
    "a=a.capitalize()\n",
    "\n",
    "print(\"String after:\",a)"
   ]
  },
  {
   "cell_type": "code",
   "execution_count": 117,
   "id": "ba94d1a0",
   "metadata": {},
   "outputs": [
    {
     "name": "stdout",
     "output_type": "stream",
     "text": [
      "is this cat my I and it love\n",
      "Is this cat my i and it love\n"
     ]
    }
   ],
   "source": [
    "# output: 'Is this cat my I and it love'\n",
    "Temp='this is my cat and I love it'\n",
    "a = Temp.split()\n",
    "s=1\n",
    "li=[]\n",
    "for i in a[::2]:\n",
    "    li.append(a[s])\n",
    "    li.append(i)\n",
    "    s=s+2\n",
    "a=' '.join([str(i) for i in li])\n",
    "print(a)\n",
    "a=a.capitalize()\n",
    "print(a)"
   ]
  },
  {
   "cell_type": "code",
   "execution_count": 7,
   "id": "9b3d6d88",
   "metadata": {},
   "outputs": [],
   "source": [
    "# Write a program convert this string into following cases:\n",
    "# output: 'thiS iS mY caT anD I lovE iT'\n",
    "# output: 'Siht si ym tac dna i evol ti'\n",
    "# output: 'Is this cat my I and it love'"
   ]
  },
  {
   "cell_type": "code",
   "execution_count": 3,
   "id": "5ec10e61",
   "metadata": {},
   "outputs": [
    {
     "name": "stdout",
     "output_type": "stream",
     "text": [
      "w\n",
      "a\n",
      "l\n",
      "k\n",
      "e\n",
      "r\n"
     ]
    }
   ],
   "source": [
    "# Given a string val1 = 'walker' & val2='ramesh'\n",
    "# output:\n",
    "val1 = 'walker'\n",
    "val2='ramesh'\n",
    "\n",
    "for i in val1:\n",
    "    print(i)\n",
    "# Create a new string with this two as val=\"wraalmkesrh\""
   ]
  },
  {
   "cell_type": "code",
   "execution_count": 10,
   "id": "3bb24056",
   "metadata": {},
   "outputs": [],
   "source": [
    "# Input a string from user and display the count of each unique character\n",
    "# output:\n",
    "# str='nitin'\n",
    "# n=2\n",
    "# i=2\n",
    "# t=1"
   ]
  },
  {
   "cell_type": "code",
   "execution_count": 11,
   "id": "bbfa10b8",
   "metadata": {},
   "outputs": [],
   "source": [
    "# You have given a string val='a7j2v4k5'\n",
    "# output:\n",
    "# 'aaaaaaajjvvvvkkkkk'"
   ]
  },
  {
   "cell_type": "code",
   "execution_count": 12,
   "id": "070047dc",
   "metadata": {},
   "outputs": [],
   "source": [
    "# you have given a string val='elephant'\n",
    "# output:'elleeepppphhhhhaaaaaannnnnnntttttttt'"
   ]
  },
  {
   "cell_type": "code",
   "execution_count": 13,
   "id": "b29fc903",
   "metadata": {},
   "outputs": [],
   "source": [
    "# input a email from user check whether it ends with '@gmail.com' without using endswith fucntion"
   ]
  },
  {
   "cell_type": "code",
   "execution_count": 2,
   "id": "aefd5efe",
   "metadata": {},
   "outputs": [
    {
     "name": "stdout",
     "output_type": "stream",
     "text": [
      "much very program this like i\n"
     ]
    }
   ],
   "source": [
    "def reverse_word(s, start, end):\n",
    "    while start < end:\n",
    "        s[start], s[end] = s[end], s[start]\n",
    "        start = start + 1\n",
    "        end -= 1\n",
    " \n",
    " \n",
    "s = \"i like this program very much\"\n",
    " \n",
    "# Convert string to list to use it as a char array\n",
    "s = list(s)\n",
    "start = 0\n",
    "while True:\n",
    "     \n",
    "    # We use a try catch block because for\n",
    "    # the last word the list.index() function\n",
    "    # returns a ValueError as it cannot find\n",
    "    # a space in the list\n",
    "    try:\n",
    "        # Find the next space\n",
    "        end = s.index(' ', start)\n",
    " \n",
    "        # Call reverse_word function\n",
    "        # to reverse each word\n",
    "        reverse_word(s, start, end - 1)\n",
    " \n",
    "        #Update start variable\n",
    "        start = end + 1\n",
    " \n",
    "    except ValueError:\n",
    " \n",
    "        # Reverse the last word\n",
    "        reverse_word(s, start, len(s) - 1)\n",
    "        break\n",
    " \n",
    "# Reverse the entire list\n",
    "s.reverse()\n",
    " \n",
    "# Convert the list back to\n",
    "# string using string.join() function\n",
    "s = \"\".join(s)\n",
    " \n",
    "print(s)"
   ]
  }
 ],
 "metadata": {
  "kernelspec": {
   "display_name": "Python 3 (ipykernel)",
   "language": "python",
   "name": "python3"
  },
  "language_info": {
   "codemirror_mode": {
    "name": "ipython",
    "version": 3
   },
   "file_extension": ".py",
   "mimetype": "text/x-python",
   "name": "python",
   "nbconvert_exporter": "python",
   "pygments_lexer": "ipython3",
   "version": "3.8.10"
  }
 },
 "nbformat": 4,
 "nbformat_minor": 5
}
