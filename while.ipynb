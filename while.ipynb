{
 "cells": [
  {
   "cell_type": "code",
   "execution_count": 3,
   "id": "17824a38",
   "metadata": {},
   "outputs": [
    {
     "name": "stdout",
     "output_type": "stream",
     "text": [
      "1\n",
      "2\n",
      "3\n",
      "4\n",
      "5\n",
      "6\n",
      "7\n",
      "8\n",
      "9\n",
      "10\n"
     ]
    }
   ],
   "source": [
    "a = 1\n",
    "b=10\n",
    "while a<=b:\n",
    "    print(a)\n",
    "    a=a+1"
   ]
  },
  {
   "cell_type": "code",
   "execution_count": 4,
   "id": "5e7f166b",
   "metadata": {},
   "outputs": [
    {
     "name": "stdout",
     "output_type": "stream",
     "text": [
      "1\n",
      "3\n",
      "5\n",
      "7\n",
      "9\n",
      "print the else block\n"
     ]
    }
   ],
   "source": [
    "a=1\n",
    "b=10\n",
    "while a<=b:\n",
    "    print(a)\n",
    "    a=a+2\n",
    "else:\n",
    "    print(\"print the else block\")"
   ]
  },
  {
   "cell_type": "code",
   "execution_count": 5,
   "id": "2321a393",
   "metadata": {},
   "outputs": [
    {
     "name": "stdout",
     "output_type": "stream",
     "text": [
      "1\n",
      "2\n",
      "3\n",
      "4\n",
      "5\n"
     ]
    }
   ],
   "source": [
    "a=1\n",
    "b=10\n",
    "while a<10:\n",
    "    print(a)\n",
    "    if a==5:\n",
    "        break\n",
    "    a=a+1\n",
    "else:\n",
    "    print(\"Print this\")"
   ]
  },
  {
   "cell_type": "code",
   "execution_count": 12,
   "id": "90a656bf",
   "metadata": {},
   "outputs": [
    {
     "name": "stdout",
     "output_type": "stream",
     "text": [
      "2\n",
      "3\n",
      "4\n",
      "6\n",
      "7\n",
      "8\n",
      "9\n",
      "10\n"
     ]
    }
   ],
   "source": [
    "a=1\n",
    "b=10\n",
    "while a<10:\n",
    "    a=a+1\n",
    "    if a==5:\n",
    "        continue\n",
    "    print(a)"
   ]
  },
  {
   "cell_type": "code",
   "execution_count": 13,
   "id": "c6556d9a",
   "metadata": {},
   "outputs": [
    {
     "name": "stdout",
     "output_type": "stream",
     "text": [
      "2\n",
      "3\n",
      "4\n",
      "5\n",
      "6\n",
      "7\n",
      "8\n",
      "9\n",
      "10\n"
     ]
    }
   ],
   "source": [
    "a=1\n",
    "b=10\n",
    "while a<10:\n",
    "    a=a+1\n",
    "    if a==5:\n",
    "        pass\n",
    "    print(a)"
   ]
  },
  {
   "cell_type": "code",
   "execution_count": 18,
   "id": "6c372ee4",
   "metadata": {},
   "outputs": [
    {
     "name": "stdout",
     "output_type": "stream",
     "text": [
      "1\n",
      "2\n",
      "3\n",
      "4\n",
      "65\n",
      "56\n"
     ]
    }
   ],
   "source": [
    "l=(1,2,3,4,65,56)\n",
    "for i in range(len(l)):\n",
    "    print(l[i])"
   ]
  },
  {
   "cell_type": "code",
   "execution_count": 19,
   "id": "b13e3965",
   "metadata": {},
   "outputs": [
    {
     "name": "stdout",
     "output_type": "stream",
     "text": [
      "1\n",
      "2\n",
      "3\n",
      "4\n",
      "65\n",
      "56\n"
     ]
    }
   ],
   "source": [
    "a=0\n",
    "while a<len(l):\n",
    "    print(l[a])\n",
    "    a=a+1"
   ]
  },
  {
   "cell_type": "code",
   "execution_count": 20,
   "id": "677c279e",
   "metadata": {},
   "outputs": [],
   "source": [
    "t=(3,4,5,6,7,8,9)"
   ]
  },
  {
   "cell_type": "code",
   "execution_count": 21,
   "id": "682b8bbd",
   "metadata": {},
   "outputs": [
    {
     "name": "stdout",
     "output_type": "stream",
     "text": [
      "3\n",
      "4\n"
     ]
    }
   ],
   "source": [
    "a=0\n",
    "while a<len(t):\n",
    "    if t[a] ==6 or t[a]==7:\n",
    "        print(a)\n",
    "    a=a+1"
   ]
  },
  {
   "cell_type": "code",
   "execution_count": 37,
   "id": "3fd38356",
   "metadata": {},
   "outputs": [],
   "source": [
    "t=[3,4,5,6,7,8,9]\n",
    "a=-1\n",
    "while a>=len(t):\n",
    "    if t[a]==6 or t[a]==7:\n",
    "        print(\"index of\",t[a],'is',a)\n",
    "\n",
    "    a=a-1"
   ]
  },
  {
   "cell_type": "code",
   "execution_count": 38,
   "id": "779cf066",
   "metadata": {},
   "outputs": [],
   "source": [
    "d={'k1':'ashish','k2':[1,2,3,4],'k3':(2,3,4,5)}"
   ]
  },
  {
   "cell_type": "code",
   "execution_count": 39,
   "id": "c3994243",
   "metadata": {},
   "outputs": [
    {
     "name": "stdout",
     "output_type": "stream",
     "text": [
      "ashish\n",
      "[1, 2, 3, 4]\n",
      "(2, 3, 4, 5)\n"
     ]
    }
   ],
   "source": [
    "a=0\n",
    "b=list(d.keys())\n",
    "while a< len(d):\n",
    "    print(d[b[a]])\n",
    "    a=a+1"
   ]
  },
  {
   "cell_type": "code",
   "execution_count": 40,
   "id": "0a2676e6",
   "metadata": {},
   "outputs": [],
   "source": [
    "b=list(d.keys())"
   ]
  },
  {
   "cell_type": "code",
   "execution_count": 41,
   "id": "f1ffbd14",
   "metadata": {},
   "outputs": [
    {
     "data": {
      "text/plain": [
       "['k1', 'k2', 'k3']"
      ]
     },
     "execution_count": 41,
     "metadata": {},
     "output_type": "execute_result"
    }
   ],
   "source": [
    "b"
   ]
  },
  {
   "cell_type": "code",
   "execution_count": 42,
   "id": "6dc5bb99",
   "metadata": {},
   "outputs": [
    {
     "data": {
      "text/plain": [
       "['ashish', [1, 2, 3, 4], (2, 3, 4, 5)]"
      ]
     },
     "execution_count": 42,
     "metadata": {},
     "output_type": "execute_result"
    }
   ],
   "source": [
    "b=list(d.values())\n",
    "b"
   ]
  },
  {
   "cell_type": "code",
   "execution_count": 44,
   "id": "d57d4f86",
   "metadata": {},
   "outputs": [],
   "source": [
    "# len()\n",
    "# range()\n",
    "# print()\n",
    "# keys()\n",
    "# values()\n",
    "# items\n",
    "# append\n",
    "# pop\n",
    "# insert\n",
    "# extend\n"
   ]
  },
  {
   "cell_type": "code",
   "execution_count": 45,
   "id": "0bf5971f",
   "metadata": {},
   "outputs": [],
   "source": [
    "# function"
   ]
  },
  {
   "cell_type": "code",
   "execution_count": 46,
   "id": "5ddea789",
   "metadata": {},
   "outputs": [],
   "source": [
    "def test():\n",
    "    print(\"this is my first function\")"
   ]
  },
  {
   "cell_type": "code",
   "execution_count": 47,
   "id": "8679e2e5",
   "metadata": {},
   "outputs": [
    {
     "name": "stdout",
     "output_type": "stream",
     "text": [
      "this is my first function\n"
     ]
    }
   ],
   "source": [
    "test()"
   ]
  },
  {
   "cell_type": "code",
   "execution_count": 48,
   "id": "a3955c92",
   "metadata": {},
   "outputs": [
    {
     "name": "stdout",
     "output_type": "stream",
     "text": [
      "this is my first function\n"
     ]
    },
    {
     "data": {
      "text/plain": [
       "NoneType"
      ]
     },
     "execution_count": 48,
     "metadata": {},
     "output_type": "execute_result"
    }
   ],
   "source": [
    "type(test())"
   ]
  },
  {
   "cell_type": "code",
   "execution_count": 49,
   "id": "ac6e7604",
   "metadata": {},
   "outputs": [],
   "source": [
    "def test():\n",
    "    a=1\n",
    "    b=10\n",
    "    while a<=b:\n",
    "        print(a)\n",
    "        a=a+2\n",
    "    else:\n",
    "        print(\"this is else block\")\n",
    "        "
   ]
  },
  {
   "cell_type": "code",
   "execution_count": 50,
   "id": "27d2e8ff",
   "metadata": {},
   "outputs": [
    {
     "name": "stdout",
     "output_type": "stream",
     "text": [
      "1\n",
      "3\n",
      "5\n",
      "7\n",
      "9\n",
      "this is else block\n"
     ]
    }
   ],
   "source": [
    "test()"
   ]
  },
  {
   "cell_type": "code",
   "execution_count": 51,
   "id": "4466e9c5",
   "metadata": {},
   "outputs": [
    {
     "name": "stdout",
     "output_type": "stream",
     "text": [
      "1\n",
      "3\n",
      "5\n",
      "7\n",
      "9\n",
      "this is else block\n"
     ]
    }
   ],
   "source": [
    "test()"
   ]
  },
  {
   "cell_type": "code",
   "execution_count": 55,
   "id": "8c20451b",
   "metadata": {},
   "outputs": [
    {
     "data": {
      "text/plain": [
       "4"
      ]
     },
     "execution_count": 55,
     "metadata": {},
     "output_type": "execute_result"
    }
   ],
   "source": [
    "def test(a,b):\n",
    "    while a<=b:\n",
    "        return a\n",
    "#         print(a)\n",
    "        a=a+2\n",
    "    else:\n",
    "        print(\"this is else block\")\n",
    "test(4,10)"
   ]
  },
  {
   "cell_type": "code",
   "execution_count": 57,
   "id": "c47daa01",
   "metadata": {},
   "outputs": [
    {
     "data": {
      "text/plain": [
       "int"
      ]
     },
     "execution_count": 57,
     "metadata": {},
     "output_type": "execute_result"
    }
   ],
   "source": [
    "type(test(4,15))"
   ]
  },
  {
   "cell_type": "code",
   "execution_count": 58,
   "id": "c3e6e823",
   "metadata": {},
   "outputs": [],
   "source": [
    "li=[]\n",
    "for i in l:\n",
    "    if type(i) == int:\n",
    "        li.append(i)"
   ]
  },
  {
   "cell_type": "code",
   "execution_count": 59,
   "id": "95116f0b",
   "metadata": {},
   "outputs": [
    {
     "data": {
      "text/plain": [
       "[1, 2, 3, 4, 65, 56]"
      ]
     },
     "execution_count": 59,
     "metadata": {},
     "output_type": "execute_result"
    }
   ],
   "source": [
    "li"
   ]
  },
  {
   "cell_type": "code",
   "execution_count": 14,
   "id": "e07f6cfe",
   "metadata": {},
   "outputs": [
    {
     "name": "stdout",
     "output_type": "stream",
     "text": [
      "2\n",
      "3\n"
     ]
    },
    {
     "ename": "ValueError",
     "evalue": "not enough values to unpack (expected 2, got 1)",
     "output_type": "error",
     "traceback": [
      "\u001b[0;31m---------------------------------------------------------------------------\u001b[0m",
      "\u001b[0;31mValueError\u001b[0m                                Traceback (most recent call last)",
      "Input \u001b[0;32mIn [14]\u001b[0m, in \u001b[0;36m<cell line: 2>\u001b[0;34m()\u001b[0m\n\u001b[1;32m      1\u001b[0m t\u001b[38;5;241m=\u001b[39m\u001b[38;5;28mint\u001b[39m(\u001b[38;5;28minput\u001b[39m())\n\u001b[1;32m      2\u001b[0m \u001b[38;5;28;01mfor\u001b[39;00m i \u001b[38;5;129;01min\u001b[39;00m \u001b[38;5;28mrange\u001b[39m(t):\n\u001b[0;32m----> 3\u001b[0m     X,Y\u001b[38;5;241m=\u001b[39m\u001b[38;5;28mmap\u001b[39m(\u001b[38;5;28mint\u001b[39m,\u001b[38;5;28minput\u001b[39m()\u001b[38;5;241m.\u001b[39msplit())\n\u001b[1;32m      4\u001b[0m \u001b[38;5;28mprint\u001b[39m(\u001b[38;5;28mmax\u001b[39m(X,Y))\n",
      "\u001b[0;31mValueError\u001b[0m: not enough values to unpack (expected 2, got 1)"
     ]
    }
   ],
   "source": [
    "t=int(input())\n",
    "for i in range(t):\n",
    "    X,Y=map(int,input().split())\n",
    "print(max(X,Y))"
   ]
  },
  {
   "cell_type": "code",
   "execution_count": null,
   "id": "81e82002",
   "metadata": {},
   "outputs": [],
   "source": [
    "## "
   ]
  }
 ],
 "metadata": {
  "kernelspec": {
   "display_name": "Python 3 (ipykernel)",
   "language": "python",
   "name": "python3"
  },
  "language_info": {
   "codemirror_mode": {
    "name": "ipython",
    "version": 3
   },
   "file_extension": ".py",
   "mimetype": "text/x-python",
   "name": "python",
   "nbconvert_exporter": "python",
   "pygments_lexer": "ipython3",
   "version": "3.8.10"
  }
 },
 "nbformat": 4,
 "nbformat_minor": 5
}
