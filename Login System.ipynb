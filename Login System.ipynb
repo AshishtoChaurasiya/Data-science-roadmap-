{
 "cells": [
  {
   "cell_type": "code",
   "execution_count": 13,
   "id": "ba4a28c1",
   "metadata": {},
   "outputs": [
    {
     "ename": "SyntaxError",
     "evalue": "invalid syntax (1334385724.py, line 2)",
     "output_type": "error",
     "traceback": [
      "\u001b[0;36m  Input \u001b[0;32mIn [13]\u001b[0;36m\u001b[0m\n\u001b[0;31m    import dbhelper import DBhepler\u001b[0m\n\u001b[0m                    ^\u001b[0m\n\u001b[0;31mSyntaxError\u001b[0m\u001b[0;31m:\u001b[0m invalid syntax\n"
     ]
    }
   ],
   "source": [
    "import sys\n",
    "\n",
    "import dbhelper import DBhepler\n",
    "class Flipcart:\n",
    "    def __init__(self):\n",
    "        self.menu()\n",
    "    \n",
    "    def menu(self):\n",
    "         user_input = input(\"\"\"\n",
    "         1. Enter 1 to register\n",
    "         2. Enter 2 to login\n",
    "         3. Anything else to leave\n",
    "         \"\"\")\n",
    "         if user_input == '1':\n",
    "            self.register()\n",
    "\n",
    "         elif user_input == '2':\n",
    "            self.login()\n",
    "         else:\n",
    "            sys.exit(1000)\n",
    "    def register(self):\n",
    "        pass\n",
    "obj = Flipcart()"
   ]
  },
  {
   "cell_type": "code",
   "execution_count": null,
   "id": "3806cefa",
   "metadata": {},
   "outputs": [],
   "source": []
  }
 ],
 "metadata": {
  "kernelspec": {
   "display_name": "Python 3 (ipykernel)",
   "language": "python",
   "name": "python3"
  },
  "language_info": {
   "codemirror_mode": {
    "name": "ipython",
    "version": 3
   },
   "file_extension": ".py",
   "mimetype": "text/x-python",
   "name": "python",
   "nbconvert_exporter": "python",
   "pygments_lexer": "ipython3",
   "version": "3.8.10"
  }
 },
 "nbformat": 4,
 "nbformat_minor": 5
}
