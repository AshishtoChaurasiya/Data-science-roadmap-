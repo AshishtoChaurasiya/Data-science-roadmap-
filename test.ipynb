{
 "cells": [
  {
   "cell_type": "code",
   "execution_count": 9,
   "id": "21a45903",
   "metadata": {},
   "outputs": [],
   "source": [
    "import logging"
   ]
  },
  {
   "cell_type": "code",
   "execution_count": 10,
   "id": "2b77603b",
   "metadata": {},
   "outputs": [],
   "source": [
    "logging.basicConfig(filename=\"test.log\", level = logging.INFO)"
   ]
  },
  {
   "cell_type": "code",
   "execution_count": 11,
   "id": "990168a2",
   "metadata": {},
   "outputs": [],
   "source": [
    "logging.info(\"thsi is my very first code for logging\")"
   ]
  },
  {
   "cell_type": "code",
   "execution_count": 12,
   "id": "45733c28",
   "metadata": {},
   "outputs": [],
   "source": [
    "l = [1,2,3,4,5,6,7,7]"
   ]
  },
  {
   "cell_type": "code",
   "execution_count": 13,
   "id": "e81257fd",
   "metadata": {},
   "outputs": [],
   "source": [
    "for i in l:\n",
    "    if i == 2:\n",
    "        logging.info(l)\n",
    "        logging.warning(\"this is a warning for a user that they have found out 2 in list\")"
   ]
  },
  {
   "cell_type": "code",
   "execution_count": 14,
   "id": "e1951dbf",
   "metadata": {},
   "outputs": [],
   "source": [
    "logging.shutdown()"
   ]
  },
  {
   "cell_type": "code",
   "execution_count": 15,
   "id": "4a7c74d6",
   "metadata": {},
   "outputs": [],
   "source": [
    "logging.debug('This is a debug message')"
   ]
  },
  {
   "cell_type": "code",
   "execution_count": 16,
   "id": "ca72beb4",
   "metadata": {},
   "outputs": [],
   "source": [
    "logging.info('This is an info message')"
   ]
  },
  {
   "cell_type": "code",
   "execution_count": 17,
   "id": "e965723f",
   "metadata": {},
   "outputs": [],
   "source": [
    "logging.warning('This is a warning message')"
   ]
  },
  {
   "cell_type": "code",
   "execution_count": 18,
   "id": "468fd89d",
   "metadata": {},
   "outputs": [],
   "source": [
    "logging.error('This is an error message')"
   ]
  },
  {
   "cell_type": "code",
   "execution_count": 19,
   "id": "77975057",
   "metadata": {},
   "outputs": [],
   "source": [
    "logging.critical('This is a critical message')"
   ]
  },
  {
   "cell_type": "code",
   "execution_count": null,
   "id": "8be4660a",
   "metadata": {},
   "outputs": [],
   "source": []
  }
 ],
 "metadata": {
  "kernelspec": {
   "display_name": "Python 3 (ipykernel)",
   "language": "python",
   "name": "python3"
  },
  "language_info": {
   "codemirror_mode": {
    "name": "ipython",
    "version": 3
   },
   "file_extension": ".py",
   "mimetype": "text/x-python",
   "name": "python",
   "nbconvert_exporter": "python",
   "pygments_lexer": "ipython3",
   "version": "3.8.10"
  }
 },
 "nbformat": 4,
 "nbformat_minor": 5
}
