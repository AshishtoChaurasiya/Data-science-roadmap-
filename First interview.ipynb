{
 "cells": [
  {
   "cell_type": "code",
   "execution_count": 1,
   "id": "b0277800",
   "metadata": {},
   "outputs": [
    {
     "name": "stdout",
     "output_type": "stream",
     "text": [
      "Transformed array: [10, 20, 30, 40, 50, 5]\n",
      "Position of 40  is  3\n",
      "Transformed array: [5, 6]\n",
      "Position of 15  is  -1\n",
      "Transformed array: []\n",
      "Position of 6  is  -1\n"
     ]
    }
   ],
   "source": [
    " \n",
    "\n",
    "def MergeAndFind(arr, numberToFind):\n",
    "    # Create a new array\n",
    "    newArr = []\n",
    "\n",
    "    # Iterate over the array\n",
    "    for num in arr:\n",
    "        # Check if the number is already present in the new array\n",
    "        if num not in newArr:\n",
    "            # If not present, add it to the new array\n",
    "            newArr.append(num)\n",
    "\n",
    "    #Print the transformed array\n",
    "    print(\"Transformed array:\",newArr)\n",
    "\n",
    "    # Find the position of the given number\n",
    "    position = -1\n",
    "\n",
    "    # Iterate over the new array\n",
    "    for i in range(len(newArr)):\n",
    "        # Check if the number is present\n",
    "        if newArr[i] == numberToFind:\n",
    "            # If present, update the position\n",
    "            position = i\n",
    "            break\n",
    "\n",
    "    # Print position\n",
    "    print(\"Position of\",numberToFind,\" is \",position)\n",
    "\n",
    "\n",
    "# Driver code\n",
    "arr = [10,20,30,40,30,50,5]\n",
    "numberToFind = 40\n",
    "MergeAndFind(arr, numberToFind)\n",
    "\n",
    "arr = [5,5,6,5]\n",
    "numberToFind = 15\n",
    "MergeAndFind(arr, numberToFind)\n",
    "\n",
    "arr = []\n",
    "numberToFind = 6\n",
    "MergeAndFind(arr, numberToFind)\n"
   ]
  }
 ],
 "metadata": {
  "kernelspec": {
   "display_name": "Python 3 (ipykernel)",
   "language": "python",
   "name": "python3"
  },
  "language_info": {
   "codemirror_mode": {
    "name": "ipython",
    "version": 3
   },
   "file_extension": ".py",
   "mimetype": "text/x-python",
   "name": "python",
   "nbconvert_exporter": "python",
   "pygments_lexer": "ipython3",
   "version": "3.8.10"
  }
 },
 "nbformat": 4,
 "nbformat_minor": 5
}
